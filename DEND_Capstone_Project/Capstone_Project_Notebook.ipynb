{
 "cells": [
  {
   "cell_type": "markdown",
   "metadata": {
    "editable": true
   },
   "source": [
    "# `Immigration trend` & `Demography` in USA\n",
    "### *Data Engineering Capstone Project*\n",
    "\n",
    "Author: *Farhad Md Ahmed*"
   ]
  },
  {
   "cell_type": "markdown",
   "metadata": {
    "editable": true
   },
   "source": [
    "### `Project conceptual guideline:`"
   ]
  },
  {
   "cell_type": "markdown",
   "metadata": {
    "editable": true
   },
   "source": [
    "**This** is my final Capstone project for the `Udacity Data Engineering Nanodegree program`. We're given a discretion to choose our own data and project with guided rubric as such how to collect, clean, explore, analyze data and present our findings. The final product should converge out with a set of clean tables, `instantly ready to be analyzed` by data scientists, analysts to gain much needed insight from them. \n",
    "\n",
    "Considering it is a data engineering project, we're expected to apply all the data engineering knowledge we've learned from this `Nano-Degree program`. This notebook offers step by step presentation how the given data was cleaned, explored and transformed to final set of tables.\n",
    "\n",
    "As part of the project resources, we're given 5 different data sets. We can add more if we want to? I chose to bind in using Udacity's data set for this Final Capstone Project."
   ]
  },
  {
   "cell_type": "markdown",
   "metadata": {
    "editable": true
   },
   "source": [
    "- The main directive of this project is to build a `data model` & `data pipeline` which will be instantly ready for indepth data analysis."
   ]
  },
  {
   "cell_type": "markdown",
   "metadata": {
    "editable": true
   },
   "source": [
    "### **`Data Table Synopsis:`**\n",
    "\n",
    "The following data sets were used for this project with specific table-column attributes:\n",
    "\n",
    "`1.` `I94 Immigration Data:` contains officially selected detail information about international visitors arriving in different US immigration ports. This table is available both in SAS and CSV table format.\n",
    "\n",
    "`2.` `Airport Code Table:` includes information about different airports located in different US port cities. This table is in csv format.\n",
    "\n",
    "`3.` `Global and US City temperature data table:` is the largest table with 8 million records dated back to 1743. Incorporates temperature data about different world and US cities, which is a csv format table.\n",
    "\n",
    "`4.` `U.S. City Demographic Data:` comprises with demographic information about US cities, such as the median age, total population. The data-table is in csv format.\n",
    "\n",
    "`5.` `I94_SAS_Labels_Descriptions.SAS:` labels different City, Port, State, Country data informations. This table mainly decodes 'immigration data' table columns with SAS data format."
   ]
  },
  {
   "cell_type": "markdown",
   "metadata": {
    "editable": true
   },
   "source": [
    "### `Sourcing Data Tables: `\n",
    "\n",
    "The following data sets were given to us for this project to engineer the data Pipeline. The details of these datasets can be traced back with attached link on the right end.\n",
    "\n",
    "`1.` I94 Immigration Data: The immigration data comes from the US National Tourism and Trade Office. [Immigration_data](https://www.trade.gov/national-travel-and-tourism-office)\n",
    "\n",
    "`2.` City, Port, State, Country data labels came from `I94_SAS_Labels_Descriptions.SAS` data file. [SAS_Data](https://github.com/farhadkpx/DEND-Data-Engneering-Nano-Degree-/blob/main/DEND_Capstone_Project/Data_Tables/I94_SAS_Labels_Descriptions.SAS)\n",
    "\n",
    "`3.` Airport Code Table: This is a simple table of airport codes and corresponding cities. [Airport Data](https://datahub.io/core/airport-codes#data) \n",
    "\n",
    "`4.` Global and US City temperature data table: Came from 'GlobalLandTemperaturesByCity.csv' from Kaggle. [Temperature Data](https://www.kaggle.com/datasets/berkeleyearth/climate-change-earth-surface-temperature-data)\n",
    "\n",
    "`5.` U.S. City Demographic Data: The demographic data comes from OpenSoft. [Demography Data](https://public.opendatasoft.com/explore/dataset/us-cities-demographics/export/)"
   ]
  },
  {
   "cell_type": "markdown",
   "metadata": {
    "editable": true
   },
   "source": [
    "### `Data Cleaning & Query Visualization:`\n",
    "\n",
    "I will be using SQL queries throughout this notebook to visualize the my data cleaning outcomes. These queries will show us in brief the potential of good data cleaning with analytical projection.\n",
    "\n",
    "+ I've added altogher `37-Queries` throughout this notebook to portray the analytical possiblities of good data transformation and data modeling. An efficient data-model design could extract out very critical insight from the available datasets.\n",
    "\n",
    "+ I used mostly `inner-joins` and some `left joins` to connect my fact & dimension tables with query.\n",
    "\n",
    "+ `NOTE: `If joins are not carefully designed, they may produce inadquate findings. So chosing apt join is a critical factor with this project."
   ]
  },
  {
   "cell_type": "markdown",
   "metadata": {
    "editable": true
   },
   "source": [
    "### `Capstone_ETL.py  coding source:`\n",
    "\n",
    "This notebook represents the most detail data engineering work I've done with this project. I'll  be using some of the selected code lines from this notebook to create a data pipeline with my  `Capstone_etl.py` file which will effectively send all the cleaned, transformed or engineered datasets to workspace and my S3 bucket `(farhadbucket32)` as a final data-table product."
   ]
  },
  {
   "cell_type": "markdown",
   "metadata": {
    "editable": true
   },
   "source": [
    "###  **`Project Steps:`**\n",
    "* Step 1: Scope the Project and Gather Data\n",
    "* Step 2: Explore and Assess the Data\n",
    "* Step 3: Define the Data Model\n",
    "* Step 4: Run ETL to Model the Data\n",
    "* Step 5: Complete Project Write Up"
   ]
  },
  {
   "cell_type": "markdown",
   "metadata": {
    "editable": true
   },
   "source": [
    "###  `Programming Scope: `\n",
    "\n",
    "+ I used `PySpark` to read, explore and assessing the tables.\n",
    "+ `SQL Query language` was extensively used to analyze the transformed tables.\n",
    "+ `Python` package pandas, seaborn and matplotlib was used to visualize analytical results. \n",
    "+ `Apache Airflow` platform to create an automated data pipeline."
   ]
  },
  {
   "cell_type": "markdown",
   "metadata": {
    "editable": true
   },
   "source": [
    "### `Loading all the needed library:`"
   ]
  },
  {
   "cell_type": "code",
   "execution_count": 1,
   "metadata": {
    "editable": true
   },
   "outputs": [],
   "source": [
    "import matplotlib.pyplot as plt\n",
    "import seaborn as sns\n",
    "import pandas as pd\n",
    "\n",
    "import pyspark\n",
    "from pyspark.sql.functions import asc, desc\n",
    "from pyspark.sql.functions import monotonically_increasing_id"
   ]
  },
  {
   "cell_type": "code",
   "execution_count": 2,
   "metadata": {
    "editable": true
   },
   "outputs": [],
   "source": [
    "import datetime as dt\n",
    "from datetime import datetime\n",
    "from pyspark.sql.functions import udf"
   ]
  },
  {
   "cell_type": "code",
   "execution_count": 3,
   "metadata": {
    "editable": true
   },
   "outputs": [],
   "source": [
    "from pyspark.sql import SparkSession\n",
    "from pyspark.sql.types import DateType, IntegerType, DoubleType\n",
    "from pyspark.sql.functions import udf, split, col, lit, year, month, upper, lower, to_date\n",
    "from pyspark.sql.functions import monotonically_increasing_id, dayofmonth,when\n",
    "from pyspark.sql.functions import datediff, isnan, when, count, desc, avg, round,sum"
   ]
  },
  {
   "cell_type": "markdown",
   "metadata": {
    "editable": true
   },
   "source": [
    "`SAS date type conversion function:` The arrival and departure date column in immigration table is in SAS date type, so we needed to convert them to  python date type. I used a widely used function for this date transformation."
   ]
  },
  {
   "cell_type": "code",
   "execution_count": 4,
   "metadata": {
    "editable": true
   },
   "outputs": [],
   "source": [
    "# transforming SAS date type\n",
    "def SAS_to_date(date):\n",
    "    if date is not None:\n",
    "        return pd.to_timedelta(date, unit='D') + pd.Timestamp('1960-1-1')\n",
    "    \n",
    "SAS_to_date_udf = udf(SAS_to_date, DateType())"
   ]
  },
  {
   "cell_type": "markdown",
   "metadata": {
    "editable": true
   },
   "source": [
    "### `Data Quality checks function:`\n",
    "My data quality check function takes data-table as a parameter and checks whether there are at least some records exist in the table. Any table shouldn't be empty."
   ]
  },
  {
   "cell_type": "code",
   "execution_count": 5,
   "metadata": {
    "editable": true
   },
   "outputs": [],
   "source": [
    "def record_count(table):\n",
    "    record_num = table.count()\n",
    "    #table = str(table)\n",
    "    if record_num <= 0:\n",
    "        raise ValueError(\"Not data is found with this table!\")\n",
    "    else:\n",
    "        print(f\"is not empty, it has total {record_num} records.\")       "
   ]
  },
  {
   "cell_type": "code",
   "execution_count": 6,
   "metadata": {
    "editable": true
   },
   "outputs": [],
   "source": [
    "#Some of the checks you can do are\n",
    "\n",
    "#Check if primary keys are not storing any null values\n",
    "#Check if the foreign keys are set as NOT NULL\n",
    "#Check if the data is correctly inserted into tables by checking the counts?"
   ]
  },
  {
   "cell_type": "code",
   "execution_count": 7,
   "metadata": {
    "editable": true
   },
   "outputs": [],
   "source": [
    "# create the spark session\n",
    "#def create_spark_session():\n",
    "#    spark = SparkSession.builder\\\n",
    "#        .config(\"spark.jars.packages\",\\\n",
    "#                \"saurfang:spark-sas7bdat:2.0.0-s_2.11\")\\\n",
    "#        .enableHiveSupport().getOrCreate()\n",
    "#    return spark"
   ]
  },
  {
   "cell_type": "code",
   "execution_count": 8,
   "metadata": {
    "editable": true
   },
   "outputs": [],
   "source": [
    "#def create_spark_session():\n",
    "#    \"\"\"\n",
    "#    creating a spark session.\n",
    "#    \"\"\"\n",
    "#    spark = SparkSession \\\n",
    "#        .builder \\\n",
    "#        .config(\"spark.jars.packages\", \"org.apache.hadoop:hadoop-aws:2.7.0\") \\\n",
    "#        .getOrCreate()\n",
    "#    return spark"
   ]
  },
  {
   "cell_type": "code",
   "execution_count": 9,
   "metadata": {
    "editable": true
   },
   "outputs": [],
   "source": [
    "#from pyspark.sql import SparkSession\n",
    "\n",
    "#spark = SparkSession.builder.\\\n",
    "#config(\"spark.jars.repositories\", \"https://repos.spark-packages.org/\").\\\n",
    "#config(\"spark.jars.packages\", \"saurfang:spark-sas7bdat:2.0.0-s_2.11\").\\\n",
    "#enableHiveSupport().getOrCreate()\n",
    "\n",
    "#df_immigration = spark.read.format('com.github.saurfang.sas.spark').load('../../data/18-83510-I94-Data-2016/i94_apr16_sub.sas7bdat')\n"
   ]
  },
  {
   "cell_type": "markdown",
   "metadata": {
    "editable": true
   },
   "source": [
    "`Creating a spark session:`"
   ]
  },
  {
   "cell_type": "code",
   "execution_count": 10,
   "metadata": {
    "editable": true
   },
   "outputs": [],
   "source": [
    "spark = SparkSession \\\n",
    "        .builder \\\n",
    "        .config(\"spark.jars.repositories\", \"https://repos.spark-packages.org/\") \\\n",
    "        .config(\"spark.jars.packages\", \"org.apache.hadoop:hadoop-aws:2.7.0,saurfang:spark-sas7bdat:2.0.0-s_2.11\") \\\n",
    "        .config(\"spark.hadoop.fs.s3a.multiobjectdelete.enable\",\"false\") \\\n",
    "        .enableHiveSupport() \\\n",
    "        .getOrCreate()"
   ]
  },
  {
   "cell_type": "code",
   "execution_count": 11,
   "metadata": {
    "editable": true
   },
   "outputs": [],
   "source": [
    "# Sending files to work-space storage\n",
    "output_data = './Capstone_Project_Notebook_Output/'"
   ]
  },
  {
   "cell_type": "markdown",
   "metadata": {
    "editable": true
   },
   "source": [
    "## `Data Exploration`,  `Cleaning` & `Evaluation` :"
   ]
  },
  {
   "cell_type": "markdown",
   "metadata": {
    "editable": true
   },
   "source": [
    "### `Immigration Data: `"
   ]
  },
  {
   "cell_type": "markdown",
   "metadata": {
    "editable": true
   },
   "source": [
    "### `I94 Immigration Data as SAS format :  `"
   ]
  },
  {
   "cell_type": "code",
   "execution_count": 12,
   "metadata": {
    "editable": true
   },
   "outputs": [
    {
     "data": {
      "text/html": [
       "<div>\n",
       "<style scoped>\n",
       "    .dataframe tbody tr th:only-of-type {\n",
       "        vertical-align: middle;\n",
       "    }\n",
       "\n",
       "    .dataframe tbody tr th {\n",
       "        vertical-align: top;\n",
       "    }\n",
       "\n",
       "    .dataframe thead th {\n",
       "        text-align: right;\n",
       "    }\n",
       "</style>\n",
       "<table border=\"1\" class=\"dataframe\">\n",
       "  <thead>\n",
       "    <tr style=\"text-align: right;\">\n",
       "      <th></th>\n",
       "      <th>_c0</th>\n",
       "      <th>cicid</th>\n",
       "      <th>i94yr</th>\n",
       "      <th>i94mon</th>\n",
       "      <th>i94cit</th>\n",
       "      <th>i94res</th>\n",
       "      <th>i94port</th>\n",
       "      <th>arrdate</th>\n",
       "      <th>i94mode</th>\n",
       "      <th>i94addr</th>\n",
       "      <th>...</th>\n",
       "      <th>entdepu</th>\n",
       "      <th>matflag</th>\n",
       "      <th>biryear</th>\n",
       "      <th>dtaddto</th>\n",
       "      <th>gender</th>\n",
       "      <th>insnum</th>\n",
       "      <th>airline</th>\n",
       "      <th>admnum</th>\n",
       "      <th>fltno</th>\n",
       "      <th>visatype</th>\n",
       "    </tr>\n",
       "  </thead>\n",
       "  <tbody>\n",
       "    <tr>\n",
       "      <th>0</th>\n",
       "      <td>2027561</td>\n",
       "      <td>4084316.0</td>\n",
       "      <td>2016.0</td>\n",
       "      <td>4.0</td>\n",
       "      <td>209.0</td>\n",
       "      <td>209.0</td>\n",
       "      <td>HHW</td>\n",
       "      <td>20566.0</td>\n",
       "      <td>1.0</td>\n",
       "      <td>HI</td>\n",
       "      <td>...</td>\n",
       "      <td>None</td>\n",
       "      <td>M</td>\n",
       "      <td>1955.0</td>\n",
       "      <td>07202016</td>\n",
       "      <td>F</td>\n",
       "      <td>None</td>\n",
       "      <td>JL</td>\n",
       "      <td>56582674633.0</td>\n",
       "      <td>00782</td>\n",
       "      <td>WT</td>\n",
       "    </tr>\n",
       "    <tr>\n",
       "      <th>1</th>\n",
       "      <td>2171295</td>\n",
       "      <td>4422636.0</td>\n",
       "      <td>2016.0</td>\n",
       "      <td>4.0</td>\n",
       "      <td>582.0</td>\n",
       "      <td>582.0</td>\n",
       "      <td>MCA</td>\n",
       "      <td>20567.0</td>\n",
       "      <td>1.0</td>\n",
       "      <td>TX</td>\n",
       "      <td>...</td>\n",
       "      <td>None</td>\n",
       "      <td>M</td>\n",
       "      <td>1990.0</td>\n",
       "      <td>10222016</td>\n",
       "      <td>M</td>\n",
       "      <td>None</td>\n",
       "      <td>*GA</td>\n",
       "      <td>94361995930.0</td>\n",
       "      <td>XBLNG</td>\n",
       "      <td>B2</td>\n",
       "    </tr>\n",
       "    <tr>\n",
       "      <th>2</th>\n",
       "      <td>589494</td>\n",
       "      <td>1195600.0</td>\n",
       "      <td>2016.0</td>\n",
       "      <td>4.0</td>\n",
       "      <td>148.0</td>\n",
       "      <td>112.0</td>\n",
       "      <td>OGG</td>\n",
       "      <td>20551.0</td>\n",
       "      <td>1.0</td>\n",
       "      <td>FL</td>\n",
       "      <td>...</td>\n",
       "      <td>None</td>\n",
       "      <td>M</td>\n",
       "      <td>1940.0</td>\n",
       "      <td>07052016</td>\n",
       "      <td>M</td>\n",
       "      <td>None</td>\n",
       "      <td>LH</td>\n",
       "      <td>55780468433.0</td>\n",
       "      <td>00464</td>\n",
       "      <td>WT</td>\n",
       "    </tr>\n",
       "  </tbody>\n",
       "</table>\n",
       "<p>3 rows × 29 columns</p>\n",
       "</div>"
      ],
      "text/plain": [
       "       _c0      cicid   i94yr i94mon i94cit i94res i94port  arrdate i94mode  \\\n",
       "0  2027561  4084316.0  2016.0    4.0  209.0  209.0     HHW  20566.0     1.0   \n",
       "1  2171295  4422636.0  2016.0    4.0  582.0  582.0     MCA  20567.0     1.0   \n",
       "2   589494  1195600.0  2016.0    4.0  148.0  112.0     OGG  20551.0     1.0   \n",
       "\n",
       "  i94addr   ...    entdepu matflag biryear   dtaddto gender insnum airline  \\\n",
       "0      HI   ...       None       M  1955.0  07202016      F   None      JL   \n",
       "1      TX   ...       None       M  1990.0  10222016      M   None     *GA   \n",
       "2      FL   ...       None       M  1940.0  07052016      M   None      LH   \n",
       "\n",
       "          admnum  fltno visatype  \n",
       "0  56582674633.0  00782       WT  \n",
       "1  94361995930.0  XBLNG       B2  \n",
       "2  55780468433.0  00464       WT  \n",
       "\n",
       "[3 rows x 29 columns]"
      ]
     },
     "execution_count": 12,
     "metadata": {},
     "output_type": "execute_result"
    }
   ],
   "source": [
    "immig_sample = 'immigration_data_sample.csv'\n",
    "df_immigration = spark.read.format('csv').options(header=True, delimiter=',').load(immig_sample)\n",
    "df_immigration.toPandas().head(3)"
   ]
  },
  {
   "cell_type": "code",
   "execution_count": 13,
   "metadata": {
    "editable": true
   },
   "outputs": [
    {
     "name": "stdout",
     "output_type": "stream",
     "text": [
      "Number of rows: 1000 \n",
      "and Number of columns: 29\n"
     ]
    }
   ],
   "source": [
    "print(\"Number of rows: \" + str(df_immigration.count()) + \" \\nand Number of columns: \" + str(len(df_immigration.columns)))"
   ]
  },
  {
   "cell_type": "code",
   "execution_count": 14,
   "metadata": {
    "editable": true
   },
   "outputs": [
    {
     "name": "stdout",
     "output_type": "stream",
     "text": [
      "root\n",
      " |-- _c0: string (nullable = true)\n",
      " |-- cicid: string (nullable = true)\n",
      " |-- i94yr: string (nullable = true)\n",
      " |-- i94mon: string (nullable = true)\n",
      " |-- i94cit: string (nullable = true)\n",
      " |-- i94res: string (nullable = true)\n",
      " |-- i94port: string (nullable = true)\n",
      " |-- arrdate: string (nullable = true)\n",
      " |-- i94mode: string (nullable = true)\n",
      " |-- i94addr: string (nullable = true)\n",
      " |-- depdate: string (nullable = true)\n",
      " |-- i94bir: string (nullable = true)\n",
      " |-- i94visa: string (nullable = true)\n",
      " |-- count: string (nullable = true)\n",
      " |-- dtadfile: string (nullable = true)\n",
      " |-- visapost: string (nullable = true)\n",
      " |-- occup: string (nullable = true)\n",
      " |-- entdepa: string (nullable = true)\n",
      " |-- entdepd: string (nullable = true)\n",
      " |-- entdepu: string (nullable = true)\n",
      " |-- matflag: string (nullable = true)\n",
      " |-- biryear: string (nullable = true)\n",
      " |-- dtaddto: string (nullable = true)\n",
      " |-- gender: string (nullable = true)\n",
      " |-- insnum: string (nullable = true)\n",
      " |-- airline: string (nullable = true)\n",
      " |-- admnum: string (nullable = true)\n",
      " |-- fltno: string (nullable = true)\n",
      " |-- visatype: string (nullable = true)\n",
      "\n"
     ]
    }
   ],
   "source": [
    "df_immigration.printSchema()"
   ]
  },
  {
   "cell_type": "markdown",
   "metadata": {
    "editable": true
   },
   "source": [
    "#### Quick over-view of `Null vaues` with this `immigration data` table:"
   ]
  },
  {
   "cell_type": "code",
   "execution_count": 15,
   "metadata": {
    "editable": true
   },
   "outputs": [
    {
     "name": "stdout",
     "output_type": "stream",
     "text": [
      "Number of NULL values by each column: \n",
      "-RECORD 0--------\n",
      " _c0      | 0    \n",
      " cicid    | 0    \n",
      " i94yr    | 0    \n",
      " i94mon   | 0    \n",
      " i94cit   | 0    \n",
      " i94res   | 0    \n",
      " i94port  | 0    \n",
      " arrdate  | 0    \n",
      " i94mode  | 0    \n",
      " i94addr  | 59   \n",
      " depdate  | 49   \n",
      " i94bir   | 0    \n",
      " i94visa  | 0    \n",
      " count    | 0    \n",
      " dtadfile | 0    \n",
      " visapost | 618  \n",
      " occup    | 996  \n",
      " entdepa  | 0    \n",
      " entdepd  | 46   \n",
      " entdepu  | 1000 \n",
      " matflag  | 46   \n",
      " biryear  | 0    \n",
      " dtaddto  | 0    \n",
      " gender   | 141  \n",
      " insnum   | 965  \n",
      " airline  | 33   \n",
      " admnum   | 0    \n",
      " fltno    | 8    \n",
      " visatype | 0    \n",
      "\n"
     ]
    }
   ],
   "source": [
    "# Number of null values >> isnull() function returns the count of null values of column in pyspark\n",
    "print(\"Number of NULL values by each column: \")\n",
    "df_immigration.select([count(when(col(c).isNull(), c))\\\n",
    "                         .alias(c) for c in df_immigration.columns]).show(n=2, truncate=False, vertical=True)"
   ]
  },
  {
   "cell_type": "markdown",
   "metadata": {
    "editable": true
   },
   "source": [
    "`Code Link: ` [Source Code](https://www.datasciencemadesimple.com/count-of-missing-nanna-and-null-values-in-pyspark/#:~:text=Count%20of%20null%20values%20of%20dataframe%20in%20pyspark,of%20null%20and%20missing%20values%20of%20that%20column)"
   ]
  },
  {
   "cell_type": "markdown",
   "metadata": {
    "editable": true
   },
   "source": [
    "+ **Eliminating null values with largest percentage/number.**\n",
    "\n",
    "`High null value Columns: `  I've decided to eliminate three columns `occup`, `insum` & `entdepu` from the immigration data set considering their above 96% `Null Values` included in those columns out of 1000 rows.\n",
    "\n",
    "`Low null value columns: ` Columns `i94addr`, `gender`, `airline`, `fltno`, `Departure_Date` has `Null values` but in a insignificantly lower number( less than 10% of total ), so I decided to keep them."
   ]
  },
  {
   "cell_type": "code",
   "execution_count": 16,
   "metadata": {
    "editable": true
   },
   "outputs": [
    {
     "name": "stdout",
     "output_type": "stream",
     "text": [
      "+-----+-----+\n",
      "|occup|count|\n",
      "+-----+-----+\n",
      "| null|  996|\n",
      "|  STU|    2|\n",
      "|  PHA|    1|\n",
      "|  OTH|    1|\n",
      "+-----+-----+\n",
      "\n"
     ]
    }
   ],
   "source": [
    "# null value with 'occup' column\n",
    "df_immigration.groupBy('occup').count().orderBy('count', ascending=False).show()"
   ]
  },
  {
   "cell_type": "code",
   "execution_count": 17,
   "metadata": {
    "editable": true
   },
   "outputs": [
    {
     "name": "stdout",
     "output_type": "stream",
     "text": [
      "+------+-----+\n",
      "|insnum|count|\n",
      "+------+-----+\n",
      "|  null|  965|\n",
      "|  3943|    3|\n",
      "|  3668|    3|\n",
      "|  3576|    2|\n",
      "|  3517|    2|\n",
      "+------+-----+\n",
      "only showing top 5 rows\n",
      "\n"
     ]
    }
   ],
   "source": [
    "# null value with 'insum' column\n",
    "df_immigration.groupBy('insnum').count().orderBy('count', ascending=False).show(5)"
   ]
  },
  {
   "cell_type": "code",
   "execution_count": 18,
   "metadata": {
    "editable": true
   },
   "outputs": [
    {
     "name": "stdout",
     "output_type": "stream",
     "text": [
      "+-------+-----+\n",
      "|entdepu|count|\n",
      "+-------+-----+\n",
      "|   null| 1000|\n",
      "+-------+-----+\n",
      "\n"
     ]
    }
   ],
   "source": [
    "# highest number of null value in a single column > entdepu\n",
    "df_immigration.groupBy('entdepu').count().orderBy('count', ascending=False).show(5)"
   ]
  },
  {
   "cell_type": "markdown",
   "metadata": {
    "editable": true
   },
   "source": [
    "### T-1. `Immigration table redefining & cleaning:`\n",
    "Considering, I'll design a star-schema data model with 'immigration-table' focused, I made some selective changes with multiple columns with this table. For instance,\n",
    "\n",
    "+ I used a `User-defined-function` to transform `SAS-Date column` readable with the PySpark programming. \n",
    "+ `Renamed` almost every column for intelligibility.\n",
    "+ `Changed` some column data types to make them compatible with our data model creation.\n",
    "+ `Completely eliminated` `7` columns from the table.\n",
    "+ These columns are (`DTADFILE, VISAPOST, OCCUP, ENTDEPA, ENTDEPD, ENTDEPU, DTADDTO`)"
   ]
  },
  {
   "cell_type": "code",
   "execution_count": 19,
   "metadata": {
    "editable": true
   },
   "outputs": [],
   "source": [
    "# a user defined function to decode SAS-Date column\n",
    "get_SAS_date = udf(lambda x: (dt.datetime(1960, 1, 1).date() + dt.timedelta(float(x))).isoformat() if x else None)"
   ]
  },
  {
   "cell_type": "code",
   "execution_count": 20,
   "metadata": {
    "editable": true
   },
   "outputs": [],
   "source": [
    "# applying the user defined function to convert SAS date and rename the given date column\n",
    "df_immigration = df_immigration.withColumn(\"Arrival_Date\", get_SAS_date(df_immigration.arrdate))\n",
    "df_immigration = df_immigration.withColumn(\"Departure_Date\", get_SAS_date(df_immigration.depdate))"
   ]
  },
  {
   "cell_type": "code",
   "execution_count": 21,
   "metadata": {
    "editable": true
   },
   "outputs": [],
   "source": [
    "df_immigration = df_immigration.withColumn(\"Arrival_Date\", to_date(col(\"Arrival_Date\").cast('date')))\n",
    "df_immigration = df_immigration.withColumn(\"Departure_Date\", to_date(col(\"Departure_Date\").cast('date')))"
   ]
  },
  {
   "cell_type": "code",
   "execution_count": 22,
   "metadata": {
    "editable": true
   },
   "outputs": [
    {
     "name": "stdout",
     "output_type": "stream",
     "text": [
      "+--------------+----------------+-----------------+-------------------+-----------------+---------+------------+-----------+-------------+--------------+--------------+---------+----------+----------+------+------------+-------------+----------+---------+\n",
      "|Immigration_Id|Immigration_Year|Immigration_Month|Citizenship_Country|Residency_Country|Port_Code|Arrival_Date|Travel_Mode|Current_State|Departure_Date|Immigrants_Age|Visa_Code|Match_Flag|Birth_Year|Gender|Airline_Code|Admission_Num|Flight_Num|Visa_Type|\n",
      "+--------------+----------------+-----------------+-------------------+-----------------+---------+------------+-----------+-------------+--------------+--------------+---------+----------+----------+------+------------+-------------+----------+---------+\n",
      "|       4084316|            2016|                4|                209|              209|      HHW|  2016-04-22|          1|           HI|    2016-04-29|            61|        2|         M|      1955|     F|          JL|  56582674633|     00782|       WT|\n",
      "|       4422636|            2016|                4|                582|              582|      MCA|  2016-04-23|          1|           TX|    2016-04-24|            26|        2|         M|      1990|     M|         *GA|  94361995930|     XBLNG|       B2|\n",
      "|       1195600|            2016|                4|                148|              112|      OGG|  2016-04-07|          1|           FL|    2016-04-27|            76|        2|         M|      1940|     M|          LH|  55780468433|     00464|       WT|\n",
      "|       5291768|            2016|                4|                297|              297|      LOS|  2016-04-28|          1|           CA|    2016-05-07|            25|        2|         M|      1991|     M|          QR|  94789696030|     00739|       B2|\n",
      "|        985523|            2016|                4|                111|              111|      CHM|  2016-04-06|          3|           NY|    2016-04-09|            19|        2|         M|      1997|     F|        null|  42322572633|      LAND|       WT|\n",
      "+--------------+----------------+-----------------+-------------------+-----------------+---------+------------+-----------+-------------+--------------+--------------+---------+----------+----------+------+------------+-------------+----------+---------+\n",
      "only showing top 5 rows\n",
      "\n"
     ]
    }
   ],
   "source": [
    "# creating a temp view with immigraiton dataframe  \n",
    "df_immigration.createOrReplaceTempView(\"Immig_Data\")\n",
    "\n",
    "# Read, rename & redefine columns with Fact Table\n",
    "Immigration_fact = spark.sql('''\n",
    "                    SELECT \n",
    "                        int(cicid)     Immigration_Id,\\\n",
    "                        int(i94yr)     Immigration_Year,\\\n",
    "                        int(i94mon)    Immigration_Month,\\\n",
    "                        int(i94cit)    Citizenship_Country,\\\n",
    "                        int(i94res)    Residency_Country,\\\n",
    "                        i94port        Port_Code,\\\n",
    "                        Arrival_Date             ,\\\n",
    "                        int(i94mode)   Travel_Mode,\\\n",
    "                        i94addr        Current_State,\\\n",
    "                        Departure_Date              ,\\\n",
    "                        int(i94bir)    Immigrants_Age,\\\n",
    "                        int(i94visa)   Visa_Code,\\\n",
    "                        matflag        Match_Flag,\\\n",
    "                        int(biryear)   Birth_Year,\\\n",
    "                        gender         Gender,\\\n",
    "                        airline        Airline_Code,\\\n",
    "                        bigint(admnum) Admission_Num,\\\n",
    "                        fltno          Flight_Num,\\\n",
    "                        visatype       Visa_Type                        \n",
    "                    FROM Immig_Data\n",
    "                    WHERE (i94yr) >= 2016   \n",
    "                ''')\n",
    "Immigration_fact.show(5)"
   ]
  },
  {
   "cell_type": "code",
   "execution_count": 23,
   "metadata": {
    "editable": true
   },
   "outputs": [
    {
     "name": "stdout",
     "output_type": "stream",
     "text": [
      "root\n",
      " |-- Immigration_Id: integer (nullable = true)\n",
      " |-- Immigration_Year: integer (nullable = true)\n",
      " |-- Immigration_Month: integer (nullable = true)\n",
      " |-- Citizenship_Country: integer (nullable = true)\n",
      " |-- Residency_Country: integer (nullable = true)\n",
      " |-- Port_Code: string (nullable = true)\n",
      " |-- Arrival_Date: date (nullable = true)\n",
      " |-- Travel_Mode: integer (nullable = true)\n",
      " |-- Current_State: string (nullable = true)\n",
      " |-- Departure_Date: date (nullable = true)\n",
      " |-- Immigrants_Age: integer (nullable = true)\n",
      " |-- Visa_Code: integer (nullable = true)\n",
      " |-- Match_Flag: string (nullable = true)\n",
      " |-- Birth_Year: integer (nullable = true)\n",
      " |-- Gender: string (nullable = true)\n",
      " |-- Airline_Code: string (nullable = true)\n",
      " |-- Admission_Num: long (nullable = true)\n",
      " |-- Flight_Num: string (nullable = true)\n",
      " |-- Visa_Type: string (nullable = true)\n",
      "\n"
     ]
    }
   ],
   "source": [
    "Immigration_fact.printSchema()"
   ]
  },
  {
   "cell_type": "code",
   "execution_count": 24,
   "metadata": {
    "editable": true
   },
   "outputs": [
    {
     "name": "stdout",
     "output_type": "stream",
     "text": [
      "Number of rows: 1000 and columns: 19\n"
     ]
    }
   ],
   "source": [
    "print(\"Number of rows: \" + str(Immigration_fact.count()) + \" and columns: \" + str(len(Immigration_fact.columns)))"
   ]
  },
  {
   "cell_type": "markdown",
   "metadata": {
    "editable": true
   },
   "source": [
    "`Fact table Dimension: ` \n",
    "\n",
    "We had 29 columns and 1000 rows with the sourced data set and after eliminating some unecessary columns our final fact table data set now comprises 19 columns and 1000 rows."
   ]
  },
  {
   "cell_type": "markdown",
   "metadata": {
    "editable": true
   },
   "source": [
    "### `Quick Analytical Query 01: `\n",
    "Let's see at this point what kind of analytical value we could extract out of this 'immigration data'.\n",
    "\n",
    "+ How many immigrants/tourists immigrated/visited to different US states?"
   ]
  },
  {
   "cell_type": "code",
   "execution_count": 25,
   "metadata": {
    "editable": true
   },
   "outputs": [
    {
     "name": "stdout",
     "output_type": "stream",
     "text": [
      "+---------+-------------+-----+\n",
      "|Port_Code|Current_State|count|\n",
      "+---------+-------------+-----+\n",
      "|      NYC|           NY|   94|\n",
      "|      MIA|           FL|   75|\n",
      "|      LOS|           CA|   65|\n",
      "|      SFR|           CA|   40|\n",
      "|      HHW|           HI|   37|\n",
      "|      ORL|           FL|   30|\n",
      "|      NEW|           NY|   23|\n",
      "|      AGA|           GU|   22|\n",
      "|      CHI|           IL|   19|\n",
      "|      FTL|           FL|   14|\n",
      "+---------+-------------+-----+\n",
      "only showing top 10 rows\n",
      "\n"
     ]
    }
   ],
   "source": [
    "Immigration_fact.groupBy(['Port_Code','Current_State']).count()\\\n",
    "                                                            .orderBy('count', ascending=False).show(10)"
   ]
  },
  {
   "cell_type": "markdown",
   "metadata": {
    "editable": true
   },
   "source": [
    "### `Im2` -  DIMENSION Table - `01` \n",
    "\n",
    "### `Individual_Immigrants_Records` "
   ]
  },
  {
   "cell_type": "markdown",
   "metadata": {
    "editable": true
   },
   "source": [
    "> I've decided to create my first dimension table comprised with all the relevant detail information about individual immigrants. By analyzing into this table an analyst can have an indepth look into the detail of a single immigrant entered into USA."
   ]
  },
  {
   "cell_type": "code",
   "execution_count": 26,
   "metadata": {
    "editable": true
   },
   "outputs": [
    {
     "data": {
      "text/html": [
       "<div>\n",
       "<style scoped>\n",
       "    .dataframe tbody tr th:only-of-type {\n",
       "        vertical-align: middle;\n",
       "    }\n",
       "\n",
       "    .dataframe tbody tr th {\n",
       "        vertical-align: top;\n",
       "    }\n",
       "\n",
       "    .dataframe thead th {\n",
       "        text-align: right;\n",
       "    }\n",
       "</style>\n",
       "<table border=\"1\" class=\"dataframe\">\n",
       "  <thead>\n",
       "    <tr style=\"text-align: right;\">\n",
       "      <th></th>\n",
       "      <th>Entry_Num</th>\n",
       "      <th>Immigration_Id</th>\n",
       "      <th>Arrival_Date</th>\n",
       "      <th>Citizenship_Country</th>\n",
       "      <th>Immigrants_Age</th>\n",
       "      <th>Gender</th>\n",
       "      <th>Departure_Date</th>\n",
       "      <th>Visa_Type</th>\n",
       "      <th>Match_Flag</th>\n",
       "    </tr>\n",
       "  </thead>\n",
       "  <tbody>\n",
       "    <tr>\n",
       "      <th>0</th>\n",
       "      <td>56155261333</td>\n",
       "      <td>2514747</td>\n",
       "      <td>2016-04-14</td>\n",
       "      <td>135</td>\n",
       "      <td>49</td>\n",
       "      <td>M</td>\n",
       "      <td>2016-04-28</td>\n",
       "      <td>WT</td>\n",
       "      <td>M</td>\n",
       "    </tr>\n",
       "    <tr>\n",
       "      <th>1</th>\n",
       "      <td>93446381530</td>\n",
       "      <td>2473547</td>\n",
       "      <td>2016-04-13</td>\n",
       "      <td>691</td>\n",
       "      <td>63</td>\n",
       "      <td>M</td>\n",
       "      <td>2016-04-20</td>\n",
       "      <td>B1</td>\n",
       "      <td>M</td>\n",
       "    </tr>\n",
       "    <tr>\n",
       "      <th>2</th>\n",
       "      <td>55582021033</td>\n",
       "      <td>452796</td>\n",
       "      <td>2016-04-03</td>\n",
       "      <td>124</td>\n",
       "      <td>37</td>\n",
       "      <td>M</td>\n",
       "      <td>2016-04-06</td>\n",
       "      <td>WB</td>\n",
       "      <td>M</td>\n",
       "    </tr>\n",
       "    <tr>\n",
       "      <th>3</th>\n",
       "      <td>59535085633</td>\n",
       "      <td>5696484</td>\n",
       "      <td>2016-04-30</td>\n",
       "      <td>135</td>\n",
       "      <td>30</td>\n",
       "      <td>F</td>\n",
       "      <td>2016-05-04</td>\n",
       "      <td>WT</td>\n",
       "      <td>M</td>\n",
       "    </tr>\n",
       "    <tr>\n",
       "      <th>4</th>\n",
       "      <td>94161326530</td>\n",
       "      <td>3886516</td>\n",
       "      <td>2016-04-21</td>\n",
       "      <td>213</td>\n",
       "      <td>56</td>\n",
       "      <td>M</td>\n",
       "      <td>2016-06-14</td>\n",
       "      <td>B2</td>\n",
       "      <td>M</td>\n",
       "    </tr>\n",
       "    <tr>\n",
       "      <th>5</th>\n",
       "      <td>55768494033</td>\n",
       "      <td>1195419</td>\n",
       "      <td>2016-04-07</td>\n",
       "      <td>148</td>\n",
       "      <td>48</td>\n",
       "      <td>M</td>\n",
       "      <td>2016-04-23</td>\n",
       "      <td>WT</td>\n",
       "      <td>M</td>\n",
       "    </tr>\n",
       "    <tr>\n",
       "      <th>6</th>\n",
       "      <td>56241995433</td>\n",
       "      <td>2897919</td>\n",
       "      <td>2016-04-16</td>\n",
       "      <td>129</td>\n",
       "      <td>47</td>\n",
       "      <td>None</td>\n",
       "      <td>2016-04-18</td>\n",
       "      <td>WB</td>\n",
       "      <td>M</td>\n",
       "    </tr>\n",
       "  </tbody>\n",
       "</table>\n",
       "</div>"
      ],
      "text/plain": [
       "     Entry_Num  Immigration_Id Arrival_Date  Citizenship_Country  \\\n",
       "0  56155261333         2514747   2016-04-14                  135   \n",
       "1  93446381530         2473547   2016-04-13                  691   \n",
       "2  55582021033          452796   2016-04-03                  124   \n",
       "3  59535085633         5696484   2016-04-30                  135   \n",
       "4  94161326530         3886516   2016-04-21                  213   \n",
       "5  55768494033         1195419   2016-04-07                  148   \n",
       "6  56241995433         2897919   2016-04-16                  129   \n",
       "\n",
       "   Immigrants_Age Gender Departure_Date Visa_Type Match_Flag  \n",
       "0              49      M     2016-04-28        WT          M  \n",
       "1              63      M     2016-04-20        B1          M  \n",
       "2              37      M     2016-04-06        WB          M  \n",
       "3              30      F     2016-05-04        WT          M  \n",
       "4              56      M     2016-06-14        B2          M  \n",
       "5              48      M     2016-04-23        WT          M  \n",
       "6              47   None     2016-04-18        WB          M  "
      ]
     },
     "execution_count": 26,
     "metadata": {},
     "output_type": "execute_result"
    }
   ],
   "source": [
    "# extracting columns solely relevant to an individual immigrant or tourist.\n",
    "dim_Individual_Immigrants_Records = Immigration_fact.selectExpr('Admission_Num as Entry_Num','Immigration_Id','Arrival_Date', 'Citizenship_Country',\\\n",
    "                                                'Immigrants_Age', 'Gender','Departure_Date','Visa_Type', 'Match_Flag').distinct()\n",
    "                                \n",
    "dim_Individual_Immigrants_Records.toPandas().head(7)"
   ]
  },
  {
   "cell_type": "code",
   "execution_count": 27,
   "metadata": {
    "editable": true
   },
   "outputs": [
    {
     "data": {
      "text/plain": [
       "[('Entry_Num', 'bigint'),\n",
       " ('Immigration_Id', 'int'),\n",
       " ('Arrival_Date', 'date'),\n",
       " ('Citizenship_Country', 'int'),\n",
       " ('Immigrants_Age', 'int'),\n",
       " ('Gender', 'string'),\n",
       " ('Departure_Date', 'date'),\n",
       " ('Visa_Type', 'string'),\n",
       " ('Match_Flag', 'string')]"
      ]
     },
     "execution_count": 27,
     "metadata": {},
     "output_type": "execute_result"
    }
   ],
   "source": [
    "dim_Individual_Immigrants_Records.dtypes"
   ]
  },
  {
   "cell_type": "markdown",
   "metadata": {
    "editable": true
   },
   "source": [
    "+ Sending `dim_Individual_Immigrants_Records` table to Work Space cloud."
   ]
  },
  {
   "cell_type": "code",
   "execution_count": 28,
   "metadata": {
    "editable": true
   },
   "outputs": [
    {
     "name": "stdout",
     "output_type": "stream",
     "text": [
      "Sending dim_Individual_Immigrants_Records table to Work Space storage.\n"
     ]
    }
   ],
   "source": [
    "print(\"Sending dim_Individual_Immigrants_Records table to Work Space storage.\")\n",
    "dim_Individual_Immigrants_Records.write.mode(\"overwrite\").parquet(path=output_data + 'dim_Individual_Immigrants_Records/')"
   ]
  },
  {
   "cell_type": "code",
   "execution_count": null,
   "metadata": {
    "editable": true
   },
   "outputs": [],
   "source": []
  },
  {
   "cell_type": "markdown",
   "metadata": {
    "editable": true
   },
   "source": [
    "+ Data quality checks with **`dim_Individual_Immigrants_Records table:`**"
   ]
  },
  {
   "cell_type": "code",
   "execution_count": 29,
   "metadata": {
    "editable": true
   },
   "outputs": [
    {
     "name": "stdout",
     "output_type": "stream",
     "text": [
      "The 'dim_Individual_Immigrants_Records' table: \n",
      "is not empty, it has total 1000 records.\n"
     ]
    }
   ],
   "source": [
    "print(\"The 'dim_Individual_Immigrants_Records' table: \") \n",
    "record_count(dim_Individual_Immigrants_Records)"
   ]
  },
  {
   "cell_type": "markdown",
   "metadata": {
    "editable": true
   },
   "source": [
    "### `Quick Query 02: `\n",
    "> How many `people/immigrant/tourists` came from an single country?"
   ]
  },
  {
   "cell_type": "code",
   "execution_count": 30,
   "metadata": {
    "editable": true
   },
   "outputs": [
    {
     "name": "stdout",
     "output_type": "stream",
     "text": [
      "+-------------------+-----+\n",
      "|Citizenship_Country|count|\n",
      "+-------------------+-----+\n",
      "|                135|  115|\n",
      "|                209|   65|\n",
      "|                245|   60|\n",
      "|                582|   57|\n",
      "|                148|   51|\n",
      "|                111|   51|\n",
      "|                438|   47|\n",
      "|                254|   38|\n",
      "|                213|   37|\n",
      "|                689|   33|\n",
      "+-------------------+-----+\n",
      "only showing top 10 rows\n",
      "\n"
     ]
    }
   ],
   "source": [
    "Total_Immigrants_By_Country = dim_Individual_Immigrants_Records.groupBy(['Citizenship_Country']).count().orderBy('count', ascending=False)\n",
    "Total_Immigrants_By_Country.show(10)"
   ]
  },
  {
   "cell_type": "markdown",
   "metadata": {
    "editable": true
   },
   "source": [
    "`Note:` We've countries are identified in a coded format here, later in the processes we will find out what are the names of these countires?"
   ]
  },
  {
   "cell_type": "code",
   "execution_count": 31,
   "metadata": {
    "editable": true
   },
   "outputs": [],
   "source": [
    "# convering this table to pandas and slicing only 35 countries\n",
    "Total_Immigrants_By_Country = Total_Immigrants_By_Country.toPandas()\n",
    "Total_Immigrants_By_Country = Total_Immigrants_By_Country[0:35]"
   ]
  },
  {
   "cell_type": "code",
   "execution_count": 32,
   "metadata": {
    "editable": true
   },
   "outputs": [
    {
     "data": {
      "text/plain": [
       "Text(0.5,1,'Number of Immigrants/Tourists came from single/different country to USA: ')"
      ]
     },
     "execution_count": 32,
     "metadata": {},
     "output_type": "execute_result"
    },
    {
     "data": {
      "image/png": "[encoded data removed]",
      "text/plain": [
       "<matplotlib.figure.Figure at 0x7fe50ca999b0>"
      ]
     },
     "metadata": {
      "needs_background": "light"
     },
     "output_type": "display_data"
    }
   ],
   "source": [
    "fig, ax = plt.subplots(figsize=(15, 5))\n",
    "ax = sns.barplot(x=\"Citizenship_Country\", y=\"count\", data=Total_Immigrants_By_Country)\n",
    "plt.fontsize=16\n",
    "plt.xlabel(\"Citizenship Country codes\", fontsize=13)\n",
    "plt.ylabel(\"Counting immigrants\", fontsize=14)\n",
    "\n",
    "plt.xticks(rotation=75)\n",
    "plt.grid(True)\n",
    "plt.title(\"Number of Immigrants/Tourists came from single/different country to USA: \")"
   ]
  },
  {
   "cell_type": "code",
   "execution_count": 33,
   "metadata": {
    "editable": true
   },
   "outputs": [
    {
     "name": "stdout",
     "output_type": "stream",
     "text": [
      "Inividuals id, country of citizenship with type of visa count\n"
     ]
    },
    {
     "data": {
      "text/html": [
       "<div>\n",
       "<style scoped>\n",
       "    .dataframe tbody tr th:only-of-type {\n",
       "        vertical-align: middle;\n",
       "    }\n",
       "\n",
       "    .dataframe tbody tr th {\n",
       "        vertical-align: top;\n",
       "    }\n",
       "\n",
       "    .dataframe thead th {\n",
       "        text-align: right;\n",
       "    }\n",
       "</style>\n",
       "<table border=\"1\" class=\"dataframe\">\n",
       "  <thead>\n",
       "    <tr style=\"text-align: right;\">\n",
       "      <th></th>\n",
       "      <th>Entry_Num</th>\n",
       "      <th>citizenship_country</th>\n",
       "      <th>visa_type</th>\n",
       "      <th>count</th>\n",
       "    </tr>\n",
       "  </thead>\n",
       "  <tbody>\n",
       "    <tr>\n",
       "      <th>0</th>\n",
       "      <td>55712358233</td>\n",
       "      <td>103</td>\n",
       "      <td>WT</td>\n",
       "      <td>1</td>\n",
       "    </tr>\n",
       "    <tr>\n",
       "      <th>1</th>\n",
       "      <td>55642170033</td>\n",
       "      <td>103</td>\n",
       "      <td>WT</td>\n",
       "      <td>1</td>\n",
       "    </tr>\n",
       "    <tr>\n",
       "      <th>2</th>\n",
       "      <td>59501691433</td>\n",
       "      <td>103</td>\n",
       "      <td>WB</td>\n",
       "      <td>1</td>\n",
       "    </tr>\n",
       "    <tr>\n",
       "      <th>3</th>\n",
       "      <td>94912342330</td>\n",
       "      <td>103</td>\n",
       "      <td>B2</td>\n",
       "      <td>1</td>\n",
       "    </tr>\n",
       "    <tr>\n",
       "      <th>4</th>\n",
       "      <td>56157243133</td>\n",
       "      <td>103</td>\n",
       "      <td>WT</td>\n",
       "      <td>1</td>\n",
       "    </tr>\n",
       "  </tbody>\n",
       "</table>\n",
       "</div>"
      ],
      "text/plain": [
       "     Entry_Num  citizenship_country visa_type  count\n",
       "0  55712358233                  103        WT      1\n",
       "1  55642170033                  103        WT      1\n",
       "2  59501691433                  103        WB      1\n",
       "3  94912342330                  103        B2      1\n",
       "4  56157243133                  103        WT      1"
      ]
     },
     "execution_count": 33,
     "metadata": {},
     "output_type": "execute_result"
    }
   ],
   "source": [
    "print(\"Inividuals id, country of citizenship with type of visa count\")\n",
    "Individual_Visa_Type = dim_Individual_Immigrants_Records.groupBy(['Entry_Num','citizenship_country', 'visa_type']).count()\\\n",
    "                                 .orderBy('citizenship_country', ascending=True)\n",
    "Individual_Visa_Type.toPandas().head(5)"
   ]
  },
  {
   "cell_type": "markdown",
   "metadata": {
    "editable": true
   },
   "source": [
    "###   `Im3` -  `Travel_mode` Table redefined"
   ]
  },
  {
   "cell_type": "markdown",
   "metadata": {
    "editable": true
   },
   "source": [
    "### `Quick Query 03: `\n",
    "> Identifying what mode of transportation immigrants used while entering USA?"
   ]
  },
  {
   "cell_type": "code",
   "execution_count": 34,
   "metadata": {
    "editable": true
   },
   "outputs": [
    {
     "name": "stdout",
     "output_type": "stream",
     "text": [
      "+--------------+--------------+-------------------+-------------+-----------+---------+-------------+\n",
      "|Immigration_Id|Immigrants_Age|Citizenship_Country|Current_State|Travel_Mode|Visa_Type|Admission_Num|\n",
      "+--------------+--------------+-------------------+-------------+-----------+---------+-------------+\n",
      "|       5471104|            77|                207|           WA|          1|       WT|  59501614433|\n",
      "|       4291831|            30|                135|           UN|          1|       WT|  59119796133|\n",
      "|       2323011|            56|                130|           NY|          1|       WT|  56085990733|\n",
      "|       2865787|            69|                691|           NV|          1|       B1|  93573550730|\n",
      "|       1214788|            51|                245|           NC|          1|       B2|  92949645330|\n",
      "+--------------+--------------+-------------------+-------------+-----------+---------+-------------+\n",
      "only showing top 5 rows\n",
      "\n"
     ]
    }
   ],
   "source": [
    "Modes_of_Travel = Immigration_fact.select(['Immigration_Id','Immigrants_Age','Citizenship_Country', 'Current_State', 'Travel_Mode', 'Visa_Type','Admission_Num']).distinct() \n",
    "Modes_of_Travel.show(5)"
   ]
  },
  {
   "cell_type": "code",
   "execution_count": 35,
   "metadata": {
    "editable": true
   },
   "outputs": [
    {
     "name": "stdout",
     "output_type": "stream",
     "text": [
      "+-----------+-----+\n",
      "|Travel_Mode|count|\n",
      "+-----------+-----+\n",
      "|          1|  962|\n",
      "|          3|   26|\n",
      "|          2|   10|\n",
      "|          9|    2|\n",
      "+-----------+-----+\n",
      "\n"
     ]
    }
   ],
   "source": [
    "# which mode of transporation was most widely used?\n",
    "Modes_of_Travel_Count = Immigration_fact.groupBy(['Travel_Mode']).count().orderBy('count', ascending=False)\n",
    "Modes_of_Travel_Count.show()"
   ]
  },
  {
   "cell_type": "code",
   "execution_count": 36,
   "metadata": {
    "editable": true
   },
   "outputs": [],
   "source": [
    "#print(\"Categorizing immigrants choice of travelling means: \")\n",
    "\n",
    "#Mode_of_Travel = [(1, 'Air'),\n",
    "#                  (2, 'Sea'),\n",
    "#                  (3, 'Land'),\n",
    "#                  (9, 'Not Reported')]\n",
    "\n",
    "#columns=['Travel_Mode', 'Travel_Means']\n",
    "\n",
    "#Mode_of_Travel = spark.createDataFrame(Mode_of_Travel, columns)\n",
    "#Mode_of_Travel.show()"
   ]
  },
  {
   "cell_type": "markdown",
   "metadata": {
    "editable": true
   },
   "source": [
    "`NOTE: `We can see that `Travel_Mode:` 1 has the highest number following 3rd, then 2nd choice of transportation. At this point, we don't know what are the means of transportation chosen by the immigrants. So I'll decode these modes to an intelligible format by assigning label definition from the `SAS-Level` dataset."
   ]
  },
  {
   "cell_type": "code",
   "execution_count": 37,
   "metadata": {
    "editable": true
   },
   "outputs": [
    {
     "name": "stdout",
     "output_type": "stream",
     "text": [
      "Categorizing immigrants choice of travelling means: \n",
      "+--------------+--------------+-------------------+-------------+-----------+---------+-------------+---------------+\n",
      "|Immigration_Id|Immigrants_Age|Citizenship_Country|Current_State|Travel_Mode|Visa_Type|Admission_Num|Means_of_Travel|\n",
      "+--------------+--------------+-------------------+-------------+-----------+---------+-------------+---------------+\n",
      "|       5471104|            77|                207|           WA|          1|       WT|  59501614433|            Air|\n",
      "|       4291831|            30|                135|           UN|          1|       WT|  59119796133|            Air|\n",
      "|       2323011|            56|                130|           NY|          1|       WT|  56085990733|            Air|\n",
      "|       2865787|            69|                691|           NV|          1|       B1|  93573550730|            Air|\n",
      "|       1214788|            51|                245|           NC|          1|       B2|  92949645330|            Air|\n",
      "|       5454506|            34|                135|           CA|          1|       WT|  59503013233|            Air|\n",
      "|       4560971|            51|                464|           CA|          1|       WT|  59195893233|            Air|\n",
      "+--------------+--------------+-------------------+-------------+-----------+---------+-------------+---------------+\n",
      "only showing top 7 rows\n",
      "\n"
     ]
    }
   ],
   "source": [
    "print(\"Categorizing immigrants choice of travelling means: \")\n",
    "\n",
    "Modes_of_Travel = Modes_of_Travel.withColumn(\"Means_of_Travel\", \\\n",
    "                   when((Modes_of_Travel.Travel_Mode == 1), lit(\"Air\")) \\\n",
    "                     .when((Modes_of_Travel.Travel_Mode == 2), lit(\"Sea\")) \\\n",
    "                        .when((Modes_of_Travel.Travel_Mode == 3), lit(\"Land\")) \\\n",
    "                          .when((Modes_of_Travel.Travel_Mode == 9), lit(\"Not Reported\")))\n",
    "\n",
    "Modes_of_Travel.show(7)"
   ]
  },
  {
   "cell_type": "code",
   "execution_count": 38,
   "metadata": {
    "editable": true
   },
   "outputs": [
    {
     "name": "stdout",
     "output_type": "stream",
     "text": [
      "Most widely used Modes of Travel was by plane: 962\n"
     ]
    }
   ],
   "source": [
    "print(\"Most widely used Modes of Travel was by plane: \" + \\\n",
    "                     str(Modes_of_Travel.where(Modes_of_Travel.Means_of_Travel == 'Air').count()))"
   ]
  },
  {
   "cell_type": "code",
   "execution_count": 39,
   "metadata": {
    "editable": true
   },
   "outputs": [
    {
     "name": "stdout",
     "output_type": "stream",
     "text": [
      "Land based traveling modes were insignificant: 26\n"
     ]
    }
   ],
   "source": [
    "print(\"Land based traveling modes were insignificant: \" + \\\n",
    "                     str(Modes_of_Travel.where(Modes_of_Travel.Means_of_Travel == 'Land').count()))"
   ]
  },
  {
   "cell_type": "code",
   "execution_count": 40,
   "metadata": {
    "editable": true
   },
   "outputs": [
    {
     "name": "stdout",
     "output_type": "stream",
     "text": [
      "Sea based traveling modes were lowest: 10\n"
     ]
    }
   ],
   "source": [
    "print(\"Sea based traveling modes were lowest: \" + \\\n",
    "                     str(Modes_of_Travel.where(Modes_of_Travel.Means_of_Travel == 'Sea').count()))"
   ]
  },
  {
   "cell_type": "markdown",
   "metadata": {
    "editable": true
   },
   "source": [
    "`Findings: ` Obviously above `96%` of the immigrants/tourists entered into the country by plane"
   ]
  },
  {
   "cell_type": "code",
   "execution_count": 41,
   "metadata": {
    "editable": true
   },
   "outputs": [
    {
     "name": "stdout",
     "output_type": "stream",
     "text": [
      "Sending 'Modes_of_Travels' table to Work Space folder.\n"
     ]
    }
   ],
   "source": [
    "print(\"Sending 'Modes_of_Travels' table to Work Space folder.\")\n",
    "Modes_of_Travel.write.mode(\"overwrite\").parquet(path=output_data + 'Modes_of_Travel/')"
   ]
  },
  {
   "cell_type": "code",
   "execution_count": 42,
   "metadata": {
    "editable": true
   },
   "outputs": [
    {
     "name": "stdout",
     "output_type": "stream",
     "text": [
      "The 'Modes_of_Travels' table: \n",
      "is not empty, it has total 1000 records.\n"
     ]
    }
   ],
   "source": [
    "print(\"The 'Modes_of_Travels' table: \") \n",
    "record_count(Modes_of_Travel)"
   ]
  },
  {
   "cell_type": "markdown",
   "metadata": {
    "editable": true
   },
   "source": [
    "### `Quick Query 04: `\n",
    "> Is there any correlation between visa type & means of transportation choice?"
   ]
  },
  {
   "cell_type": "code",
   "execution_count": 43,
   "metadata": {
    "editable": true
   },
   "outputs": [
    {
     "name": "stdout",
     "output_type": "stream",
     "text": [
      "+---------+---------------+--------------------+\n",
      "|Visa_Type|Means_of_Travel|Number_of_Immigrants|\n",
      "+---------+---------------+--------------------+\n",
      "|       F1|            Air|                   9|\n",
      "|       B1|            Sea|                   1|\n",
      "|       B2|            Sea|                   2|\n",
      "|       WT|           Land|                  12|\n",
      "|       CP|            Air|                   5|\n",
      "|       F2|            Air|                   3|\n",
      "|       WT|            Sea|                   7|\n",
      "+---------+---------------+--------------------+\n",
      "only showing top 7 rows\n",
      "\n"
     ]
    }
   ],
   "source": [
    "Visa_Travel_Mode = Modes_of_Travel.groupBy('Visa_Type','Means_of_Travel').\\\n",
    "                     agg(count('Immigration_Id').alias(\"Number_of_Immigrants\"))\n",
    "Visa_Travel_Mode.show(7)                                                                           "
   ]
  },
  {
   "cell_type": "code",
   "execution_count": 44,
   "metadata": {
    "editable": true
   },
   "outputs": [
    {
     "data": {
      "text/plain": [
       "Text(0.5,1,'Visa Type & Mode of Travel chosen by Immigrants/Tourtists to USA')"
      ]
     },
     "execution_count": 44,
     "metadata": {},
     "output_type": "execute_result"
    },
    {
     "data": {
      "image/png": "[encoded data removed]",
      "text/plain": [
       "<matplotlib.figure.Figure at 0x7fe50c71ebe0>"
      ]
     },
     "metadata": {
      "needs_background": "light"
     },
     "output_type": "display_data"
    }
   ],
   "source": [
    "# setting the dimensions of the plot\n",
    "fig, ax = plt.subplots(figsize=(15, 5))\n",
    "Visa_Travel_Mode  = Visa_Travel_Mode.toPandas()\n",
    "\n",
    "ax = sns.barplot(x=\"Visa_Type\", y=\"Number_of_Immigrants\", hue=\"Means_of_Travel\", data=Visa_Travel_Mode )\n",
    "\n",
    "plt.xlabel(\"Visa Types\", fontsize=14)\n",
    "plt.xticks(rotation=45)\n",
    "plt.ylabel(\"Number of Immigrant\", fontsize=14)\n",
    "\n",
    "plt.grid(True)\n",
    "plt.legend(loc='upper right', bbox_to_anchor=(1, 1))\n",
    "plt.title(\"Visa Type & Mode of Travel chosen by Immigrants/Tourtists to USA\", fontsize=15)"
   ]
  },
  {
   "cell_type": "markdown",
   "metadata": {
    "editable": true
   },
   "source": [
    "`Findings: ` Only with `WT` & `B2` visa type people used all sorts of available transportation modes. Visa type may have some level of correlations with chosing modes of transportions?"
   ]
  },
  {
   "cell_type": "markdown",
   "metadata": {
    "editable": true
   },
   "source": [
    "### `Quick Query 05 & 06: `\n",
    "> Finding how many different ways immigrants/tourists travelled into California & Florida."
   ]
  },
  {
   "cell_type": "code",
   "execution_count": 45,
   "metadata": {
    "editable": true
   },
   "outputs": [
    {
     "name": "stdout",
     "output_type": "stream",
     "text": [
      "Showing how many different ways immigrants came into a single State (California): \n",
      "+---------------+-----+\n",
      "|Means_of_Travel|count|\n",
      "+---------------+-----+\n",
      "|           Land|    4|\n",
      "|            Air|  159|\n",
      "+---------------+-----+\n",
      "\n"
     ]
    }
   ],
   "source": [
    "print(\"Showing how many different ways immigrants came into a single State (California): \")\n",
    "Modes_of_Travel.select('Current_State', 'Means_of_Travel').where(Modes_of_Travel.Current_State =='CA').\\\n",
    "                                 groupBy('Means_of_Travel').count().show()"
   ]
  },
  {
   "cell_type": "code",
   "execution_count": 46,
   "metadata": {
    "editable": true
   },
   "outputs": [
    {
     "name": "stdout",
     "output_type": "stream",
     "text": [
      "Showing how many different ways immigrants came into a single State (Florida): \n",
      "+---------------+-----+\n",
      "|Means_of_Travel|count|\n",
      "+---------------+-----+\n",
      "|           Land|    1|\n",
      "|            Air|  187|\n",
      "+---------------+-----+\n",
      "\n"
     ]
    }
   ],
   "source": [
    "print(\"Showing how many different ways immigrants came into a single State (Florida): \")\n",
    "Modes_of_Travel.select(['Current_State', 'Means_of_Travel']).where(Modes_of_Travel.Current_State =='FL').\\\n",
    "                                 groupBy('Means_of_Travel').count().show()"
   ]
  },
  {
   "cell_type": "markdown",
   "metadata": {
    "editable": true
   },
   "source": [
    "###  `im4` -  `Visa_Code` table redefined"
   ]
  },
  {
   "cell_type": "markdown",
   "metadata": {
    "editable": true
   },
   "source": [
    "+ Visa_Code is defined in a coded form, to make it more intelligible I decided to assign the intended purpose of the Visa issuance from the `SAS Label Dataset`. We would see that these transformations have analytical value to pursue."
   ]
  },
  {
   "cell_type": "code",
   "execution_count": 47,
   "metadata": {
    "editable": true
   },
   "outputs": [],
   "source": [
    "# Visa_type_code = [(1, 'Business'),\n",
    "#                  (2, 'Pleasure'),\n",
    "#                  (3, 'Student')]\n",
    "\n",
    "# columns=['Visa_CodeImmigration_fact', 'Visa_Category']\n",
    "\n",
    "# Visa_Type_df = spark.createDataFrame(Visa_type_code, columns)\n",
    "# Visa_Type_df.show()"
   ]
  },
  {
   "cell_type": "code",
   "execution_count": 48,
   "metadata": {
    "editable": true
   },
   "outputs": [
    {
     "data": {
      "text/html": [
       "<div>\n",
       "<style scoped>\n",
       "    .dataframe tbody tr th:only-of-type {\n",
       "        vertical-align: middle;\n",
       "    }\n",
       "\n",
       "    .dataframe tbody tr th {\n",
       "        vertical-align: top;\n",
       "    }\n",
       "\n",
       "    .dataframe thead th {\n",
       "        text-align: right;\n",
       "    }\n",
       "</style>\n",
       "<table border=\"1\" class=\"dataframe\">\n",
       "  <thead>\n",
       "    <tr style=\"text-align: right;\">\n",
       "      <th></th>\n",
       "      <th>Immigration_Id</th>\n",
       "      <th>Immigrants_Age</th>\n",
       "      <th>Citizenship_Country</th>\n",
       "      <th>Current_State</th>\n",
       "      <th>Residency_Country</th>\n",
       "      <th>Visa_Code</th>\n",
       "    </tr>\n",
       "  </thead>\n",
       "  <tbody>\n",
       "    <tr>\n",
       "      <th>0</th>\n",
       "      <td>1421234</td>\n",
       "      <td>50</td>\n",
       "      <td>263</td>\n",
       "      <td>NY</td>\n",
       "      <td>263</td>\n",
       "      <td>2</td>\n",
       "    </tr>\n",
       "    <tr>\n",
       "      <th>1</th>\n",
       "      <td>1553590</td>\n",
       "      <td>72</td>\n",
       "      <td>692</td>\n",
       "      <td>FL</td>\n",
       "      <td>692</td>\n",
       "      <td>2</td>\n",
       "    </tr>\n",
       "    <tr>\n",
       "      <th>2</th>\n",
       "      <td>5484369</td>\n",
       "      <td>36</td>\n",
       "      <td>209</td>\n",
       "      <td>TN</td>\n",
       "      <td>209</td>\n",
       "      <td>2</td>\n",
       "    </tr>\n",
       "    <tr>\n",
       "      <th>3</th>\n",
       "      <td>652881</td>\n",
       "      <td>21</td>\n",
       "      <td>131</td>\n",
       "      <td>TX</td>\n",
       "      <td>131</td>\n",
       "      <td>2</td>\n",
       "    </tr>\n",
       "    <tr>\n",
       "      <th>4</th>\n",
       "      <td>3108923</td>\n",
       "      <td>38</td>\n",
       "      <td>129</td>\n",
       "      <td>NY</td>\n",
       "      <td>129</td>\n",
       "      <td>1</td>\n",
       "    </tr>\n",
       "  </tbody>\n",
       "</table>\n",
       "</div>"
      ],
      "text/plain": [
       "   Immigration_Id  Immigrants_Age  Citizenship_Country Current_State  \\\n",
       "0         1421234              50                  263            NY   \n",
       "1         1553590              72                  692            FL   \n",
       "2         5484369              36                  209            TN   \n",
       "3          652881              21                  131            TX   \n",
       "4         3108923              38                  129            NY   \n",
       "\n",
       "   Residency_Country  Visa_Code  \n",
       "0                263          2  \n",
       "1                692          2  \n",
       "2                209          2  \n",
       "3                131          2  \n",
       "4                129          1  "
      ]
     },
     "execution_count": 48,
     "metadata": {},
     "output_type": "execute_result"
    }
   ],
   "source": [
    "# Available visa code type\n",
    "Visa_Category_Type = Immigration_fact.select(['Immigration_Id','Immigrants_Age','Citizenship_Country', 'Current_State', 'Residency_Country','Visa_Code']).distinct() \n",
    "Visa_Category_Type.toPandas().head(5)"
   ]
  },
  {
   "cell_type": "code",
   "execution_count": 49,
   "metadata": {
    "editable": true
   },
   "outputs": [
    {
     "name": "stdout",
     "output_type": "stream",
     "text": [
      "Visa Code Purpose redefined: \n"
     ]
    },
    {
     "data": {
      "text/html": [
       "<div>\n",
       "<style scoped>\n",
       "    .dataframe tbody tr th:only-of-type {\n",
       "        vertical-align: middle;\n",
       "    }\n",
       "\n",
       "    .dataframe tbody tr th {\n",
       "        vertical-align: top;\n",
       "    }\n",
       "\n",
       "    .dataframe thead th {\n",
       "        text-align: right;\n",
       "    }\n",
       "</style>\n",
       "<table border=\"1\" class=\"dataframe\">\n",
       "  <thead>\n",
       "    <tr style=\"text-align: right;\">\n",
       "      <th></th>\n",
       "      <th>Immigration_Id</th>\n",
       "      <th>Immigrants_Age</th>\n",
       "      <th>Citizenship_Country</th>\n",
       "      <th>Current_State</th>\n",
       "      <th>Residency_Country</th>\n",
       "      <th>Visa_Code</th>\n",
       "      <th>Visa_Purpose</th>\n",
       "    </tr>\n",
       "  </thead>\n",
       "  <tbody>\n",
       "    <tr>\n",
       "      <th>0</th>\n",
       "      <td>1421234</td>\n",
       "      <td>50</td>\n",
       "      <td>263</td>\n",
       "      <td>NY</td>\n",
       "      <td>263</td>\n",
       "      <td>2</td>\n",
       "      <td>Pleasure</td>\n",
       "    </tr>\n",
       "    <tr>\n",
       "      <th>1</th>\n",
       "      <td>1553590</td>\n",
       "      <td>72</td>\n",
       "      <td>692</td>\n",
       "      <td>FL</td>\n",
       "      <td>692</td>\n",
       "      <td>2</td>\n",
       "      <td>Pleasure</td>\n",
       "    </tr>\n",
       "    <tr>\n",
       "      <th>2</th>\n",
       "      <td>5484369</td>\n",
       "      <td>36</td>\n",
       "      <td>209</td>\n",
       "      <td>TN</td>\n",
       "      <td>209</td>\n",
       "      <td>2</td>\n",
       "      <td>Pleasure</td>\n",
       "    </tr>\n",
       "    <tr>\n",
       "      <th>3</th>\n",
       "      <td>652881</td>\n",
       "      <td>21</td>\n",
       "      <td>131</td>\n",
       "      <td>TX</td>\n",
       "      <td>131</td>\n",
       "      <td>2</td>\n",
       "      <td>Pleasure</td>\n",
       "    </tr>\n",
       "    <tr>\n",
       "      <th>4</th>\n",
       "      <td>3108923</td>\n",
       "      <td>38</td>\n",
       "      <td>129</td>\n",
       "      <td>NY</td>\n",
       "      <td>129</td>\n",
       "      <td>1</td>\n",
       "      <td>Business</td>\n",
       "    </tr>\n",
       "    <tr>\n",
       "      <th>5</th>\n",
       "      <td>5246711</td>\n",
       "      <td>4</td>\n",
       "      <td>148</td>\n",
       "      <td>NY</td>\n",
       "      <td>112</td>\n",
       "      <td>2</td>\n",
       "      <td>Pleasure</td>\n",
       "    </tr>\n",
       "    <tr>\n",
       "      <th>6</th>\n",
       "      <td>2572618</td>\n",
       "      <td>38</td>\n",
       "      <td>528</td>\n",
       "      <td>FL</td>\n",
       "      <td>528</td>\n",
       "      <td>2</td>\n",
       "      <td>Pleasure</td>\n",
       "    </tr>\n",
       "  </tbody>\n",
       "</table>\n",
       "</div>"
      ],
      "text/plain": [
       "   Immigration_Id  Immigrants_Age  Citizenship_Country Current_State  \\\n",
       "0         1421234              50                  263            NY   \n",
       "1         1553590              72                  692            FL   \n",
       "2         5484369              36                  209            TN   \n",
       "3          652881              21                  131            TX   \n",
       "4         3108923              38                  129            NY   \n",
       "5         5246711               4                  148            NY   \n",
       "6         2572618              38                  528            FL   \n",
       "\n",
       "   Residency_Country  Visa_Code Visa_Purpose  \n",
       "0                263          2     Pleasure  \n",
       "1                692          2     Pleasure  \n",
       "2                209          2     Pleasure  \n",
       "3                131          2     Pleasure  \n",
       "4                129          1     Business  \n",
       "5                112          2     Pleasure  \n",
       "6                528          2     Pleasure  "
      ]
     },
     "execution_count": 49,
     "metadata": {},
     "output_type": "execute_result"
    }
   ],
   "source": [
    "print(\"Visa Code Purpose redefined: \")\n",
    "Visa_Category_Type = Visa_Category_Type.withColumn(\"Visa_Purpose\", \\\n",
    "                   when((Visa_Category_Type.Visa_Code == 1), lit(\"Business\")) \\\n",
    "                     .when((Visa_Category_Type.Visa_Code == 2), lit(\"Pleasure\")) \\\n",
    "                        .when((Visa_Category_Type.Visa_Code == 3), lit(\"Student\"))) \n",
    "\n",
    "Visa_Category_Type.toPandas().head(7)"
   ]
  },
  {
   "cell_type": "code",
   "execution_count": 50,
   "metadata": {
    "editable": true
   },
   "outputs": [
    {
     "name": "stdout",
     "output_type": "stream",
     "text": [
      "Sending 'Visa_Category_Type' table to Work Space folder.\n"
     ]
    }
   ],
   "source": [
    "print(\"Sending 'Visa_Category_Type' table to Work Space folder.\")\n",
    "Visa_Category_Type.write.mode(\"overwrite\").parquet(path=output_data + 'Visa_Category_Type/')"
   ]
  },
  {
   "cell_type": "code",
   "execution_count": 51,
   "metadata": {
    "editable": true
   },
   "outputs": [
    {
     "name": "stdout",
     "output_type": "stream",
     "text": [
      "The 'Visa_Category_Type' table: \n",
      "is not empty, it has total 1000 records.\n"
     ]
    }
   ],
   "source": [
    "print(\"The 'Visa_Category_Type' table: \") \n",
    "record_count(Visa_Category_Type)"
   ]
  },
  {
   "cell_type": "markdown",
   "metadata": {
    "editable": true
   },
   "source": [
    "### `Quick Query 07 & 08: `"
   ]
  },
  {
   "cell_type": "code",
   "execution_count": 52,
   "metadata": {
    "editable": true
   },
   "outputs": [
    {
     "name": "stdout",
     "output_type": "stream",
     "text": [
      "Total count of Reasons for travelling in USA by immigrants: \n",
      "+------------+-----+\n",
      "|Visa_Purpose|count|\n",
      "+------------+-----+\n",
      "|    Pleasure|  831|\n",
      "|     Student|   14|\n",
      "|    Business|  155|\n",
      "+------------+-----+\n",
      "\n"
     ]
    }
   ],
   "source": [
    "print(\"Total count of Reasons for travelling in USA by immigrants: \")\n",
    "Visa_Category_Type.select(['Current_State', 'Visa_Purpose']).groupBy('Visa_Purpose').count().show()"
   ]
  },
  {
   "cell_type": "code",
   "execution_count": 53,
   "metadata": {
    "editable": true
   },
   "outputs": [
    {
     "name": "stdout",
     "output_type": "stream",
     "text": [
      "+-------------+------------+-----+\n",
      "|Current_State|Visa_Purpose|count|\n",
      "+-------------+------------+-----+\n",
      "|           FL|    Pleasure|  176|\n",
      "|           NY|    Pleasure|  148|\n",
      "|           CA|    Pleasure|  126|\n",
      "|         null|    Pleasure|   53|\n",
      "|           HI|    Pleasure|   51|\n",
      "|           CA|    Business|   33|\n",
      "|           TX|    Pleasure|   29|\n",
      "+-------------+------------+-----+\n",
      "only showing top 7 rows\n",
      "\n"
     ]
    }
   ],
   "source": [
    "Reason_for_Travel = Visa_Category_Type.groupBy(['Current_State','Visa_Purpose',]).count().orderBy('count', ascending=False)\n",
    "Reason_for_Travel.show(7)"
   ]
  },
  {
   "cell_type": "code",
   "execution_count": 54,
   "metadata": {
    "editable": true
   },
   "outputs": [
    {
     "data": {
      "text/plain": [
       "Text(0.5,1,'Purpose of immigrants visit to different State')"
      ]
     },
     "execution_count": 54,
     "metadata": {},
     "output_type": "execute_result"
    },
    {
     "data": {
      "image/png": "[encoded data removed]",
      "text/plain": [
       "<matplotlib.figure.Figure at 0x7fe50c6d9c18>"
      ]
     },
     "metadata": {
      "needs_background": "light"
     },
     "output_type": "display_data"
    }
   ],
   "source": [
    "# setting the dimensions of the plot\n",
    "fig, ax = plt.subplots(figsize=(15, 5))\n",
    "\n",
    "Reason_for_Travel = Reason_for_Travel.toPandas()\n",
    "Reason_for_Travel = Reason_for_Travel[:35]\n",
    "\n",
    "ax = sns.barplot(x=\"Current_State\", y=\"count\", hue=\"Visa_Purpose\", data=Reason_for_Travel)\n",
    "ax.set_facecolor(\"lightyellow\")\n",
    "plt.xticks(rotation=45)\n",
    "plt.xlabel(\"US States\", fontsize=14)\n",
    "plt.ylabel(\"Counting immigrants\", fontsize=15)\n",
    "plt.grid(True)\n",
    "plt.legend(loc='upper right', bbox_to_anchor=(1, 1))\n",
    "plt.title(\"Purpose of immigrants visit to different State\", fontsize=15)"
   ]
  },
  {
   "cell_type": "markdown",
   "metadata": {
    "editable": true
   },
   "source": [
    "### `Quick Query 09 & 10: `\n",
    "+ Counting what purpose drove people to a single US State? For instance CA, NY.."
   ]
  },
  {
   "cell_type": "code",
   "execution_count": 55,
   "metadata": {
    "editable": true
   },
   "outputs": [
    {
     "name": "stdout",
     "output_type": "stream",
     "text": [
      "+------------+-----+\n",
      "|Visa_Purpose|count|\n",
      "+------------+-----+\n",
      "|    Pleasure|  126|\n",
      "|     Student|    4|\n",
      "|    Business|   33|\n",
      "+------------+-----+\n",
      "\n"
     ]
    }
   ],
   "source": [
    "# Finding why people visited to state of California\n",
    "Visa_Category_Type.select(['Current_State', 'Visa_Purpose']).where(Visa_Category_Type.Current_State =='CA').\\\n",
    "                                 groupBy('Visa_Purpose').count().show()"
   ]
  },
  {
   "cell_type": "code",
   "execution_count": 56,
   "metadata": {
    "editable": true
   },
   "outputs": [
    {
     "name": "stdout",
     "output_type": "stream",
     "text": [
      "+------------+-----+\n",
      "|Visa_Purpose|count|\n",
      "+------------+-----+\n",
      "|    Pleasure|   14|\n",
      "|    Business|    5|\n",
      "+------------+-----+\n",
      "\n"
     ]
    }
   ],
   "source": [
    "# finding why immigrants visited state of New York\n",
    "Visa_Category_Type.select(['Current_State', 'Visa_Purpose']).where(Visa_Category_Type.Current_State =='GA').\\\n",
    "                                 groupBy('Visa_Purpose').count().show()"
   ]
  },
  {
   "cell_type": "markdown",
   "metadata": {
    "editable": true
   },
   "source": [
    "`Findings: ` Most immigrants visited to US for pleasure."
   ]
  },
  {
   "cell_type": "markdown",
   "metadata": {
    "editable": true
   },
   "source": [
    "### `Im5` -  Associating `Visa category types` and `Travel mode` table:\n",
    "+ We can comprehend that these newly formed columns (`Means_of_Travel` & `Visa_Purpose`) has significant analytical values for our data model. So, I decided to combine them to make a table compatible for good analysis."
   ]
  },
  {
   "cell_type": "code",
   "execution_count": 57,
   "metadata": {
    "editable": true
   },
   "outputs": [
    {
     "name": "stdout",
     "output_type": "stream",
     "text": [
      "+--------------+-------------------+--------------+-----------+---------+-------------+---------------+-------------+-----------------+---------+------------+\n",
      "|Immigration_Id|Citizenship_Country|Immigrants_Age|Travel_Mode|Visa_Type|Admission_Num|Means_of_Travel|Current_State|Residency_Country|Visa_Code|Visa_Purpose|\n",
      "+--------------+-------------------+--------------+-----------+---------+-------------+---------------+-------------+-----------------+---------+------------+\n",
      "|       5471104|                207|            77|          1|       WT|  59501614433|            Air|           WA|              207|        2|    Pleasure|\n",
      "|       4291831|                135|            30|          1|       WT|  59119796133|            Air|           UN|              135|        2|    Pleasure|\n",
      "|       2323011|                130|            56|          1|       WT|  56085990733|            Air|           NY|              130|        2|    Pleasure|\n",
      "+--------------+-------------------+--------------+-----------+---------+-------------+---------------+-------------+-----------------+---------+------------+\n",
      "only showing top 3 rows\n",
      "\n"
     ]
    }
   ],
   "source": [
    "# This join will eliminate duplicated columns from both and a single column\n",
    "Mode_Visa_Category = Modes_of_Travel.join(Visa_Category_Type, [\"Immigration_Id\", \"Citizenship_Country\",'Immigrants_Age'], how=\"inner\").\\\n",
    "                           drop(Visa_Category_Type[\"Current_State\"])                                                    \n",
    "\n",
    "Mode_Visa_Category.show(3)"
   ]
  },
  {
   "cell_type": "code",
   "execution_count": 58,
   "metadata": {
    "editable": true
   },
   "outputs": [
    {
     "data": {
      "text/plain": [
       "[('Immigration_Id', 'int'),\n",
       " ('Citizenship_Country', 'int'),\n",
       " ('Immigrants_Age', 'int'),\n",
       " ('Travel_Mode', 'int'),\n",
       " ('Visa_Type', 'string'),\n",
       " ('Admission_Num', 'bigint'),\n",
       " ('Means_of_Travel', 'string'),\n",
       " ('Current_State', 'string'),\n",
       " ('Residency_Country', 'int'),\n",
       " ('Visa_Code', 'int'),\n",
       " ('Visa_Purpose', 'string')]"
      ]
     },
     "execution_count": 58,
     "metadata": {},
     "output_type": "execute_result"
    }
   ],
   "source": [
    "Mode_Visa_Category.dtypes"
   ]
  },
  {
   "cell_type": "code",
   "execution_count": 59,
   "metadata": {
    "editable": true
   },
   "outputs": [
    {
     "name": "stdout",
     "output_type": "stream",
     "text": [
      "Sending 'Mode_Visa_Category' table to Work Space folder.\n"
     ]
    }
   ],
   "source": [
    "print(\"Sending 'Mode_Visa_Category' table to Work Space folder.\")\n",
    "Mode_Visa_Category.write.mode(\"overwrite\").parquet(path=output_data + 'Mode_Visa_Category/')"
   ]
  },
  {
   "cell_type": "code",
   "execution_count": 60,
   "metadata": {
    "editable": true
   },
   "outputs": [
    {
     "name": "stdout",
     "output_type": "stream",
     "text": [
      "The 'Mode_Visa_Category' table: \n",
      "is not empty, it has total 1000 records.\n"
     ]
    }
   ],
   "source": [
    "print(\"The 'Mode_Visa_Category' table: \") \n",
    "record_count(Mode_Visa_Category)"
   ]
  },
  {
   "cell_type": "code",
   "execution_count": null,
   "metadata": {
    "editable": true
   },
   "outputs": [],
   "source": []
  },
  {
   "cell_type": "markdown",
   "metadata": {
    "editable": true
   },
   "source": [
    "### `Im6` - Final `Immigration_fact_table` \n",
    "> The purpose here is to create a final version of fact table, which will represent all the dimension table with foreign-key infused in it. On this progression I did..\n",
    "\n",
    "+ Join table(`Mode_Visa_Category`) with `Immigration_fact` table.\n",
    "+ This join will create a clean, comprehensive & intelligible immigration data set ready to analyze. \n",
    "+ I used a `Left-Join` to get a complete Fact-Immigration Table without losing any row values."
   ]
  },
  {
   "cell_type": "code",
   "execution_count": 61,
   "metadata": {
    "editable": true
   },
   "outputs": [
    {
     "name": "stdout",
     "output_type": "stream",
     "text": [
      "+--------------+-------------+--------------+-------------------+-----------------+-------------+---------+----------------+-----------------+---------+------------+--------------+----------+----------+------+------------+----------+---------------+------------+\n",
      "|Immigration_Id|Admission_Num|Immigrants_Age|Citizenship_Country|Residency_Country|Current_State|Visa_Type|Immigration_Year|Immigration_Month|Port_Code|Arrival_Date|Departure_Date|Match_Flag|Birth_Year|Gender|Airline_Code|Flight_Num|Means_of_Travel|Visa_Purpose|\n",
      "+--------------+-------------+--------------+-------------------+-----------------+-------------+---------+----------------+-----------------+---------+------------+--------------+----------+----------+------+------------+----------+---------------+------------+\n",
      "|         81344|  92485502130|            45|                263|              263|           TN|       B2|            2016|                4|      FTL|  2016-04-01|    2016-04-06|         M|      1971|     F|          QR|     00707|            Air|    Pleasure|\n",
      "|       1186211|  55781134933|            46|                135|              135|           FL|       WT|            2016|                4|      ORL|  2016-04-07|    2016-04-19|         M|      1970|     M|          VS|     00015|            Air|    Pleasure|\n",
      "|       1215382|  92993709530|            42|                245|              245|           CA|       B1|            2016|                4|      PHO|  2016-04-07|    2016-04-25|         M|      1974|     M|          DL|     00186|            Air|    Business|\n",
      "+--------------+-------------+--------------+-------------------+-----------------+-------------+---------+----------------+-----------------+---------+------------+--------------+----------+----------+------+------------+----------+---------------+------------+\n",
      "only showing top 3 rows\n",
      "\n"
     ]
    }
   ],
   "source": [
    "# This join will eliminate repeated columns\n",
    "Fact_Immigration = Immigration_fact.join(Mode_Visa_Category, ['Immigration_Id', 'Admission_Num','Immigrants_Age','Citizenship_Country',\\\n",
    "                            'Residency_Country', 'Current_State', 'Visa_Type','Visa_Code', 'Travel_Mode'], how=\"left\")\n",
    "\n",
    "# dropping repeated columns\n",
    "Fact_Immigration = Fact_Immigration.drop('Visa_Code','Travel_Mode')\n",
    "\n",
    "Fact_Immigration.show(3)"
   ]
  },
  {
   "cell_type": "code",
   "execution_count": 62,
   "metadata": {
    "editable": true
   },
   "outputs": [
    {
     "name": "stdout",
     "output_type": "stream",
     "text": [
      "Final Fact table (Fact_Immigration) dimension: \n",
      "Number of rows: 1000 \n",
      "Number of columns: 19\n"
     ]
    }
   ],
   "source": [
    "# To make sure we're not losing any data rows from this join\n",
    "print(\"Final Fact table (Fact_Immigration) dimension: \")\n",
    "print(\"Number of rows: \" + str(Fact_Immigration.count()) + \" \\nNumber of columns: \" + str(len(Fact_Immigration.columns)))"
   ]
  },
  {
   "cell_type": "code",
   "execution_count": 63,
   "metadata": {
    "editable": true
   },
   "outputs": [
    {
     "data": {
      "text/plain": [
       "[('Immigration_Id', 'int'),\n",
       " ('Admission_Num', 'bigint'),\n",
       " ('Immigrants_Age', 'int'),\n",
       " ('Citizenship_Country', 'int'),\n",
       " ('Residency_Country', 'int'),\n",
       " ('Current_State', 'string'),\n",
       " ('Visa_Type', 'string'),\n",
       " ('Immigration_Year', 'int'),\n",
       " ('Immigration_Month', 'int'),\n",
       " ('Port_Code', 'string'),\n",
       " ('Arrival_Date', 'date'),\n",
       " ('Departure_Date', 'date'),\n",
       " ('Match_Flag', 'string'),\n",
       " ('Birth_Year', 'int'),\n",
       " ('Gender', 'string'),\n",
       " ('Airline_Code', 'string'),\n",
       " ('Flight_Num', 'string'),\n",
       " ('Means_of_Travel', 'string'),\n",
       " ('Visa_Purpose', 'string')]"
      ]
     },
     "execution_count": 63,
     "metadata": {},
     "output_type": "execute_result"
    }
   ],
   "source": [
    "Fact_Immigration.dtypes"
   ]
  },
  {
   "cell_type": "code",
   "execution_count": null,
   "metadata": {
    "editable": true
   },
   "outputs": [],
   "source": []
  },
  {
   "cell_type": "code",
   "execution_count": 64,
   "metadata": {
    "editable": true
   },
   "outputs": [
    {
     "name": "stdout",
     "output_type": "stream",
     "text": [
      "Sending 'Fact_Immigration' table to Work Space folder.\n"
     ]
    }
   ],
   "source": [
    "print(\"Sending 'Fact_Immigration' table to Work Space folder.\")\n",
    "Fact_Immigration.write.mode(\"overwrite\").parquet(path=output_data + 'Fact_Immigration/')"
   ]
  },
  {
   "cell_type": "code",
   "execution_count": 65,
   "metadata": {
    "editable": true
   },
   "outputs": [
    {
     "name": "stdout",
     "output_type": "stream",
     "text": [
      "The 'Fact_Immigration' table: \n",
      "is not empty, it has total 1000 records.\n"
     ]
    }
   ],
   "source": [
    "print(\"The 'Fact_Immigration' table: \") \n",
    "record_count(Fact_Immigration)"
   ]
  },
  {
   "cell_type": "code",
   "execution_count": null,
   "metadata": {
    "editable": true
   },
   "outputs": [],
   "source": []
  },
  {
   "cell_type": "markdown",
   "metadata": {
    "editable": true
   },
   "source": [
    "###  `Im7` - Dimension table `02`\n",
    "\n",
    "#### `Dated transformation` of `arrival-departure` columns:"
   ]
  },
  {
   "cell_type": "markdown",
   "metadata": {
    "editable": true
   },
   "source": [
    "> If we want to know the most intricate detail about an immigrants overall staying status in this country, we need dated analysis, which in turns will project a clear view of the incoming immigrants `travelling status`. So I decided to create a detail dated table for the immigrants arrival and departure status in a `date-driven` segmented form. We can see the immense possibility of date-segmented analysis of immigration data."
   ]
  },
  {
   "cell_type": "code",
   "execution_count": 66,
   "metadata": {
    "editable": true
   },
   "outputs": [],
   "source": [
    "# creating a quick temporary view of immigration table\n",
    "Fact_Immigration.createOrReplaceTempView(\"Immigration_Time_Line\")"
   ]
  },
  {
   "cell_type": "code",
   "execution_count": 67,
   "metadata": {
    "editable": true
   },
   "outputs": [
    {
     "data": {
      "text/html": [
       "<div>\n",
       "<style scoped>\n",
       "    .dataframe tbody tr th:only-of-type {\n",
       "        vertical-align: middle;\n",
       "    }\n",
       "\n",
       "    .dataframe tbody tr th {\n",
       "        vertical-align: top;\n",
       "    }\n",
       "\n",
       "    .dataframe thead th {\n",
       "        text-align: right;\n",
       "    }\n",
       "</style>\n",
       "<table border=\"1\" class=\"dataframe\">\n",
       "  <thead>\n",
       "    <tr style=\"text-align: right;\">\n",
       "      <th></th>\n",
       "      <th>Admission_Num</th>\n",
       "      <th>Entry_Date</th>\n",
       "      <th>Citizenship_Country</th>\n",
       "      <th>Arrival_Year</th>\n",
       "      <th>Arrival_Month</th>\n",
       "      <th>Arrival_Day</th>\n",
       "      <th>Departure_Date</th>\n",
       "      <th>Depart_Year</th>\n",
       "      <th>Depart_Month</th>\n",
       "      <th>Depart_Day</th>\n",
       "      <th>Visa_Type</th>\n",
       "      <th>Port_Code</th>\n",
       "    </tr>\n",
       "  </thead>\n",
       "  <tbody>\n",
       "    <tr>\n",
       "      <th>0</th>\n",
       "      <td>92485502130</td>\n",
       "      <td>2016-04-01</td>\n",
       "      <td>263</td>\n",
       "      <td>2016</td>\n",
       "      <td>April</td>\n",
       "      <td>1</td>\n",
       "      <td>2016-04-06</td>\n",
       "      <td>2016.0</td>\n",
       "      <td>April</td>\n",
       "      <td>6.0</td>\n",
       "      <td>B2</td>\n",
       "      <td>FTL</td>\n",
       "    </tr>\n",
       "    <tr>\n",
       "      <th>1</th>\n",
       "      <td>55781134933</td>\n",
       "      <td>2016-04-07</td>\n",
       "      <td>135</td>\n",
       "      <td>2016</td>\n",
       "      <td>April</td>\n",
       "      <td>7</td>\n",
       "      <td>2016-04-19</td>\n",
       "      <td>2016.0</td>\n",
       "      <td>April</td>\n",
       "      <td>19.0</td>\n",
       "      <td>WT</td>\n",
       "      <td>ORL</td>\n",
       "    </tr>\n",
       "    <tr>\n",
       "      <th>2</th>\n",
       "      <td>92993709530</td>\n",
       "      <td>2016-04-07</td>\n",
       "      <td>245</td>\n",
       "      <td>2016</td>\n",
       "      <td>April</td>\n",
       "      <td>7</td>\n",
       "      <td>2016-04-25</td>\n",
       "      <td>2016.0</td>\n",
       "      <td>April</td>\n",
       "      <td>25.0</td>\n",
       "      <td>B1</td>\n",
       "      <td>PHO</td>\n",
       "    </tr>\n",
       "    <tr>\n",
       "      <th>3</th>\n",
       "      <td>56155874633</td>\n",
       "      <td>2016-04-14</td>\n",
       "      <td>135</td>\n",
       "      <td>2016</td>\n",
       "      <td>April</td>\n",
       "      <td>14</td>\n",
       "      <td>2016-04-23</td>\n",
       "      <td>2016.0</td>\n",
       "      <td>April</td>\n",
       "      <td>23.0</td>\n",
       "      <td>WB</td>\n",
       "      <td>LVG</td>\n",
       "    </tr>\n",
       "  </tbody>\n",
       "</table>\n",
       "</div>"
      ],
      "text/plain": [
       "   Admission_Num  Entry_Date  Citizenship_Country  Arrival_Year Arrival_Month  \\\n",
       "0    92485502130  2016-04-01                  263          2016         April   \n",
       "1    55781134933  2016-04-07                  135          2016         April   \n",
       "2    92993709530  2016-04-07                  245          2016         April   \n",
       "3    56155874633  2016-04-14                  135          2016         April   \n",
       "\n",
       "   Arrival_Day Departure_Date  Depart_Year Depart_Month  Depart_Day Visa_Type  \\\n",
       "0            1     2016-04-06       2016.0        April         6.0        B2   \n",
       "1            7     2016-04-19       2016.0        April        19.0        WT   \n",
       "2            7     2016-04-25       2016.0        April        25.0        B1   \n",
       "3           14     2016-04-23       2016.0        April        23.0        WB   \n",
       "\n",
       "  Port_Code  \n",
       "0       FTL  \n",
       "1       ORL  \n",
       "2       PHO  \n",
       "3       LVG  "
      ]
     },
     "execution_count": 67,
     "metadata": {},
     "output_type": "execute_result"
    }
   ],
   "source": [
    "# selecting columns with changed data type and deconstucting both arrival and departure date columns\n",
    "dim_Dated_Arrival_Departure = spark.sql('''\n",
    "                     Select Admission_Num,\\\n",
    "                             Arrival_Date AS Entry_Date,\\\n",
    "                             Citizenship_Country, \\\n",
    "                             int(date_format(date(Arrival_Date),'yyyy')) Arrival_Year,\\\n",
    "                             date_format(date(Arrival_Date),'MMMM') Arrival_Month,\\\n",
    "                             int(date_format(date(Arrival_Date),'dd')) Arrival_Day,\\\n",
    "                             departure_date AS Departure_Date, \\\n",
    "                             int(date_format(date(Departure_Date),'yyyy')) Depart_Year,\\\n",
    "                             date_format(date(Departure_Date),'MMMM') Depart_Month,\\\n",
    "                             int(date_format(date(Departure_Date),'dd')) Depart_Day, \\\n",
    "                             Visa_Type, Port_Code\n",
    "                      From Immigration_Time_Line\n",
    "                      WHERE year(Arrival_Date) >= 2016               \n",
    "                  ''')\n",
    "\n",
    "dim_Dated_Arrival_Departure.toPandas().head(4)"
   ]
  },
  {
   "cell_type": "code",
   "execution_count": 68,
   "metadata": {
    "editable": true
   },
   "outputs": [
    {
     "data": {
      "text/plain": [
       "[('Admission_Num', 'bigint'),\n",
       " ('Entry_Date', 'date'),\n",
       " ('Citizenship_Country', 'int'),\n",
       " ('Arrival_Year', 'int'),\n",
       " ('Arrival_Month', 'string'),\n",
       " ('Arrival_Day', 'int'),\n",
       " ('Departure_Date', 'date'),\n",
       " ('Depart_Year', 'int'),\n",
       " ('Depart_Month', 'string'),\n",
       " ('Depart_Day', 'int'),\n",
       " ('Visa_Type', 'string'),\n",
       " ('Port_Code', 'string')]"
      ]
     },
     "execution_count": 68,
     "metadata": {},
     "output_type": "execute_result"
    }
   ],
   "source": [
    "dim_Dated_Arrival_Departure.dtypes"
   ]
  },
  {
   "cell_type": "code",
   "execution_count": null,
   "metadata": {
    "editable": true
   },
   "outputs": [],
   "source": []
  },
  {
   "cell_type": "markdown",
   "metadata": {
    "editable": true
   },
   "source": [
    "+ Sending `dim_Dated_Arrival_Departure` table to Work Space cloud"
   ]
  },
  {
   "cell_type": "code",
   "execution_count": 69,
   "metadata": {
    "editable": true
   },
   "outputs": [
    {
     "name": "stdout",
     "output_type": "stream",
     "text": [
      "Sending 'dim_Dated_Arrival_Departure' table to Work Space folder.\n"
     ]
    }
   ],
   "source": [
    "print(\"Sending 'dim_Dated_Arrival_Departure' table to Work Space folder.\")\n",
    "dim_Dated_Arrival_Departure.write.mode(\"overwrite\").parquet(path=output_data + 'dim_Dated_Arrival_Departure/')"
   ]
  },
  {
   "cell_type": "markdown",
   "metadata": {
    "editable": true
   },
   "source": [
    "+ Data quality checks with **`dim_Dated_Arrival_Departure table:`**"
   ]
  },
  {
   "cell_type": "code",
   "execution_count": 70,
   "metadata": {
    "editable": true
   },
   "outputs": [
    {
     "name": "stdout",
     "output_type": "stream",
     "text": [
      "The 'dim_Dated_Arrival_Departure' table: \n",
      "is not empty, it has total 1000 records.\n"
     ]
    }
   ],
   "source": [
    "print(\"The 'dim_Dated_Arrival_Departure' table: \") \n",
    "record_count(dim_Dated_Arrival_Departure)"
   ]
  },
  {
   "cell_type": "code",
   "execution_count": null,
   "metadata": {
    "editable": true
   },
   "outputs": [],
   "source": []
  },
  {
   "cell_type": "markdown",
   "metadata": {
    "editable": true
   },
   "source": [
    "### `Quick Query 11: `"
   ]
  },
  {
   "cell_type": "code",
   "execution_count": 71,
   "metadata": {
    "editable": true
   },
   "outputs": [
    {
     "name": "stdout",
     "output_type": "stream",
     "text": [
      "Number of people who didn't leave the country in the year 2016: \n"
     ]
    },
    {
     "data": {
      "text/html": [
       "<div>\n",
       "<style scoped>\n",
       "    .dataframe tbody tr th:only-of-type {\n",
       "        vertical-align: middle;\n",
       "    }\n",
       "\n",
       "    .dataframe tbody tr th {\n",
       "        vertical-align: top;\n",
       "    }\n",
       "\n",
       "    .dataframe thead th {\n",
       "        text-align: right;\n",
       "    }\n",
       "</style>\n",
       "<table border=\"1\" class=\"dataframe\">\n",
       "  <thead>\n",
       "    <tr style=\"text-align: right;\">\n",
       "      <th></th>\n",
       "      <th>Depart_Year</th>\n",
       "      <th>count</th>\n",
       "    </tr>\n",
       "  </thead>\n",
       "  <tbody>\n",
       "    <tr>\n",
       "      <th>0</th>\n",
       "      <td>NaN</td>\n",
       "      <td>49</td>\n",
       "    </tr>\n",
       "    <tr>\n",
       "      <th>1</th>\n",
       "      <td>2016.0</td>\n",
       "      <td>951</td>\n",
       "    </tr>\n",
       "  </tbody>\n",
       "</table>\n",
       "</div>"
      ],
      "text/plain": [
       "   Depart_Year  count\n",
       "0          NaN     49\n",
       "1       2016.0    951"
      ]
     },
     "execution_count": 71,
     "metadata": {},
     "output_type": "execute_result"
    }
   ],
   "source": [
    "print(\"Number of people who didn't leave the country in the year 2016: \")\n",
    "dim_Dated_Arrival_Departure.select(year(\"Departure_Date\").alias(\"Depart_Year\")).groupBy(\"Depart_Year\").count().toPandas()"
   ]
  },
  {
   "cell_type": "code",
   "execution_count": null,
   "metadata": {
    "editable": true
   },
   "outputs": [],
   "source": []
  },
  {
   "cell_type": "markdown",
   "metadata": {
    "editable": true
   },
   "source": [
    "### `Quick Query 12, 13 & 14: `"
   ]
  },
  {
   "cell_type": "markdown",
   "metadata": {
    "editable": true
   },
   "source": [
    "> `12:` How many `Days in Total` an immigrants stayed in USA?"
   ]
  },
  {
   "cell_type": "code",
   "execution_count": 72,
   "metadata": {
    "editable": true
   },
   "outputs": [
    {
     "name": "stdout",
     "output_type": "stream",
     "text": [
      "+-------------+----------+-------------------+------------+-------------+-----------+--------------+-----------+------------+----------+---------+---------+---------------+\n",
      "|Admission_Num|Entry_Date|Citizenship_Country|Arrival_Year|Arrival_Month|Arrival_Day|Departure_Date|Depart_Year|Depart_Month|Depart_Day|Visa_Type|Port_Code|Days_of_Staying|\n",
      "+-------------+----------+-------------------+------------+-------------+-----------+--------------+-----------+------------+----------+---------+---------+---------------+\n",
      "|  92485502130|2016-04-01|                263|        2016|        April|          1|    2016-04-06|       2016|       April|         6|       B2|      FTL|              5|\n",
      "|  55781134933|2016-04-07|                135|        2016|        April|          7|    2016-04-19|       2016|       April|        19|       WT|      ORL|             12|\n",
      "|  92993709530|2016-04-07|                245|        2016|        April|          7|    2016-04-25|       2016|       April|        25|       B1|      PHO|             18|\n",
      "|  56155874633|2016-04-14|                135|        2016|        April|         14|    2016-04-23|       2016|       April|        23|       WB|      LVG|              9|\n",
      "|  93697932230|2016-04-16|                245|        2016|        April|         16|    2016-07-15|       2016|        July|        15|       B2|      FMY|             90|\n",
      "+-------------+----------+-------------------+------------+-------------+-----------+--------------+-----------+------------+----------+---------+---------+---------------+\n",
      "only showing top 5 rows\n",
      "\n"
     ]
    }
   ],
   "source": [
    "# calculating how many days an immigrants spent in USA before leaving the country \n",
    "Avg_Staying_Days = dim_Dated_Arrival_Departure.withColumn(\"Days_of_Staying\", datediff(col(\"Departure_Date\"),col(\"Entry_Date\")))\n",
    "Avg_Staying_Days.show(5)"
   ]
  },
  {
   "cell_type": "markdown",
   "metadata": {
    "editable": true
   },
   "source": [
    "> `13:` Finding `Residency country codes` of those immigrants who `stayed more than 15 days` in USA"
   ]
  },
  {
   "cell_type": "code",
   "execution_count": 73,
   "metadata": {
    "editable": true
   },
   "outputs": [
    {
     "name": "stdout",
     "output_type": "stream",
     "text": [
      "+-------------------+------------+\n",
      "|Citizenship_Country|Staying_Days|\n",
      "+-------------------+------------+\n",
      "|                525|        98.0|\n",
      "|                258|        84.0|\n",
      "|                350|        82.0|\n",
      "|                272|        74.0|\n",
      "|                520|        57.0|\n",
      "|                586|        49.5|\n",
      "|                692|      47.125|\n",
      "+-------------------+------------+\n",
      "only showing top 7 rows\n",
      "\n"
     ]
    }
   ],
   "source": [
    "# country code of immigrants who stayed more than 17 days\n",
    "Staying_Days_Country = Avg_Staying_Days.groupBy(\"Citizenship_Country\").agg(avg(\"Days_of_Staying\").alias(\"Staying_Days\")).\\\n",
    "                         filter(col('Staying_Days') >= 15).sort(col('Staying_Days').desc())\n",
    "#.orderBy(col(\"Staying_Days\").desc())\n",
    "\n",
    "Staying_Days_Country.show(7)"
   ]
  },
  {
   "cell_type": "code",
   "execution_count": 74,
   "metadata": {
    "editable": true
   },
   "outputs": [
    {
     "name": "stdout",
     "output_type": "stream",
     "text": [
      "Number of country people stayed more than 15 days: 37\n"
     ]
    }
   ],
   "source": [
    "print(\"Number of country people stayed more than 15 days: \"  + str(Staying_Days_Country.count()))"
   ]
  },
  {
   "cell_type": "code",
   "execution_count": 75,
   "metadata": {
    "editable": true
   },
   "outputs": [
    {
     "data": {
      "text/plain": [
       "Text(0.5,1,'Number of days Immigrants/Tourists stayed in USA with country code: ')"
      ]
     },
     "execution_count": 75,
     "metadata": {},
     "output_type": "execute_result"
    },
    {
     "data": {
      "image/png": "[encoded data removed]",
      "text/plain": [
       "<matplotlib.figure.Figure at 0x7fe50c50d9e8>"
      ]
     },
     "metadata": {
      "needs_background": "light"
     },
     "output_type": "display_data"
    }
   ],
   "source": [
    "Staying_Days_Country = Staying_Days_Country.toPandas()\n",
    "Staying_Days_Country = Staying_Days_Country[:37]\n",
    "\n",
    "fig, ax = plt.subplots(figsize=(15, 5))\n",
    "ax = sns.barplot(x=\"Citizenship_Country\", y=\"Staying_Days\", data=Staying_Days_Country)\n",
    "plt.fontsize=16\n",
    "plt.xticks(rotation=75)\n",
    "plt.grid(True)\n",
    "plt.title(\"Number of days Immigrants/Tourists stayed in USA with country code: \")"
   ]
  },
  {
   "cell_type": "markdown",
   "metadata": {
    "editable": true
   },
   "source": [
    "`14:` Immigrants average staying days in USA?"
   ]
  },
  {
   "cell_type": "code",
   "execution_count": 76,
   "metadata": {
    "editable": true
   },
   "outputs": [
    {
     "name": "stdout",
     "output_type": "stream",
     "text": [
      "In average an immigrant stays in USA: 15 days apprx. \n",
      "\n",
      "+------------------------------+\n",
      "|round(avg(Days_of_Staying), 3)|\n",
      "+------------------------------+\n",
      "|                        15.362|\n",
      "+------------------------------+\n",
      "\n"
     ]
    }
   ],
   "source": [
    "print(\"In average an immigrant stays in USA: 15 days apprx. \\n\")\n",
    "Avg_Staying_Days.agg(round(avg(\"Days_of_Staying\"),3)).show()"
   ]
  },
  {
   "cell_type": "code",
   "execution_count": null,
   "metadata": {
    "editable": true
   },
   "outputs": [],
   "source": []
  },
  {
   "cell_type": "markdown",
   "metadata": {
    "editable": true
   },
   "source": [
    "### `Quick Query 15 & 16:` \n",
    "+ `15:` Individual immigrants staying on `types of visa`, `purpose of staying` and `total days` of staying in USA"
   ]
  },
  {
   "cell_type": "code",
   "execution_count": 77,
   "metadata": {
    "editable": true
   },
   "outputs": [
    {
     "name": "stdout",
     "output_type": "stream",
     "text": [
      "+--------------+---------+------------+---------------+\n",
      "|Immigration_Id|Visa_Type|Visa_Purpose|Days_of_Staying|\n",
      "+--------------+---------+------------+---------------+\n",
      "|        879820|       WT|    Pleasure|             12|\n",
      "|       2346741|       WT|    Pleasure|              4|\n",
      "|        514906|       B1|    Business|              9|\n",
      "+--------------+---------+------------+---------------+\n",
      "only showing top 3 rows\n",
      "\n"
     ]
    }
   ],
   "source": [
    "# Joining two tables, dropping redundant 'Visa_Type' column and select some specific columns\n",
    "Visa_N_Days_Stay = Avg_Staying_Days.join(Mode_Visa_Category, (Avg_Staying_Days.Admission_Num == Mode_Visa_Category.Admission_Num),\\\n",
    "                                how=\"inner\").drop(Avg_Staying_Days['Visa_Type']).select('Immigration_Id', 'Visa_Type',\\\n",
    "                                          'Visa_Purpose', 'Days_of_Staying')\n",
    "\n",
    "#Visa_N_Days_Stay = Visa_N_Days_Stay.select(Visa_N_Days_Stay['Immigration_Id'], Visa_N_Days_Stay['Visa_Type'],\\\n",
    "#                                           Visa_N_Days_Stay['Visa_Purpose'], Visa_N_Days_Stay['Days_of_Staying'])\n",
    "Visa_N_Days_Stay.show(3)"
   ]
  },
  {
   "cell_type": "markdown",
   "metadata": {
    "editable": true
   },
   "source": [
    "+ `16:` In total `how many immigrants/tourist` visited on `what types of visa`, `visting purposes` & `total staying days.` count"
   ]
  },
  {
   "cell_type": "code",
   "execution_count": 78,
   "metadata": {
    "editable": true
   },
   "outputs": [
    {
     "name": "stdout",
     "output_type": "stream",
     "text": [
      "+---------+------------+--------------------+------------+\n",
      "|Visa_Type|Visa_Purpose|Number_of_Immigrants|Staying_Days|\n",
      "+---------+------------+--------------------+------------+\n",
      "|       B2|    Pleasure|                 356|        7649|\n",
      "|       WT|    Pleasure|                 443|        4592|\n",
      "|       B1|    Business|                  61|         804|\n",
      "|       WB|    Business|                  91|         721|\n",
      "|       F1|     Student|                  10|         543|\n",
      "|       E2|    Business|                   3|         159|\n",
      "|      GMT|    Pleasure|                  27|         123|\n",
      "|       CP|    Pleasure|                   5|          18|\n",
      "|       M1|     Student|                   1|        null|\n",
      "|       F2|     Student|                   3|        null|\n",
      "+---------+------------+--------------------+------------+\n",
      "\n"
     ]
    }
   ],
   "source": [
    "Visa_Purpose_Stay = Visa_N_Days_Stay.groupBy('Visa_Type', 'Visa_Purpose').agg(count('Immigration_Id').alias(\"Number_of_Immigrants\"),\\\n",
    "                                       sum('Days_of_Staying').alias('Staying_Days')).\\\n",
    "                                        sort(col('Staying_Days').desc())\n",
    "Visa_Purpose_Stay .show()"
   ]
  },
  {
   "cell_type": "code",
   "execution_count": 79,
   "metadata": {
    "editable": true
   },
   "outputs": [
    {
     "data": {
      "text/plain": [
       "Text(0.5,1,'Visa types & Number of days staying with purpose')"
      ]
     },
     "execution_count": 79,
     "metadata": {},
     "output_type": "execute_result"
    },
    {
     "data": {
      "image/png": "[encoded data removed]",
      "text/plain": [
       "<matplotlib.figure.Figure at 0x7fe50c51b588>"
      ]
     },
     "metadata": {
      "needs_background": "light"
     },
     "output_type": "display_data"
    }
   ],
   "source": [
    "# setting the dimensions of the plot\n",
    "fig, ax = plt.subplots(figsize=(15, 5))\n",
    "Visa_Purpose_Stay  = Visa_Purpose_Stay.toPandas()\n",
    "\n",
    "ax = sns.barplot(x=\"Visa_Type\", y=\"Staying_Days\", hue='Visa_Purpose',  data=Visa_Purpose_Stay )\n",
    "ax.set_facecolor(\"lightyellow\")\n",
    "plt.xticks(rotation=45)\n",
    "plt.grid(True)\n",
    "plt.xlabel(\"Types of Visa\", fontsize=14)\n",
    "plt.ylabel(\"Number of days stayed\", fontsize=14)\n",
    "plt.legend(loc='upper right', bbox_to_anchor=(1, 1))\n",
    "plt.title(\"Visa types & Number of days staying with purpose\", fontsize=15)"
   ]
  },
  {
   "cell_type": "code",
   "execution_count": null,
   "metadata": {
    "editable": true
   },
   "outputs": [],
   "source": []
  },
  {
   "cell_type": "markdown",
   "metadata": {
    "editable": true
   },
   "source": [
    "> ### Reading `I94_SAS_Labels_Descriptions` file"
   ]
  },
  {
   "cell_type": "markdown",
   "metadata": {
    "editable": true
   },
   "source": [
    "Immigration data set came with lot of coded columns and in apparent observation the significance of those columns( `I94YR, i94cntyl, i94prtl, I94MODE, I94ADDR & I9visa`) are not intelligible. To decode those coded columns we're given a label file which is in `SAS data format`. Here I'd be slicing, correlating and connecting 'SAS Label' file to extract out meaning on to our 'Immigration fact table' column vlaues. This processes of decoding is a rather tedious endeavour. Let's start the journey."
   ]
  },
  {
   "cell_type": "code",
   "execution_count": 80,
   "metadata": {
    "editable": true
   },
   "outputs": [],
   "source": [
    "# Opening the SAS label file\n",
    "with open(\"I94_SAS_Labels_Descriptions.SAS\") as f:\n",
    "    Label_Contents = f.readlines()"
   ]
  },
  {
   "cell_type": "code",
   "execution_count": 81,
   "metadata": {
    "editable": true
   },
   "outputs": [
    {
     "data": {
      "text/plain": [
       "[\"libname library 'Your file location' ;\\n\",\n",
       " 'proc format library=library ;\\n',\n",
       " '\\n',\n",
       " '/* I94YR - 4 digit year */\\n',\n",
       " '\\n',\n",
       " '/* I94MON - Numeric month */\\n',\n",
       " '\\n',\n",
       " '/* I94CIT & I94RES - This format shows all the valid and invalid codes for processing */\\n',\n",
       " '  value i94cntyl\\n',\n",
       " \"   582 =  'MEXICO Air Sea, and Not Reported (I-94, no land arrivals)'\\n\",\n",
       " \"   236 =  'AFGHANISTAN'\\n\",\n",
       " \"   101 =  'ALBANIA'\\n\",\n",
       " \"   316 =  'ALGERIA'\\n\",\n",
       " \"   102 =  'ANDORRA'\\n\",\n",
       " \"   324 =  'ANGOLA'\\n\",\n",
       " \"   529 =  'ANGUILLA'\\n\",\n",
       " \"   518 =  'ANTIGUA-BARBUDA'\\n\",\n",
       " \"   687 =  'ARGENTINA '\\n\",\n",
       " \"   151 =  'ARMENIA'\\n\",\n",
       " \"   532 =  'ARUBA'\\n\",\n",
       " \"   438 =  'AUSTRALIA'\\n\",\n",
       " \"   103 =  'AUSTRIA'\\n\",\n",
       " \"   152 =  'AZERBAIJAN'\\n\",\n",
       " \"   512 =  'BAHAMAS'\\n\",\n",
       " \"   298 =  'BAHRAIN'\\n\",\n",
       " \"   274 =  'BANGLADESH'\\n\",\n",
       " \"   513 =  'BARBADOS'\\n\",\n",
       " \"   104 =  'BELGIUM'\\n\",\n",
       " \"   581 =  'BELIZE'\\n\",\n",
       " \"   386 =  'BENIN'\\n\",\n",
       " \"   509 =  'BERMUDA'\\n\",\n",
       " \"   153 =  'BELARUS'\\n\",\n",
       " \"   242 =  'BHUTAN'\\n\",\n",
       " \"   688 =  'BOLIVIA'\\n\",\n",
       " \"   717 =  'BONAIRE, ST EUSTATIUS, SABA' \\n\",\n",
       " \"   164 =  'BOSNIA-HERZEGOVINA'\\n\",\n",
       " \"   336 =  'BOTSWANA'\\n\",\n",
       " \"   689 =  'BRAZIL'\\n\",\n",
       " \"   525 =  'BRITISH VIRGIN ISLANDS'\\n\",\n",
       " \"   217 =  'BRUNEI'\\n\",\n",
       " \"   105 =  'BULGARIA'\\n\",\n",
       " \"   393 =  'BURKINA FASO'\\n\",\n",
       " \"   243 =  'BURMA'\\n\",\n",
       " \"   375 =  'BURUNDI'\\n\",\n",
       " \"   310 =  'CAMEROON'\\n\",\n",
       " \"   326 =  'CAPE VERDE'\\n\",\n",
       " \"   526 =  'CAYMAN ISLANDS'\\n\",\n",
       " \"   383 =  'CENTRAL AFRICAN REPUBLIC'\\n\",\n",
       " \"   384 =  'CHAD'\\n\",\n",
       " \"   690 =  'CHILE'\\n\",\n",
       " \"   245 =  'CHINA, PRC'\\n\",\n",
       " \"   721 =  'CURACAO' \\n\",\n",
       " \"   270 =  'CHRISTMAS ISLAND'\\n\",\n",
       " \"   271 =  'COCOS ISLANDS'\\n\",\n",
       " \"   691 =  'COLOMBIA'\\n\",\n",
       " \"   317 =  'COMOROS'\\n\",\n",
       " \"   385 =  'CONGO'\\n\",\n",
       " \"   467 =  'COOK ISLANDS'\\n\",\n",
       " \"   575 =  'COSTA RICA'\\n\",\n",
       " \"   165 =  'CROATIA'\\n\",\n",
       " \"   584 =  'CUBA'\\n\",\n",
       " \"   218 =  'CYPRUS'\\n\",\n",
       " \"   140 =  'CZECH REPUBLIC'\\n\",\n",
       " \"   723 =  'FAROE ISLANDS (PART OF DENMARK)'  \\n\",\n",
       " \"   108 =  'DENMARK'\\n\",\n",
       " \"   322 =  'DJIBOUTI'\\n\",\n",
       " \"   519 =  'DOMINICA'\\n\",\n",
       " \"   585 =  'DOMINICAN REPUBLIC'\\n\",\n",
       " \"   240 =  'EAST TIMOR'\\n\",\n",
       " \"   692 =  'ECUADOR'\\n\",\n",
       " \"   368 =  'EGYPT'\\n\",\n",
       " \"   576 =  'EL SALVADOR'\\n\",\n",
       " \"   399 =  'EQUATORIAL GUINEA'\\n\",\n",
       " \"   372 =  'ERITREA'\\n\",\n",
       " \"   109 =  'ESTONIA'\\n\",\n",
       " \"   369 =  'ETHIOPIA'\\n\",\n",
       " \"   604 =  'FALKLAND ISLANDS'\\n\",\n",
       " \"   413 =  'FIJI'\\n\",\n",
       " \"   110 =  'FINLAND'\\n\",\n",
       " \"   111 =  'FRANCE'\\n\",\n",
       " \"   601 =  'FRENCH GUIANA'\\n\",\n",
       " \"   411 =  'FRENCH POLYNESIA'\\n\",\n",
       " \"   387 =  'GABON'\\n\",\n",
       " \"   338 =  'GAMBIA'\\n\",\n",
       " \"   758 =  'GAZA STRIP' \\n\",\n",
       " \"   154 =  'GEORGIA'\\n\",\n",
       " \"   112 =  'GERMANY'\\n\",\n",
       " \"   339 =  'GHANA'\\n\",\n",
       " \"   143 =  'GIBRALTAR'\\n\",\n",
       " \"   113 =  'GREECE'\\n\",\n",
       " \"   520 =  'GRENADA'\\n\",\n",
       " \"   507 =  'GUADELOUPE'\\n\",\n",
       " \"   577 =  'GUATEMALA'\\n\",\n",
       " \"   382 =  'GUINEA'\\n\",\n",
       " \"   327 =  'GUINEA-BISSAU'\\n\",\n",
       " \"   603 =  'GUYANA'\\n\",\n",
       " \"   586 =  'HAITI'\\n\",\n",
       " \"   726 =  'HEARD AND MCDONALD IS.'\\n\",\n",
       " \"   149 =  'HOLY SEE/VATICAN'\\n\",\n",
       " \"   528 =  'HONDURAS'\\n\",\n",
       " \"   206 =  'HONG KONG'\\n\",\n",
       " \"   114 =  'HUNGARY'\\n\",\n",
       " \"   115 =  'ICELAND'\\n\",\n",
       " \"   213 =  'INDIA'\\n\",\n",
       " \"   759 =  'INDIAN OCEAN AREAS (FRENCH)' \\n\",\n",
       " \"   729 =  'INDIAN OCEAN TERRITORY' \\n\",\n",
       " \"   204 =  'INDONESIA'\\n\",\n",
       " \"   249 =  'IRAN'\\n\",\n",
       " \"   250 =  'IRAQ'\\n\",\n",
       " \"   116 =  'IRELAND'\\n\",\n",
       " \"   251 =  'ISRAEL'\\n\",\n",
       " \"   117 =  'ITALY'\\n\",\n",
       " \"   388 =  'IVORY COAST'\\n\",\n",
       " \"   514 =  'JAMAICA'\\n\",\n",
       " \"   209 =  'JAPAN'\\n\",\n",
       " \"   253 =  'JORDAN'\\n\",\n",
       " \"   201 =  'KAMPUCHEA'\\n\",\n",
       " \"   155 =  'KAZAKHSTAN'\\n\",\n",
       " \"   340 =  'KENYA'\\n\",\n",
       " \"   414 =  'KIRIBATI'\\n\",\n",
       " \"   732 =  'KOSOVO' \\n\",\n",
       " \"   272 =  'KUWAIT'\\n\",\n",
       " \"   156 =  'KYRGYZSTAN'\\n\",\n",
       " \"   203 =  'LAOS'\\n\",\n",
       " \"   118 =  'LATVIA'\\n\",\n",
       " \"   255 =  'LEBANON'\\n\",\n",
       " \"   335 =  'LESOTHO'\\n\",\n",
       " \"   370 =  'LIBERIA'\\n\",\n",
       " \"   381 =  'LIBYA'\\n\",\n",
       " \"   119 =  'LIECHTENSTEIN'\\n\",\n",
       " \"   120 =  'LITHUANIA'\\n\",\n",
       " \"   121 =  'LUXEMBOURG'\\n\",\n",
       " \"   214 =  'MACAU'\\n\",\n",
       " \"   167 =  'MACEDONIA'\\n\",\n",
       " \"   320 =  'MADAGASCAR'\\n\",\n",
       " \"   345 =  'MALAWI'\\n\",\n",
       " \"   273 =  'MALAYSIA'\\n\",\n",
       " \"   220 =  'MALDIVES'\\n\",\n",
       " \"   392 =  'MALI'\\n\",\n",
       " \"   145 =  'MALTA'\\n\",\n",
       " \"   472 =  'MARSHALL ISLANDS'\\n\",\n",
       " \"   511 =  'MARTINIQUE'\\n\",\n",
       " \"   389 =  'MAURITANIA'\\n\",\n",
       " \"   342 =  'MAURITIUS'\\n\",\n",
       " \"   760 =  'MAYOTTE (AFRICA - FRENCH)' \\n\",\n",
       " \"   473 =  'MICRONESIA, FED. STATES OF'\\n\",\n",
       " \"   157 =  'MOLDOVA'\\n\",\n",
       " \"   122 =  'MONACO'\\n\",\n",
       " \"   299 =  'MONGOLIA'\\n\",\n",
       " \"   735 =  'MONTENEGRO' \\n\",\n",
       " \"   521 =  'MONTSERRAT'\\n\",\n",
       " \"   332 =  'MOROCCO'\\n\",\n",
       " \"   329 =  'MOZAMBIQUE'\\n\",\n",
       " \"   371 =  'NAMIBIA'\\n\",\n",
       " \"   440 =  'NAURU'\\n\",\n",
       " \"   257 =  'NEPAL'\\n\",\n",
       " \"   123 =  'NETHERLANDS'\\n\",\n",
       " \"   508 =  'NETHERLANDS ANTILLES'\\n\",\n",
       " \"   409 =  'NEW CALEDONIA'\\n\",\n",
       " \"   464 =  'NEW ZEALAND'\\n\",\n",
       " \"   579 =  'NICARAGUA'\\n\",\n",
       " \"   390 =  'NIGER'\\n\",\n",
       " \"   343 =  'NIGERIA'\\n\",\n",
       " \"   470 =  'NIUE'\\n\",\n",
       " \"   275 =  'NORTH KOREA'\\n\",\n",
       " \"   124 =  'NORWAY'\\n\",\n",
       " \"   256 =  'OMAN'\\n\",\n",
       " \"   258 =  'PAKISTAN'\\n\",\n",
       " \"   474 =  'PALAU'\\n\",\n",
       " \"   743 =  'PALESTINE' \\n\",\n",
       " \"   504 =  'PANAMA'\\n\",\n",
       " \"   441 =  'PAPUA NEW GUINEA'\\n\",\n",
       " \"   693 =  'PARAGUAY'\\n\",\n",
       " \"   694 =  'PERU'\\n\",\n",
       " \"   260 =  'PHILIPPINES'\\n\",\n",
       " \"   416 =  'PITCAIRN ISLANDS'\\n\",\n",
       " \"   107 =  'POLAND'\\n\",\n",
       " \"   126 =  'PORTUGAL'\\n\",\n",
       " \"   297 =  'QATAR'\\n\",\n",
       " \"   748 =  'REPUBLIC OF SOUTH SUDAN'\\n\",\n",
       " \"   321 =  'REUNION'\\n\",\n",
       " \"   127 =  'ROMANIA'\\n\",\n",
       " \"   158 =  'RUSSIA'\\n\",\n",
       " \"   376 =  'RWANDA'\\n\",\n",
       " \"   128 =  'SAN MARINO'\\n\",\n",
       " \"   330 =  'SAO TOME AND PRINCIPE'\\n\",\n",
       " \"   261 =  'SAUDI ARABIA'\\n\",\n",
       " \"   391 =  'SENEGAL'\\n\",\n",
       " \"   142 =  'SERBIA AND MONTENEGRO'\\n\",\n",
       " \"   745 =  'SERBIA' \\n\",\n",
       " \"   347 =  'SEYCHELLES'\\n\",\n",
       " \"   348 =  'SIERRA LEONE'\\n\",\n",
       " \"   207 =  'SINGAPORE'\\n\",\n",
       " \"   141 =  'SLOVAKIA'\\n\",\n",
       " \"   166 =  'SLOVENIA'\\n\",\n",
       " \"   412 =  'SOLOMON ISLANDS'\\n\",\n",
       " \"   397 =  'SOMALIA'\\n\",\n",
       " \"   373 =  'SOUTH AFRICA'\\n\",\n",
       " \"   276 =  'SOUTH KOREA'\\n\",\n",
       " \"   129 =  'SPAIN'\\n\",\n",
       " \"   244 =  'SRI LANKA'\\n\",\n",
       " \"   346 =  'ST. HELENA'\\n\",\n",
       " \"   522 =  'ST. KITTS-NEVIS'\\n\",\n",
       " \"   523 =  'ST. LUCIA'\\n\",\n",
       " \"   502 =  'ST. PIERRE AND MIQUELON'\\n\",\n",
       " \"   524 =  'ST. VINCENT-GRENADINES'\\n\",\n",
       " \"   716 =  'SAINT BARTHELEMY' \\n\",\n",
       " \"   736 =  'SAINT MARTIN' \\n\",\n",
       " \"   749 =  'SAINT MAARTEN' \\n\",\n",
       " \"   350 =  'SUDAN'\\n\",\n",
       " \"   602 =  'SURINAME'\\n\",\n",
       " \"   351 =  'SWAZILAND'\\n\",\n",
       " \"   130 =  'SWEDEN'\\n\",\n",
       " \"   131 =  'SWITZERLAND'\\n\",\n",
       " \"   262 =  'SYRIA'\\n\",\n",
       " \"   268 =  'TAIWAN'\\n\",\n",
       " \"   159 =  'TAJIKISTAN'\\n\",\n",
       " \"   353 =  'TANZANIA'\\n\",\n",
       " \"   263 =  'THAILAND'\\n\",\n",
       " \"   304 =  'TOGO'\\n\",\n",
       " \"   417 =  'TONGA'\\n\",\n",
       " \"   516 =  'TRINIDAD AND TOBAGO'\\n\",\n",
       " \"   323 =  'TUNISIA'\\n\",\n",
       " \"   264 =  'TURKEY'\\n\",\n",
       " \"   161 =  'TURKMENISTAN'\\n\",\n",
       " \"   527 =  'TURKS AND CAICOS ISLANDS'\\n\",\n",
       " \"   420 =  'TUVALU'\\n\",\n",
       " \"   352 =  'UGANDA'\\n\",\n",
       " \"   162 =  'UKRAINE'\\n\",\n",
       " \"   296 =  'UNITED ARAB EMIRATES'\\n\",\n",
       " \"   135 =  'UNITED KINGDOM'\\n\",\n",
       " \"   695 =  'URUGUAY'\\n\",\n",
       " \"   163 =  'UZBEKISTAN'\\n\",\n",
       " \"   410 =  'VANUATU'\\n\",\n",
       " \"   696 =  'VENEZUELA'\\n\",\n",
       " \"   266 =  'VIETNAM'\\n\",\n",
       " \"   469 =  'WALLIS AND FUTUNA ISLANDS'\\n\",\n",
       " \"   757 =  'WEST INDIES (FRENCH)' \\n\",\n",
       " \"   333 =  'WESTERN SAHARA'\\n\",\n",
       " \"   465 =  'WESTERN SAMOA'\\n\",\n",
       " \"   216 =  'YEMEN'\\n\",\n",
       " \"   139 =  'YUGOSLAVIA'\\n\",\n",
       " \"   301 =  'ZAIRE'\\n\",\n",
       " \"   344 =  'ZAMBIA'\\n\",\n",
       " \"   315 =  'ZIMBABWE'\\n\",\n",
       " \"   403 =  'INVALID: AMERICAN SAMOA'\\n\",\n",
       " \"   712 =  'INVALID: ANTARCTICA' \\n\",\n",
       " \"   700 =  'INVALID: BORN ON BOARD SHIP'\\n\",\n",
       " \"   719 =  'INVALID: BOUVET ISLAND (ANTARCTICA/NORWAY TERR.)'\\n\",\n",
       " \"   574 =  'INVALID: CANADA'\\n\",\n",
       " \"   720 =  'INVALID: CANTON AND ENDERBURY ISLS' \\n\",\n",
       " \"   106 =  'INVALID: CZECHOSLOVAKIA'\\n\",\n",
       " \"   739 =  'INVALID: DRONNING MAUD LAND (ANTARCTICA-NORWAY)' \\n\",\n",
       " \"   394 =  'INVALID: FRENCH SOUTHERN AND ANTARCTIC'\\n\",\n",
       " \"   501 =  'INVALID: GREENLAND'\\n\",\n",
       " \"   404 =  'INVALID: GUAM'\\n\",\n",
       " \"   730 =  'INVALID: INTERNATIONAL WATERS' \\n\",\n",
       " \"   731 =  'INVALID: JOHNSON ISLAND' \\n\",\n",
       " \"   471 =  'INVALID: MARIANA ISLANDS, NORTHERN'\\n\",\n",
       " \"   737 =  'INVALID: MIDWAY ISLANDS' \\n\",\n",
       " \"   753 =  'INVALID: MINOR OUTLYING ISLANDS - USA'\\n\",\n",
       " \"   740 =  'INVALID: NEUTRAL ZONE (S. ARABIA/IRAQ)' \\n\",\n",
       " \"   710 =  'INVALID: NON-QUOTA IMMIGRANT'\\n\",\n",
       " \"   505 =  'INVALID: PUERTO RICO'\\n\",\n",
       " \"    0  =  'INVALID: STATELESS'\\n\",\n",
       " \"   705 =  'INVALID: STATELESS'\\n\",\n",
       " \"   583 =  'INVALID: UNITED STATES'\\n\",\n",
       " \"   407 =  'INVALID: UNITED STATES'\\n\",\n",
       " \"   999 =  'INVALID: UNKNOWN'\\n\",\n",
       " \"   239 =  'INVALID: UNKNOWN COUNTRY'\\n\",\n",
       " \"   134 =  'INVALID: USSR'\\n\",\n",
       " \"   506 =  'INVALID: U.S. VIRGIN ISLANDS'\\n\",\n",
       " \"   755 =  'INVALID: WAKE ISLAND'  \\n\",\n",
       " \"   311 =  'Collapsed Tanzania (should not show)'\\n\",\n",
       " \"   741 =  'Collapsed Curacao (should not show)'\\n\",\n",
       " \"    54 =  'No Country Code (54)'\\n\",\n",
       " \"   100 =  'No Country Code (100)'\\n\",\n",
       " \"   187 =  'No Country Code (187)'\\n\",\n",
       " \"   190 =  'No Country Code (190)'\\n\",\n",
       " \"   200 =  'No Country Code (200)'\\n\",\n",
       " \"   219 =  'No Country Code (219)'\\n\",\n",
       " \"   238 =  'No Country Code (238)'\\n\",\n",
       " \"   277 =  'No Country Code (277)'\\n\",\n",
       " \"   293 =  'No Country Code (293)'\\n\",\n",
       " \"   300 =  'No Country Code (300)'\\n\",\n",
       " \"   319 =  'No Country Code (319)'\\n\",\n",
       " \"   365 =  'No Country Code (365)'\\n\",\n",
       " \"   395 =  'No Country Code (395)'\\n\",\n",
       " \"   400 =  'No Country Code (400)'\\n\",\n",
       " \"   485 =  'No Country Code (485)'\\n\",\n",
       " \"   503 =  'No Country Code (503)'\\n\",\n",
       " \"   589 =  'No Country Code (589)'\\n\",\n",
       " \"   592 =  'No Country Code (592)'\\n\",\n",
       " \"   791 =  'No Country Code (791)'\\n\",\n",
       " \"   849 =  'No Country Code (849)'\\n\",\n",
       " \"   914 =  'No Country Code (914)'\\n\",\n",
       " \"   944 =  'No Country Code (944)'\\n\",\n",
       " \"   996 =  'No Country Code (996)' ;\\n\",\n",
       " '\\n',\n",
       " '\\n',\n",
       " '/* I94PORT - This format shows all the valid and invalid codes for processing */\\n',\n",
       " '  value $i94prtl\\n',\n",
       " \"   'ALC'\\t=\\t'ALCAN, AK             '\\n\",\n",
       " \"   'ANC'\\t=\\t'ANCHORAGE, AK         '\\n\",\n",
       " \"   'BAR'\\t=\\t'BAKER AAF - BAKER ISLAND, AK'\\n\",\n",
       " \"   'DAC'\\t=\\t'DALTONS CACHE, AK     '\\n\",\n",
       " \"   'PIZ'\\t=\\t'DEW STATION PT LAY DEW, AK'\\n\",\n",
       " \"   'DTH'\\t=\\t'DUTCH HARBOR, AK      '\\n\",\n",
       " \"   'EGL'\\t=\\t'EAGLE, AK             '\\n\",\n",
       " \"   'FRB'\\t=\\t'FAIRBANKS, AK         '\\n\",\n",
       " \"   'HOM'\\t=\\t'HOMER, AK             '           \\n\",\n",
       " \"   'HYD'\\t=\\t'HYDER, AK             '\\n\",\n",
       " \"   'JUN'\\t=\\t'JUNEAU, AK            '\\n\",\n",
       " \"   '5KE'\\t=\\t'KETCHIKAN, AK'\\n\",\n",
       " \"   'KET'\\t=\\t'KETCHIKAN, AK         '\\n\",\n",
       " \"   'MOS'\\t=\\t'MOSES POINT INTERMEDIATE, AK'\\n\",\n",
       " \"   'NIK'\\t=\\t'NIKISKI, AK           '\\n\",\n",
       " \"   'NOM'\\t=\\t'NOM, AK               '\\n\",\n",
       " \"   'PKC'\\t=\\t'POKER CREEK, AK       '\\n\",\n",
       " \"   'ORI'\\t=\\t'PORT LIONS SPB, AK'\\n\",\n",
       " \"   'SKA'\\t=\\t'SKAGWAY, AK           '\\n\",\n",
       " \"   'SNP'\\t=\\t'ST. PAUL ISLAND, AK'\\n\",\n",
       " \"   'TKI'\\t=\\t'TOKEEN, AK'\\n\",\n",
       " \"   'WRA'\\t=\\t'WRANGELL, AK          '\\n\",\n",
       " \"   'HSV'\\t=\\t'MADISON COUNTY - HUNTSVILLE, AL'\\n\",\n",
       " \"   'MOB'\\t=\\t'MOBILE, AL            '\\n\",\n",
       " \"   'LIA'\\t=\\t'LITTLE ROCK, AR (BPS)'\\n\",\n",
       " \"   'ROG'\\t=\\t'ROGERS ARPT, AR'\\n\",\n",
       " \"   'DOU'\\t=\\t'DOUGLAS, AZ           '\\n\",\n",
       " \"   'LUK'\\t=\\t'LUKEVILLE, AZ         '\\n\",\n",
       " \"   'MAP'\\t=\\t'MARIPOSA AZ           '\\n\",\n",
       " \"   'NAC'\\t=\\t'NACO, AZ              '\\n\",\n",
       " \"   'NOG'\\t=\\t'NOGALES, AZ           '\\n\",\n",
       " \"   'PHO'\\t=\\t'PHOENIX, AZ           '\\n\",\n",
       " \"   'POR'\\t=\\t'PORTAL, AZ'\\n\",\n",
       " \"   'SLU'\\t=\\t'SAN LUIS, AZ          '\\n\",\n",
       " \"   'SAS'\\t=\\t'SASABE, AZ            '\\n\",\n",
       " \"   'TUC'\\t=\\t'TUCSON, AZ            '\\n\",\n",
       " \"   'YUI'\\t=\\t'YUMA, AZ              ' \\n\",\n",
       " \"   'AND'\\t=\\t'ANDRADE, CA           '\\n\",\n",
       " \"   'BUR'\\t=\\t'BURBANK, CA'\\n\",\n",
       " \"   'CAL'\\t=\\t'CALEXICO, CA          '\\n\",\n",
       " \"   'CAO'\\t=\\t'CAMPO, CA             ' \\n\",\n",
       " \"   'FRE'\\t=\\t'FRESNO, CA            '\\n\",\n",
       " \"   'ICP'\\t=\\t'IMPERIAL COUNTY, CA   '\\n\",\n",
       " \"   'LNB'\\t=\\t'LONG BEACH, CA         '\\n\",\n",
       " \"   'LOS'\\t=\\t'LOS ANGELES, CA       '\\n\",\n",
       " \"   'BFL'\\t=\\t'MEADOWS FIELD - BAKERSFIELD, CA'\\n\",\n",
       " \"   'OAK'\\t=\\t'OAKLAND, CA ' \\n\",\n",
       " \"   'ONT'\\t=\\t'ONTARIO, CA'\\n\",\n",
       " \"   'OTM'\\t=\\t'OTAY MESA, CA          '\\n\",\n",
       " \"   'BLT'\\t=\\t'PACIFIC, HWY. STATION, CA '\\n\",\n",
       " \"   'PSP'\\t=\\t'PALM SPRINGS, CA'\\n\",\n",
       " \"   'SAC'\\t=\\t'SACRAMENTO, CA        '\\n\",\n",
       " \"   'SLS'\\t=\\t'SALINAS, CA (BPS)'\\n\",\n",
       " \"   'SDP'\\t=\\t'SAN DIEGO, CA'\\n\",\n",
       " \"   'SFR'\\t=\\t'SAN FRANCISCO, CA     '\\n\",\n",
       " \"   'SNJ'\\t=\\t'SAN JOSE, CA          '\\n\",\n",
       " \"   'SLO'\\t=\\t'SAN LUIS OBISPO, CA   '\\n\",\n",
       " \"   'SLI'\\t=\\t'SAN LUIS OBISPO, CA (BPS)'\\n\",\n",
       " \"   'SPC'\\t=\\t'SAN PEDRO, CA         '\\n\",\n",
       " \"   'SYS'\\t=\\t'SAN YSIDRO, CA        '\\n\",\n",
       " \"   'SAA'\\t=\\t'SANTA ANA, CA         '\\n\",\n",
       " \"   'STO'\\t=\\t'STOCKTON, CA (BPS)'\\n\",\n",
       " \"   'TEC'\\t=\\t'TECATE, CA            '\\n\",\n",
       " \"   'TRV'\\t=\\t'TRAVIS-AFB, CA        '\\n\",\n",
       " \"   'APA'\\t=\\t'ARAPAHOE COUNTY, CO'\\n\",\n",
       " \"   'ASE'\\t=\\t'ASPEN, CO #ARPT'\\n\",\n",
       " \"   'COS'\\t=\\t'COLORADO SPRINGS, CO'\\n\",\n",
       " \"   'DEN'\\t=\\t'DENVER, CO            '\\n\",\n",
       " \"   'DRO'\\t=\\t'LA PLATA - DURANGO, CO'\\n\",\n",
       " \"   'BDL'\\t=\\t'BRADLEY INTERNATIONAL, CT'\\n\",\n",
       " \"   'BGC'\\t=\\t'BRIDGEPORT, CT        '\\n\",\n",
       " \"   'GRT'\\t=\\t'GROTON, CT            '\\n\",\n",
       " \"   'HAR'\\t=\\t'HARTFORD, CT          '\\n\",\n",
       " \"   'NWH'\\t=\\t'NEW HAVEN, CT         '\\n\",\n",
       " \"   'NWL'\\t=\\t'NEW LONDON, CT        '\\n\",\n",
       " \"   'TST'\\t=\\t'NEWINGTON DATA CENTER TEST, CT'\\n\",\n",
       " \"   'WAS'\\t=\\t'WASHINGTON DC         '\\n\",\n",
       " \"   'DOV'\\t=\\t'DOVER AFB, DE'\\n\",\n",
       " \"   'DVD'\\t=\\t'DOVER-AFB, DE         '\\n\",\n",
       " \"   'WLL'\\t=\\t'WILMINGTON, DE        '\\n\",\n",
       " \"   'BOC'\\t=\\t'BOCAGRANDE, FL        '\\n\",\n",
       " \"   'SRQ'\\t=\\t'BRADENTON - SARASOTA, FL'\\n\",\n",
       " \"   'CAN'\\t=\\t'CAPE CANAVERAL, FL    '\\n\",\n",
       " \"   'DAB'\\t=\\t'DAYTONA BEACH INTERNATIONAL, FL'\\n\",\n",
       " \"   'FRN'\\t=\\t'FERNANDINA, FL        '\\n\",\n",
       " \"   'FTL'\\t=\\t'FORT LAUDERDALE, FL   '\\n\",\n",
       " \"   'FMY'\\t=\\t'FORT MYERS, FL        '\\n\",\n",
       " \"   'FPF'\\t=\\t'FORT PIERCE, FL       '\\n\",\n",
       " \"   'HUR'\\t=\\t'HURLBURT FIELD, FL'\\n\",\n",
       " \"   'GNV'\\t=\\t'J R ALISON MUNI - GAINESVILLE, FL'\\n\",\n",
       " \"   'JAC'\\t=\\t'JACKSONVILLE, FL      '\\n\",\n",
       " \"   'KEY'\\t=\\t'KEY WEST, FL          '\\n\",\n",
       " \"   'LEE'\\t=\\t'LEESBURG MUNICIPAL AIRPORT, FL'\\n\",\n",
       " \"   'MLB'\\t=\\t'MELBOURNE, FL'\\n\",\n",
       " \"   'MIA'\\t=\\t'MIAMI, FL             '\\n\",\n",
       " \"   'APF'\\t=\\t'NAPLES, FL #ARPT'\\n\",\n",
       " \"   'OPF'\\t=\\t'OPA LOCKA, FL'\\n\",\n",
       " \"   'ORL'\\t=\\t'ORLANDO, FL           '\\n\",\n",
       " \"   'PAN'\\t=\\t'PANAMA CITY, FL       '\\n\",\n",
       " \"   'PEN'\\t=\\t'PENSACOLA, FL         '\\n\",\n",
       " \"   'PCF'\\t=\\t'PORT CANAVERAL, FL    '\\n\",\n",
       " \"   'PEV'\\t=\\t'PORT EVERGLADES, FL   '\\n\",\n",
       " \"   'PSJ'\\t=\\t'PORT ST JOE, FL       '\\n\",\n",
       " \"   'SFB'\\t=\\t'SANFORD, FL           '\\n\",\n",
       " \"   'SGJ'\\t=\\t'ST AUGUSTINE ARPT, FL'\\n\",\n",
       " \"   'SAU'\\t=\\t'ST AUGUSTINE, FL      '\\n\",\n",
       " \"   'FPR'\\t=\\t'ST LUCIE COUNTY, FL'\\n\",\n",
       " \"   'SPE'\\t=\\t'ST PETERSBURG, FL     '\\n\",\n",
       " \"   'TAM'\\t=\\t'TAMPA, FL             '\\n\",\n",
       " \"   'WPB'\\t=\\t'WEST PALM BEACH, FL   '\\n\",\n",
       " \"   'ATL'\\t=\\t'ATLANTA, GA           '\\n\",\n",
       " \"   'BRU'\\t=\\t'BRUNSWICK, GA         '\\n\",\n",
       " \"   'AGS'\\t=\\t'BUSH FIELD - AUGUSTA, GA'\\n\",\n",
       " \"   'SAV'\\t=\\t'SAVANNAH, GA          '\\n\",\n",
       " \"   'AGA'\\t=\\t'AGANA, GU             '\\n\",\n",
       " \"   'HHW'\\t=\\t'HONOLULU, HI          '\\n\",\n",
       " \"   'OGG'\\t=\\t'KAHULUI - MAUI, HI'\\n\",\n",
       " \"   'KOA'\\t=\\t'KEAHOLE-KONA, HI      '\\n\",\n",
       " \"   'LIH'\\t=\\t'LIHUE, HI             '\\n\",\n",
       " \"   'CID'\\t=\\t'CEDAR RAPIDS/IOWA CITY, IA'\\n\",\n",
       " \"   'DSM'\\t=\\t'DES MOINES, IA'\\n\",\n",
       " \"   'BOI'\\t=\\t'AIR TERM. (GOWEN FLD) BOISE, ID'\\n\",\n",
       " \"   'EPI'\\t=\\t'EASTPORT, ID          '\\n\",\n",
       " \"   'IDA'\\t=\\t'FANNING FIELD - IDAHO FALLS, ID'\\n\",\n",
       " \"   'PTL'\\t=\\t'PORTHILL, ID          '\\n\",\n",
       " \"   'SPI'\\t=\\t'CAPITAL - SPRINGFIELD, IL'\\n\",\n",
       " \"   'CHI'\\t=\\t'CHICAGO, IL           '\\n\",\n",
       " \"   'DPA'\\t=\\t'DUPAGE COUNTY, IL'\\n\",\n",
       " \"   'PIA'\\t=\\t'GREATER PEORIA, IL'\\n\",\n",
       " \"   'RFD'\\t=\\t'GREATER ROCKFORD, IL'\\n\",\n",
       " \"   'UGN'\\t=\\t'MEMORIAL - WAUKEGAN, IL'\\n\",\n",
       " \"   'GAR'\\t=\\t'GARY, IN              '\\n\",\n",
       " \"   'HMM'\\t=\\t'HAMMOND, IN           '\\n\",\n",
       " \"   'INP'\\t=\\t'INDIANAPOLIS, IN      '\\n\",\n",
       " \"   'MRL'\\t=\\t'MERRILLVILLE, IN      '\\n\",\n",
       " \"   'SBN'\\t=\\t'SOUTH BEND, IN'\\n\",\n",
       " \"   'ICT'\\t=\\t'MID-CONTINENT - WITCHITA, KS'\\n\",\n",
       " \"   'LEX'\\t=\\t'BLUE GRASS - LEXINGTON, KY'\\n\",\n",
       " \"   'LOU'\\t=\\t'LOUISVILLE, KY        '\\n\",\n",
       " \"   'BTN'\\t=\\t'BATON ROUGE, LA       '\\n\",\n",
       " \"   'LKC'\\t=\\t'LAKE CHARLES, LA      '\\n\",\n",
       " \"   'LAK'\\t=\\t'LAKE CHARLES, LA (BPS)'\\n\",\n",
       " \"   'MLU'\\t=\\t'MONROE, LA'\\n\",\n",
       " \"   'MGC'\\t=\\t'MORGAN CITY, LA       '\\n\",\n",
       " \"   'NOL'\\t=\\t'NEW ORLEANS, LA       '\\n\",\n",
       " \"   'BOS'\\t=\\t'BOSTON, MA            '\\n\",\n",
       " \"   'GLO'\\t=\\t'GLOUCESTER, MA        '\\n\",\n",
       " \"   'BED'\\t=\\t'HANSCOM FIELD - BEDFORD, MA'\\n\",\n",
       " \"   'LYN'\\t=\\t'LYNDEN, WA            '\\n\",\n",
       " \"   'ADW'\\t=\\t'ANDREWS AFB, MD'\\n\",\n",
       " \"   'BAL'\\t=\\t'BALTIMORE, MD         '\\n\",\n",
       " \"   'MKG'\\t=\\t'MUSKEGON, MD'\\n\",\n",
       " \"   'PAX'\\t=\\t'PATUXENT RIVER, MD    '\\n\",\n",
       " \"   'BGM'\\t=\\t'BANGOR, ME            '\\n\",\n",
       " \"   'BOO'\\t=\\t'BOOTHBAY HARBOR, ME   '\\n\",\n",
       " \"   'BWM'\\t=\\t'BRIDGEWATER, ME       '\\n\",\n",
       " \"   'BCK'\\t=\\t'BUCKPORT, ME          '\\n\",\n",
       " \"   'CLS'\\t=\\t'CALAIS, ME   '\\n\",\n",
       " \"   'CRB'\\t=\\t'CARIBOU, ME           '\\n\",\n",
       " \"   'COB'\\t=\\t'COBURN GORE, ME       '\\n\",\n",
       " \"   'EST'\\t=\\t'EASTCOURT, ME         '\\n\",\n",
       " \"   'EPT'\\t=\\t'EASTPORT MUNICIPAL, ME'\\n\",\n",
       " \"   'EPM'\\t=\\t'EASTPORT, ME          '\\n\",\n",
       " \"   'FOR'\\t=\\t'FOREST CITY, ME       '\\n\",\n",
       " \"   'FTF'\\t=\\t'FORT FAIRFIELD, ME    '\\n\",\n",
       " \"   'FTK'\\t=\\t'FORT KENT, ME         '\\n\",\n",
       " \"   'HML'\\t=\\t'HAMIIN, ME            '\\n\",\n",
       " \"   'HTM'\\t=\\t'HOULTON, ME           '\\n\",\n",
       " \"   'JKM'\\t=\\t'JACKMAN, ME           '\\n\",\n",
       " \"   'KAL'\\t=\\t'KALISPEL, MT          '\\n\",\n",
       " \"   'LIM'\\t=\\t'LIMESTONE, ME         '\\n\",\n",
       " \"   'LUB'\\t=\\t'LUBEC, ME             '\\n\",\n",
       " \"   'MAD'\\t=\\t'MADAWASKA, ME         '\\n\",\n",
       " \"   'POM'\\t=\\t'PORTLAND, ME          '\\n\",\n",
       " \"   'RGM'\\t=\\t'RANGELEY, ME (BPS)'\\n\",\n",
       " \"   'SBR'\\t=\\t'SOUTH BREWER, ME      '\\n\",\n",
       " \"   'SRL'\\t=\\t'ST AURELIE, ME        '\\n\",\n",
       " \"   'SPA'\\t=\\t'ST PAMPILE, ME        '\\n\",\n",
       " \"   'VNB'\\t=\\t'VAN BUREN, ME         '\\n\",\n",
       " \"   'VCB'\\t=\\t'VANCEBORO, ME         '\\n\",\n",
       " \"   'AGN'\\t=\\t'ALGONAC, MI           '\\n\",\n",
       " \"   'ALP'\\t=\\t'ALPENA, MI            '\\n\",\n",
       " \"   'BCY'\\t=\\t'BAY CITY, MI          '\\n\",\n",
       " \"   'DET'\\t=\\t'DETROIT, MI           '\\n\",\n",
       " \"   'GRP'\\t=\\t'GRAND RAPIDS, MI'\\n\",\n",
       " \"   'GRO'\\t=\\t'GROSSE ISLE, MI       '\\n\",\n",
       " \"   'ISL'\\t=\\t'ISLE ROYALE, MI       '\\n\",\n",
       " \"   'MRC'\\t=\\t'MARINE CITY, MI       '\\n\",\n",
       " \"   'MRY'\\t=\\t'MARYSVILLE, MI        '\\n\",\n",
       " \"   'PTK'\\t=\\t'OAKLAND COUNTY - PONTIAC, MI'\\n\",\n",
       " \"   'PHU'\\t=\\t'PORT HURON, MI        '\\n\",\n",
       " \"   'RBT'\\t=\\t'ROBERTS LANDING, MI   '\\n\",\n",
       " \"   'SAG'\\t=\\t'SAGINAW, MI           '\\n\",\n",
       " \"   'SSM'\\t=\\t'SAULT STE. MARIE, MI  '\\n\",\n",
       " \"   'SCL'\\t=\\t'ST CLAIR, MI          '\\n\",\n",
       " \"   'YIP'\\t=\\t'WILLOW RUN - YPSILANTI, MI'\\n\",\n",
       " \"   'BAU'\\t=\\t'BAUDETTE, MN          '\\n\",\n",
       " \"   'CAR'\\t=\\t'CARIBOU MUNICIPAL AIRPORT, MN'\\n\",\n",
       " \"   'GTF'\\t=\\t'Collapsed into INT, MN'\\n\",\n",
       " \"   'INL'\\t=\\t'Collapsed into INT, MN'\\n\",\n",
       " \"   'CRA'\\t=\\t'CRANE LAKE, MN        '\\n\",\n",
       " \"   'MIC'\\t=\\t'CRYSTAL MUNICIPAL AIRPORT, MN'\\n\",\n",
       " \"   'DUL'\\t=\\t'DULUTH, MN            '\\n\",\n",
       " \"   'ELY'\\t=\\t'ELY, MN               '\\n\",\n",
       " \"   'GPM'\\t=\\t'GRAND PORTAGE, MN     '\\n\",\n",
       " \"   'SVC'\\t=\\t'GRANT COUNTY - SILVER CITY, MN'\\n\",\n",
       " \"   'INT'\\t=\\t'INT''L FALLS, MN      '\\n\",\n",
       " \"   'LAN'\\t=\\t'LANCASTER, MN         '\\n\",\n",
       " \"   'MSP'\\t=\\t'MINN./ST PAUL, MN     '\\n\",\n",
       " \"   'LIN'\\t=\\t'NORTHERN SVC CENTER, MN   '\\n\",\n",
       " \"   'NOY'\\t=\\t'NOYES, MN             '\\n\",\n",
       " \"   'PIN'\\t=\\t'PINE CREEK, MN        '\\n\",\n",
       " \"   '48Y'\\t=\\t'PINECREEK BORDER ARPT, MN'\\n\",\n",
       " \"   'RAN'\\t=\\t'RAINER, MN            '\\n\",\n",
       " \"   'RST'\\t=\\t'ROCHESTER, MN'\\n\",\n",
       " \"   'ROS'\\t=\\t'ROSEAU, MN            '\\n\",\n",
       " \"   'SPM'\\t=\\t'ST PAUL, MN           '\\n\",\n",
       " \"   'WSB'\\t=\\t'WARROAD INTL, SPB, MN'\\n\",\n",
       " \"   'WAR'\\t=\\t'WARROAD, MN           '\\n\",\n",
       " \"   'KAN'\\t=\\t'KANSAS CITY, MO       '\\n\",\n",
       " \"   'SGF'\\t=\\t'SPRINGFIELD-BRANSON, MO'\\n\",\n",
       " \"   'STL'\\t=\\t'ST LOUIS, MO          '\\n\",\n",
       " \"   'WHI'\\t=\\t'WHITETAIL, MT         '\\n\",\n",
       " \"   'WHM'\\t=\\t'WILD HORSE, MT        '\\n\",\n",
       " \"   'GPT'\\t=\\t'BILOXI REGIONAL, MS'\\n\",\n",
       " \"   'GTR'\\t=\\t'GOLDEN TRIANGLE LOWNDES CNTY, MS'\\n\",\n",
       " \"   'GUL'\\t=\\t'GULFPORT, MS          '\\n\",\n",
       " \"   'PAS'\\t=\\t'PASCAGOULA, MS        '\\n\",\n",
       " \"   'JAN'\\t=\\t'THOMPSON FIELD - JACKSON, MS'\\n\",\n",
       " \"   'BIL'\\t=\\t'BILLINGS, MT          '\\n\",\n",
       " \"   'BTM'\\t=\\t'BUTTE, MT             '\\n\",\n",
       " \"   'CHF'\\t=\\t'CHIEF MT, MT          '\\n\",\n",
       " \"   'CTB'\\t=\\t'CUT BANK MUNICIPAL, MT'\\n\",\n",
       " \"   'CUT'\\t=\\t'CUT BANK, MT          '\\n\",\n",
       " \"   'DLB'\\t=\\t'DEL BONITA, MT        '\\n\",\n",
       " \"   'EUR'\\t=\\t'EUREKA, MT (BPS)'\\n\",\n",
       " \"   'BZN'\\t=\\t'GALLATIN FIELD - BOZEMAN, MT'\\n\",\n",
       " \"   'FCA'\\t=\\t'GLACIER NATIONAL PARK, MT'\\n\",\n",
       " \"   'GGW'\\t=\\t'GLASGOW, MT           '\\n\",\n",
       " \"   'GRE'\\t=\\t'GREAT FALLS, MT       '\\n\",\n",
       " \"   'HVR'\\t=\\t'HAVRE, MT             '\\n\",\n",
       " \"   'HEL'\\t=\\t'HELENA, MT            '\\n\",\n",
       " \"   'LWT'\\t=\\t'LEWISTON, MT          '\\n\",\n",
       " \"   'MGM'\\t=\\t'MORGAN, MT            '\\n\",\n",
       " \"   'OPH'\\t=\\t'OPHEIM, MT            '\\n\",\n",
       " \"   'PIE'\\t=\\t'PIEGAN, MT            '\\n\",\n",
       " \"   'RAY'\\t=\\t'RAYMOND, MT           '\\n\",\n",
       " \"   'ROO'\\t=\\t'ROOSVILLE, MT         '\\n\",\n",
       " \"   'SCO'\\t=\\t'SCOBEY, MT            '\\n\",\n",
       " \"   'SWE'\\t=\\t'SWEETGTASS, MT        '\\n\",\n",
       " \"   'TRL'\\t=\\t'TRIAL CREEK, MT       '\\n\",\n",
       " \"   'TUR'\\t=\\t'TURNER, MT            '\\n\",\n",
       " \"   'WCM'\\t=\\t'WILLOW CREEK, MT      '\\n\",\n",
       " \"   'CLT'\\t=\\t'CHARLOTTE, NC         '\\n\",\n",
       " \"   'FAY'\\t=\\t'FAYETTEVILLE, NC'\\n\",\n",
       " \"   'MRH'\\t=\\t'MOREHEAD CITY, NC     '\\n\",\n",
       " \"   'FOP'\\t=\\t'MORRIS FIELDS AAF, NC'\\n\",\n",
       " \"   'GSO'\\t=\\t'PIEDMONT TRIAD INTL AIRPORT, NC'\\n\",\n",
       " \"   'RDU'\\t=\\t'RALEIGH/DURHAM, NC    '\\n\",\n",
       " \"   'SSC'\\t=\\t'SHAW AFB - SUMTER, NC'\\n\",\n",
       " \"   'WIL'\\t=\\t'WILMINGTON, NC        '\\n\",\n",
       " \"   'AMB'\\t=\\t'AMBROSE, ND           '\\n\",\n",
       " \"   'ANT'\\t=\\t'ANTLER, ND            '\\n\",\n",
       " \"   'CRY'\\t=\\t'CARBURY, ND           '\\n\",\n",
       " \"   'DNS'\\t=\\t'DUNSEITH, ND          '\\n\",\n",
       " \"   'FAR'\\t=\\t'FARGO, ND             '\\n\",\n",
       " \"   'FRT'\\t=\\t'FORTUNA, ND           '\\n\",\n",
       " \"   'GRF'\\t=\\t'GRAND FORKS, ND       '\\n\",\n",
       " \"   'HNN'\\t=\\t'HANNAH, ND            '\\n\",\n",
       " \"   'HNS'\\t=\\t'HANSBORO, ND          '\\n\",\n",
       " \"   'MAI'\\t=\\t'MAIDA, ND             '\\n\",\n",
       " \"   'MND'\\t=\\t'MINOT, ND             '\\n\",\n",
       " \"   'NEC'\\t=\\t'NECHE, ND             '\\n\",\n",
       " \"   'NOO'\\t=\\t'NOONAN, ND            '\\n\",\n",
       " \"   'NRG'\\t=\\t'NORTHGATE, ND         '\\n\",\n",
       " \"   'PEM'\\t=\\t'PEMBINA, ND           '\\n\",\n",
       " \"   'SAR'\\t=\\t'SARLES, ND            '\\n\",\n",
       " \"   'SHR'\\t=\\t'SHERWOOD, ND          '\\n\",\n",
       " \"   'SJO'\\t=\\t'ST JOHN, ND           '\\n\",\n",
       " \"   'WAL'\\t=\\t'WALHALLA, ND          '\\n\",\n",
       " \"   'WHO'\\t=\\t'WESTHOPE, ND          '\\n\",\n",
       " \"   'WND'\\t=\\t'WILLISTON, ND         '\\n\",\n",
       " \"   'OMA'\\t=\\t'OMAHA, NE             '\\n\",\n",
       " \"   'LEB'\\t=\\t'LEBANON, NH           '\\n\",\n",
       " \"   'MHT'\\t=\\t'MANCHESTER, NH'\\n\",\n",
       " \"   'PNH'\\t=\\t'PITTSBURG, NH         '\\n\",\n",
       " \"   'PSM'\\t=\\t'PORTSMOUTH, NH        '\\n\",\n",
       " \"   'BYO'\\t=\\t'BAYONNE, NJ           '\\n\",\n",
       " \"   'CNJ'\\t=\\t'CAMDEN, NJ            '\\n\",\n",
       " \"   'HOB'\\t=\\t'HOBOKEN, NJ           '\\n\",\n",
       " \"   'JER'\\t=\\t'JERSEY CITY, NJ       '\\n\",\n",
       " \"   'WRI'\\t=\\t'MC GUIRE AFB - WRIGHTSOWN, NJ'\\n\",\n",
       " \"   'MMU'\\t=\\t'MORRISTOWN, NJ'\\n\",\n",
       " \"   'NEW'\\t=\\t'NEWARK/TETERBORO, NJ  '\\n\",\n",
       " \"   'PER'\\t=\\t'PERTH AMBOY, NJ       '\\n\",\n",
       " \"   'ACY'\\t=\\t'POMONA FIELD - ATLANTIC CITY, NJ'\\n\",\n",
       " \"   'ALA'\\t=\\t'ALAMAGORDO, NM (BPS)'\\n\",\n",
       " \"   'ABQ'\\t=\\t'ALBUQUERQUE, NM       '\\n\",\n",
       " \"   'ANP'\\t=\\t'ANTELOPE WELLS, NM    '\\n\",\n",
       " \"   'CRL'\\t=\\t'CARLSBAD, NM          '\\n\",\n",
       " \"   'COL'\\t=\\t'COLUMBUS, NM          '\\n\",\n",
       " \"   'CDD'\\t=\\t'CRANE LAKE - ST. LOUIS CNTY, NM'\\n\",\n",
       " \"   'DNM'\\t=\\t'DEMING, NM (BPS)'\\n\",\n",
       " \"   'LAS'\\t=\\t'LAS CRUCES, NM        '\\n\",\n",
       " \"   'LOB'\\t=\\t'LORDSBURG, NM (BPS)'\\n\",\n",
       " \"   'RUI'\\t=\\t'RUIDOSO, NM'\\n\",\n",
       " \"   'STR'\\t=\\t'SANTA TERESA, NM      '\\n\",\n",
       " \"   'RNO'\\t=\\t'CANNON INTL - RENO/TAHOE, NV'\\n\",\n",
       " \"   'FLX'\\t=\\t'FALLON MUNICIPAL AIRPORT, NV'\\n\",\n",
       " \"   'LVG'\\t=\\t'LAS VEGAS, NV         '\\n\",\n",
       " \"   'REN'\\t=\\t'RENO, NV              '\\n\",\n",
       " \"   'ALB'\\t=\\t'ALBANY, NY            '\\n\",\n",
       " \"   'AXB'\\t=\\t'ALEXANDRIA BAY, NY    '\\n\",\n",
       " \"   'BUF'\\t=\\t'BUFFALO, NY           '\\n\",\n",
       " \"   'CNH'\\t=\\t'CANNON CORNERS, NY'\\n\",\n",
       " \"   'CAP'\\t=\\t'CAPE VINCENT, NY      '\\n\",\n",
       " \"   'CHM'\\t=\\t'CHAMPLAIN, NY         '\\n\",\n",
       " \"   'CHT'\\t=\\t'CHATEAUGAY, NY        '\\n\",\n",
       " \"   'CLA'\\t=\\t'CLAYTON, NY           '\\n\",\n",
       " \"   'FTC'\\t=\\t'FORT COVINGTON, NY    '\\n\",\n",
       " \"   'LAG'\\t=\\t'LA GUARDIA, NY        '\\n\",\n",
       " \"   'LEW'\\t=\\t'LEWISTON, NY          '\\n\",\n",
       " \"   'MAS'\\t=\\t'MASSENA, NY           '\\n\",\n",
       " \"   'MAG'\\t=\\t'MCGUIRE AFB, NY       '\\n\",\n",
       " \"   'MOO'\\t=\\t'MOORES, NY            '\\n\",\n",
       " \"   'MRR'\\t=\\t'MORRISTOWN, NY        '\\n\",\n",
       " \"   'NYC'\\t=\\t'NEW YORK, NY          '\\n\",\n",
       " \"   'NIA'\\t=\\t'NIAGARA FALLS, NY     '\\n\",\n",
       " \"   'OGD'\\t=\\t'OGDENSBURG, NY        '\\n\",\n",
       " \"   'OSW'\\t=\\t'OSWEGO, NY            '\\n\",\n",
       " \"   'ELM'\\t=\\t'REGIONAL ARPT - HORSEHEAD, NY'\\n\",\n",
       " \"   'ROC'\\t=\\t'ROCHESTER, NY         '\\n\",\n",
       " \"   'ROU'\\t=\\t'ROUSES POINT, NY      '\\n\",\n",
       " \"   'SWF'\\t=\\t'STEWART - ORANGE CNTY, NY'\\n\",\n",
       " \"   'SYR'\\t=\\t'SYRACUSE, NY          '\\n\",\n",
       " \"   'THO'\\t=\\t'THOUSAND ISLAND BRIDGE, NY'\\n\",\n",
       " \"   'TRO'\\t=\\t'TROUT RIVER, NY       '\\n\",\n",
       " \"   'WAT'\\t=\\t'WATERTOWN, NY         '\\n\",\n",
       " \"   'HPN'\\t=\\t'WESTCHESTER - WHITE PLAINS, NY'\\n\",\n",
       " \"   'WRB'\\t=\\t'WHIRLPOOL BRIDGE, NY'\\n\",\n",
       " \"   'YOU'\\t=\\t'YOUNGSTOWN, NY        '\\n\",\n",
       " \"   'AKR'\\t=\\t'AKRON, OH             '\\n\",\n",
       " \"   'ATB'\\t=\\t'ASHTABULA, OH         '\\n\",\n",
       " \"   'CIN'\\t=\\t'CINCINNATI, OH        '\\n\",\n",
       " \"   'CLE'\\t=\\t'CLEVELAND, OH         '\\n\",\n",
       " \"   'CLM'\\t=\\t'COLUMBUS, OH          '\\n\",\n",
       " \"   'LOR'\\t=\\t'LORAIN, OH            '\\n\",\n",
       " \"   'MBO'\\t=\\t'MARBLE HEADS, OH      '\\n\",\n",
       " \"   'SDY'\\t=\\t'SANDUSKY, OH          '\\n\",\n",
       " \"   'TOL'\\t=\\t'TOLEDO, OH            '\\n\",\n",
       " \"   'OKC'\\t=\\t'OKLAHOMA CITY, OK     '\\n\",\n",
       " \"   'TUL'\\t=\\t'TULSA, OK'\\n\",\n",
       " \"   'AST'\\t=\\t'ASTORIA, OR           '\\n\",\n",
       " \"   'COO'\\t=\\t'COOS BAY, OR          '\\n\",\n",
       " \"   'HIO'\\t=\\t'HILLSBORO, OR'\\n\",\n",
       " \"   'MED'\\t=\\t'MEDFORD, OR           '\\n\",\n",
       " \"   'NPT'\\t=\\t'NEWPORT, OR           '\\n\",\n",
       " \"   'POO'\\t=\\t'PORTLAND, OR          '\\n\",\n",
       " \"   'PUT'\\t=\\t'PUT-IN-BAY, OH        '\\n\",\n",
       " \"   'RDM'\\t=\\t'ROBERTS FIELDS - REDMOND, OR'\\n\",\n",
       " \"   'ERI'\\t=\\t'ERIE, PA              '\\n\",\n",
       " \"   'MDT'\\t=\\t'HARRISBURG, PA'\\n\",\n",
       " \"   'HSB'\\t=\\t'HARRISONBURG, PA      '\\n\",\n",
       " \"   'PHI'\\t=\\t'PHILADELPHIA, PA      '\\n\",\n",
       " \"   'PIT'\\t=\\t'PITTSBURG, PA         '\\n\",\n",
       " \"   'AGU'\\t=\\t'AGUADILLA, PR         '\\n\",\n",
       " \"   'BQN'\\t=\\t'BORINQUEN - AGUADILLO, PR'\\n\",\n",
       " \"   'JCP'\\t=\\t'CULEBRA - BENJAMIN RIVERA, PR'\\n\",\n",
       " \"   'ENS'\\t=\\t'ENSENADA, PR          '\\n\",\n",
       " \"   'FAJ'\\t=\\t'FAJARDO, PR           '\\n\",\n",
       " \"   'HUM'\\t=\\t'HUMACAO, PR           '\\n\",\n",
       " \"   'JOB'\\t=\\t'JOBOS, PR             '\\n\",\n",
       " \"   'MAY'\\t=\\t'MAYAGUEZ, PR          '\\n\",\n",
       " \"   'PON'\\t=\\t'PONCE, PR             '\\n\",\n",
       " \"   'PSE'\\t=\\t'PONCE-MERCEDITA, PR'\\n\",\n",
       " \"   'SAJ'\\t=\\t'SAN JUAN, PR          '\\n\",\n",
       " \"   'VQS'\\t=\\t'VIEQUES-ARPT, PR'\\n\",\n",
       " \"   'PRO'\\t=\\t'PROVIDENCE, RI        '\\n\",\n",
       " \"   'PVD'\\t=\\t'THEODORE FRANCIS - WARWICK, RI'\\n\",\n",
       " \"   'CHL'\\t=\\t'CHARLESTON, SC        '\\n\",\n",
       " \"   'CAE'\\t=\\t'COLUMBIA, SC #ARPT'\\n\",\n",
       " \"   'GEO'\\t=\\t'GEORGETOWN, SC        '\\n\",\n",
       " \"   'GSP'\\t=\\t'GREENVILLE, SC'\\n\",\n",
       " \"   'GRR'\\t=\\t'GREER, SC'\\n\",\n",
       " \"   'MYR'\\t=\\t'MYRTLE BEACH, SC'\\n\",\n",
       " \"   'SPF'\\t=\\t'BLACK HILLS, SPEARFISH, SD'\\n\",\n",
       " \"   'HON'\\t=\\t'HOWES REGIONAL ARPT - HURON, SD'\\n\",\n",
       " \"   'SAI'\\t=\\t'SAIPAN, SPN           '\\n\",\n",
       " \"   'TYS'\\t=\\t'MC GHEE TYSON - ALCOA, TN'\\n\",\n",
       " \"   'MEM'\\t=\\t'MEMPHIS, TN           '\\n\",\n",
       " \"   'NSV'\\t=\\t'NASHVILLE, TN         '\\n\",\n",
       " \"   'TRI'\\t=\\t'TRI CITY ARPT, TN'\\n\",\n",
       " \"   'ADS'\\t=\\t'ADDISON AIRPORT- ADDISON, TX'\\n\",\n",
       " \"   'ADT'\\t=\\t'AMISTAD DAM, TX       '\\n\",\n",
       " \"   'ANZ'\\t=\\t'ANZALDUAS, TX'\\n\",\n",
       " \"   'AUS'\\t=\\t'AUSTIN, TX            '\\n\",\n",
       " \"   'BEA'\\t=\\t'BEAUMONT, TX          '\\n\",\n",
       " \"   'BBP'\\t=\\t'BIG BEND PARK, TX (BPS)'\\n\",\n",
       " \"   'SCC'\\t=\\t'BP SPEC COORD. CTR, TX'\\n\",\n",
       " \"   'BTC'\\t=\\t'BP TACTICAL UNIT, TX  ' \\n\",\n",
       " \"   'BOA'\\t=\\t'BRIDGE OF AMERICAS, TX'\\n\",\n",
       " \"   'BRO'\\t=\\t'BROWNSVILLE, TX       '\\n\",\n",
       " \"   'CRP'\\t=\\t'CORPUS CHRISTI, TX    '\\n\",\n",
       " \"   'DAL'\\t=\\t'DALLAS, TX            '\\n\",\n",
       " \"   'DLR'\\t=\\t'DEL RIO, TX           '\\n\",\n",
       " \"   'DNA'\\t=\\t'DONNA, TX'\\n\",\n",
       " \"   'EGP'\\t=\\t'EAGLE PASS, TX        '\\n\",\n",
       " \"   'ELP'\\t=\\t'EL PASO, TX           '\\n\",\n",
       " \"   'FAB'\\t=\\t'FABENS, TX            '\\n\",\n",
       " \"   'FAL'\\t=\\t'FALCON HEIGHTS, TX    '\\n\",\n",
       " \"   'FTH'\\t=\\t'FORT HANCOCK, TX      '\\n\",\n",
       " \"   'AFW'\\t=\\t'FORT WORTH ALLIANCE, TX'\\n\",\n",
       " \"   'FPT'\\t=\\t'FREEPORT, TX          '\\n\",\n",
       " \"   'GAL'\\t=\\t'GALVESTON, TX         '\\n\",\n",
       " \"   'HLG'\\t=\\t'HARLINGEN, TX         '\\n\",\n",
       " \"   'HID'\\t=\\t'HIDALGO, TX           '\\n\",\n",
       " \"   'HOU'\\t=\\t'HOUSTON, TX           '\\n\",\n",
       " \"   'SGR'\\t=\\t'HULL FIELD, SUGAR LAND ARPT, TX'\\n\",\n",
       " \"   'LLB'\\t=\\t'JUAREZ-LINCOLN BRIDGE, TX'\\n\",\n",
       " \"   'LCB'\\t=\\t'LAREDO COLUMBIA BRIDGE, TX'\\n\",\n",
       " \"   'LRN'\\t=\\t'LAREDO NORTH, TX      '\\n\",\n",
       " \"   'LAR'\\t=\\t'LAREDO, TX            '\\n\",\n",
       " \"   'LSE'\\t=\\t'LOS EBANOS, TX        '\\n\",\n",
       " \"   'IND'\\t=\\t'LOS INDIOS, TX'\\n\",\n",
       " \"   'LOI'\\t=\\t'LOS INDIOS, TX        '\\n\",\n",
       " \"   'MRS'\\t=\\t'MARFA, TX (BPS)'\\n\",\n",
       " \"   'MCA'\\t=\\t'MCALLEN, TX           '\\n\",\n",
       " \"   'MAF'\\t=\\t'ODESSA REGIONAL, TX'\\n\",\n",
       " \"   'PDN'\\t=\\t'PASO DEL NORTE,TX     '\\n\",\n",
       " \"   'PBB'\\t=\\t'PEACE BRIDGE, NY      '\\n\",\n",
       " \"   'PHR'\\t=\\t'PHARR, TX             '\\n\",\n",
       " \"   'PAR'\\t=\\t'PORT ARTHUR, TX       '\\n\",\n",
       " \"   'ISB'\\t=\\t'PORT ISABEL, TX       '\\n\",\n",
       " \"   'POE'\\t=\\t'PORT OF EL PASO, TX   '\\n\",\n",
       " \"   'PRE'\\t=\\t'PRESIDIO, TX          '\\n\",\n",
       " \"   'PGR'\\t=\\t'PROGRESO, TX          '\\n\",\n",
       " \"   'RIO'\\t=\\t'RIO GRANDE CITY, TX   '\\n\",\n",
       " \"   'ROM'\\t=\\t'ROMA, TX              '\\n\",\n",
       " \"   'SNA'\\t=\\t'SAN ANTONIO, TX       '\\n\",\n",
       " \"   'SNN'\\t=\\t'SANDERSON, TX         '\\n\",\n",
       " \"   'VIB'\\t=\\t'VETERAN INTL BRIDGE, TX'\\n\",\n",
       " \"   'YSL'\\t=\\t'YSLETA, TX            '\\n\",\n",
       " \"   'CHA'\\t=\\t'CHARLOTTE AMALIE, VI  '\\n\",\n",
       " \"   'CHR'\\t=\\t'CHRISTIANSTED, VI     '\\n\",\n",
       " \"   'CRU'\\t=\\t'CRUZ BAY, ST JOHN, VI '\\n\",\n",
       " \"   'FRK'\\t=\\t'FREDERIKSTED, VI      '\\n\",\n",
       " \"   'STT'\\t=\\t'ST THOMAS, VI         '\\n\",\n",
       " \"   'LGU'\\t=\\t'CACHE AIRPORT - LOGAN, UT'\\n\",\n",
       " \"   'SLC'\\t=\\t'SALT LAKE CITY, UT    '\\n\",\n",
       " \"   'CHO'\\t=\\t'ALBEMARLE CHARLOTTESVILLE, VA'\\n\",\n",
       " \"   'DAA'\\t=\\t'DAVISON AAF - FAIRFAX CNTY, VA'\\n\",\n",
       " \"   'HOP'\\t=\\t'HOPEWELL, VA          '\\n\",\n",
       " \"   'HEF'\\t=\\t'MANASSAS, VA #ARPT'\\n\",\n",
       " \"   'NWN'\\t=\\t'NEWPORT, VA           '\\n\",\n",
       " \"   'NOR'\\t=\\t'NORFOLK, VA           '\\n\",\n",
       " \"   'RCM'\\t=\\t'RICHMOND, VA          '\\n\",\n",
       " \"   'ABS'\\t=\\t'ALBURG SPRINGS, VT    '\\n\",\n",
       " \"   'ABG'\\t=\\t'ALBURG, VT            '\\n\",\n",
       " \"   'BEB'\\t=\\t'BEEBE PLAIN, VT       '\\n\",\n",
       " \"   'BEE'\\t=\\t'BEECHER FALLS, VT     '\\n\",\n",
       " \"   'BRG'\\t=\\t'BURLINGTON, VT        '\\n\",\n",
       " \"   'CNA'\\t=\\t'CANAAN, VT            '\\n\",\n",
       " \"   'DER'\\t=\\t'DERBY LINE, VT (I-91) '\\n\",\n",
       " \"   'DLV'\\t=\\t'DERBY LINE, VT (RT. 5)'\\n\",\n",
       " \"   'ERC'\\t=\\t'EAST RICHFORD, VT     '\\n\",\n",
       " \"   'HIG'\\t=\\t'HIGHGATE SPRINGS, VT  '\\n\",\n",
       " \"   'MOR'\\t=\\t'MORSES LINE, VT       '\\n\",\n",
       " \"   'NPV'\\t=\\t'NEWPORT, VT           '\\n\",\n",
       " \"   'NRT'\\t=\\t'NORTH TROY, VT        '\\n\",\n",
       " \"   'NRN'\\t=\\t'NORTON, VT            '\\n\",\n",
       " \"   'PIV'\\t=\\t'PINNACLE ROAD, VT     '\\n\",\n",
       " \"   'RIF'\\t=\\t'RICHFORT, VT          '\\n\",\n",
       " \"   'STA'\\t=\\t'ST ALBANS, VT         '\\n\",\n",
       " \"   'SWB'\\t=\\t'SWANTON, VT (BP - SECTOR HQ)'\\n\",\n",
       " \"   'WBE'\\t=\\t'WEST BERKSHIRE, VT    '\\n\",\n",
       " \"   'ABE'\\t=\\t'ABERDEEN, WA          '\\n\",\n",
       " \"   'ANA'\\t=\\t'ANACORTES, WA         '\\n\",\n",
       " \"   'BEL'\\t=\\t'BELLINGHAM, WA        '\\n\",\n",
       " \"   'BLI'\\t=\\t'BELLINGHAM, WASHINGTON #INTL'\\n\",\n",
       " \"   'BLA'\\t=\\t'BLAINE, WA            '\\n\",\n",
       " \"   'BWA'\\t=\\t'BOUNDARY, WA          '\\n\",\n",
       " \"   'CUR'\\t=\\t'CURLEW, WA (BPS)'\\n\",\n",
       " \"   'DVL'\\t=\\t'DANVILLE, WA          '\\n\",\n",
       " \"   'EVE'\\t=\\t'EVERETT, WA           '\\n\",\n",
       " \"   'FER'\\t=\\t'FERRY, WA             '\\n\",\n",
       " \"   'FRI'\\t=\\t'FRIDAY HARBOR, WA     '\\n\",\n",
       " \"   'FWA'\\t=\\t'FRONTIER, WA          '\\n\",\n",
       " \"   'KLM'\\t=\\t'KALAMA, WA            '\\n\",\n",
       " \"   'LAU'\\t=\\t'LAURIER, WA           '\\n\",\n",
       " \"   'LON'\\t=\\t'LONGVIEW, WA          '\\n\",\n",
       " \"   'MET'\\t=\\t'METALINE FALLS, WA    '\\n\",\n",
       " \"   'MWH'\\t=\\t'MOSES LAKE GRANT COUNTY ARPT, WA'\\n\",\n",
       " \"   'NEA'\\t=\\t'NEAH BAY, WA          '\\n\",\n",
       " \"   'NIG'\\t=\\t'NIGHTHAWK, WA         '\\n\",\n",
       " \"   'OLY'\\t=\\t'OLYMPIA, WA           '\\n\",\n",
       " \"   'ORO'\\t=\\t'OROVILLE, WA          '\\n\",\n",
       " \"   'PWB'\\t=\\t'PASCO, WA             '\\n\",\n",
       " \"   'PIR'\\t=\\t'POINT ROBERTS, WA     '\\n\",\n",
       " \"   'PNG'\\t=\\t'PORT ANGELES, WA      '\\n\",\n",
       " \"   'PTO'\\t=\\t'PORT TOWNSEND, WA     '\\n\",\n",
       " \"   'SEA'\\t=\\t'SEATTLE, WA           '\\n\",\n",
       " \"   'SPO'\\t=\\t'SPOKANE, WA           '\\n\",\n",
       " \"   'SUM'\\t=\\t'SUMAS, WA             '\\n\",\n",
       " \"   'TAC'\\t=\\t'TACOMA, WA            '\\n\",\n",
       " \"   'PSC'\\t=\\t'TRI-CITIES - PASCO, WA'\\n\",\n",
       " \"   'VAN'\\t=\\t'VANCOUVER, WA         '\\n\",\n",
       " \"   'AGM'\\t=\\t'ALGOMA, WI            '\\n\",\n",
       " \"   'BAY'\\t=\\t'BAYFIELD, WI          '\\n\",\n",
       " \"   'GRB'\\t=\\t'GREEN BAY, WI         '\\n\",\n",
       " \"   'MNW'\\t=\\t'MANITOWOC, WI         '\\n\",\n",
       " \"   'MIL'\\t=\\t'MILWAUKEE, WI         '\\n\",\n",
       " \"   'MSN'\\t=\\t'TRUAX FIELD - DANE COUNTY, WI'\\n\",\n",
       " \"   'CHS'\\t=\\t'CHARLESTON, WV        '\\n\",\n",
       " \"   'CLK'\\t=\\t'CLARKSBURG, WV        '\\n\",\n",
       " \"   'BLF'\\t=\\t'MERCER COUNTY, WV'\\n\",\n",
       " \"   'CSP'\\t=\\t'CASPER, WY            '\\n\",\n",
       " \"   'XXX'\\t=\\t'NOT REPORTED/UNKNOWN  ' \\n\",\n",
       " \"   '888'\\t=\\t'UNIDENTIFED AIR / SEAPORT'\\n\",\n",
       " \"   'UNK'\\t=\\t'UNKNOWN POE           '\\n\",\n",
       " \"   'CLG'\\t=\\t'CALGARY, CANADA       '\\n\",\n",
       " \"   'EDA'\\t=\\t'EDMONTON, CANADA      '\\n\",\n",
       " \"   'YHC'\\t=\\t'HAKAI PASS, CANADA'\\n\",\n",
       " \"   'HAL'\\t=\\t'Halifax, NS, Canada   '\\n\",\n",
       " \"   'MON'\\t=\\t'MONTREAL, CANADA      '\\n\",\n",
       " \"   'OTT'\\t=\\t'OTTAWA, CANADA        '\\n\",\n",
       " \"   'YXE'\\t=\\t'SASKATOON, CANADA'\\n\",\n",
       " \"   'TOR'\\t=\\t'TORONTO, CANADA       '\\n\",\n",
       " \"   'VCV'\\t=\\t'VANCOUVER, CANADA     '\\n\",\n",
       " \"   'VIC'\\t=\\t'VICTORIA, CANADA      '\\n\",\n",
       " \"   'WIN'\\t=\\t'WINNIPEG, CANADA      '\\n\",\n",
       " \"   'AMS'\\t=\\t'AMSTERDAM-SCHIPHOL, NETHERLANDS'\\n\",\n",
       " \"   'ARB'\\t=\\t'ARUBA, NETH ANTILLES  '\\n\",\n",
       " \"   'BAN'\\t=\\t'BANKOK, THAILAND      '\\n\",\n",
       " \"   'BEI'\\t=\\t'BEICA #ARPT, ETHIOPIA'\\n\",\n",
       " \"   'PEK'\\t=\\t'BEIJING CAPITAL INTL, PRC'\\n\",\n",
       " \"   'BDA'\\t=\\t'KINDLEY FIELD, BERMUDA'\\n\",\n",
       " \"   'BOG'\\t=\\t'BOGOTA, EL DORADO #ARPT, COLOMBIA'\\n\",\n",
       " \"   'EZE'\\t=\\t'BUENOS AIRES, MINISTRO PIST, ARGENTINA'\\n\",\n",
       " \"   'CUN'\\t=\\t'CANCUN, MEXICO'\\n\",\n",
       " \"   'CRQ'\\t=\\t'CARAVELAS, BA #ARPT, BRAZIL'\\n\",\n",
       " \"   'MVD'\\t=\\t'CARRASCO, URUGUAY'\\n\",\n",
       " \"   'DUB'\\t=\\t'DUBLIN, IRELAND       '\\n\",\n",
       " \"   'FOU'\\t=\\t'FOUGAMOU #ARPT, GABON'\\n\",\n",
       " \"   'FBA'\\t=\\t'FREEPORT, BAHAMAS      '\\n\",\n",
       " \"   'MTY'\\t=\\t'GEN M. ESCOBEDO, Monterrey, MX'\\n\",\n",
       " \"   'HMO'\\t=\\t'GEN PESQUEIRA GARCIA, MX'\\n\",\n",
       " \"   'GCM'\\t=\\t'GRAND CAYMAN, CAYMAN ISLAND'\\n\",\n",
       " \"   'GDL'\\t=\\t'GUADALAJARA, MIGUEL HIDAL, MX'\\n\",\n",
       " \"   'HAM'\\t=\\t'HAMILTON, BERMUDA     '\\n\",\n",
       " \"   'ICN'\\t=\\t'INCHON, SEOUL KOREA'\\n\",\n",
       " \"   'IWA'\\t=\\t'INVALID - IWAKUNI, JAPAN'\\n\",\n",
       " \"   'CND'\\t=\\t'KOGALNICEANU, ROMANIA'\\n\",\n",
       " \"   'LAH'\\t=\\t'LABUHA ARPT, INDONESIA'\\n\",\n",
       " \"   'DUR'\\t=\\t'LOUIS BOTHA, SOUTH AFRICA'\\n\",\n",
       " \"   'MAL'\\t=\\t'MANGOLE ARPT, INDONESIA'\\n\",\n",
       " \"   'MDE'\\t=\\t'MEDELLIN, COLOMBIA'\\n\",\n",
       " \"   'MEX'\\t=\\t'JUAREZ INTL, MEXICO CITY, MX'\\n\",\n",
       " \"   'LHR'\\t=\\t'MIDDLESEX, ENGLAND'\\n\",\n",
       " \"   'NBO'\\t=\\t'NAIROBI, KENYA        '\\n\",\n",
       " \"   'NAS'\\t=\\t'NASSAU, BAHAMAS       '\\n\",\n",
       " \"   'NCA'\\t=\\t'NORTH CAICOS, TURK & CAIMAN'\\n\",\n",
       " \"   'PTY'\\t=\\t'OMAR TORRIJOS, PANAMA'\\n\",\n",
       " \"   'SPV'\\t=\\t'PAPUA, NEW GUINEA'\\n\",\n",
       " \"   'UIO'\\t=\\t'QUITO (MARISCAL SUCR), ECUADOR'\\n\",\n",
       " \"   'RIT'\\t=\\t'ROME, ITALY           '\\n\",\n",
       " \"   'SNO'\\t=\\t'SAKON NAKHON #ARPT, THAILAND'\\n\",\n",
       " \"   'SLP'\\t=\\t'SAN LUIS POTOSI #ARPT, MEXICO'\\n\",\n",
       " \"   'SAN'\\t=\\t'SAN SALVADOR, EL SALVADOR'\\n\",\n",
       " \"   'SRO'\\t=\\t'SANTANA RAMOS #ARPT, COLOMBIA'\\n\",\n",
       " \"   'GRU'\\t=\\t'GUARULHOS INTL, SAO PAULO, BRAZIL'\\n\",\n",
       " \"   'SHA'\\t=\\t'SHANNON, IRELAND      '\\n\",\n",
       " \"   'HIL'\\t=\\t'SHILLAVO, ETHIOPIA'\\n\",\n",
       " \"   'TOK'\\t=\\t'TOROKINA #ARPT, PAPUA, NEW GUINEA'\\n\",\n",
       " \"   'VER'\\t=\\t'VERACRUZ, MEXICO'\\n\",\n",
       " \"   'LGW'\\t=\\t'WEST SUSSEX, ENGLAND  '\\n\",\n",
       " \"   'ZZZ'\\t=\\t'MEXICO Land (Banco de Mexico) '\\n\",\n",
       " \"   'CHN'\\t=\\t'No PORT Code (CHN)'\\n\",\n",
       " \"   'CNC'\\t=\\t'CANNON CORNERS, NY'\\n\",\n",
       " \"   'MAA'\\t=\\t'Abu Dhabi'\\n\",\n",
       " \"   'AG0'\\t=\\t'MAGNOLIA, AR'\\n\",\n",
       " \"   'BHM'\\t=\\t'BAR HARBOR, ME'\\n\",\n",
       " \"   'BHX'\\t=\\t'BIRMINGHAM, AL'\\n\",\n",
       " \"   'CAK'\\t=\\t'AKRON, OH'\\n\",\n",
       " \"   'FOK'\\t=\\t'SUFFOLK COUNTY, NY'\\n\",\n",
       " \"   'LND'\\t=\\t'LANDER, WY'\\n\",\n",
       " \"   'MAR'\\t=\\t'MARFA, TX'\\n\",\n",
       " \"   'MLI'\\t=\\t'MOLINE, IL'\\n\",\n",
       " \"   'RIV'\\t=\\t'RIVERSIDE, CA'\\n\",\n",
       " \"   'RME'\\t=\\t'ROME, NY'\\n\",\n",
       " \"   'VNY'\\t=\\t'VAN NUYS, CA'\\n\",\n",
       " \"   'YUM'\\t=\\t'YUMA, AZ'\\n\",\n",
       " \"   'FRG'\\t=\\t'Collapsed (FOK) 06/15'\\n\",\n",
       " \"   'HRL'\\t=\\t'Collapsed (HLG) 06/15'\\n\",\n",
       " \"   'ISP'\\t=\\t'Collapsed (FOK) 06/15'\\n\",\n",
       " \"   'JSJ'\\t=\\t'Collapsed (SAJ) 06/15'\\n\",\n",
       " \"   'BUS'\\t=\\t'Collapsed (BUF) 06/15'\\n\",\n",
       " \"   'IAG'\\t=\\t'Collapsed (NIA) 06/15'\\n\",\n",
       " \"   'PHN'\\t=\\t'Collapsed (PHU) 06/15'\\n\",\n",
       " \"   'STN'\\t=\\t'Collapsed (STR) 06/15'\\n\",\n",
       " \"   'VMB'\\t=\\t'Collapsed (VNB) 06/15'\\n\",\n",
       " \"   'T01'\\t=\\t'Collapsed (SEA) 06/15'\\n\",\n",
       " \"   'PHF'\\t=\\t'No PORT Code (PHF)'\\n\",\n",
       " \"   'DRV'\\t=\\t'No PORT Code (DRV)'\\n\",\n",
       " \"   'FTB'\\t=\\t'No PORT Code (FTB)'\\n\",\n",
       " \"   'GAC'\\t=\\t'No PORT Code (GAC)'\\n\",\n",
       " \"   'GMT'\\t=\\t'No PORT Code (GMT)'\\n\",\n",
       " \"   'JFA'\\t=\\t'No PORT Code (JFA)'\\n\",\n",
       " \"   'JMZ'\\t=\\t'No PORT Code (JMZ)'\\n\",\n",
       " \"   'NC8'\\t=\\t'No PORT Code (NC8)'\\n\",\n",
       " \"   'NYL'\\t=\\t'No PORT Code (NYL)'\\n\",\n",
       " \"   'OAI'\\t=\\t'No PORT Code (OAI)'\\n\",\n",
       " \"   'PCW'\\t=\\t'No PORT Code (PCW)'\\n\",\n",
       " \"   'WA5'\\t=\\t'No PORT Code (WAS)'\\n\",\n",
       " \"   'WTR'\\t=\\t'No PORT Code (WTR)'\\n\",\n",
       " \"   'X96'\\t=\\t'No PORT Code (X96)'\\n\",\n",
       " \"   'XNA'\\t=\\t'No PORT Code (XNA)'\\n\",\n",
       " \"   'YGF'\\t=\\t'No PORT Code (YGF)'\\n\",\n",
       " \"   '5T6'\\t=\\t'No PORT Code (5T6)'\\n\",\n",
       " \"   '060'\\t=\\t'No PORT Code (60)'\\n\",\n",
       " \"   'SP0'\\t=\\t'No PORT Code (SP0)'\\n\",\n",
       " \"   'W55'\\t=\\t'No PORT Code (W55)'\\n\",\n",
       " \"   'X44'\\t=\\t'No PORT Code (X44)'\\n\",\n",
       " \"   'AUH'\\t=\\t'No PORT Code (AUH)'\\n\",\n",
       " \"   'RYY'\\t=\\t'No PORT Code (RYY)'\\n\",\n",
       " \"   'SUS'\\t=\\t'No PORT Code (SUS)'\\n\",\n",
       " \"   '74S'\\t=\\t'No PORT Code (74S)'\\n\",\n",
       " \"   'ATW'\\t=\\t'No PORT Code (ATW)'\\n\",\n",
       " \"   'CPX'\\t=\\t'No PORT Code (CPX)'\\n\",\n",
       " \"   'MTH'\\t=\\t'No PORT Code (MTH)'\\n\",\n",
       " \"   'PFN'\\t=\\t'No PORT Code (PFN)'\\n\",\n",
       " \"   'SCH'\\t=\\t'No PORT Code (SCH)'\\n\",\n",
       " \"   'ASI'\\t=\\t'No PORT Code (ASI)'\\n\",\n",
       " \"   'BKF'\\t=\\t'No PORT Code (BKF)'\\n\",\n",
       " \"   'DAY'\\t=\\t'No PORT Code (DAY)'\\n\",\n",
       " \"   'Y62'\\t=\\t'No PORT Code (Y62)'\\n\",\n",
       " \"   'AG'\\t\\t=\\t'No PORT Code (AG)'\\n\",\n",
       " \"   'BCM'\\t=\\t'No PORT Code (BCM)'\\n\",\n",
       " \"   'DEC'\\t=\\t'No PORT Code (DEC)'\\n\",\n",
       " \"   'PLB'\\t=\\t'No PORT Code (PLB)'\\n\",\n",
       " \"   'CXO'\\t=\\t'No PORT Code (CXO)'\\n\",\n",
       " \"   'JBQ'\\t=\\t'No PORT Code (JBQ)'\\n\",\n",
       " \"   'JIG'\\t=\\t'No PORT Code (JIG)'\\n\",\n",
       " \"   'OGS'\\t=\\t'No PORT Code (OGS)'\\n\",\n",
       " \"   'TIW'\\t=\\t'No PORT Code (TIW)'\\n\",\n",
       " \"   'OTS'\\t=\\t'No PORT Code (OTS)'\\n\",\n",
       " \"   'AMT'\\t=\\t'No PORT Code (AMT)'\\n\",\n",
       " \"   'EGE'\\t=\\t'No PORT Code (EGE)'\\n\",\n",
       " \"   'GPI'\\t=\\t'No PORT Code (GPI)'\\n\",\n",
       " \"   'NGL'\\t=\\t'No PORT Code (NGL)'\\n\",\n",
       " \"   'OLM'\\t=\\t'No PORT Code (OLM)'\\n\",\n",
       " \"   '.GA'\\t=\\t'No PORT Code (.GA)'\\n\",\n",
       " \"   'CLX'\\t=\\t'No PORT Code (CLX)'\\n\",\n",
       " \"   'CP '\\t=\\t'No PORT Code (CP)'\\n\",\n",
       " \"   'FSC'\\t=\\t'No PORT Code (FSC)'\\n\",\n",
       " \"   'NK' \\t=\\t'No PORT Code (NK)'\\n\",\n",
       " \"   'ADU' \\t=\\t'No PORT Code (ADU)'\\n\",\n",
       " \"   'AKT' \\t=\\t'No PORT Code (AKT)'\\n\",\n",
       " \"   'LIT' \\t=\\t'No PORT Code (LIT)'\\n\",\n",
       " \"   'A2A' \\t=\\t'No PORT Code (A2A)'\\n\",\n",
       " \"   'OSN' \\t=\\t'No PORT Code (OSN)'\\n\",\n",
       " ';\\n',\n",
       " '\\n',\n",
       " '\\n',\n",
       " '/* ARRDATE is the Arrival Date in the USA. It is a SAS date numeric field that a \\n',\n",
       " '   permament format has not been applied.  Please apply whichever date format \\n',\n",
       " '   works for you. */\\n',\n",
       " '\\n',\n",
       " '\\n',\n",
       " '/* I94MODE - There are missing values as well as not reported (9) */\\n',\n",
       " 'value i94model\\n',\n",
       " \"\\t1 = 'Air'\\n\",\n",
       " \"\\t2 = 'Sea'\\n\",\n",
       " \"\\t3 = 'Land'\\n\",\n",
       " \"\\t9 = 'Not reported' ;\\n\",\n",
       " '\\t\\n',\n",
       " '\\n',\n",
       " '/* I94ADDR - There is lots of invalid codes in this variable and the list below \\n',\n",
       " \"   shows what we have found to be valid, everything else goes into 'other' */\\n\",\n",
       " 'value i94addrl\\n',\n",
       " \"\\t'AL'='ALABAMA'\\n\",\n",
       " \"\\t'AK'='ALASKA'\\n\",\n",
       " \"\\t'AZ'='ARIZONA'\\n\",\n",
       " \"\\t'AR'='ARKANSAS'\\n\",\n",
       " \"\\t'CA'='CALIFORNIA'\\n\",\n",
       " \"\\t'CO'='COLORADO'\\n\",\n",
       " \"\\t'CT'='CONNECTICUT'\\n\",\n",
       " \"\\t'DE'='DELAWARE'\\n\",\n",
       " \"\\t'DC'='DIST. OF COLUMBIA'\\n\",\n",
       " \"\\t'FL'='FLORIDA'\\n\",\n",
       " \"\\t'GA'='GEORGIA'\\n\",\n",
       " \"\\t'GU'='GUAM'\\n\",\n",
       " \"\\t'HI'='HAWAII'\\n\",\n",
       " \"\\t'ID'='IDAHO'\\n\",\n",
       " \"\\t'IL'='ILLINOIS'\\n\",\n",
       " \"\\t'IN'='INDIANA'\\n\",\n",
       " \"\\t'IA'='IOWA'\\n\",\n",
       " \"\\t'KS'='KANSAS'\\n\",\n",
       " \"\\t'KY'='KENTUCKY'\\n\",\n",
       " ...]"
      ]
     },
     "execution_count": 81,
     "metadata": {},
     "output_type": "execute_result"
    }
   ],
   "source": [
    "# quick view of what value is included inside the file\n",
    "Label_Contents"
   ]
  },
  {
   "cell_type": "markdown",
   "metadata": {
    "editable": true
   },
   "source": [
    "### `L1` - Splitting ` Port`, `City` and `State` codes"
   ]
  },
  {
   "cell_type": "markdown",
   "metadata": {
    "editable": true
   },
   "source": [
    "+ The codes with this label file were entangled with `inordinate amount of regular expressions` embedded with them. So I had to do step by step coding to clear out all the regex clutter from the label file to make them intelligible and usable with our fact and dimension tables.\n",
    "\n",
    "+ To `narrow the scope` of our analysis, I've decided to select codes `relevant only to USA cities` and ports. On this selection processes I sliced out unnecessary rows.\n",
    "\n",
    "+ Since, the number of port information available about outside US is very limited and `not relevant` to our immigration data analysis."
   ]
  },
  {
   "cell_type": "code",
   "execution_count": 82,
   "metadata": {
    "editable": true
   },
   "outputs": [
    {
     "data": {
      "text/html": [
       "<div>\n",
       "<style scoped>\n",
       "    .dataframe tbody tr th:only-of-type {\n",
       "        vertical-align: middle;\n",
       "    }\n",
       "\n",
       "    .dataframe tbody tr th {\n",
       "        vertical-align: top;\n",
       "    }\n",
       "\n",
       "    .dataframe thead th {\n",
       "        text-align: right;\n",
       "    }\n",
       "</style>\n",
       "<table border=\"1\" class=\"dataframe\">\n",
       "  <thead>\n",
       "    <tr style=\"text-align: right;\">\n",
       "      <th></th>\n",
       "      <th>0</th>\n",
       "      <th>1</th>\n",
       "    </tr>\n",
       "  </thead>\n",
       "  <tbody>\n",
       "    <tr>\n",
       "      <th>0</th>\n",
       "      <td>'ALC'\\t</td>\n",
       "      <td>\\t'ALCAN, AK             '</td>\n",
       "    </tr>\n",
       "    <tr>\n",
       "      <th>1</th>\n",
       "      <td>'ANC'\\t</td>\n",
       "      <td>\\t'ANCHORAGE, AK         '</td>\n",
       "    </tr>\n",
       "    <tr>\n",
       "      <th>2</th>\n",
       "      <td>'BAR'\\t</td>\n",
       "      <td>\\t'BAKER AAF - BAKER ISLAND, AK'</td>\n",
       "    </tr>\n",
       "  </tbody>\n",
       "</table>\n",
       "</div>"
      ],
      "text/plain": [
       "         0                                 1\n",
       "0  'ALC'\\t        \\t'ALCAN, AK             '\n",
       "1  'ANC'\\t        \\t'ANCHORAGE, AK         '\n",
       "2  'BAR'\\t  \\t'BAKER AAF - BAKER ISLAND, AK'"
      ]
     },
     "execution_count": 82,
     "metadata": {},
     "output_type": "execute_result"
    }
   ],
   "source": [
    "# selecting rows only information with US city & port codes\n",
    "Label_Contents = [ports.strip() for ports in Label_Contents]\n",
    "Port_locations = Label_Contents[302:894]\n",
    "Splitted_ports = [port.split(\"=\") for port in Port_locations]\n",
    "pd.DataFrame(Splitted_ports).head(3)"
   ]
  },
  {
   "cell_type": "code",
   "execution_count": 83,
   "metadata": {
    "editable": true
   },
   "outputs": [
    {
     "data": {
      "text/html": [
       "<div>\n",
       "<style scoped>\n",
       "    .dataframe tbody tr th:only-of-type {\n",
       "        vertical-align: middle;\n",
       "    }\n",
       "\n",
       "    .dataframe tbody tr th {\n",
       "        vertical-align: top;\n",
       "    }\n",
       "\n",
       "    .dataframe thead th {\n",
       "        text-align: right;\n",
       "    }\n",
       "</style>\n",
       "<table border=\"1\" class=\"dataframe\">\n",
       "  <thead>\n",
       "    <tr style=\"text-align: right;\">\n",
       "      <th></th>\n",
       "      <th>Port_Codes</th>\n",
       "      <th>City_State_Codes</th>\n",
       "    </tr>\n",
       "  </thead>\n",
       "  <tbody>\n",
       "    <tr>\n",
       "      <th>0</th>\n",
       "      <td>'ALC'\\t</td>\n",
       "      <td>\\t'ALCAN, AK             '</td>\n",
       "    </tr>\n",
       "    <tr>\n",
       "      <th>1</th>\n",
       "      <td>'ANC'\\t</td>\n",
       "      <td>\\t'ANCHORAGE, AK         '</td>\n",
       "    </tr>\n",
       "    <tr>\n",
       "      <th>2</th>\n",
       "      <td>'BAR'\\t</td>\n",
       "      <td>\\t'BAKER AAF - BAKER ISLAND, AK'</td>\n",
       "    </tr>\n",
       "  </tbody>\n",
       "</table>\n",
       "</div>"
      ],
      "text/plain": [
       "  Port_Codes                  City_State_Codes\n",
       "0    'ALC'\\t        \\t'ALCAN, AK             '\n",
       "1    'ANC'\\t        \\t'ANCHORAGE, AK         '\n",
       "2    'BAR'\\t  \\t'BAKER AAF - BAKER ISLAND, AK'"
      ]
     },
     "execution_count": 83,
     "metadata": {},
     "output_type": "execute_result"
    }
   ],
   "source": [
    "# quick show of what we've selected\n",
    "pd.DataFrame(Splitted_ports, columns=['Port_Codes', 'City_State_Codes']).head(3)"
   ]
  },
  {
   "cell_type": "code",
   "execution_count": 84,
   "metadata": {
    "editable": true
   },
   "outputs": [
    {
     "data": {
      "text/html": [
       "<div>\n",
       "<style scoped>\n",
       "    .dataframe tbody tr th:only-of-type {\n",
       "        vertical-align: middle;\n",
       "    }\n",
       "\n",
       "    .dataframe tbody tr th {\n",
       "        vertical-align: top;\n",
       "    }\n",
       "\n",
       "    .dataframe thead th {\n",
       "        text-align: right;\n",
       "    }\n",
       "</style>\n",
       "<table border=\"1\" class=\"dataframe\">\n",
       "  <thead>\n",
       "    <tr style=\"text-align: right;\">\n",
       "      <th></th>\n",
       "      <th>Port_Codes</th>\n",
       "    </tr>\n",
       "  </thead>\n",
       "  <tbody>\n",
       "    <tr>\n",
       "      <th>0</th>\n",
       "      <td>ALC</td>\n",
       "    </tr>\n",
       "    <tr>\n",
       "      <th>1</th>\n",
       "      <td>ANC</td>\n",
       "    </tr>\n",
       "    <tr>\n",
       "      <th>2</th>\n",
       "      <td>BAR</td>\n",
       "    </tr>\n",
       "  </tbody>\n",
       "</table>\n",
       "</div>"
      ],
      "text/plain": [
       "  Port_Codes\n",
       "0        ALC\n",
       "1        ANC\n",
       "2        BAR"
      ]
     },
     "execution_count": 84,
     "metadata": {},
     "output_type": "execute_result"
    }
   ],
   "source": [
    "# separating first part of ports as ports code\n",
    "Port_codes = [ports[0].replace(\"'\",\"\").strip() for ports in Splitted_ports]\n",
    "pd.DataFrame(Port_codes, columns=['Port_Codes']).head(3)"
   ]
  },
  {
   "cell_type": "code",
   "execution_count": 85,
   "metadata": {
    "editable": true
   },
   "outputs": [
    {
     "data": {
      "text/html": [
       "<div>\n",
       "<style scoped>\n",
       "    .dataframe tbody tr th:only-of-type {\n",
       "        vertical-align: middle;\n",
       "    }\n",
       "\n",
       "    .dataframe tbody tr th {\n",
       "        vertical-align: top;\n",
       "    }\n",
       "\n",
       "    .dataframe thead th {\n",
       "        text-align: right;\n",
       "    }\n",
       "</style>\n",
       "<table border=\"1\" class=\"dataframe\">\n",
       "  <thead>\n",
       "    <tr style=\"text-align: right;\">\n",
       "      <th></th>\n",
       "      <th>City_State_Codes</th>\n",
       "    </tr>\n",
       "  </thead>\n",
       "  <tbody>\n",
       "    <tr>\n",
       "      <th>0</th>\n",
       "      <td>'ALCAN, AK             '</td>\n",
       "    </tr>\n",
       "    <tr>\n",
       "      <th>1</th>\n",
       "      <td>'ANCHORAGE, AK         '</td>\n",
       "    </tr>\n",
       "    <tr>\n",
       "      <th>2</th>\n",
       "      <td>'BAKER AAF - BAKER ISLAND, AK'</td>\n",
       "    </tr>\n",
       "  </tbody>\n",
       "</table>\n",
       "</div>"
      ],
      "text/plain": [
       "                 City_State_Codes\n",
       "0        'ALCAN, AK             '\n",
       "1        'ANCHORAGE, AK         '\n",
       "2  'BAKER AAF - BAKER ISLAND, AK'"
      ]
     },
     "execution_count": 85,
     "metadata": {},
     "output_type": "execute_result"
    }
   ],
   "source": [
    "# separating city_state codes\n",
    "Port_locations = [ports[1].replace(\"''\", \"\").strip() for ports in Splitted_ports]\n",
    "pd.DataFrame(Port_locations, columns=['City_State_Codes']).head(3)"
   ]
  },
  {
   "cell_type": "code",
   "execution_count": 86,
   "metadata": {
    "editable": true
   },
   "outputs": [
    {
     "data": {
      "text/html": [
       "<div>\n",
       "<style scoped>\n",
       "    .dataframe tbody tr th:only-of-type {\n",
       "        vertical-align: middle;\n",
       "    }\n",
       "\n",
       "    .dataframe tbody tr th {\n",
       "        vertical-align: top;\n",
       "    }\n",
       "\n",
       "    .dataframe thead th {\n",
       "        text-align: right;\n",
       "    }\n",
       "</style>\n",
       "<table border=\"1\" class=\"dataframe\">\n",
       "  <thead>\n",
       "    <tr style=\"text-align: right;\">\n",
       "      <th></th>\n",
       "      <th>City_State_Codes</th>\n",
       "    </tr>\n",
       "  </thead>\n",
       "  <tbody>\n",
       "    <tr>\n",
       "      <th>0</th>\n",
       "      <td>ALCAN, AK</td>\n",
       "    </tr>\n",
       "    <tr>\n",
       "      <th>1</th>\n",
       "      <td>ANCHORAGE, AK</td>\n",
       "    </tr>\n",
       "    <tr>\n",
       "      <th>2</th>\n",
       "      <td>BAKER AAF - BAKER ISLAND, AK</td>\n",
       "    </tr>\n",
       "  </tbody>\n",
       "</table>\n",
       "</div>"
      ],
      "text/plain": [
       "               City_State_Codes\n",
       "0                     ALCAN, AK\n",
       "1                 ANCHORAGE, AK\n",
       "2  BAKER AAF - BAKER ISLAND, AK"
      ]
     },
     "execution_count": 86,
     "metadata": {},
     "output_type": "execute_result"
    }
   ],
   "source": [
    "# remove and replacing all inverted commas\n",
    "Port_locations = [ports[1].replace(\"'\",\"\").strip() for ports in Splitted_ports]\n",
    "pd.DataFrame(Port_locations, columns=['City_State_Codes']).head(3)"
   ]
  },
  {
   "cell_type": "code",
   "execution_count": 87,
   "metadata": {
    "editable": true
   },
   "outputs": [
    {
     "data": {
      "text/html": [
       "<div>\n",
       "<style scoped>\n",
       "    .dataframe tbody tr th:only-of-type {\n",
       "        vertical-align: middle;\n",
       "    }\n",
       "\n",
       "    .dataframe tbody tr th {\n",
       "        vertical-align: top;\n",
       "    }\n",
       "\n",
       "    .dataframe thead th {\n",
       "        text-align: right;\n",
       "    }\n",
       "</style>\n",
       "<table border=\"1\" class=\"dataframe\">\n",
       "  <thead>\n",
       "    <tr style=\"text-align: right;\">\n",
       "      <th></th>\n",
       "      <th>Port_City</th>\n",
       "    </tr>\n",
       "  </thead>\n",
       "  <tbody>\n",
       "    <tr>\n",
       "      <th>0</th>\n",
       "      <td>ALCAN</td>\n",
       "    </tr>\n",
       "    <tr>\n",
       "      <th>1</th>\n",
       "      <td>ANCHORAGE</td>\n",
       "    </tr>\n",
       "    <tr>\n",
       "      <th>2</th>\n",
       "      <td>BAKER AAF - BAKER ISLAND</td>\n",
       "    </tr>\n",
       "  </tbody>\n",
       "</table>\n",
       "</div>"
      ],
      "text/plain": [
       "                  Port_City\n",
       "0                     ALCAN\n",
       "1                 ANCHORAGE\n",
       "2  BAKER AAF - BAKER ISLAND"
      ]
     },
     "execution_count": 87,
     "metadata": {},
     "output_type": "execute_result"
    }
   ],
   "source": [
    "# split and separate city only\n",
    "Port_cities = [ports.split(\",\")[0] for ports in Port_locations]\n",
    "\n",
    "pd.DataFrame(Port_cities ,columns=['Port_City']).head(3)"
   ]
  },
  {
   "cell_type": "code",
   "execution_count": 88,
   "metadata": {
    "editable": true
   },
   "outputs": [
    {
     "data": {
      "text/html": [
       "<div>\n",
       "<style scoped>\n",
       "    .dataframe tbody tr th:only-of-type {\n",
       "        vertical-align: middle;\n",
       "    }\n",
       "\n",
       "    .dataframe tbody tr th {\n",
       "        vertical-align: top;\n",
       "    }\n",
       "\n",
       "    .dataframe thead th {\n",
       "        text-align: right;\n",
       "    }\n",
       "</style>\n",
       "<table border=\"1\" class=\"dataframe\">\n",
       "  <thead>\n",
       "    <tr style=\"text-align: right;\">\n",
       "      <th></th>\n",
       "      <th>Port_State</th>\n",
       "    </tr>\n",
       "  </thead>\n",
       "  <tbody>\n",
       "    <tr>\n",
       "      <th>0</th>\n",
       "      <td>AK</td>\n",
       "    </tr>\n",
       "    <tr>\n",
       "      <th>1</th>\n",
       "      <td>AK</td>\n",
       "    </tr>\n",
       "    <tr>\n",
       "      <th>2</th>\n",
       "      <td>AK</td>\n",
       "    </tr>\n",
       "  </tbody>\n",
       "</table>\n",
       "</div>"
      ],
      "text/plain": [
       "  Port_State\n",
       "0         AK\n",
       "1         AK\n",
       "2         AK"
      ]
     },
     "execution_count": 88,
     "metadata": {},
     "output_type": "execute_result"
    }
   ],
   "source": [
    "# split only the state codes\n",
    "Port_states = [ports.split(\",\")[-1] for ports in Port_locations]\n",
    "pd.DataFrame(Port_states, columns=['Port_State']).head(3)"
   ]
  },
  {
   "cell_type": "code",
   "execution_count": 89,
   "metadata": {
    "editable": true
   },
   "outputs": [
    {
     "data": {
      "text/html": [
       "<div>\n",
       "<style scoped>\n",
       "    .dataframe tbody tr th:only-of-type {\n",
       "        vertical-align: middle;\n",
       "    }\n",
       "\n",
       "    .dataframe tbody tr th {\n",
       "        vertical-align: top;\n",
       "    }\n",
       "\n",
       "    .dataframe thead th {\n",
       "        text-align: right;\n",
       "    }\n",
       "</style>\n",
       "<table border=\"1\" class=\"dataframe\">\n",
       "  <thead>\n",
       "    <tr style=\"text-align: right;\">\n",
       "      <th></th>\n",
       "      <th>Port_Code</th>\n",
       "      <th>Port_City</th>\n",
       "      <th>Port_State</th>\n",
       "    </tr>\n",
       "  </thead>\n",
       "  <tbody>\n",
       "    <tr>\n",
       "      <th>0</th>\n",
       "      <td>ALC</td>\n",
       "      <td>ALCAN</td>\n",
       "      <td>AK</td>\n",
       "    </tr>\n",
       "    <tr>\n",
       "      <th>1</th>\n",
       "      <td>ANC</td>\n",
       "      <td>ANCHORAGE</td>\n",
       "      <td>AK</td>\n",
       "    </tr>\n",
       "    <tr>\n",
       "      <th>2</th>\n",
       "      <td>BAR</td>\n",
       "      <td>BAKER AAF - BAKER ISLAND</td>\n",
       "      <td>AK</td>\n",
       "    </tr>\n",
       "  </tbody>\n",
       "</table>\n",
       "</div>"
      ],
      "text/plain": [
       "  Port_Code                 Port_City Port_State\n",
       "0       ALC                     ALCAN         AK\n",
       "1       ANC                 ANCHORAGE         AK\n",
       "2       BAR  BAKER AAF - BAKER ISLAND         AK"
      ]
     },
     "execution_count": 89,
     "metadata": {},
     "output_type": "execute_result"
    }
   ],
   "source": [
    "# a combined view of all the separated columns from regular expressions\n",
    "Port_locations_df = pd.DataFrame({\"Port_Code\" : Port_codes, \"Port_City\": Port_cities, \"Port_State\": Port_states})\n",
    "Port_locations_df.head(3)"
   ]
  },
  {
   "cell_type": "code",
   "execution_count": 90,
   "metadata": {
    "editable": true
   },
   "outputs": [
    {
     "data": {
      "text/plain": [
       "Port_Code     592\n",
       "Port_City     592\n",
       "Port_State    592\n",
       "dtype: int64"
      ]
     },
     "execution_count": 90,
     "metadata": {},
     "output_type": "execute_result"
    }
   ],
   "source": [
    "# counting number of available values\n",
    "Port_locations_df.count()"
   ]
  },
  {
   "cell_type": "code",
   "execution_count": 91,
   "metadata": {
    "editable": true
   },
   "outputs": [
    {
     "data": {
      "text/plain": [
       "Port_Code     object\n",
       "Port_City     object\n",
       "Port_State    object\n",
       "dtype: object"
      ]
     },
     "execution_count": 91,
     "metadata": {},
     "output_type": "execute_result"
    }
   ],
   "source": [
    "Port_locations_df.dtypes"
   ]
  },
  {
   "cell_type": "markdown",
   "metadata": {
    "editable": true
   },
   "source": [
    "### `Quick Query 17: `"
   ]
  },
  {
   "cell_type": "markdown",
   "metadata": {
    "editable": true
   },
   "source": [
    "`17:` How many ports are on each State and the order(hight to low) are there by each State?"
   ]
  },
  {
   "cell_type": "code",
   "execution_count": 92,
   "metadata": {
    "editable": true
   },
   "outputs": [
    {
     "data": {
      "text/html": [
       "<div>\n",
       "<style scoped>\n",
       "    .dataframe tbody tr th:only-of-type {\n",
       "        vertical-align: middle;\n",
       "    }\n",
       "\n",
       "    .dataframe tbody tr th {\n",
       "        vertical-align: top;\n",
       "    }\n",
       "\n",
       "    .dataframe thead th {\n",
       "        text-align: right;\n",
       "    }\n",
       "</style>\n",
       "<table border=\"1\" class=\"dataframe\">\n",
       "  <thead>\n",
       "    <tr style=\"text-align: right;\">\n",
       "      <th></th>\n",
       "      <th>Port_Code</th>\n",
       "    </tr>\n",
       "    <tr>\n",
       "      <th>Port_State</th>\n",
       "      <th></th>\n",
       "    </tr>\n",
       "  </thead>\n",
       "  <tbody>\n",
       "    <tr>\n",
       "      <th>AK</th>\n",
       "      <td>22</td>\n",
       "    </tr>\n",
       "    <tr>\n",
       "      <th>AL</th>\n",
       "      <td>3</td>\n",
       "    </tr>\n",
       "    <tr>\n",
       "      <th>AR</th>\n",
       "      <td>2</td>\n",
       "    </tr>\n",
       "    <tr>\n",
       "      <th>AR (BPS)</th>\n",
       "      <td>1</td>\n",
       "    </tr>\n",
       "    <tr>\n",
       "      <th>ARGENTINA</th>\n",
       "      <td>1</td>\n",
       "    </tr>\n",
       "  </tbody>\n",
       "</table>\n",
       "</div>"
      ],
      "text/plain": [
       "            Port_Code\n",
       "Port_State           \n",
       " AK                22\n",
       " AL                 3\n",
       " AR                 2\n",
       " AR (BPS)           1\n",
       " ARGENTINA          1"
      ]
     },
     "execution_count": 92,
     "metadata": {},
     "output_type": "execute_result"
    }
   ],
   "source": [
    "Port_locations_df.groupby(['Port_State']).agg({'Port_Code':'count' }).head()"
   ]
  },
  {
   "cell_type": "code",
   "execution_count": 93,
   "metadata": {
    "editable": true
   },
   "outputs": [
    {
     "data": {
      "text/html": [
       "<div>\n",
       "<style scoped>\n",
       "    .dataframe tbody tr th:only-of-type {\n",
       "        vertical-align: middle;\n",
       "    }\n",
       "\n",
       "    .dataframe tbody tr th {\n",
       "        vertical-align: top;\n",
       "    }\n",
       "\n",
       "    .dataframe thead th {\n",
       "        text-align: right;\n",
       "    }\n",
       "</style>\n",
       "<table border=\"1\" class=\"dataframe\">\n",
       "  <thead>\n",
       "    <tr style=\"text-align: right;\">\n",
       "      <th></th>\n",
       "      <th>Port_City</th>\n",
       "    </tr>\n",
       "    <tr>\n",
       "      <th>Port_State</th>\n",
       "      <th></th>\n",
       "    </tr>\n",
       "  </thead>\n",
       "  <tbody>\n",
       "    <tr>\n",
       "      <th>TX</th>\n",
       "      <td>47</td>\n",
       "    </tr>\n",
       "    <tr>\n",
       "      <th>NY</th>\n",
       "      <td>34</td>\n",
       "    </tr>\n",
       "    <tr>\n",
       "      <th>WA</th>\n",
       "      <td>30</td>\n",
       "    </tr>\n",
       "    <tr>\n",
       "      <th>FL</th>\n",
       "      <td>29</td>\n",
       "    </tr>\n",
       "    <tr>\n",
       "      <th>CA</th>\n",
       "      <td>26</td>\n",
       "    </tr>\n",
       "  </tbody>\n",
       "</table>\n",
       "</div>"
      ],
      "text/plain": [
       "            Port_City\n",
       "Port_State           \n",
       " TX                47\n",
       " NY                34\n",
       " WA                30\n",
       " FL                29\n",
       " CA                26"
      ]
     },
     "execution_count": 93,
     "metadata": {},
     "output_type": "execute_result"
    }
   ],
   "source": [
    "# counting number of ports by each state in high to low order\n",
    "Port_locations_df.groupby(['Port_State']).agg({'Port_City':'count' })\\\n",
    "                     .sort_values(by='Port_City', ascending=False).head(5)"
   ]
  },
  {
   "cell_type": "markdown",
   "metadata": {
    "editable": true
   },
   "source": [
    "### `Quick Query 18: `"
   ]
  },
  {
   "cell_type": "code",
   "execution_count": 94,
   "metadata": {
    "editable": true
   },
   "outputs": [
    {
     "name": "stdout",
     "output_type": "stream",
     "text": [
      "Finding Distinct number of Port, City and State count: \n",
      "+-----------+----------+--------------+\n",
      "|Total_Ports|Total_City|Distinct_State|\n",
      "+-----------+----------+--------------+\n",
      "|        592|       567|           111|\n",
      "+-----------+----------+--------------+\n",
      "\n"
     ]
    }
   ],
   "source": [
    "print(\"Finding Distinct number of Port, City and State count: \")\n",
    "Port_locations_df = spark.createDataFrame(Port_locations_df)\n",
    "Port_locations_df.createOrReplaceTempView(\"Port_City_df\")\n",
    "\n",
    "Total_City_Port_State = spark.sql(\"SELECT count(distinct Port_Code) AS Total_Ports, \\\n",
    "                                       count(distinct Port_City) AS Total_City, \\\n",
    "                                         count(distinct Port_State) AS Distinct_State \\\n",
    "                                            FROM Port_City_df\").show() "
   ]
  },
  {
   "cell_type": "markdown",
   "metadata": {
    "editable": true
   },
   "source": [
    "> Sending this `dim_Port_locations` file as a dimension table into the WorkSpace cloud"
   ]
  },
  {
   "cell_type": "code",
   "execution_count": 95,
   "metadata": {
    "editable": true
   },
   "outputs": [],
   "source": [
    "Port_locations_df.write.mode(\"overwrite\").parquet(path=output_data + 'dim_Port_locations/')"
   ]
  },
  {
   "cell_type": "markdown",
   "metadata": {
    "editable": true
   },
   "source": [
    "+ Data quality checks with `Port_locations_df` table."
   ]
  },
  {
   "cell_type": "code",
   "execution_count": 96,
   "metadata": {
    "editable": true
   },
   "outputs": [
    {
     "name": "stdout",
     "output_type": "stream",
     "text": [
      "The 'Port_locations_df' table: \n",
      "is not empty, it has total 592 records.\n"
     ]
    }
   ],
   "source": [
    "print(\"The 'Port_locations_df' table: \") \n",
    "record_count(Port_locations_df)"
   ]
  },
  {
   "cell_type": "markdown",
   "metadata": {
    "editable": true
   },
   "source": [
    "### `L2` - `Country Codes` and `Names:` "
   ]
  },
  {
   "cell_type": "markdown",
   "metadata": {
    "editable": true
   },
   "source": [
    "> The county column `(i94cntyl)` with immigration table is coded with integers. Here I'll decode them to `country names` from the given SAS Label file. This conversion will give us country names, where the immigrants came from to USA."
   ]
  },
  {
   "cell_type": "code",
   "execution_count": 97,
   "metadata": {
    "editable": true
   },
   "outputs": [],
   "source": [
    "# Stripping, Slicing and Splitting row values\n",
    "Label_Contents = [country.strip() for country in Label_Contents]\n",
    "Countries = Label_Contents[10:245]\n",
    "Splitted_country = [country.split(\"=\") for country in Countries]\n",
    "\n",
    "# Replacing & Stripping regular expressions\n",
    "Country_Code = [country[0].replace(\"'\",\"\").strip() for country in Splitted_country]\n",
    "Country_Name = [country[1].replace(\"'\",\"\").strip() for country in Splitted_country]"
   ]
  },
  {
   "cell_type": "code",
   "execution_count": 98,
   "metadata": {
    "editable": true
   },
   "outputs": [
    {
     "data": {
      "text/html": [
       "<div>\n",
       "<style scoped>\n",
       "    .dataframe tbody tr th:only-of-type {\n",
       "        vertical-align: middle;\n",
       "    }\n",
       "\n",
       "    .dataframe tbody tr th {\n",
       "        vertical-align: top;\n",
       "    }\n",
       "\n",
       "    .dataframe thead th {\n",
       "        text-align: right;\n",
       "    }\n",
       "</style>\n",
       "<table border=\"1\" class=\"dataframe\">\n",
       "  <thead>\n",
       "    <tr style=\"text-align: right;\">\n",
       "      <th></th>\n",
       "      <th>Country_Codes</th>\n",
       "      <th>Country_Names</th>\n",
       "    </tr>\n",
       "  </thead>\n",
       "  <tbody>\n",
       "    <tr>\n",
       "      <th>0</th>\n",
       "      <td>236</td>\n",
       "      <td>AFGHANISTAN</td>\n",
       "    </tr>\n",
       "    <tr>\n",
       "      <th>1</th>\n",
       "      <td>101</td>\n",
       "      <td>ALBANIA</td>\n",
       "    </tr>\n",
       "    <tr>\n",
       "      <th>2</th>\n",
       "      <td>316</td>\n",
       "      <td>ALGERIA</td>\n",
       "    </tr>\n",
       "  </tbody>\n",
       "</table>\n",
       "</div>"
      ],
      "text/plain": [
       "  Country_Codes Country_Names\n",
       "0           236   AFGHANISTAN\n",
       "1           101       ALBANIA\n",
       "2           316       ALGERIA"
      ]
     },
     "execution_count": 98,
     "metadata": {},
     "output_type": "execute_result"
    }
   ],
   "source": [
    "# inplacing country codes and names in a data frame\n",
    "dim_Country_Codes = pd.DataFrame({\"Country_Codes\" : Country_Code, \\\n",
    "                                  \"Country_Names\": Country_Name})\n",
    "dim_Country_Codes.head(3)"
   ]
  },
  {
   "cell_type": "code",
   "execution_count": 99,
   "metadata": {
    "editable": true
   },
   "outputs": [
    {
     "data": {
      "text/plain": [
       "Country_Codes    235\n",
       "Country_Names    235\n",
       "dtype: int64"
      ]
     },
     "execution_count": 99,
     "metadata": {},
     "output_type": "execute_result"
    }
   ],
   "source": [
    "# counting number of country\n",
    "dim_Country_Codes.count()"
   ]
  },
  {
   "cell_type": "code",
   "execution_count": 100,
   "metadata": {
    "editable": true
   },
   "outputs": [
    {
     "data": {
      "text/html": [
       "<div>\n",
       "<style scoped>\n",
       "    .dataframe tbody tr th:only-of-type {\n",
       "        vertical-align: middle;\n",
       "    }\n",
       "\n",
       "    .dataframe tbody tr th {\n",
       "        vertical-align: top;\n",
       "    }\n",
       "\n",
       "    .dataframe thead th {\n",
       "        text-align: right;\n",
       "    }\n",
       "</style>\n",
       "<table border=\"1\" class=\"dataframe\">\n",
       "  <thead>\n",
       "    <tr style=\"text-align: right;\">\n",
       "      <th></th>\n",
       "      <th>Country_Codes</th>\n",
       "      <th>Country_Names</th>\n",
       "    </tr>\n",
       "  </thead>\n",
       "  <tbody>\n",
       "    <tr>\n",
       "      <th>0</th>\n",
       "      <td>236</td>\n",
       "      <td>AFGHANISTAN</td>\n",
       "    </tr>\n",
       "    <tr>\n",
       "      <th>1</th>\n",
       "      <td>101</td>\n",
       "      <td>ALBANIA</td>\n",
       "    </tr>\n",
       "    <tr>\n",
       "      <th>2</th>\n",
       "      <td>316</td>\n",
       "      <td>ALGERIA</td>\n",
       "    </tr>\n",
       "    <tr>\n",
       "      <th>3</th>\n",
       "      <td>102</td>\n",
       "      <td>ANDORRA</td>\n",
       "    </tr>\n",
       "    <tr>\n",
       "      <th>4</th>\n",
       "      <td>324</td>\n",
       "      <td>ANGOLA</td>\n",
       "    </tr>\n",
       "    <tr>\n",
       "      <th>5</th>\n",
       "      <td>529</td>\n",
       "      <td>ANGUILLA</td>\n",
       "    </tr>\n",
       "    <tr>\n",
       "      <th>6</th>\n",
       "      <td>518</td>\n",
       "      <td>ANTIGUA-BARBUDA</td>\n",
       "    </tr>\n",
       "    <tr>\n",
       "      <th>7</th>\n",
       "      <td>687</td>\n",
       "      <td>ARGENTINA</td>\n",
       "    </tr>\n",
       "    <tr>\n",
       "      <th>8</th>\n",
       "      <td>151</td>\n",
       "      <td>ARMENIA</td>\n",
       "    </tr>\n",
       "    <tr>\n",
       "      <th>9</th>\n",
       "      <td>532</td>\n",
       "      <td>ARUBA</td>\n",
       "    </tr>\n",
       "    <tr>\n",
       "      <th>10</th>\n",
       "      <td>438</td>\n",
       "      <td>AUSTRALIA</td>\n",
       "    </tr>\n",
       "    <tr>\n",
       "      <th>11</th>\n",
       "      <td>103</td>\n",
       "      <td>AUSTRIA</td>\n",
       "    </tr>\n",
       "    <tr>\n",
       "      <th>12</th>\n",
       "      <td>152</td>\n",
       "      <td>AZERBAIJAN</td>\n",
       "    </tr>\n",
       "    <tr>\n",
       "      <th>13</th>\n",
       "      <td>512</td>\n",
       "      <td>BAHAMAS</td>\n",
       "    </tr>\n",
       "    <tr>\n",
       "      <th>14</th>\n",
       "      <td>298</td>\n",
       "      <td>BAHRAIN</td>\n",
       "    </tr>\n",
       "    <tr>\n",
       "      <th>15</th>\n",
       "      <td>274</td>\n",
       "      <td>BANGLADESH</td>\n",
       "    </tr>\n",
       "    <tr>\n",
       "      <th>16</th>\n",
       "      <td>513</td>\n",
       "      <td>BARBADOS</td>\n",
       "    </tr>\n",
       "    <tr>\n",
       "      <th>17</th>\n",
       "      <td>104</td>\n",
       "      <td>BELGIUM</td>\n",
       "    </tr>\n",
       "    <tr>\n",
       "      <th>18</th>\n",
       "      <td>581</td>\n",
       "      <td>BELIZE</td>\n",
       "    </tr>\n",
       "    <tr>\n",
       "      <th>19</th>\n",
       "      <td>386</td>\n",
       "      <td>BENIN</td>\n",
       "    </tr>\n",
       "    <tr>\n",
       "      <th>20</th>\n",
       "      <td>509</td>\n",
       "      <td>BERMUDA</td>\n",
       "    </tr>\n",
       "    <tr>\n",
       "      <th>21</th>\n",
       "      <td>153</td>\n",
       "      <td>BELARUS</td>\n",
       "    </tr>\n",
       "    <tr>\n",
       "      <th>22</th>\n",
       "      <td>242</td>\n",
       "      <td>BHUTAN</td>\n",
       "    </tr>\n",
       "    <tr>\n",
       "      <th>23</th>\n",
       "      <td>688</td>\n",
       "      <td>BOLIVIA</td>\n",
       "    </tr>\n",
       "    <tr>\n",
       "      <th>24</th>\n",
       "      <td>717</td>\n",
       "      <td>BONAIRE, ST EUSTATIUS, SABA</td>\n",
       "    </tr>\n",
       "    <tr>\n",
       "      <th>25</th>\n",
       "      <td>164</td>\n",
       "      <td>BOSNIA-HERZEGOVINA</td>\n",
       "    </tr>\n",
       "    <tr>\n",
       "      <th>26</th>\n",
       "      <td>336</td>\n",
       "      <td>BOTSWANA</td>\n",
       "    </tr>\n",
       "    <tr>\n",
       "      <th>27</th>\n",
       "      <td>689</td>\n",
       "      <td>BRAZIL</td>\n",
       "    </tr>\n",
       "    <tr>\n",
       "      <th>28</th>\n",
       "      <td>525</td>\n",
       "      <td>BRITISH VIRGIN ISLANDS</td>\n",
       "    </tr>\n",
       "    <tr>\n",
       "      <th>29</th>\n",
       "      <td>217</td>\n",
       "      <td>BRUNEI</td>\n",
       "    </tr>\n",
       "    <tr>\n",
       "      <th>...</th>\n",
       "      <td>...</td>\n",
       "      <td>...</td>\n",
       "    </tr>\n",
       "    <tr>\n",
       "      <th>205</th>\n",
       "      <td>268</td>\n",
       "      <td>TAIWAN</td>\n",
       "    </tr>\n",
       "    <tr>\n",
       "      <th>206</th>\n",
       "      <td>159</td>\n",
       "      <td>TAJIKISTAN</td>\n",
       "    </tr>\n",
       "    <tr>\n",
       "      <th>207</th>\n",
       "      <td>353</td>\n",
       "      <td>TANZANIA</td>\n",
       "    </tr>\n",
       "    <tr>\n",
       "      <th>208</th>\n",
       "      <td>263</td>\n",
       "      <td>THAILAND</td>\n",
       "    </tr>\n",
       "    <tr>\n",
       "      <th>209</th>\n",
       "      <td>304</td>\n",
       "      <td>TOGO</td>\n",
       "    </tr>\n",
       "    <tr>\n",
       "      <th>210</th>\n",
       "      <td>417</td>\n",
       "      <td>TONGA</td>\n",
       "    </tr>\n",
       "    <tr>\n",
       "      <th>211</th>\n",
       "      <td>516</td>\n",
       "      <td>TRINIDAD AND TOBAGO</td>\n",
       "    </tr>\n",
       "    <tr>\n",
       "      <th>212</th>\n",
       "      <td>323</td>\n",
       "      <td>TUNISIA</td>\n",
       "    </tr>\n",
       "    <tr>\n",
       "      <th>213</th>\n",
       "      <td>264</td>\n",
       "      <td>TURKEY</td>\n",
       "    </tr>\n",
       "    <tr>\n",
       "      <th>214</th>\n",
       "      <td>161</td>\n",
       "      <td>TURKMENISTAN</td>\n",
       "    </tr>\n",
       "    <tr>\n",
       "      <th>215</th>\n",
       "      <td>527</td>\n",
       "      <td>TURKS AND CAICOS ISLANDS</td>\n",
       "    </tr>\n",
       "    <tr>\n",
       "      <th>216</th>\n",
       "      <td>420</td>\n",
       "      <td>TUVALU</td>\n",
       "    </tr>\n",
       "    <tr>\n",
       "      <th>217</th>\n",
       "      <td>352</td>\n",
       "      <td>UGANDA</td>\n",
       "    </tr>\n",
       "    <tr>\n",
       "      <th>218</th>\n",
       "      <td>162</td>\n",
       "      <td>UKRAINE</td>\n",
       "    </tr>\n",
       "    <tr>\n",
       "      <th>219</th>\n",
       "      <td>296</td>\n",
       "      <td>UNITED ARAB EMIRATES</td>\n",
       "    </tr>\n",
       "    <tr>\n",
       "      <th>220</th>\n",
       "      <td>135</td>\n",
       "      <td>UNITED KINGDOM</td>\n",
       "    </tr>\n",
       "    <tr>\n",
       "      <th>221</th>\n",
       "      <td>695</td>\n",
       "      <td>URUGUAY</td>\n",
       "    </tr>\n",
       "    <tr>\n",
       "      <th>222</th>\n",
       "      <td>163</td>\n",
       "      <td>UZBEKISTAN</td>\n",
       "    </tr>\n",
       "    <tr>\n",
       "      <th>223</th>\n",
       "      <td>410</td>\n",
       "      <td>VANUATU</td>\n",
       "    </tr>\n",
       "    <tr>\n",
       "      <th>224</th>\n",
       "      <td>696</td>\n",
       "      <td>VENEZUELA</td>\n",
       "    </tr>\n",
       "    <tr>\n",
       "      <th>225</th>\n",
       "      <td>266</td>\n",
       "      <td>VIETNAM</td>\n",
       "    </tr>\n",
       "    <tr>\n",
       "      <th>226</th>\n",
       "      <td>469</td>\n",
       "      <td>WALLIS AND FUTUNA ISLANDS</td>\n",
       "    </tr>\n",
       "    <tr>\n",
       "      <th>227</th>\n",
       "      <td>757</td>\n",
       "      <td>WEST INDIES (FRENCH)</td>\n",
       "    </tr>\n",
       "    <tr>\n",
       "      <th>228</th>\n",
       "      <td>333</td>\n",
       "      <td>WESTERN SAHARA</td>\n",
       "    </tr>\n",
       "    <tr>\n",
       "      <th>229</th>\n",
       "      <td>465</td>\n",
       "      <td>WESTERN SAMOA</td>\n",
       "    </tr>\n",
       "    <tr>\n",
       "      <th>230</th>\n",
       "      <td>216</td>\n",
       "      <td>YEMEN</td>\n",
       "    </tr>\n",
       "    <tr>\n",
       "      <th>231</th>\n",
       "      <td>139</td>\n",
       "      <td>YUGOSLAVIA</td>\n",
       "    </tr>\n",
       "    <tr>\n",
       "      <th>232</th>\n",
       "      <td>301</td>\n",
       "      <td>ZAIRE</td>\n",
       "    </tr>\n",
       "    <tr>\n",
       "      <th>233</th>\n",
       "      <td>344</td>\n",
       "      <td>ZAMBIA</td>\n",
       "    </tr>\n",
       "    <tr>\n",
       "      <th>234</th>\n",
       "      <td>315</td>\n",
       "      <td>ZIMBABWE</td>\n",
       "    </tr>\n",
       "  </tbody>\n",
       "</table>\n",
       "<p>235 rows × 2 columns</p>\n",
       "</div>"
      ],
      "text/plain": [
       "    Country_Codes                Country_Names\n",
       "0             236                  AFGHANISTAN\n",
       "1             101                      ALBANIA\n",
       "2             316                      ALGERIA\n",
       "3             102                      ANDORRA\n",
       "4             324                       ANGOLA\n",
       "5             529                     ANGUILLA\n",
       "6             518              ANTIGUA-BARBUDA\n",
       "7             687                    ARGENTINA\n",
       "8             151                      ARMENIA\n",
       "9             532                        ARUBA\n",
       "10            438                    AUSTRALIA\n",
       "11            103                      AUSTRIA\n",
       "12            152                   AZERBAIJAN\n",
       "13            512                      BAHAMAS\n",
       "14            298                      BAHRAIN\n",
       "15            274                   BANGLADESH\n",
       "16            513                     BARBADOS\n",
       "17            104                      BELGIUM\n",
       "18            581                       BELIZE\n",
       "19            386                        BENIN\n",
       "20            509                      BERMUDA\n",
       "21            153                      BELARUS\n",
       "22            242                       BHUTAN\n",
       "23            688                      BOLIVIA\n",
       "24            717  BONAIRE, ST EUSTATIUS, SABA\n",
       "25            164           BOSNIA-HERZEGOVINA\n",
       "26            336                     BOTSWANA\n",
       "27            689                       BRAZIL\n",
       "28            525       BRITISH VIRGIN ISLANDS\n",
       "29            217                       BRUNEI\n",
       "..            ...                          ...\n",
       "205           268                       TAIWAN\n",
       "206           159                   TAJIKISTAN\n",
       "207           353                     TANZANIA\n",
       "208           263                     THAILAND\n",
       "209           304                         TOGO\n",
       "210           417                        TONGA\n",
       "211           516          TRINIDAD AND TOBAGO\n",
       "212           323                      TUNISIA\n",
       "213           264                       TURKEY\n",
       "214           161                 TURKMENISTAN\n",
       "215           527     TURKS AND CAICOS ISLANDS\n",
       "216           420                       TUVALU\n",
       "217           352                       UGANDA\n",
       "218           162                      UKRAINE\n",
       "219           296         UNITED ARAB EMIRATES\n",
       "220           135               UNITED KINGDOM\n",
       "221           695                      URUGUAY\n",
       "222           163                   UZBEKISTAN\n",
       "223           410                      VANUATU\n",
       "224           696                    VENEZUELA\n",
       "225           266                      VIETNAM\n",
       "226           469    WALLIS AND FUTUNA ISLANDS\n",
       "227           757         WEST INDIES (FRENCH)\n",
       "228           333               WESTERN SAHARA\n",
       "229           465                WESTERN SAMOA\n",
       "230           216                        YEMEN\n",
       "231           139                   YUGOSLAVIA\n",
       "232           301                        ZAIRE\n",
       "233           344                       ZAMBIA\n",
       "234           315                     ZIMBABWE\n",
       "\n",
       "[235 rows x 2 columns]"
      ]
     },
     "execution_count": 100,
     "metadata": {},
     "output_type": "execute_result"
    }
   ],
   "source": [
    "#Country_Codes_df = Country_Codes_df.drop(Country_Codes_df.index[235:])\n",
    "dim_Country_Codes.head(235)"
   ]
  },
  {
   "cell_type": "code",
   "execution_count": 101,
   "metadata": {
    "editable": true
   },
   "outputs": [
    {
     "name": "stdout",
     "output_type": "stream",
     "text": [
      "<class 'pandas.core.frame.DataFrame'>\n",
      "RangeIndex: 235 entries, 0 to 234\n",
      "Data columns (total 2 columns):\n",
      "Country_Codes    235 non-null object\n",
      "Country_Names    235 non-null object\n",
      "dtypes: object(2)\n",
      "memory usage: 3.8+ KB\n"
     ]
    }
   ],
   "source": [
    "dim_Country_Codes.info()"
   ]
  },
  {
   "cell_type": "code",
   "execution_count": 102,
   "metadata": {
    "editable": true
   },
   "outputs": [],
   "source": [
    "# I'm converting 'Country_Codes_df' to a spark data frame\n",
    "dim_Country_Codes = spark.createDataFrame(dim_Country_Codes)"
   ]
  },
  {
   "cell_type": "code",
   "execution_count": 103,
   "metadata": {
    "editable": true
   },
   "outputs": [
    {
     "name": "stdout",
     "output_type": "stream",
     "text": [
      "root\n",
      " |-- Country_Codes: integer (nullable = true)\n",
      " |-- Country_Names: string (nullable = true)\n",
      "\n"
     ]
    }
   ],
   "source": [
    "# casting \"Country codes\" into an \"Integer Type\" data\n",
    "dim_Country_Codes = dim_Country_Codes.withColumn(\"Country_Codes\", col(\"Country_Codes\").cast(IntegerType()))\n",
    "dim_Country_Codes.printSchema()"
   ]
  },
  {
   "cell_type": "code",
   "execution_count": 104,
   "metadata": {
    "editable": true
   },
   "outputs": [
    {
     "name": "stdout",
     "output_type": "stream",
     "text": [
      "+-------------+-------------+\n",
      "|Country_Codes|Country_Names|\n",
      "+-------------+-------------+\n",
      "|          236|  AFGHANISTAN|\n",
      "|          101|      ALBANIA|\n",
      "|          316|      ALGERIA|\n",
      "|          102|      ANDORRA|\n",
      "|          324|       ANGOLA|\n",
      "+-------------+-------------+\n",
      "only showing top 5 rows\n",
      "\n"
     ]
    }
   ],
   "source": [
    "dim_Country_Codes.show(5)"
   ]
  },
  {
   "cell_type": "code",
   "execution_count": 105,
   "metadata": {
    "editable": true
   },
   "outputs": [
    {
     "data": {
      "text/plain": [
       "Row(count(Country_Names)=235, count(Country_Codes)=235)"
      ]
     },
     "execution_count": 105,
     "metadata": {},
     "output_type": "execute_result"
    }
   ],
   "source": [
    "dim_Country_Codes.agg({'Country_Codes': 'count', 'Country_Names':'count'}).head()"
   ]
  },
  {
   "cell_type": "code",
   "execution_count": 106,
   "metadata": {
    "editable": true
   },
   "outputs": [
    {
     "name": "stdout",
     "output_type": "stream",
     "text": [
      "Viewing country names from the country code: \n",
      "\n",
      "+-------------+--------------------+\n",
      "|Country_Codes|       Country_Names|\n",
      "+-------------+--------------------+\n",
      "|          236|         AFGHANISTAN|\n",
      "|          101|             ALBANIA|\n",
      "|          316|             ALGERIA|\n",
      "|          102|             ANDORRA|\n",
      "|          324|              ANGOLA|\n",
      "|          529|            ANGUILLA|\n",
      "|          518|     ANTIGUA-BARBUDA|\n",
      "|          687|           ARGENTINA|\n",
      "|          151|             ARMENIA|\n",
      "|          532|               ARUBA|\n",
      "|          438|           AUSTRALIA|\n",
      "|          103|             AUSTRIA|\n",
      "|          152|          AZERBAIJAN|\n",
      "|          512|             BAHAMAS|\n",
      "|          298|             BAHRAIN|\n",
      "|          274|          BANGLADESH|\n",
      "|          513|            BARBADOS|\n",
      "|          104|             BELGIUM|\n",
      "|          581|              BELIZE|\n",
      "|          386|               BENIN|\n",
      "|          509|             BERMUDA|\n",
      "|          153|             BELARUS|\n",
      "|          242|              BHUTAN|\n",
      "|          688|             BOLIVIA|\n",
      "|          717|BONAIRE, ST EUSTA...|\n",
      "|          164|  BOSNIA-HERZEGOVINA|\n",
      "|          336|            BOTSWANA|\n",
      "|          689|              BRAZIL|\n",
      "|          525|BRITISH VIRGIN IS...|\n",
      "|          217|              BRUNEI|\n",
      "|          105|            BULGARIA|\n",
      "|          393|        BURKINA FASO|\n",
      "|          243|               BURMA|\n",
      "|          375|             BURUNDI|\n",
      "|          310|            CAMEROON|\n",
      "|          326|          CAPE VERDE|\n",
      "|          526|      CAYMAN ISLANDS|\n",
      "|          383|CENTRAL AFRICAN R...|\n",
      "|          384|                CHAD|\n",
      "|          690|               CHILE|\n",
      "|          245|          CHINA, PRC|\n",
      "|          721|             CURACAO|\n",
      "|          270|    CHRISTMAS ISLAND|\n",
      "|          271|       COCOS ISLANDS|\n",
      "|          691|            COLOMBIA|\n",
      "|          317|             COMOROS|\n",
      "|          385|               CONGO|\n",
      "|          467|        COOK ISLANDS|\n",
      "|          575|          COSTA RICA|\n",
      "|          165|             CROATIA|\n",
      "|          584|                CUBA|\n",
      "|          218|              CYPRUS|\n",
      "|          140|      CZECH REPUBLIC|\n",
      "|          723|FAROE ISLANDS (PA...|\n",
      "|          108|             DENMARK|\n",
      "|          322|            DJIBOUTI|\n",
      "|          519|            DOMINICA|\n",
      "|          585|  DOMINICAN REPUBLIC|\n",
      "|          240|          EAST TIMOR|\n",
      "|          692|             ECUADOR|\n",
      "|          368|               EGYPT|\n",
      "|          576|         EL SALVADOR|\n",
      "|          399|   EQUATORIAL GUINEA|\n",
      "|          372|             ERITREA|\n",
      "|          109|             ESTONIA|\n",
      "|          369|            ETHIOPIA|\n",
      "|          604|    FALKLAND ISLANDS|\n",
      "|          413|                FIJI|\n",
      "|          110|             FINLAND|\n",
      "|          111|              FRANCE|\n",
      "|          601|       FRENCH GUIANA|\n",
      "|          411|    FRENCH POLYNESIA|\n",
      "|          387|               GABON|\n",
      "|          338|              GAMBIA|\n",
      "|          758|          GAZA STRIP|\n",
      "|          154|             GEORGIA|\n",
      "|          112|             GERMANY|\n",
      "|          339|               GHANA|\n",
      "|          143|           GIBRALTAR|\n",
      "|          113|              GREECE|\n",
      "|          520|             GRENADA|\n",
      "|          507|          GUADELOUPE|\n",
      "|          577|           GUATEMALA|\n",
      "|          382|              GUINEA|\n",
      "|          327|       GUINEA-BISSAU|\n",
      "|          603|              GUYANA|\n",
      "|          586|               HAITI|\n",
      "|          726|HEARD AND MCDONAL...|\n",
      "|          149|    HOLY SEE/VATICAN|\n",
      "|          528|            HONDURAS|\n",
      "|          206|           HONG KONG|\n",
      "|          114|             HUNGARY|\n",
      "|          115|             ICELAND|\n",
      "|          213|               INDIA|\n",
      "|          759|INDIAN OCEAN AREA...|\n",
      "|          729|INDIAN OCEAN TERR...|\n",
      "|          204|           INDONESIA|\n",
      "|          249|                IRAN|\n",
      "|          250|                IRAQ|\n",
      "|          116|             IRELAND|\n",
      "|          251|              ISRAEL|\n",
      "|          117|               ITALY|\n",
      "|          388|         IVORY COAST|\n",
      "|          514|             JAMAICA|\n",
      "|          209|               JAPAN|\n",
      "|          253|              JORDAN|\n",
      "|          201|           KAMPUCHEA|\n",
      "|          155|          KAZAKHSTAN|\n",
      "|          340|               KENYA|\n",
      "|          414|            KIRIBATI|\n",
      "|          732|              KOSOVO|\n",
      "|          272|              KUWAIT|\n",
      "|          156|          KYRGYZSTAN|\n",
      "|          203|                LAOS|\n",
      "|          118|              LATVIA|\n",
      "|          255|             LEBANON|\n",
      "|          335|             LESOTHO|\n",
      "|          370|             LIBERIA|\n",
      "|          381|               LIBYA|\n",
      "|          119|       LIECHTENSTEIN|\n",
      "|          120|           LITHUANIA|\n",
      "|          121|          LUXEMBOURG|\n",
      "|          214|               MACAU|\n",
      "|          167|           MACEDONIA|\n",
      "|          320|          MADAGASCAR|\n",
      "|          345|              MALAWI|\n",
      "|          273|            MALAYSIA|\n",
      "|          220|            MALDIVES|\n",
      "|          392|                MALI|\n",
      "|          145|               MALTA|\n",
      "|          472|    MARSHALL ISLANDS|\n",
      "|          511|          MARTINIQUE|\n",
      "|          389|          MAURITANIA|\n",
      "|          342|           MAURITIUS|\n",
      "|          760|MAYOTTE (AFRICA -...|\n",
      "|          473|MICRONESIA, FED. ...|\n",
      "|          157|             MOLDOVA|\n",
      "|          122|              MONACO|\n",
      "|          299|            MONGOLIA|\n",
      "|          735|          MONTENEGRO|\n",
      "|          521|          MONTSERRAT|\n",
      "|          332|             MOROCCO|\n",
      "|          329|          MOZAMBIQUE|\n",
      "|          371|             NAMIBIA|\n",
      "|          440|               NAURU|\n",
      "|          257|               NEPAL|\n",
      "|          123|         NETHERLANDS|\n",
      "|          508|NETHERLANDS ANTILLES|\n",
      "|          409|       NEW CALEDONIA|\n",
      "|          464|         NEW ZEALAND|\n",
      "|          579|           NICARAGUA|\n",
      "|          390|               NIGER|\n",
      "|          343|             NIGERIA|\n",
      "|          470|                NIUE|\n",
      "|          275|         NORTH KOREA|\n",
      "|          124|              NORWAY|\n",
      "|          256|                OMAN|\n",
      "|          258|            PAKISTAN|\n",
      "|          474|               PALAU|\n",
      "|          743|           PALESTINE|\n",
      "|          504|              PANAMA|\n",
      "|          441|    PAPUA NEW GUINEA|\n",
      "|          693|            PARAGUAY|\n",
      "|          694|                PERU|\n",
      "|          260|         PHILIPPINES|\n",
      "|          416|    PITCAIRN ISLANDS|\n",
      "|          107|              POLAND|\n",
      "|          126|            PORTUGAL|\n",
      "|          297|               QATAR|\n",
      "|          748|REPUBLIC OF SOUTH...|\n",
      "|          321|             REUNION|\n",
      "|          127|             ROMANIA|\n",
      "|          158|              RUSSIA|\n",
      "|          376|              RWANDA|\n",
      "|          128|          SAN MARINO|\n",
      "|          330|SAO TOME AND PRIN...|\n",
      "|          261|        SAUDI ARABIA|\n",
      "|          391|             SENEGAL|\n",
      "|          142|SERBIA AND MONTEN...|\n",
      "|          745|              SERBIA|\n",
      "|          347|          SEYCHELLES|\n",
      "|          348|        SIERRA LEONE|\n",
      "|          207|           SINGAPORE|\n",
      "|          141|            SLOVAKIA|\n",
      "|          166|            SLOVENIA|\n",
      "|          412|     SOLOMON ISLANDS|\n",
      "|          397|             SOMALIA|\n",
      "|          373|        SOUTH AFRICA|\n",
      "|          276|         SOUTH KOREA|\n",
      "|          129|               SPAIN|\n",
      "|          244|           SRI LANKA|\n",
      "|          346|          ST. HELENA|\n",
      "|          522|     ST. KITTS-NEVIS|\n",
      "|          523|           ST. LUCIA|\n",
      "|          502|ST. PIERRE AND MI...|\n",
      "|          524|ST. VINCENT-GRENA...|\n",
      "|          716|    SAINT BARTHELEMY|\n",
      "|          736|        SAINT MARTIN|\n",
      "|          749|       SAINT MAARTEN|\n",
      "|          350|               SUDAN|\n",
      "|          602|            SURINAME|\n",
      "|          351|           SWAZILAND|\n",
      "|          130|              SWEDEN|\n",
      "|          131|         SWITZERLAND|\n",
      "|          262|               SYRIA|\n",
      "|          268|              TAIWAN|\n",
      "|          159|          TAJIKISTAN|\n",
      "|          353|            TANZANIA|\n",
      "|          263|            THAILAND|\n",
      "|          304|                TOGO|\n",
      "|          417|               TONGA|\n",
      "|          516| TRINIDAD AND TOBAGO|\n",
      "|          323|             TUNISIA|\n",
      "|          264|              TURKEY|\n",
      "|          161|        TURKMENISTAN|\n",
      "|          527|TURKS AND CAICOS ...|\n",
      "|          420|              TUVALU|\n",
      "|          352|              UGANDA|\n",
      "|          162|             UKRAINE|\n",
      "|          296|UNITED ARAB EMIRATES|\n",
      "|          135|      UNITED KINGDOM|\n",
      "|          695|             URUGUAY|\n",
      "|          163|          UZBEKISTAN|\n",
      "|          410|             VANUATU|\n",
      "|          696|           VENEZUELA|\n",
      "|          266|             VIETNAM|\n",
      "|          469|WALLIS AND FUTUNA...|\n",
      "|          757|WEST INDIES (FRENCH)|\n",
      "|          333|      WESTERN SAHARA|\n",
      "|          465|       WESTERN SAMOA|\n",
      "|          216|               YEMEN|\n",
      "|          139|          YUGOSLAVIA|\n",
      "|          301|               ZAIRE|\n",
      "|          344|              ZAMBIA|\n",
      "|          315|            ZIMBABWE|\n",
      "+-------------+--------------------+\n",
      "\n"
     ]
    }
   ],
   "source": [
    "print(\"Viewing country names from the country code: \\n\")\n",
    "dim_Country_Codes.groupBy('Country_Names').count().orderBy('count', ascending=True)\n",
    "dim_Country_Codes.show(235)"
   ]
  },
  {
   "cell_type": "markdown",
   "metadata": {
    "editable": true
   },
   "source": [
    "+ Sending `Country_Codes_df` table as dimension table to the cloud"
   ]
  },
  {
   "cell_type": "code",
   "execution_count": 107,
   "metadata": {
    "editable": true
   },
   "outputs": [],
   "source": [
    "dim_Country_Codes.write.mode(\"overwrite\").parquet(path=output_data + 'dim_Country_Codes/')"
   ]
  },
  {
   "cell_type": "markdown",
   "metadata": {
    "editable": true
   },
   "source": [
    "+ Data quality checks with `dim_Country_Codes` table."
   ]
  },
  {
   "cell_type": "code",
   "execution_count": 108,
   "metadata": {
    "editable": true
   },
   "outputs": [
    {
     "name": "stdout",
     "output_type": "stream",
     "text": [
      "The 'dim_Country_Codes' table: \n",
      "is not empty, it has total 235 records.\n"
     ]
    }
   ],
   "source": [
    "print(\"The 'dim_Country_Codes' table: \") \n",
    "record_count(dim_Country_Codes)"
   ]
  },
  {
   "cell_type": "markdown",
   "metadata": {
    "editable": true
   },
   "source": [
    "### `Quick Query 19: `"
   ]
  },
  {
   "cell_type": "markdown",
   "metadata": {
    "editable": true
   },
   "source": [
    "Country codes gives us a clear understanding about the country names where the immigrants came from.\n",
    "\n",
    "+ `19.1:` While Immigrants/Tourists `Citizenship & Residence country` is the same."
   ]
  },
  {
   "cell_type": "code",
   "execution_count": 109,
   "metadata": {
    "editable": true
   },
   "outputs": [
    {
     "name": "stdout",
     "output_type": "stream",
     "text": [
      "Finding Immigrants Country of Origin and Residence: \n"
     ]
    },
    {
     "data": {
      "text/html": [
       "<div>\n",
       "<style scoped>\n",
       "    .dataframe tbody tr th:only-of-type {\n",
       "        vertical-align: middle;\n",
       "    }\n",
       "\n",
       "    .dataframe tbody tr th {\n",
       "        vertical-align: top;\n",
       "    }\n",
       "\n",
       "    .dataframe thead th {\n",
       "        text-align: right;\n",
       "    }\n",
       "</style>\n",
       "<table border=\"1\" class=\"dataframe\">\n",
       "  <thead>\n",
       "    <tr style=\"text-align: right;\">\n",
       "      <th></th>\n",
       "      <th>Immigration_Id</th>\n",
       "      <th>Citizenship_Country</th>\n",
       "      <th>Country_Names</th>\n",
       "      <th>Visa_Type</th>\n",
       "      <th>Residency_Country</th>\n",
       "    </tr>\n",
       "  </thead>\n",
       "  <tbody>\n",
       "    <tr>\n",
       "      <th>0</th>\n",
       "      <td>1434452</td>\n",
       "      <td>516</td>\n",
       "      <td>TRINIDAD AND TOBAGO</td>\n",
       "      <td>B2</td>\n",
       "      <td>516</td>\n",
       "    </tr>\n",
       "    <tr>\n",
       "      <th>1</th>\n",
       "      <td>715185</td>\n",
       "      <td>516</td>\n",
       "      <td>TRINIDAD AND TOBAGO</td>\n",
       "      <td>B2</td>\n",
       "      <td>516</td>\n",
       "    </tr>\n",
       "    <tr>\n",
       "      <th>2</th>\n",
       "      <td>523239</td>\n",
       "      <td>516</td>\n",
       "      <td>TRINIDAD AND TOBAGO</td>\n",
       "      <td>B2</td>\n",
       "      <td>516</td>\n",
       "    </tr>\n",
       "    <tr>\n",
       "      <th>3</th>\n",
       "      <td>3371259</td>\n",
       "      <td>251</td>\n",
       "      <td>ISRAEL</td>\n",
       "      <td>B2</td>\n",
       "      <td>251</td>\n",
       "    </tr>\n",
       "    <tr>\n",
       "      <th>4</th>\n",
       "      <td>3898900</td>\n",
       "      <td>251</td>\n",
       "      <td>ISRAEL</td>\n",
       "      <td>B2</td>\n",
       "      <td>251</td>\n",
       "    </tr>\n",
       "    <tr>\n",
       "      <th>5</th>\n",
       "      <td>697792</td>\n",
       "      <td>251</td>\n",
       "      <td>ISRAEL</td>\n",
       "      <td>B2</td>\n",
       "      <td>251</td>\n",
       "    </tr>\n",
       "    <tr>\n",
       "      <th>6</th>\n",
       "      <td>2741251</td>\n",
       "      <td>251</td>\n",
       "      <td>ISRAEL</td>\n",
       "      <td>B2</td>\n",
       "      <td>251</td>\n",
       "    </tr>\n",
       "  </tbody>\n",
       "</table>\n",
       "</div>"
      ],
      "text/plain": [
       "   Immigration_Id  Citizenship_Country        Country_Names Visa_Type  \\\n",
       "0         1434452                  516  TRINIDAD AND TOBAGO        B2   \n",
       "1          715185                  516  TRINIDAD AND TOBAGO        B2   \n",
       "2          523239                  516  TRINIDAD AND TOBAGO        B2   \n",
       "3         3371259                  251               ISRAEL        B2   \n",
       "4         3898900                  251               ISRAEL        B2   \n",
       "5          697792                  251               ISRAEL        B2   \n",
       "6         2741251                  251               ISRAEL        B2   \n",
       "\n",
       "   Residency_Country  \n",
       "0                516  \n",
       "1                516  \n",
       "2                516  \n",
       "3                251  \n",
       "4                251  \n",
       "5                251  \n",
       "6                251  "
      ]
     },
     "execution_count": 109,
     "metadata": {},
     "output_type": "execute_result"
    }
   ],
   "source": [
    "print(\"Finding Immigrants Country of Origin and Residence: \")\n",
    "Fact_Immigration.createOrReplaceTempView(\"Fact_Immigration\")\n",
    "dim_Country_Codes.createOrReplaceTempView(\"Country_Codes_NAME\")\n",
    "\n",
    "Origin_of_Citizenship = spark.sql('''\n",
    "                               SELECT DISTINCT ft.Immigration_Id, ft.Citizenship_Country, \n",
    "                               cc.Country_Names, ft.Visa_Type, ft.Residency_Country                        \n",
    "                               FROM Fact_Immigration ft  \n",
    "                               INNER JOIN Country_Codes_NAME AS cc\n",
    "                               WHERE ft.Citizenship_Country == cc.Country_Codes\n",
    "                                ''')\n",
    "Origin_of_Citizenship.toPandas().head(7)"
   ]
  },
  {
   "cell_type": "markdown",
   "metadata": {
    "editable": true
   },
   "source": [
    "+ `19.2:` While Immigrants came from a `different country` other than their `original citizenship country`."
   ]
  },
  {
   "cell_type": "code",
   "execution_count": 110,
   "metadata": {
    "editable": true
   },
   "outputs": [
    {
     "name": "stdout",
     "output_type": "stream",
     "text": [
      "Finding Immigrants Country of Origin and Residence: \n"
     ]
    },
    {
     "data": {
      "text/html": [
       "<div>\n",
       "<style scoped>\n",
       "    .dataframe tbody tr th:only-of-type {\n",
       "        vertical-align: middle;\n",
       "    }\n",
       "\n",
       "    .dataframe tbody tr th {\n",
       "        vertical-align: top;\n",
       "    }\n",
       "\n",
       "    .dataframe thead th {\n",
       "        text-align: right;\n",
       "    }\n",
       "</style>\n",
       "<table border=\"1\" class=\"dataframe\">\n",
       "  <thead>\n",
       "    <tr style=\"text-align: right;\">\n",
       "      <th></th>\n",
       "      <th>Immigration_Id</th>\n",
       "      <th>Citizenship_Country</th>\n",
       "      <th>Visa_Type</th>\n",
       "      <th>Residency_Country</th>\n",
       "    </tr>\n",
       "  </thead>\n",
       "  <tbody>\n",
       "    <tr>\n",
       "      <th>0</th>\n",
       "      <td>4299497</td>\n",
       "      <td>148</td>\n",
       "      <td>WT</td>\n",
       "      <td>112</td>\n",
       "    </tr>\n",
       "    <tr>\n",
       "      <th>1</th>\n",
       "      <td>232708</td>\n",
       "      <td>113</td>\n",
       "      <td>WT</td>\n",
       "      <td>135</td>\n",
       "    </tr>\n",
       "    <tr>\n",
       "      <th>2</th>\n",
       "      <td>3110964</td>\n",
       "      <td>129</td>\n",
       "      <td>WT</td>\n",
       "      <td>691</td>\n",
       "    </tr>\n",
       "    <tr>\n",
       "      <th>3</th>\n",
       "      <td>4668286</td>\n",
       "      <td>746</td>\n",
       "      <td>B2</td>\n",
       "      <td>158</td>\n",
       "    </tr>\n",
       "    <tr>\n",
       "      <th>4</th>\n",
       "      <td>862818</td>\n",
       "      <td>213</td>\n",
       "      <td>B2</td>\n",
       "      <td>117</td>\n",
       "    </tr>\n",
       "    <tr>\n",
       "      <th>5</th>\n",
       "      <td>5081809</td>\n",
       "      <td>254</td>\n",
       "      <td>WT</td>\n",
       "      <td>276</td>\n",
       "    </tr>\n",
       "    <tr>\n",
       "      <th>6</th>\n",
       "      <td>3503887</td>\n",
       "      <td>133</td>\n",
       "      <td>B2</td>\n",
       "      <td>264</td>\n",
       "    </tr>\n",
       "  </tbody>\n",
       "</table>\n",
       "</div>"
      ],
      "text/plain": [
       "   Immigration_Id  Citizenship_Country Visa_Type  Residency_Country\n",
       "0         4299497                  148        WT                112\n",
       "1          232708                  113        WT                135\n",
       "2         3110964                  129        WT                691\n",
       "3         4668286                  746        B2                158\n",
       "4          862818                  213        B2                117\n",
       "5         5081809                  254        WT                276\n",
       "6         3503887                  133        B2                264"
      ]
     },
     "execution_count": 110,
     "metadata": {},
     "output_type": "execute_result"
    }
   ],
   "source": [
    "print(\"Finding Immigrants Country of Origin and Residence: \")\n",
    "Fact_Immigration.createOrReplaceTempView(\"Fact_Immigration\")\n",
    "dim_Country_Codes.createOrReplaceTempView(\"Country_Codes_Names\")\n",
    "\n",
    "Citizenship_vs_Residency = spark.sql('''\n",
    "                               SELECT DISTINCT ft.Immigration_Id, ft.Citizenship_Country, \n",
    "                               ft.Visa_Type, ft.Residency_Country                       \n",
    "                               FROM Fact_Immigration AS ft                               \n",
    "                               WHERE (ft.Citizenship_Country != ft.Residency_Country)\n",
    "                                ''')\n",
    "Citizenship_vs_Residency.toPandas().head(7)"
   ]
  },
  {
   "cell_type": "code",
   "execution_count": 111,
   "metadata": {
    "editable": true
   },
   "outputs": [
    {
     "name": "stdout",
     "output_type": "stream",
     "text": [
      "Findings: Number of immigrants came to USA from a different country other than their original country of citizenship: 174\n"
     ]
    }
   ],
   "source": [
    "print(\"Findings: Number of immigrants came to USA from a different country other than their original country of citizenship: \" + \n",
    "                                              str(Citizenship_vs_Residency.count()))"
   ]
  },
  {
   "cell_type": "markdown",
   "metadata": {
    "editable": true
   },
   "source": [
    "### `Quick Query 20: `\n",
    "+ `20.1:` `Name of the countries` when an immigrant travelled from `different country`."
   ]
  },
  {
   "cell_type": "code",
   "execution_count": 112,
   "metadata": {
    "editable": true
   },
   "outputs": [
    {
     "data": {
      "text/html": [
       "<div>\n",
       "<style scoped>\n",
       "    .dataframe tbody tr th:only-of-type {\n",
       "        vertical-align: middle;\n",
       "    }\n",
       "\n",
       "    .dataframe tbody tr th {\n",
       "        vertical-align: top;\n",
       "    }\n",
       "\n",
       "    .dataframe thead th {\n",
       "        text-align: right;\n",
       "    }\n",
       "</style>\n",
       "<table border=\"1\" class=\"dataframe\">\n",
       "  <thead>\n",
       "    <tr style=\"text-align: right;\">\n",
       "      <th></th>\n",
       "      <th>Immigration_Id</th>\n",
       "      <th>Citizenship_Country</th>\n",
       "      <th>Origin_Country</th>\n",
       "      <th>Visa_Type</th>\n",
       "      <th>Residency_Country</th>\n",
       "      <th>Travel_Country</th>\n",
       "    </tr>\n",
       "  </thead>\n",
       "  <tbody>\n",
       "    <tr>\n",
       "      <th>0</th>\n",
       "      <td>1349112</td>\n",
       "      <td>108</td>\n",
       "      <td>DENMARK</td>\n",
       "      <td>WT</td>\n",
       "      <td>251</td>\n",
       "      <td>ISRAEL</td>\n",
       "    </tr>\n",
       "    <tr>\n",
       "      <th>1</th>\n",
       "      <td>2489526</td>\n",
       "      <td>111</td>\n",
       "      <td>FRANCE</td>\n",
       "      <td>WT</td>\n",
       "      <td>251</td>\n",
       "      <td>ISRAEL</td>\n",
       "    </tr>\n",
       "    <tr>\n",
       "      <th>2</th>\n",
       "      <td>2209939</td>\n",
       "      <td>332</td>\n",
       "      <td>MOROCCO</td>\n",
       "      <td>B2</td>\n",
       "      <td>296</td>\n",
       "      <td>UNITED ARAB EMIRATES</td>\n",
       "    </tr>\n",
       "    <tr>\n",
       "      <th>3</th>\n",
       "      <td>2048872</td>\n",
       "      <td>274</td>\n",
       "      <td>BANGLADESH</td>\n",
       "      <td>B1</td>\n",
       "      <td>296</td>\n",
       "      <td>UNITED ARAB EMIRATES</td>\n",
       "    </tr>\n",
       "    <tr>\n",
       "      <th>4</th>\n",
       "      <td>4317940</td>\n",
       "      <td>213</td>\n",
       "      <td>INDIA</td>\n",
       "      <td>B2</td>\n",
       "      <td>296</td>\n",
       "      <td>UNITED ARAB EMIRATES</td>\n",
       "    </tr>\n",
       "  </tbody>\n",
       "</table>\n",
       "</div>"
      ],
      "text/plain": [
       "   Immigration_Id  Citizenship_Country Origin_Country Visa_Type  \\\n",
       "0         1349112                  108        DENMARK        WT   \n",
       "1         2489526                  111         FRANCE        WT   \n",
       "2         2209939                  332        MOROCCO        B2   \n",
       "3         2048872                  274     BANGLADESH        B1   \n",
       "4         4317940                  213          INDIA        B2   \n",
       "\n",
       "   Residency_Country        Travel_Country  \n",
       "0                251                ISRAEL  \n",
       "1                251                ISRAEL  \n",
       "2                296  UNITED ARAB EMIRATES  \n",
       "3                296  UNITED ARAB EMIRATES  \n",
       "4                296  UNITED ARAB EMIRATES  "
      ]
     },
     "execution_count": 112,
     "metadata": {},
     "output_type": "execute_result"
    }
   ],
   "source": [
    "Citizenship_vs_Residency.createOrReplaceTempView(\"Residency_Citizenship\")\n",
    "dim_Country_Codes.createOrReplaceTempView(\"Country_Names\")\n",
    "\n",
    "Citizens_vs_Residence_Country_Names = spark.sql('''\n",
    "                               SELECT DISTINCT ft.Immigration_Id, ft.Citizenship_Country, \n",
    "                               cn.Country_Names AS Origin_Country,\n",
    "                               ft.Visa_Type, \n",
    "                               ft.Residency_Country, cc.Country_Names AS Travel_Country                        \n",
    "                               FROM Residency_Citizenship ft  \n",
    "                               INNER JOIN Country_Names AS cn\n",
    "                               ON ft.Citizenship_Country == cn.Country_Codes \n",
    "                               INNER JOIN Country_Names AS cc\n",
    "                               ON ft.Residency_Country == cc.Country_Codes\n",
    "                               WHERE (ft.Citizenship_Country != ft.Residency_Country)\n",
    "                               ''')\n",
    "Citizens_vs_Residence_Country_Names.toPandas().head(5)"
   ]
  },
  {
   "cell_type": "code",
   "execution_count": 113,
   "metadata": {
    "editable": true
   },
   "outputs": [
    {
     "name": "stdout",
     "output_type": "stream",
     "text": [
      "Findings: Number of Immigrants came from a different country than their 'Citizenship country' are total:44\n"
     ]
    }
   ],
   "source": [
    "print(\"Findings: Number of Immigrants came from a different country than their 'Citizenship country' are total:\" \\\n",
    "                           +  str(Citizens_vs_Residence_Country_Names.count()))"
   ]
  },
  {
   "cell_type": "markdown",
   "metadata": {
    "editable": true
   },
   "source": [
    "### `Quick Query 21: `\n",
    "\n",
    "+ Total Number of immigrants/tourist came from specific country."
   ]
  },
  {
   "cell_type": "code",
   "execution_count": 114,
   "metadata": {
    "editable": true
   },
   "outputs": [
    {
     "name": "stdout",
     "output_type": "stream",
     "text": [
      "+-------------------+--------------+----------------+\n",
      "|Citizenship_Country| Country_Names|Total_Immigrants|\n",
      "+-------------------+--------------+----------------+\n",
      "|                135|UNITED KINGDOM|             115|\n",
      "|                209|         JAPAN|              65|\n",
      "|                245|    CHINA, PRC|              60|\n",
      "|                111|        FRANCE|              51|\n",
      "|                438|     AUSTRALIA|              47|\n",
      "|                213|         INDIA|              37|\n",
      "|                123|   NETHERLANDS|              33|\n",
      "+-------------------+--------------+----------------+\n",
      "only showing top 7 rows\n",
      "\n"
     ]
    }
   ],
   "source": [
    "# Immigrants country code, name and their number\n",
    "Immigrant_by_Country = Origin_of_Citizenship.groupBy('Citizenship_Country','Country_Names').\\\n",
    "                       agg(count('Immigration_Id').alias('Total_Immigrants')).sort(col('Total_Immigrants').desc())\n",
    "\n",
    "Immigrant_by_Country.show(7)"
   ]
  },
  {
   "cell_type": "code",
   "execution_count": 115,
   "metadata": {
    "editable": true
   },
   "outputs": [],
   "source": [
    "# converting to pandas and slicing out 35 countries from the total\n",
    "Immigrant_by_Country = Immigrant_by_Country.toPandas()\n",
    "Immigrant_by_Country = Immigrant_by_Country[:35]"
   ]
  },
  {
   "cell_type": "code",
   "execution_count": 116,
   "metadata": {
    "editable": true
   },
   "outputs": [
    {
     "data": {
      "text/plain": [
       "Text(0.5,1,'Immigrants visited from different country: ')"
      ]
     },
     "execution_count": 116,
     "metadata": {},
     "output_type": "execute_result"
    },
    {
     "data": {
      "image/png": "[encoded data removed]",
      "text/plain": [
       "<matplotlib.figure.Figure at 0x7fe50c171710>"
      ]
     },
     "metadata": {
      "needs_background": "light"
     },
     "output_type": "display_data"
    }
   ],
   "source": [
    "fig, ax = plt.subplots(figsize=(15, 5))\n",
    "ax = sns.barplot(x=\"Country_Names\", y=\"Total_Immigrants\", data=Immigrant_by_Country)\n",
    "#plt.fontsize=16\n",
    "ax.set_facecolor(\"lightyellow\")\n",
    "plt.xticks(rotation=75)\n",
    "plt.grid(True)\n",
    "plt.xlabel(\"Country Names\", fontsize=14)\n",
    "plt.ylabel(\"Immigrant Count\", fontsize=14)\n",
    "plt.title(\"Immigrants visited from different country: \", fontsize=15)"
   ]
  },
  {
   "cell_type": "markdown",
   "metadata": {
    "editable": true
   },
   "source": [
    "### `Quick Query 22: `\n",
    "Finding Country names & reason for travelling `business & pleasure` on a bargraph."
   ]
  },
  {
   "cell_type": "code",
   "execution_count": 117,
   "metadata": {
    "editable": true
   },
   "outputs": [
    {
     "name": "stdout",
     "output_type": "stream",
     "text": [
      "+-------------------+--------------+------------+-----+\n",
      "|Citizenship_Country| Country_Names|Visa_Purpose|count|\n",
      "+-------------------+--------------+------------+-----+\n",
      "|                135|UNITED KINGDOM|    Pleasure|   92|\n",
      "|                209|         JAPAN|    Pleasure|   57|\n",
      "|                245|    CHINA, PRC|    Pleasure|   47|\n",
      "|                438|     AUSTRALIA|    Pleasure|   45|\n",
      "|                111|        FRANCE|    Pleasure|   43|\n",
      "|                689|        BRAZIL|    Pleasure|   31|\n",
      "|                213|         INDIA|    Pleasure|   29|\n",
      "+-------------------+--------------+------------+-----+\n",
      "only showing top 7 rows\n",
      "\n"
     ]
    }
   ],
   "source": [
    "Travel_Reasons = Visa_Category_Type.join(dim_Country_Codes, (Visa_Category_Type.Citizenship_Country == dim_Country_Codes.Country_Codes ),\n",
    "                        how='inner').groupBy(['Citizenship_Country','Country_Names','Visa_Purpose'])\\\n",
    "                        .count().orderBy('count', ascending=False)\n",
    "Travel_Reasons.show(7)"
   ]
  },
  {
   "cell_type": "code",
   "execution_count": 118,
   "metadata": {
    "editable": true
   },
   "outputs": [
    {
     "data": {
      "text/plain": [
       "Text(0.5,1,'Purpose of immigrants visit from different Countries')"
      ]
     },
     "execution_count": 118,
     "metadata": {},
     "output_type": "execute_result"
    },
    {
     "data": {
      "image/png": "[encoded data removed]",
      "text/plain": [
       "<matplotlib.figure.Figure at 0x7fe50c10dbe0>"
      ]
     },
     "metadata": {
      "needs_background": "light"
     },
     "output_type": "display_data"
    }
   ],
   "source": [
    "#take = take.toPandas()\n",
    "fig, ax = plt.subplots(figsize=(15, 5))\n",
    "\n",
    "# spark to pandas and slicing\n",
    "Travel_Reasons = Travel_Reasons.toPandas()\n",
    "Travel_Reasons = Travel_Reasons[:20]\n",
    "\n",
    "ax = sns.barplot(x=\"Country_Names\", y= \"count\", hue=\"Visa_Purpose\", data=Travel_Reasons)\n",
    "ax.set_facecolor(\"lightyellow\")\n",
    "plt.grid(True)\n",
    "plt.xlabel(\"Names of country\", fontsize=14)\n",
    "plt.ylabel(\"Traveling reason count\", fontsize=14)\n",
    "#plt.legend(loc='upper right', bbox_to_anchor=(1.5, 1.5))\n",
    "plt.xticks(rotation=75)\n",
    "plt.title(\"Purpose of immigrants visit from different Countries\", fontsize=15)"
   ]
  },
  {
   "cell_type": "markdown",
   "metadata": {
    "editable": true
   },
   "source": [
    "### `L3` - `State Codes and Name in data frame:`"
   ]
  },
  {
   "cell_type": "markdown",
   "metadata": {
    "editable": true
   },
   "source": [
    "+ Here I'm creating a data frame with `State codes` and their `State names` considering this table will decode our `I94ADDR` column with immigration table."
   ]
  },
  {
   "cell_type": "code",
   "execution_count": 119,
   "metadata": {
    "editable": true
   },
   "outputs": [],
   "source": [
    "# selecting only state codes deems valid\n",
    "Label_Contents = [state.strip() for state in Label_Contents]\n",
    "States = Label_Contents[981:1036]"
   ]
  },
  {
   "cell_type": "code",
   "execution_count": 120,
   "metadata": {
    "editable": true
   },
   "outputs": [],
   "source": [
    "# splitting codes on '='\n",
    "Splitted_States = [state.split(\"=\") for state in States]"
   ]
  },
  {
   "cell_type": "code",
   "execution_count": 121,
   "metadata": {
    "editable": true
   },
   "outputs": [],
   "source": [
    "# replace and strip unnecessary regualr expressions\n",
    "State_Codes = [state[0].replace(\"'\",\"\").strip() for state in Splitted_States]\n",
    "State_Names = [state[1].replace(\"'\",\"\").strip() for state in Splitted_States]"
   ]
  },
  {
   "cell_type": "code",
   "execution_count": 122,
   "metadata": {
    "editable": true
   },
   "outputs": [
    {
     "data": {
      "text/html": [
       "<div>\n",
       "<style scoped>\n",
       "    .dataframe tbody tr th:only-of-type {\n",
       "        vertical-align: middle;\n",
       "    }\n",
       "\n",
       "    .dataframe tbody tr th {\n",
       "        vertical-align: top;\n",
       "    }\n",
       "\n",
       "    .dataframe thead th {\n",
       "        text-align: right;\n",
       "    }\n",
       "</style>\n",
       "<table border=\"1\" class=\"dataframe\">\n",
       "  <thead>\n",
       "    <tr style=\"text-align: right;\">\n",
       "      <th></th>\n",
       "      <th>State_Codes</th>\n",
       "      <th>State_Names</th>\n",
       "    </tr>\n",
       "  </thead>\n",
       "  <tbody>\n",
       "    <tr>\n",
       "      <th>0</th>\n",
       "      <td>AL</td>\n",
       "      <td>ALABAMA</td>\n",
       "    </tr>\n",
       "    <tr>\n",
       "      <th>1</th>\n",
       "      <td>AK</td>\n",
       "      <td>ALASKA</td>\n",
       "    </tr>\n",
       "    <tr>\n",
       "      <th>2</th>\n",
       "      <td>AZ</td>\n",
       "      <td>ARIZONA</td>\n",
       "    </tr>\n",
       "    <tr>\n",
       "      <th>3</th>\n",
       "      <td>AR</td>\n",
       "      <td>ARKANSAS</td>\n",
       "    </tr>\n",
       "    <tr>\n",
       "      <th>4</th>\n",
       "      <td>CA</td>\n",
       "      <td>CALIFORNIA</td>\n",
       "    </tr>\n",
       "    <tr>\n",
       "      <th>5</th>\n",
       "      <td>CO</td>\n",
       "      <td>COLORADO</td>\n",
       "    </tr>\n",
       "    <tr>\n",
       "      <th>6</th>\n",
       "      <td>CT</td>\n",
       "      <td>CONNECTICUT</td>\n",
       "    </tr>\n",
       "  </tbody>\n",
       "</table>\n",
       "</div>"
      ],
      "text/plain": [
       "  State_Codes  State_Names\n",
       "0          AL      ALABAMA\n",
       "1          AK       ALASKA\n",
       "2          AZ      ARIZONA\n",
       "3          AR     ARKANSAS\n",
       "4          CA   CALIFORNIA\n",
       "5          CO     COLORADO\n",
       "6          CT  CONNECTICUT"
      ]
     },
     "execution_count": 122,
     "metadata": {},
     "output_type": "execute_result"
    }
   ],
   "source": [
    "# placing them into a data frame\n",
    "dim_State_Codes = pd.DataFrame({\"State_Codes\" : State_Codes, \"State_Names\": State_Names})\n",
    "dim_State_Codes.head(7)"
   ]
  },
  {
   "cell_type": "code",
   "execution_count": 123,
   "metadata": {
    "editable": true
   },
   "outputs": [
    {
     "data": {
      "text/plain": [
       "State_Codes    55\n",
       "State_Names    55\n",
       "dtype: int64"
      ]
     },
     "execution_count": 123,
     "metadata": {},
     "output_type": "execute_result"
    }
   ],
   "source": [
    "dim_State_Codes.count()"
   ]
  },
  {
   "cell_type": "code",
   "execution_count": 124,
   "metadata": {
    "editable": true
   },
   "outputs": [
    {
     "name": "stdout",
     "output_type": "stream",
     "text": [
      "<class 'pandas.core.frame.DataFrame'>\n",
      "RangeIndex: 55 entries, 0 to 54\n",
      "Data columns (total 2 columns):\n",
      "State_Codes    55 non-null object\n",
      "State_Names    55 non-null object\n",
      "dtypes: object(2)\n",
      "memory usage: 960.0+ bytes\n"
     ]
    }
   ],
   "source": [
    "dim_State_Codes.info()"
   ]
  },
  {
   "cell_type": "code",
   "execution_count": 125,
   "metadata": {
    "editable": true
   },
   "outputs": [],
   "source": [
    "# converting this table as a spark data frame\n",
    "dim_State_Codes=spark.createDataFrame(dim_State_Codes) "
   ]
  },
  {
   "cell_type": "code",
   "execution_count": null,
   "metadata": {
    "editable": true
   },
   "outputs": [],
   "source": []
  },
  {
   "cell_type": "markdown",
   "metadata": {
    "editable": true
   },
   "source": [
    "> Sending this `State_Codes_df` table as a dimension table into the cloud"
   ]
  },
  {
   "cell_type": "code",
   "execution_count": 126,
   "metadata": {
    "editable": true
   },
   "outputs": [],
   "source": [
    "dim_State_Codes.write.mode(\"overwrite\").parquet(path=output_data + 'dim_State_Codes/')"
   ]
  },
  {
   "cell_type": "code",
   "execution_count": 127,
   "metadata": {
    "editable": true
   },
   "outputs": [],
   "source": [
    "#spark.createDataFrame(dim_State_Codes.items(), ['code', 'state'])\\\n",
    "#         .write.mode(\"overwrite\")\\\n",
    "#         .parquet(path=output_data + 'State_Codes_df/')"
   ]
  },
  {
   "cell_type": "markdown",
   "metadata": {
    "editable": true
   },
   "source": [
    "+ Data quality checks with `dim_State_Codes` table."
   ]
  },
  {
   "cell_type": "code",
   "execution_count": 128,
   "metadata": {
    "editable": true
   },
   "outputs": [
    {
     "name": "stdout",
     "output_type": "stream",
     "text": [
      "The 'dim_State_Codes' table: \n",
      "is not empty, it has total 55 records.\n"
     ]
    }
   ],
   "source": [
    "print(\"The 'dim_State_Codes' table: \") \n",
    "record_count(dim_State_Codes)"
   ]
  },
  {
   "cell_type": "markdown",
   "metadata": {
    "editable": true
   },
   "source": [
    "### `Quick Query 23: `"
   ]
  },
  {
   "cell_type": "markdown",
   "metadata": {
    "editable": true
   },
   "source": [
    "+ Finding immigrant's choice of `States` to move or visit to?"
   ]
  },
  {
   "cell_type": "code",
   "execution_count": 129,
   "metadata": {
    "editable": true
   },
   "outputs": [
    {
     "data": {
      "text/html": [
       "<div>\n",
       "<style scoped>\n",
       "    .dataframe tbody tr th:only-of-type {\n",
       "        vertical-align: middle;\n",
       "    }\n",
       "\n",
       "    .dataframe tbody tr th {\n",
       "        vertical-align: top;\n",
       "    }\n",
       "\n",
       "    .dataframe thead th {\n",
       "        text-align: right;\n",
       "    }\n",
       "</style>\n",
       "<table border=\"1\" class=\"dataframe\">\n",
       "  <thead>\n",
       "    <tr style=\"text-align: right;\">\n",
       "      <th></th>\n",
       "      <th>Immigration_Id</th>\n",
       "      <th>Admission_Num</th>\n",
       "      <th>Immigrants_Age</th>\n",
       "      <th>Citizenship_Country</th>\n",
       "      <th>Residency_Country</th>\n",
       "      <th>Visa_Type</th>\n",
       "      <th>Immigration_Year</th>\n",
       "      <th>Immigration_Month</th>\n",
       "      <th>Port_Code</th>\n",
       "      <th>Arrival_Date</th>\n",
       "      <th>Departure_Date</th>\n",
       "      <th>Match_Flag</th>\n",
       "      <th>Birth_Year</th>\n",
       "      <th>Gender</th>\n",
       "      <th>Airline_Code</th>\n",
       "      <th>Flight_Num</th>\n",
       "      <th>Means_of_Travel</th>\n",
       "      <th>Visa_Purpose</th>\n",
       "      <th>State_Codes</th>\n",
       "      <th>State_Names</th>\n",
       "    </tr>\n",
       "  </thead>\n",
       "  <tbody>\n",
       "    <tr>\n",
       "      <th>0</th>\n",
       "      <td>1863656</td>\n",
       "      <td>762960085</td>\n",
       "      <td>45</td>\n",
       "      <td>438</td>\n",
       "      <td>438</td>\n",
       "      <td>B2</td>\n",
       "      <td>2016</td>\n",
       "      <td>4</td>\n",
       "      <td>LOS</td>\n",
       "      <td>2016-04-10</td>\n",
       "      <td>2016-04-16</td>\n",
       "      <td>M</td>\n",
       "      <td>1971</td>\n",
       "      <td>M</td>\n",
       "      <td>QF</td>\n",
       "      <td>15</td>\n",
       "      <td>Air</td>\n",
       "      <td>Pleasure</td>\n",
       "      <td>AZ</td>\n",
       "      <td>ARIZONA</td>\n",
       "    </tr>\n",
       "    <tr>\n",
       "      <th>1</th>\n",
       "      <td>1793960</td>\n",
       "      <td>55935236633</td>\n",
       "      <td>43</td>\n",
       "      <td>123</td>\n",
       "      <td>123</td>\n",
       "      <td>WB</td>\n",
       "      <td>2016</td>\n",
       "      <td>4</td>\n",
       "      <td>NYC</td>\n",
       "      <td>2016-04-10</td>\n",
       "      <td>2016-04-14</td>\n",
       "      <td>M</td>\n",
       "      <td>1973</td>\n",
       "      <td>None</td>\n",
       "      <td>KL</td>\n",
       "      <td>00641</td>\n",
       "      <td>Air</td>\n",
       "      <td>Business</td>\n",
       "      <td>AZ</td>\n",
       "      <td>ARIZONA</td>\n",
       "    </tr>\n",
       "    <tr>\n",
       "      <th>2</th>\n",
       "      <td>594975</td>\n",
       "      <td>92678404630</td>\n",
       "      <td>51</td>\n",
       "      <td>582</td>\n",
       "      <td>582</td>\n",
       "      <td>B2</td>\n",
       "      <td>2016</td>\n",
       "      <td>4</td>\n",
       "      <td>LVG</td>\n",
       "      <td>2016-04-03</td>\n",
       "      <td>2016-07-10</td>\n",
       "      <td>M</td>\n",
       "      <td>1965</td>\n",
       "      <td>M</td>\n",
       "      <td>AA</td>\n",
       "      <td>01686</td>\n",
       "      <td>Air</td>\n",
       "      <td>Pleasure</td>\n",
       "      <td>AZ</td>\n",
       "      <td>ARIZONA</td>\n",
       "    </tr>\n",
       "    <tr>\n",
       "      <th>3</th>\n",
       "      <td>80353</td>\n",
       "      <td>92477571130</td>\n",
       "      <td>34</td>\n",
       "      <td>260</td>\n",
       "      <td>260</td>\n",
       "      <td>B1</td>\n",
       "      <td>2016</td>\n",
       "      <td>4</td>\n",
       "      <td>CHI</td>\n",
       "      <td>2016-04-01</td>\n",
       "      <td>2016-04-11</td>\n",
       "      <td>M</td>\n",
       "      <td>1982</td>\n",
       "      <td>M</td>\n",
       "      <td>SQ</td>\n",
       "      <td>00016</td>\n",
       "      <td>Air</td>\n",
       "      <td>Business</td>\n",
       "      <td>AZ</td>\n",
       "      <td>ARIZONA</td>\n",
       "    </tr>\n",
       "    <tr>\n",
       "      <th>4</th>\n",
       "      <td>878052</td>\n",
       "      <td>92845848430</td>\n",
       "      <td>35</td>\n",
       "      <td>260</td>\n",
       "      <td>260</td>\n",
       "      <td>B1</td>\n",
       "      <td>2016</td>\n",
       "      <td>4</td>\n",
       "      <td>LOS</td>\n",
       "      <td>2016-04-05</td>\n",
       "      <td>2016-04-27</td>\n",
       "      <td>M</td>\n",
       "      <td>1981</td>\n",
       "      <td>M</td>\n",
       "      <td>PR</td>\n",
       "      <td>00102</td>\n",
       "      <td>Air</td>\n",
       "      <td>Business</td>\n",
       "      <td>AZ</td>\n",
       "      <td>ARIZONA</td>\n",
       "    </tr>\n",
       "  </tbody>\n",
       "</table>\n",
       "</div>"
      ],
      "text/plain": [
       "   Immigration_Id  Admission_Num  Immigrants_Age  Citizenship_Country  \\\n",
       "0         1863656      762960085              45                  438   \n",
       "1         1793960    55935236633              43                  123   \n",
       "2          594975    92678404630              51                  582   \n",
       "3           80353    92477571130              34                  260   \n",
       "4          878052    92845848430              35                  260   \n",
       "\n",
       "   Residency_Country Visa_Type  Immigration_Year  Immigration_Month Port_Code  \\\n",
       "0                438        B2              2016                  4       LOS   \n",
       "1                123        WB              2016                  4       NYC   \n",
       "2                582        B2              2016                  4       LVG   \n",
       "3                260        B1              2016                  4       CHI   \n",
       "4                260        B1              2016                  4       LOS   \n",
       "\n",
       "  Arrival_Date Departure_Date Match_Flag  Birth_Year Gender Airline_Code  \\\n",
       "0   2016-04-10     2016-04-16          M        1971      M           QF   \n",
       "1   2016-04-10     2016-04-14          M        1973   None           KL   \n",
       "2   2016-04-03     2016-07-10          M        1965      M           AA   \n",
       "3   2016-04-01     2016-04-11          M        1982      M           SQ   \n",
       "4   2016-04-05     2016-04-27          M        1981      M           PR   \n",
       "\n",
       "  Flight_Num Means_of_Travel Visa_Purpose State_Codes State_Names  \n",
       "0         15             Air     Pleasure          AZ     ARIZONA  \n",
       "1      00641             Air     Business          AZ     ARIZONA  \n",
       "2      01686             Air     Pleasure          AZ     ARIZONA  \n",
       "3      00016             Air     Business          AZ     ARIZONA  \n",
       "4      00102             Air     Business          AZ     ARIZONA  "
      ]
     },
     "execution_count": 129,
     "metadata": {},
     "output_type": "execute_result"
    }
   ],
   "source": [
    "# adding 'fact immigration table' and 'state codes table' to get the state name\n",
    "Immigrants_Choice_State = Fact_Immigration.join(dim_State_Codes, \\\n",
    "                    (Fact_Immigration.Current_State == dim_State_Codes.State_Codes), how=\"left\")\n",
    "# removing duplicated columns\n",
    "Immigrants_Choice_State = Immigrants_Choice_State.drop('Current_State')\n",
    "Immigrants_Choice_State.toPandas().head(5)"
   ]
  },
  {
   "cell_type": "code",
   "execution_count": 130,
   "metadata": {
    "editable": true
   },
   "outputs": [
    {
     "name": "stdout",
     "output_type": "stream",
     "text": [
      "+-------------+-----+\n",
      "|  State_Names|count|\n",
      "+-------------+-----+\n",
      "|      FLORIDA|  188|\n",
      "|   CALIFORNIA|  163|\n",
      "|     NEW YORK|  161|\n",
      "|         null|   67|\n",
      "|       HAWAII|   53|\n",
      "|        TEXAS|   42|\n",
      "|       NEVADA|   34|\n",
      "|     ILLINOIS|   31|\n",
      "|         GUAM|   27|\n",
      "|MASSACHUSETTS|   26|\n",
      "+-------------+-----+\n",
      "only showing top 10 rows\n",
      "\n"
     ]
    }
   ],
   "source": [
    "# number of immigrants move to different states\n",
    "State_Visited = Immigrants_Choice_State.groupBy('State_Names').count().orderBy('Count', ascending=False)\n",
    "State_Visited.show(10)"
   ]
  },
  {
   "cell_type": "code",
   "execution_count": 131,
   "metadata": {
    "editable": true
   },
   "outputs": [
    {
     "data": {
      "text/plain": [
       "Text(0.5,1,'Number of tourists visited to different States')"
      ]
     },
     "execution_count": 131,
     "metadata": {},
     "output_type": "execute_result"
    },
    {
     "data": {
      "image/png": "[encoded data removed]",
      "text/plain": [
       "<matplotlib.figure.Figure at 0x7fe505e5c278>"
      ]
     },
     "metadata": {
      "needs_background": "light"
     },
     "output_type": "display_data"
    }
   ],
   "source": [
    "fig, ax = plt.subplots(figsize=(15, 5))\n",
    "\n",
    "# converting to pandas\n",
    "State_Visited = State_Visited.toPandas()\n",
    "State_Visited = State_Visited[:25]\n",
    "# pandas barplot designing steps..\n",
    "ax = sns.barplot(x=\"State_Names\", y= \"count\", data=State_Visited)\n",
    "ax.set_facecolor(\"lightyellow\")\n",
    "plt.grid(True)\n",
    "plt.xlabel(\"Names of States\", fontsize=14)\n",
    "plt.ylabel(\"Counting Tourist/Immigrants\", fontsize=14)\n",
    "plt.xticks(rotation=75)\n",
    "plt.title(\"Number of tourists visited to different States\", fontsize=15)"
   ]
  },
  {
   "cell_type": "markdown",
   "metadata": {
    "editable": true
   },
   "source": [
    "## `Airport Code Table`\n",
    "> This table comes with detail information about US airports. I think the airport code table doesn't hold any important significance for our immigration trail analysis."
   ]
  },
  {
   "cell_type": "code",
   "execution_count": 132,
   "metadata": {
    "editable": true
   },
   "outputs": [],
   "source": [
    "Airport_Codes_df = spark.read.options(delimiter=\",\").csv(\"airport-codes.csv\",header=True)"
   ]
  },
  {
   "cell_type": "code",
   "execution_count": 133,
   "metadata": {
    "editable": true
   },
   "outputs": [
    {
     "data": {
      "text/html": [
       "<div>\n",
       "<style scoped>\n",
       "    .dataframe tbody tr th:only-of-type {\n",
       "        vertical-align: middle;\n",
       "    }\n",
       "\n",
       "    .dataframe tbody tr th {\n",
       "        vertical-align: top;\n",
       "    }\n",
       "\n",
       "    .dataframe thead th {\n",
       "        text-align: right;\n",
       "    }\n",
       "</style>\n",
       "<table border=\"1\" class=\"dataframe\">\n",
       "  <thead>\n",
       "    <tr style=\"text-align: right;\">\n",
       "      <th></th>\n",
       "      <th>ident</th>\n",
       "      <th>type</th>\n",
       "      <th>name</th>\n",
       "      <th>elevation_ft</th>\n",
       "      <th>continent</th>\n",
       "      <th>iso_country</th>\n",
       "      <th>iso_region</th>\n",
       "      <th>municipality</th>\n",
       "      <th>gps_code</th>\n",
       "      <th>iata_code</th>\n",
       "      <th>local_code</th>\n",
       "      <th>coordinates</th>\n",
       "      <th>latitude</th>\n",
       "      <th>longitude</th>\n",
       "    </tr>\n",
       "  </thead>\n",
       "  <tbody>\n",
       "    <tr>\n",
       "      <th>0</th>\n",
       "      <td>00A</td>\n",
       "      <td>heliport</td>\n",
       "      <td>Total Rf Heliport</td>\n",
       "      <td>11</td>\n",
       "      <td>NA</td>\n",
       "      <td>US</td>\n",
       "      <td>US-PA</td>\n",
       "      <td>Bensalem</td>\n",
       "      <td>00A</td>\n",
       "      <td>None</td>\n",
       "      <td>00A</td>\n",
       "      <td>-74.93360137939453, 40.07080078125</td>\n",
       "      <td>-74.93360137939453</td>\n",
       "      <td>40.07080078125</td>\n",
       "    </tr>\n",
       "    <tr>\n",
       "      <th>1</th>\n",
       "      <td>00AA</td>\n",
       "      <td>small_airport</td>\n",
       "      <td>Aero B Ranch Airport</td>\n",
       "      <td>3435</td>\n",
       "      <td>NA</td>\n",
       "      <td>US</td>\n",
       "      <td>US-KS</td>\n",
       "      <td>Leoti</td>\n",
       "      <td>00AA</td>\n",
       "      <td>None</td>\n",
       "      <td>00AA</td>\n",
       "      <td>-101.473911, 38.704022</td>\n",
       "      <td>-101.473911</td>\n",
       "      <td>38.704022</td>\n",
       "    </tr>\n",
       "    <tr>\n",
       "      <th>2</th>\n",
       "      <td>00AK</td>\n",
       "      <td>small_airport</td>\n",
       "      <td>Lowell Field</td>\n",
       "      <td>450</td>\n",
       "      <td>NA</td>\n",
       "      <td>US</td>\n",
       "      <td>US-AK</td>\n",
       "      <td>Anchor Point</td>\n",
       "      <td>00AK</td>\n",
       "      <td>None</td>\n",
       "      <td>00AK</td>\n",
       "      <td>-151.695999146, 59.94919968</td>\n",
       "      <td>-151.695999146</td>\n",
       "      <td>59.94919968</td>\n",
       "    </tr>\n",
       "  </tbody>\n",
       "</table>\n",
       "</div>"
      ],
      "text/plain": [
       "  ident           type                  name elevation_ft continent  \\\n",
       "0   00A       heliport     Total Rf Heliport           11        NA   \n",
       "1  00AA  small_airport  Aero B Ranch Airport         3435        NA   \n",
       "2  00AK  small_airport          Lowell Field          450        NA   \n",
       "\n",
       "  iso_country iso_region  municipality gps_code iata_code local_code  \\\n",
       "0          US      US-PA      Bensalem      00A      None        00A   \n",
       "1          US      US-KS         Leoti     00AA      None       00AA   \n",
       "2          US      US-AK  Anchor Point     00AK      None       00AK   \n",
       "\n",
       "                          coordinates            latitude        longitude  \n",
       "0  -74.93360137939453, 40.07080078125  -74.93360137939453   40.07080078125  \n",
       "1              -101.473911, 38.704022         -101.473911        38.704022  \n",
       "2         -151.695999146, 59.94919968      -151.695999146      59.94919968  "
      ]
     },
     "execution_count": 133,
     "metadata": {},
     "output_type": "execute_result"
    }
   ],
   "source": [
    "# separating 'coordinats' column into >> 'longitude' and 'latitude' columns\n",
    "Airport_Codes_df = Airport_Codes_df.withColumn('latitude', split(Airport_Codes_df['coordinates'], ',').getItem(0)) \\\n",
    "       .withColumn('longitude', split(Airport_Codes_df['coordinates'], ',').getItem(1)) \\\n",
    "      \n",
    "Airport_Codes_df.toPandas().head(3)"
   ]
  },
  {
   "cell_type": "code",
   "execution_count": 134,
   "metadata": {
    "editable": true
   },
   "outputs": [],
   "source": [
    "#Airport_Codes = Airport_Codes_df.alias('Airport_Codes')"
   ]
  },
  {
   "cell_type": "code",
   "execution_count": 135,
   "metadata": {
    "editable": true
   },
   "outputs": [
    {
     "name": "stdout",
     "output_type": "stream",
     "text": [
      "root\n",
      " |-- ident: string (nullable = true)\n",
      " |-- type: string (nullable = true)\n",
      " |-- name: string (nullable = true)\n",
      " |-- elevation_ft: string (nullable = true)\n",
      " |-- continent: string (nullable = true)\n",
      " |-- iso_country: string (nullable = true)\n",
      " |-- iso_region: string (nullable = true)\n",
      " |-- municipality: string (nullable = true)\n",
      " |-- gps_code: string (nullable = true)\n",
      " |-- iata_code: string (nullable = true)\n",
      " |-- local_code: string (nullable = true)\n",
      " |-- coordinates: string (nullable = true)\n",
      " |-- latitude: string (nullable = true)\n",
      " |-- longitude: string (nullable = true)\n",
      "\n"
     ]
    }
   ],
   "source": [
    "Airport_Codes_df.printSchema()"
   ]
  },
  {
   "cell_type": "code",
   "execution_count": 136,
   "metadata": {
    "editable": true
   },
   "outputs": [
    {
     "name": "stdout",
     "output_type": "stream",
     "text": [
      "Airport_Codes_df table dimension: \n",
      "Number of rows: 55075 \n",
      "and Number of columns: 14\n"
     ]
    }
   ],
   "source": [
    "print(\"Airport_Codes_df table dimension: \")\n",
    "print(\"Number of rows: \" + str(Airport_Codes_df.count()) + \" \\nand Number of columns: \" + str(len(Airport_Codes_df.columns)))"
   ]
  },
  {
   "cell_type": "code",
   "execution_count": 137,
   "metadata": {
    "editable": true
   },
   "outputs": [
    {
     "name": "stdout",
     "output_type": "stream",
     "text": [
      "Number of NULL values by each column on Airport_Codes_df Table: \n",
      "-RECORD 0-------------\n",
      " ident        | 0     \n",
      " type         | 0     \n",
      " name         | 0     \n",
      " elevation_ft | 7006  \n",
      " continent    | 0     \n",
      " iso_country  | 0     \n",
      " iso_region   | 0     \n",
      " municipality | 5676  \n",
      " gps_code     | 14045 \n",
      " iata_code    | 45886 \n",
      " local_code   | 26389 \n",
      " coordinates  | 0     \n",
      " latitude     | 0     \n",
      " longitude    | 0     \n",
      "\n"
     ]
    }
   ],
   "source": [
    "print(\"Number of NULL values by each column on Airport_Codes_df Table: \")\n",
    "Airport_Codes_df.select([count(when(col(c).isNull(), c))\\\n",
    "                         .alias(c) for c in Airport_Codes_df.columns]).show(n=2, truncate=False, vertical=True)"
   ]
  },
  {
   "cell_type": "code",
   "execution_count": 138,
   "metadata": {
    "editable": true
   },
   "outputs": [
    {
     "data": {
      "text/html": [
       "<div>\n",
       "<style scoped>\n",
       "    .dataframe tbody tr th:only-of-type {\n",
       "        vertical-align: middle;\n",
       "    }\n",
       "\n",
       "    .dataframe tbody tr th {\n",
       "        vertical-align: top;\n",
       "    }\n",
       "\n",
       "    .dataframe thead th {\n",
       "        text-align: right;\n",
       "    }\n",
       "</style>\n",
       "<table border=\"1\" class=\"dataframe\">\n",
       "  <thead>\n",
       "    <tr style=\"text-align: right;\">\n",
       "      <th></th>\n",
       "      <th>Airport_Code</th>\n",
       "      <th>Airport_Type</th>\n",
       "      <th>Airport_Name</th>\n",
       "      <th>Elevation_Ft</th>\n",
       "      <th>Continent</th>\n",
       "      <th>Country</th>\n",
       "      <th>Region</th>\n",
       "      <th>Municipality</th>\n",
       "      <th>Gps_Code</th>\n",
       "      <th>Iata_Code</th>\n",
       "      <th>Local_Code</th>\n",
       "      <th>Latitude</th>\n",
       "      <th>Longitude</th>\n",
       "    </tr>\n",
       "  </thead>\n",
       "  <tbody>\n",
       "    <tr>\n",
       "      <th>0</th>\n",
       "      <td>CA-0446</td>\n",
       "      <td>small_airport</td>\n",
       "      <td>Stuart Island Airstrip</td>\n",
       "      <td>360.0</td>\n",
       "      <td>NA</td>\n",
       "      <td>CA</td>\n",
       "      <td>CA-BC</td>\n",
       "      <td>Big Bay</td>\n",
       "      <td>None</td>\n",
       "      <td>YRR</td>\n",
       "      <td>None</td>\n",
       "      <td>-125.131616592</td>\n",
       "      <td>50.4094474336</td>\n",
       "    </tr>\n",
       "    <tr>\n",
       "      <th>1</th>\n",
       "      <td>CYWJ</td>\n",
       "      <td>medium_airport</td>\n",
       "      <td>DÃ©line Airport</td>\n",
       "      <td>703.0</td>\n",
       "      <td>NA</td>\n",
       "      <td>CA</td>\n",
       "      <td>CA-NT</td>\n",
       "      <td>DÃ©line</td>\n",
       "      <td>CYWJ</td>\n",
       "      <td>YWJ</td>\n",
       "      <td>None</td>\n",
       "      <td>-123.43599700927734</td>\n",
       "      <td>65.21109771728516</td>\n",
       "    </tr>\n",
       "    <tr>\n",
       "      <th>2</th>\n",
       "      <td>CYYC</td>\n",
       "      <td>large_airport</td>\n",
       "      <td>Calgary International Airport</td>\n",
       "      <td>3557.0</td>\n",
       "      <td>NA</td>\n",
       "      <td>CA</td>\n",
       "      <td>CA-AB</td>\n",
       "      <td>Calgary</td>\n",
       "      <td>CYYC</td>\n",
       "      <td>YYC</td>\n",
       "      <td>None</td>\n",
       "      <td>-114.019996643</td>\n",
       "      <td>51.113899231</td>\n",
       "    </tr>\n",
       "  </tbody>\n",
       "</table>\n",
       "</div>"
      ],
      "text/plain": [
       "  Airport_Code    Airport_Type                   Airport_Name  Elevation_Ft  \\\n",
       "0      CA-0446   small_airport         Stuart Island Airstrip         360.0   \n",
       "1         CYWJ  medium_airport                DÃ©line Airport         703.0   \n",
       "2         CYYC   large_airport  Calgary International Airport        3557.0   \n",
       "\n",
       "  Continent Country Region Municipality Gps_Code Iata_Code Local_Code  \\\n",
       "0        NA      CA  CA-BC      Big Bay     None       YRR       None   \n",
       "1        NA      CA  CA-NT      DÃ©line     CYWJ       YWJ       None   \n",
       "2        NA      CA  CA-AB      Calgary     CYYC       YYC       None   \n",
       "\n",
       "              Latitude           Longitude  \n",
       "0       -125.131616592       50.4094474336  \n",
       "1  -123.43599700927734   65.21109771728516  \n",
       "2       -114.019996643        51.113899231  "
      ]
     },
     "execution_count": 138,
     "metadata": {},
     "output_type": "execute_result"
    }
   ],
   "source": [
    "#Gather required columns for the airports table\n",
    "Airport_Codes_df.createOrReplaceTempView(\"Airport_Table\")\n",
    "\n",
    "# selecting columns deems important\n",
    "Airport_Details = spark.sql('''\n",
    "                SELECT distinct  \\\n",
    "                         ident        AS Airport_Code, \\\n",
    "                         type         AS Airport_Type, \\\n",
    "                         name         AS Airport_Name, \\\n",
    "                         double(elevation_ft) AS Elevation_Ft, \\\n",
    "                         continent    AS Continent, \\\n",
    "                         iso_country  AS Country, \\\n",
    "                         iso_region   AS Region, \\\n",
    "                         municipality AS Municipality, \\\n",
    "                         gps_code     AS Gps_Code, \\\n",
    "                         iata_code    AS Iata_Code,\\\n",
    "                         local_code   AS Local_Code, \\\n",
    "                         latitude     AS Latitude,\\\n",
    "                         longitude    AS Longitude \\\n",
    "                         FROM Airport_Table \\\n",
    "                WHERE (iata_code is NOT NULL) AND (iata_code != '0')\\\n",
    "                AND (type != 'closed')\n",
    "                ''')\n",
    "\n",
    "Airport_Details.toPandas().head(3)"
   ]
  },
  {
   "cell_type": "code",
   "execution_count": 139,
   "metadata": {
    "editable": true
   },
   "outputs": [
    {
     "name": "stdout",
     "output_type": "stream",
     "text": [
      "Number of rows: 8830\n",
      "Number of columns: 13\n"
     ]
    }
   ],
   "source": [
    "print(\"Number of rows: \" + str(Airport_Details.count()) + \"\\nNumber of columns: \" + str(len(Airport_Details.columns)))"
   ]
  },
  {
   "cell_type": "markdown",
   "metadata": {
    "editable": true
   },
   "source": [
    "**`Analytical perspective: `**\n",
    "\n",
    "After removing `null`, `zero-value` `iata_code` and `closed` airport types, we can see we've lost 83.96% of rows from the airport table.The number of actively operating airports came down from 55,075 to 8830, a significant reduction of available airports.\n",
    "\n",
    "Besides I think, that `Airport Table` does not carry any significant importance in our immigration-data analysis paradigm."
   ]
  },
  {
   "cell_type": "markdown",
   "metadata": {
    "editable": true
   },
   "source": [
    "###  `Quick query 23, 24 & 25`\n",
    "`23:`"
   ]
  },
  {
   "cell_type": "code",
   "execution_count": 140,
   "metadata": {
    "editable": true
   },
   "outputs": [
    {
     "name": "stdout",
     "output_type": "stream",
     "text": [
      "Counting number of 'iata_code' with null values\n",
      "+---------------+\n",
      "|Iata_Code_Count|\n",
      "+---------------+\n",
      "|          45886|\n",
      "+---------------+\n",
      "\n"
     ]
    }
   ],
   "source": [
    "print(\"Counting number of 'iata_code' with null values\")\n",
    "Null_iata_code_count = spark.sql('''\n",
    "                               SELECT count(ISNULL('iata_code')) Iata_Code_Count \\\n",
    "                               FROM Airport_Table \\\n",
    "                               WHERE iata_code IS NULL\n",
    "                               ''')\n",
    "\n",
    "Null_iata_code_count.show()"
   ]
  },
  {
   "cell_type": "markdown",
   "metadata": {
    "editable": true
   },
   "source": [
    "`24:`"
   ]
  },
  {
   "cell_type": "code",
   "execution_count": 141,
   "metadata": {
    "editable": true
   },
   "outputs": [
    {
     "name": "stdout",
     "output_type": "stream",
     "text": [
      "Counting number of 'Airport_Type' are closed with valid 'iata_code': \n",
      "+------------------+\n",
      "|Airport_Type_Count|\n",
      "+------------------+\n",
      "|               279|\n",
      "+------------------+\n",
      "\n"
     ]
    }
   ],
   "source": [
    "print(\"Counting number of 'Airport_Type' are closed with valid 'iata_code': \")\n",
    "Closed_Airport_Count = spark.sql('''\n",
    "                               SELECT count(*) AS Airport_Type_Count \\\n",
    "                               FROM Airport_Table \\\n",
    "                               WHERE (iata_code is NOT NULL) AND (iata_code != '0')\\\n",
    "                                      AND (type == 'closed')\n",
    "                               ''')\n",
    "\n",
    "Closed_Airport_Count .show()"
   ]
  },
  {
   "cell_type": "markdown",
   "metadata": {
    "editable": true
   },
   "source": [
    "`25:`"
   ]
  },
  {
   "cell_type": "code",
   "execution_count": 142,
   "metadata": {
    "editable": true
   },
   "outputs": [
    {
     "name": "stdout",
     "output_type": "stream",
     "text": [
      "Number of airports those are operating or active: \n"
     ]
    },
    {
     "data": {
      "text/html": [
       "<div>\n",
       "<style scoped>\n",
       "    .dataframe tbody tr th:only-of-type {\n",
       "        vertical-align: middle;\n",
       "    }\n",
       "\n",
       "    .dataframe tbody tr th {\n",
       "        vertical-align: top;\n",
       "    }\n",
       "\n",
       "    .dataframe thead th {\n",
       "        text-align: right;\n",
       "    }\n",
       "</style>\n",
       "<table border=\"1\" class=\"dataframe\">\n",
       "  <thead>\n",
       "    <tr style=\"text-align: right;\">\n",
       "      <th></th>\n",
       "      <th>Airport_Type</th>\n",
       "      <th>Airport_Count</th>\n",
       "    </tr>\n",
       "  </thead>\n",
       "  <tbody>\n",
       "    <tr>\n",
       "      <th>0</th>\n",
       "      <td>small_airport</td>\n",
       "      <td>33965</td>\n",
       "    </tr>\n",
       "    <tr>\n",
       "      <th>1</th>\n",
       "      <td>heliport</td>\n",
       "      <td>11287</td>\n",
       "    </tr>\n",
       "    <tr>\n",
       "      <th>2</th>\n",
       "      <td>medium_airport</td>\n",
       "      <td>4550</td>\n",
       "    </tr>\n",
       "    <tr>\n",
       "      <th>3</th>\n",
       "      <td>seaplane_base</td>\n",
       "      <td>1016</td>\n",
       "    </tr>\n",
       "    <tr>\n",
       "      <th>4</th>\n",
       "      <td>large_airport</td>\n",
       "      <td>627</td>\n",
       "    </tr>\n",
       "    <tr>\n",
       "      <th>5</th>\n",
       "      <td>balloonport</td>\n",
       "      <td>24</td>\n",
       "    </tr>\n",
       "  </tbody>\n",
       "</table>\n",
       "</div>"
      ],
      "text/plain": [
       "     Airport_Type  Airport_Count\n",
       "0   small_airport          33965\n",
       "1        heliport          11287\n",
       "2  medium_airport           4550\n",
       "3   seaplane_base           1016\n",
       "4   large_airport            627\n",
       "5     balloonport             24"
      ]
     },
     "execution_count": 142,
     "metadata": {},
     "output_type": "execute_result"
    }
   ],
   "source": [
    "# counting number of records on Airport detail table\n",
    "print(\"Number of airports those are operating or active: \")\n",
    "Airport_Type_Count = spark.sql('''\n",
    "                               SELECT type AS Airport_Type, count(*) AS Airport_Count \\\n",
    "                               FROM Airport_Table \\\n",
    "                               WHERE (type != 'closed')\\\n",
    "                               GROUP BY  Airport_Type having count(*) >= 1 \\\n",
    "                               ORDER BY Airport_Count DESC\n",
    "                               ''')\n",
    "\n",
    "Airport_Type_Count.toPandas().head(7)"
   ]
  },
  {
   "cell_type": "markdown",
   "metadata": {
    "editable": true
   },
   "source": [
    "> Sending this `Airport_Details` table into the cloud. I'll not be using this table as a dimension table."
   ]
  },
  {
   "cell_type": "code",
   "execution_count": 143,
   "metadata": {
    "editable": true
   },
   "outputs": [
    {
     "name": "stdout",
     "output_type": "stream",
     "text": [
      "Sending Airport details file back to Workspace storage.\n"
     ]
    }
   ],
   "source": [
    "# writing Airport detail table to Workspace storage to parquet files\n",
    "print(\"Sending Airport details file back to Workspace storage.\")\n",
    "Airport_Details.write.mode(\"overwrite\").parquet(path=output_data + 'Airport_Details/')"
   ]
  },
  {
   "cell_type": "markdown",
   "metadata": {
    "editable": true
   },
   "source": [
    "+ Data qality checks with `Airport_Details` table."
   ]
  },
  {
   "cell_type": "code",
   "execution_count": 144,
   "metadata": {
    "editable": true
   },
   "outputs": [
    {
     "name": "stdout",
     "output_type": "stream",
     "text": [
      "The Airport_Details table: \n",
      "is not empty, it has total 8830 records.\n"
     ]
    }
   ],
   "source": [
    "print(\"The Airport_Details table: \") \n",
    "record_count(Airport_Details)"
   ]
  },
  {
   "cell_type": "markdown",
   "metadata": {
    "editable": true
   },
   "source": [
    "> #### Exploring `Temperature data` set"
   ]
  },
  {
   "cell_type": "code",
   "execution_count": 145,
   "metadata": {
    "editable": true
   },
   "outputs": [
    {
     "name": "stdout",
     "output_type": "stream",
     "text": [
      "+----------+------------------+-----------------------------+-----+-------+--------+---------+\n",
      "|        dt|AverageTemperature|AverageTemperatureUncertainty| City|Country|Latitude|Longitude|\n",
      "+----------+------------------+-----------------------------+-----+-------+--------+---------+\n",
      "|1743-11-01|             6.068|           1.7369999999999999|Århus|Denmark|  57.05N|   10.33E|\n",
      "|1743-12-01|              null|                         null|Århus|Denmark|  57.05N|   10.33E|\n",
      "|1744-01-01|              null|                         null|Århus|Denmark|  57.05N|   10.33E|\n",
      "|1744-02-01|              null|                         null|Århus|Denmark|  57.05N|   10.33E|\n",
      "|1744-03-01|              null|                         null|Århus|Denmark|  57.05N|   10.33E|\n",
      "+----------+------------------+-----------------------------+-----+-------+--------+---------+\n",
      "only showing top 5 rows\n",
      "\n"
     ]
    }
   ],
   "source": [
    "fname = '../../data2/GlobalLandTemperaturesByCity.csv'\n",
    "Temp_df = spark.read.options(delimiter=\",\").csv(fname,header=True)\n",
    "Temp_df.show(5)"
   ]
  },
  {
   "cell_type": "code",
   "execution_count": 146,
   "metadata": {
    "editable": true
   },
   "outputs": [
    {
     "data": {
      "text/plain": [
       "[('dt', 'string'),\n",
       " ('AverageTemperature', 'string'),\n",
       " ('AverageTemperatureUncertainty', 'string'),\n",
       " ('City', 'string'),\n",
       " ('Country', 'string'),\n",
       " ('Latitude', 'string'),\n",
       " ('Longitude', 'string')]"
      ]
     },
     "execution_count": 146,
     "metadata": {},
     "output_type": "execute_result"
    }
   ],
   "source": [
    "Temp_df.dtypes"
   ]
  },
  {
   "cell_type": "code",
   "execution_count": 147,
   "metadata": {
    "editable": true
   },
   "outputs": [
    {
     "name": "stdout",
     "output_type": "stream",
     "text": [
      "Number of rows: 8599212 and columns: 7\n"
     ]
    }
   ],
   "source": [
    "# Total number of rows and columns with temp data set\n",
    "print(\"Number of rows: \" + str(Temp_df.count()) + \" and columns: \" + str(len(Temp_df.columns)))"
   ]
  },
  {
   "cell_type": "markdown",
   "metadata": {
    "editable": true
   },
   "source": [
    "### `GlobalLandTemperaturesByCity` table and it's narrow scope: \n",
    "Temperature table is not a good candidate for `dimension table` on considering\n",
    "+  `Immigration table` has values all dated starting from year `2016`.\n",
    "+  `Temperature table` has values starting back from 1743 upto year 2013. \n",
    "+  There are no updated temperature values after 2013.\n",
    "\n",
    "`Dimension table choice: `We know that `Temperature` always varies date to date. We'll have a mismatched temperature profile by US City location, if we choose date as a foreing key? On this argument, I've decided to join `temperature-table` with `US_port_locations` table to create `City_Port` as the primary key for my dimension table."
   ]
  },
  {
   "cell_type": "code",
   "execution_count": 148,
   "metadata": {
    "editable": true
   },
   "outputs": [
    {
     "name": "stdout",
     "output_type": "stream",
     "text": [
      "These are the first five row values of US Cities temperature data set: \n",
      "+----------+------------------+-----------------------------+------+-----------+--------+---------+\n",
      "|        dt|AverageTemperature|AverageTemperatureUncertainty|  City|    Country|Latitude|Longitude|\n",
      "+----------+------------------+-----------------------------+------+-----------+--------+---------+\n",
      "|2013-09-01|              null|                         null|Zwolle|Netherlands|  52.24N|    5.26E|\n",
      "|2013-08-01|            18.025|                        0.298|Zwolle|Netherlands|  52.24N|    5.26E|\n",
      "|2013-07-01|            18.775|                        0.193|Zwolle|Netherlands|  52.24N|    5.26E|\n",
      "|2013-06-01|            15.043|                        0.261|Zwolle|Netherlands|  52.24N|    5.26E|\n",
      "|2013-05-01|            11.464|          0.23600000000000002|Zwolle|Netherlands|  52.24N|    5.26E|\n",
      "+----------+------------------+-----------------------------+------+-----------+--------+---------+\n",
      "only showing top 5 rows\n",
      "\n"
     ]
    }
   ],
   "source": [
    "print('These are the first five row values of US Cities temperature data set: ')\n",
    "Temp_df = Temp_df.withColumn(\"index\", monotonically_increasing_id())\n",
    "Temp_df.orderBy(desc(\"index\")).drop(\"index\").show(5)"
   ]
  },
  {
   "cell_type": "markdown",
   "metadata": {
    "editable": true
   },
   "source": [
    "### `Data Type conversion:`\n",
    "\n",
    "We have `Global Temperature Table`,`AverageTemperatureUncertainty`, `Latitude`, `Longitude` columns are all string data type? These are all numerical values, effectively we need data type conversion that will be more compatible to our data analysis. So I cast them to integer data type. The date column will also chage later in the process."
   ]
  },
  {
   "cell_type": "code",
   "execution_count": 149,
   "metadata": {
    "editable": true
   },
   "outputs": [
    {
     "name": "stdout",
     "output_type": "stream",
     "text": [
      "root\n",
      " |-- dt: string (nullable = true)\n",
      " |-- City: string (nullable = true)\n",
      " |-- Country: string (nullable = true)\n",
      " |-- Latitude: integer (nullable = true)\n",
      " |-- Longitude: integer (nullable = true)\n",
      " |-- index: long (nullable = false)\n",
      " |-- Average_Temperature: integer (nullable = true)\n",
      " |-- Average_Temperature_Uncertainty: integer (nullable = true)\n",
      "\n"
     ]
    }
   ],
   "source": [
    "# type casting our average temperature & Average_Temperature_Uncertainty columns\n",
    "Temp_df = Temp_df.withColumn(\"Average_Temperature\", col(\"AverageTemperature\").cast(IntegerType()))\n",
    "Temp_df = Temp_df.withColumn(\"Average_Temperature_Uncertainty\", col(\"AverageTemperatureUncertainty\").cast(IntegerType()))\n",
    "Temp_df = Temp_df.withColumn(\"Latitude\", col(\"Latitude\").cast(IntegerType()))\n",
    "Temp_df = Temp_df.withColumn(\"Longitude\", col(\"Longitude\").cast(IntegerType()))\n",
    "\n",
    "# dropping two columns because of name change\n",
    "Temp_df = Temp_df.drop('AverageTemperature','AverageTemperatureUncertainty')\n",
    "Temp_df.printSchema()"
   ]
  },
  {
   "cell_type": "markdown",
   "metadata": {
    "editable": true
   },
   "source": [
    "### `T1` - `GlobalLandTemperaturesByCity` Data Exploration:"
   ]
  },
  {
   "cell_type": "code",
   "execution_count": 150,
   "metadata": {
    "editable": true
   },
   "outputs": [],
   "source": [
    "#Temperature_table = Temp_df.alias('Temperature_Table')\n",
    "Temp_df.createOrReplaceTempView(\"City_Temp_Table\")"
   ]
  },
  {
   "cell_type": "code",
   "execution_count": 151,
   "metadata": {
    "editable": true
   },
   "outputs": [
    {
     "name": "stdout",
     "output_type": "stream",
     "text": [
      "+---+----+-------+--------+---------+-----+-------------------+-------------------------------+\n",
      "| dt|City|Country|Latitude|Longitude|index|Average_Temperature|Average_Temperature_Uncertainty|\n",
      "+---+----+-------+--------+---------+-----+-------------------+-------------------------------+\n",
      "|  0|   0|      0| 8599212|  8599212|    0|             364130|                         364130|\n",
      "+---+----+-------+--------+---------+-----+-------------------+-------------------------------+\n",
      "\n"
     ]
    }
   ],
   "source": [
    "# exploring number of null values in this table\n",
    "Temp_df.select([count(when(col(c).isNull(), c))\\\n",
    "                         .alias(c) for c in Temp_df.columns]).show()"
   ]
  },
  {
   "cell_type": "markdown",
   "metadata": {
    "editable": true
   },
   "source": [
    "**`Analytical perspective of Null values: `** \n",
    "\n",
    "We have `Latitude` & `Longitude` columns have all `(8599212)` rows are null values. So these column values don't have any sort utility for our analysis. Also there are `364,130` rows of null values present with the `AverageTemperature` & `Average_Temperature_Uncertainty` columns which is not a significant lapse to eliminate them. With `364,130` row values are null, which is about 4.23% of the total`8,599,212` rows."
   ]
  },
  {
   "cell_type": "markdown",
   "metadata": {
    "editable": true
   },
   "source": [
    "###  `Quick query 26, 27 & 28`\n",
    "`26:` Null temperature values by countries?"
   ]
  },
  {
   "cell_type": "code",
   "execution_count": 152,
   "metadata": {
    "editable": true
   },
   "outputs": [
    {
     "name": "stdout",
     "output_type": "stream",
     "text": [
      "Displaying number of null temperature values by county: \n",
      "\n",
      "+-------------+-------------------+---------------+\n",
      "|      Country|Average_Temperature|Null_Temp_Count|\n",
      "+-------------+-------------------+---------------+\n",
      "|        India|               null|          54358|\n",
      "|    Indonesia|               null|          49960|\n",
      "|United States|               null|          25765|\n",
      "|       Brazil|               null|          23935|\n",
      "|     Pakistan|               null|          15966|\n",
      "|      Nigeria|               null|          15335|\n",
      "|       Russia|               null|          12571|\n",
      "|     Colombia|               null|           8771|\n",
      "|        China|               null|           8670|\n",
      "|     Malaysia|               null|           7757|\n",
      "+-------------+-------------------+---------------+\n",
      "only showing top 10 rows\n",
      "\n"
     ]
    }
   ],
   "source": [
    "# counting Null temperature value by country\n",
    "print(\"Displaying number of null temperature values by county: \\n\")\n",
    "Null_Temperature_Count = spark.sql('''\n",
    "                             Select Country, Average_Temperature, count(*) as Null_Temp_Count\\\n",
    "                             From City_Temp_Table \\\n",
    "                             Where Average_Temperature IS NULL\\\n",
    "                             Group By Country, Average_Temperature\\\n",
    "                             Order By Null_Temp_Count Desc\n",
    "                                   ''')\n",
    "Null_Temperature_Count.show(10)"
   ]
  },
  {
   "cell_type": "markdown",
   "metadata": {
    "editable": true
   },
   "source": [
    "`27:` Countries temperature when it is not null?"
   ]
  },
  {
   "cell_type": "code",
   "execution_count": 153,
   "metadata": {
    "editable": true
   },
   "outputs": [
    {
     "name": "stdout",
     "output_type": "stream",
     "text": [
      "Displaying temperature values by country when it is not null: \n",
      "\n",
      "+--------+-------+--------+\n",
      "|    City|Country|Avg_temp|\n",
      "+--------+-------+--------+\n",
      "|A Coruña|  Spain|  12.649|\n",
      "|  Aachen|Germany|   8.404|\n",
      "| Aalborg|Denmark|   7.337|\n",
      "|     Aba|Nigeria|   26.12|\n",
      "|  Abadan|   Iran|  24.528|\n",
      "+--------+-------+--------+\n",
      "only showing top 5 rows\n",
      "\n"
     ]
    }
   ],
   "source": [
    "print(\"Displaying temperature values by country when it is not null: \\n\")\n",
    "# separating City and Country Temperature Table\n",
    "City_Country_Temp = spark.sql('''\n",
    "                     Select City, Country, ROUND(AVG(Average_Temperature),3) AS Avg_temp\n",
    "                     From City_Temp_Table\n",
    "                     Where Average_Temperature IS NOT NULL\n",
    "                     Group by City, Country\n",
    "                     Order by City ASC\n",
    "                     ''')\n",
    "\n",
    "City_Country_Temp.show(5)"
   ]
  },
  {
   "cell_type": "markdown",
   "metadata": {
    "editable": true
   },
   "source": [
    "`28:` Number of distinct Country and City in our temperature table."
   ]
  },
  {
   "cell_type": "code",
   "execution_count": 154,
   "metadata": {
    "editable": true
   },
   "outputs": [
    {
     "name": "stdout",
     "output_type": "stream",
     "text": [
      "+----------------+-------------+\n",
      "|Distinct_Country|Distinct_City|\n",
      "+----------------+-------------+\n",
      "|             159|         3448|\n",
      "+----------------+-------------+\n",
      "\n"
     ]
    }
   ],
   "source": [
    "Distinct_City_Country = spark.sql(\"Select count(distinct Country) AS Distinct_Country, \\\n",
    "                                   count(distinct City) AS Distinct_City\\\n",
    "                                   from City_Temp_Table\")\n",
    "\n",
    "Distinct_City_Country.show(4)"
   ]
  },
  {
   "cell_type": "markdown",
   "metadata": {
    "editable": true
   },
   "source": [
    "###   `T2` - `World City temperature` Exploration:"
   ]
  },
  {
   "cell_type": "markdown",
   "metadata": {
    "editable": true
   },
   "source": [
    "`Creating World City temperature table:`\n",
    "1. By eliminating all the `Null-Temperature-values` from the `World temperature data`.\n",
    "2. Changing `Date_Records` with `date` data type and delving in to segemented date columns.\n",
    "3. Transforming `City`, `Country` columns to `Upper` data type."
   ]
  },
  {
   "cell_type": "code",
   "execution_count": 155,
   "metadata": {
    "editable": true
   },
   "outputs": [
    {
     "name": "stdout",
     "output_type": "stream",
     "text": [
      "+------------+----+----------+---------+---+--------+-----------+-------+\n",
      "|Date_Records|Year|Month_Name|Month_Num|Day|Avg_Temp|Global_City|Country|\n",
      "+------------+----+----------+---------+---+--------+-----------+-------+\n",
      "|  2000-01-01|2000|   January|        1|  1|     3.0|      ÅRHUS|DENMARK|\n",
      "|  2000-02-01|2000|  February|        2|  1|     3.0|      ÅRHUS|DENMARK|\n",
      "|  2000-03-01|2000|     March|        3|  1|     3.0|      ÅRHUS|DENMARK|\n",
      "|  2000-04-01|2000|     April|        4|  1|     8.0|      ÅRHUS|DENMARK|\n",
      "|  2000-05-01|2000|       May|        5|  1|    13.0|      ÅRHUS|DENMARK|\n",
      "|  2000-06-01|2000|      June|        6|  1|    14.0|      ÅRHUS|DENMARK|\n",
      "|  2000-07-01|2000|      July|        7|  1|    16.0|      ÅRHUS|DENMARK|\n",
      "+------------+----+----------+---------+---+--------+-----------+-------+\n",
      "only showing top 7 rows\n",
      "\n"
     ]
    }
   ],
   "source": [
    "# subselecting, renaming & changing data type with world country and city\n",
    "World_Temprature = spark.sql('''\n",
    "                        select date(dt) Date_Records,\n",
    "                                   int(date_format(date(dt),'yyyy')) Year,\n",
    "                                    date_format(date(dt),'MMMM') Month_Name,\n",
    "                                      int(date_format(date(dt),'MM')) Month_Num,\n",
    "                                       int(date_format(date(dt),'dd')) Day,\n",
    "                                        round(float(Average_Temperature),2) Avg_Temp,\n",
    "                                          upper(City) Global_City, \n",
    "                                           upper(Country) Country\n",
    "                        from City_Temp_Table\n",
    "                        where to_date(dt,'yyyy-MM-dd') >= '2000-01-01' \n",
    "                        AND Average_Temperature IS NOT NULL\n",
    "                        \n",
    "                  ''')\n",
    "\n",
    "World_Temprature.show(7)"
   ]
  },
  {
   "cell_type": "code",
   "execution_count": 156,
   "metadata": {
    "editable": true
   },
   "outputs": [
    {
     "data": {
      "text/plain": [
       "[('Date_Records', 'date'),\n",
       " ('Year', 'int'),\n",
       " ('Month_Name', 'string'),\n",
       " ('Month_Num', 'int'),\n",
       " ('Day', 'int'),\n",
       " ('Avg_Temp', 'float'),\n",
       " ('Global_City', 'string'),\n",
       " ('Country', 'string')]"
      ]
     },
     "execution_count": 156,
     "metadata": {},
     "output_type": "execute_result"
    }
   ],
   "source": [
    "World_Temprature.dtypes"
   ]
  },
  {
   "cell_type": "code",
   "execution_count": 157,
   "metadata": {
    "editable": true
   },
   "outputs": [
    {
     "name": "stdout",
     "output_type": "stream",
     "text": [
      "Number of rows data with country Germany: 13284\n"
     ]
    }
   ],
   "source": [
    "# how many row values only with country Germany\n",
    "print(\"Number of rows data with country Germany: \" +\n",
    "str(World_Temprature.select('Country').where(World_Temprature.Country == 'GERMANY').count()))"
   ]
  },
  {
   "cell_type": "code",
   "execution_count": 158,
   "metadata": {
    "editable": true
   },
   "outputs": [
    {
     "name": "stdout",
     "output_type": "stream",
     "text": [
      "Number of rows with country Nigeria: 14924\n"
     ]
    }
   ],
   "source": [
    "# how many row values only with country Nigeria\n",
    "print(\"Number of rows with country Nigeria: \" + str(World_Temprature.select('Country').where(World_Temprature.Country == 'NIGERIA')\n",
    ".count()))"
   ]
  },
  {
   "cell_type": "markdown",
   "metadata": {
    "editable": true
   },
   "source": [
    "+ **Yearly world `City and Country` Temperature distribution in a  `Pivot table`** "
   ]
  },
  {
   "cell_type": "code",
   "execution_count": 159,
   "metadata": {
    "editable": true
   },
   "outputs": [
    {
     "data": {
      "text/html": [
       "<div>\n",
       "<style scoped>\n",
       "    .dataframe tbody tr th:only-of-type {\n",
       "        vertical-align: middle;\n",
       "    }\n",
       "\n",
       "    .dataframe tbody tr th {\n",
       "        vertical-align: top;\n",
       "    }\n",
       "\n",
       "    .dataframe thead th {\n",
       "        text-align: right;\n",
       "    }\n",
       "</style>\n",
       "<table border=\"1\" class=\"dataframe\">\n",
       "  <thead>\n",
       "    <tr style=\"text-align: right;\">\n",
       "      <th></th>\n",
       "      <th>Global_City</th>\n",
       "      <th>Country</th>\n",
       "      <th>2000</th>\n",
       "      <th>2001</th>\n",
       "      <th>2002</th>\n",
       "      <th>2003</th>\n",
       "      <th>2004</th>\n",
       "      <th>2005</th>\n",
       "      <th>2006</th>\n",
       "      <th>2007</th>\n",
       "      <th>2008</th>\n",
       "      <th>2009</th>\n",
       "      <th>2010</th>\n",
       "      <th>2011</th>\n",
       "      <th>2012</th>\n",
       "      <th>2013</th>\n",
       "    </tr>\n",
       "  </thead>\n",
       "  <tbody>\n",
       "    <tr>\n",
       "      <th>0</th>\n",
       "      <td>QUJING</td>\n",
       "      <td>CHINA</td>\n",
       "      <td>15.416667</td>\n",
       "      <td>16.000000</td>\n",
       "      <td>16.083333</td>\n",
       "      <td>16.416667</td>\n",
       "      <td>15.666667</td>\n",
       "      <td>15.916667</td>\n",
       "      <td>16.083333</td>\n",
       "      <td>15.833333</td>\n",
       "      <td>15.416667</td>\n",
       "      <td>16.416667</td>\n",
       "      <td>16.750000</td>\n",
       "      <td>15.250000</td>\n",
       "      <td>16.250000</td>\n",
       "      <td>17.500</td>\n",
       "    </tr>\n",
       "    <tr>\n",
       "      <th>1</th>\n",
       "      <td>VARNA</td>\n",
       "      <td>BULGARIA</td>\n",
       "      <td>12.916667</td>\n",
       "      <td>13.000000</td>\n",
       "      <td>13.000000</td>\n",
       "      <td>12.000000</td>\n",
       "      <td>12.666667</td>\n",
       "      <td>12.500000</td>\n",
       "      <td>12.333333</td>\n",
       "      <td>13.333333</td>\n",
       "      <td>13.333333</td>\n",
       "      <td>13.250000</td>\n",
       "      <td>13.333333</td>\n",
       "      <td>12.083333</td>\n",
       "      <td>13.250000</td>\n",
       "      <td>13.875</td>\n",
       "    </tr>\n",
       "    <tr>\n",
       "      <th>2</th>\n",
       "      <td>EJIGBO</td>\n",
       "      <td>NIGERIA</td>\n",
       "      <td>26.333333</td>\n",
       "      <td>26.333333</td>\n",
       "      <td>26.500000</td>\n",
       "      <td>26.583333</td>\n",
       "      <td>26.583333</td>\n",
       "      <td>26.583333</td>\n",
       "      <td>26.833333</td>\n",
       "      <td>26.833333</td>\n",
       "      <td>26.583333</td>\n",
       "      <td>26.750000</td>\n",
       "      <td>27.083333</td>\n",
       "      <td>26.583333</td>\n",
       "      <td>26.583333</td>\n",
       "      <td>26.625</td>\n",
       "    </tr>\n",
       "    <tr>\n",
       "      <th>3</th>\n",
       "      <td>JINGDEZHEN</td>\n",
       "      <td>CHINA</td>\n",
       "      <td>16.166667</td>\n",
       "      <td>16.500000</td>\n",
       "      <td>16.666667</td>\n",
       "      <td>16.583333</td>\n",
       "      <td>16.750000</td>\n",
       "      <td>16.333333</td>\n",
       "      <td>16.750000</td>\n",
       "      <td>17.166667</td>\n",
       "      <td>16.416667</td>\n",
       "      <td>16.750000</td>\n",
       "      <td>16.333333</td>\n",
       "      <td>16.250000</td>\n",
       "      <td>16.083333</td>\n",
       "      <td>17.875</td>\n",
       "    </tr>\n",
       "    <tr>\n",
       "      <th>4</th>\n",
       "      <td>LJUBLJANA</td>\n",
       "      <td>SLOVENIA</td>\n",
       "      <td>11.083333</td>\n",
       "      <td>10.416667</td>\n",
       "      <td>10.666667</td>\n",
       "      <td>10.500000</td>\n",
       "      <td>9.666667</td>\n",
       "      <td>9.333333</td>\n",
       "      <td>10.000000</td>\n",
       "      <td>10.916667</td>\n",
       "      <td>10.500000</td>\n",
       "      <td>10.750000</td>\n",
       "      <td>9.833333</td>\n",
       "      <td>10.416667</td>\n",
       "      <td>10.833333</td>\n",
       "      <td>11.250</td>\n",
       "    </tr>\n",
       "    <tr>\n",
       "      <th>5</th>\n",
       "      <td>SAINT LOUIS</td>\n",
       "      <td>SENEGAL</td>\n",
       "      <td>25.083333</td>\n",
       "      <td>25.750000</td>\n",
       "      <td>25.250000</td>\n",
       "      <td>25.250000</td>\n",
       "      <td>25.166667</td>\n",
       "      <td>25.583333</td>\n",
       "      <td>25.166667</td>\n",
       "      <td>25.250000</td>\n",
       "      <td>25.333333</td>\n",
       "      <td>24.916667</td>\n",
       "      <td>26.166667</td>\n",
       "      <td>25.583333</td>\n",
       "      <td>25.416667</td>\n",
       "      <td>24.750</td>\n",
       "    </tr>\n",
       "    <tr>\n",
       "      <th>6</th>\n",
       "      <td>CHIKMAGALUR</td>\n",
       "      <td>INDIA</td>\n",
       "      <td>25.166667</td>\n",
       "      <td>25.583333</td>\n",
       "      <td>25.750000</td>\n",
       "      <td>25.916667</td>\n",
       "      <td>25.416667</td>\n",
       "      <td>25.333333</td>\n",
       "      <td>25.333333</td>\n",
       "      <td>25.583333</td>\n",
       "      <td>25.333333</td>\n",
       "      <td>25.583333</td>\n",
       "      <td>25.750000</td>\n",
       "      <td>25.250000</td>\n",
       "      <td>25.666667</td>\n",
       "      <td>26.250</td>\n",
       "    </tr>\n",
       "  </tbody>\n",
       "</table>\n",
       "</div>"
      ],
      "text/plain": [
       "   Global_City   Country       2000       2001       2002       2003  \\\n",
       "0       QUJING     CHINA  15.416667  16.000000  16.083333  16.416667   \n",
       "1        VARNA  BULGARIA  12.916667  13.000000  13.000000  12.000000   \n",
       "2       EJIGBO   NIGERIA  26.333333  26.333333  26.500000  26.583333   \n",
       "3   JINGDEZHEN     CHINA  16.166667  16.500000  16.666667  16.583333   \n",
       "4    LJUBLJANA  SLOVENIA  11.083333  10.416667  10.666667  10.500000   \n",
       "5  SAINT LOUIS   SENEGAL  25.083333  25.750000  25.250000  25.250000   \n",
       "6  CHIKMAGALUR     INDIA  25.166667  25.583333  25.750000  25.916667   \n",
       "\n",
       "        2004       2005       2006       2007       2008       2009  \\\n",
       "0  15.666667  15.916667  16.083333  15.833333  15.416667  16.416667   \n",
       "1  12.666667  12.500000  12.333333  13.333333  13.333333  13.250000   \n",
       "2  26.583333  26.583333  26.833333  26.833333  26.583333  26.750000   \n",
       "3  16.750000  16.333333  16.750000  17.166667  16.416667  16.750000   \n",
       "4   9.666667   9.333333  10.000000  10.916667  10.500000  10.750000   \n",
       "5  25.166667  25.583333  25.166667  25.250000  25.333333  24.916667   \n",
       "6  25.416667  25.333333  25.333333  25.583333  25.333333  25.583333   \n",
       "\n",
       "        2010       2011       2012    2013  \n",
       "0  16.750000  15.250000  16.250000  17.500  \n",
       "1  13.333333  12.083333  13.250000  13.875  \n",
       "2  27.083333  26.583333  26.583333  26.625  \n",
       "3  16.333333  16.250000  16.083333  17.875  \n",
       "4   9.833333  10.416667  10.833333  11.250  \n",
       "5  26.166667  25.583333  25.416667  24.750  \n",
       "6  25.750000  25.250000  25.666667  26.250  "
      ]
     },
     "execution_count": 159,
     "metadata": {},
     "output_type": "execute_result"
    }
   ],
   "source": [
    "# World countries with Yearly and monthly Temperature pivoted > 'Month Name'\n",
    "World_Temp_Yearly = World_Temprature.groupBy([\"Global_City\",\"Country\"]).pivot(\"Year\")\\\n",
    "                                              .avg(\"Avg_Temp\")\n",
    "\n",
    "World_Temp_Yearly.toPandas().head(7)"
   ]
  },
  {
   "cell_type": "markdown",
   "metadata": {
    "editable": true
   },
   "source": [
    "> Sending `Yearly World_Temperature` table into the cloud (Not dimension) Table"
   ]
  },
  {
   "cell_type": "code",
   "execution_count": 160,
   "metadata": {
    "editable": true
   },
   "outputs": [],
   "source": [
    "# write World_Temp_Monthly table to parquet files\n",
    "World_Temp_Yearly.write.mode(\"overwrite\").parquet(path=output_data + 'World_Temp_Yearly/')"
   ]
  },
  {
   "cell_type": "code",
   "execution_count": 161,
   "metadata": {
    "editable": true
   },
   "outputs": [
    {
     "name": "stdout",
     "output_type": "stream",
     "text": [
      "The 'World_Temp_Yearly' table: \n",
      "is not empty, it has total 3490 records.\n"
     ]
    }
   ],
   "source": [
    "print(\"The 'World_Temp_Yearly' table: \") \n",
    "record_count(World_Temp_Yearly)"
   ]
  },
  {
   "cell_type": "code",
   "execution_count": null,
   "metadata": {
    "editable": true
   },
   "outputs": [],
   "source": []
  },
  {
   "cell_type": "markdown",
   "metadata": {
    "editable": true
   },
   "source": [
    "+ **Displaying Monthly World City Temperature in a pivot table**"
   ]
  },
  {
   "cell_type": "code",
   "execution_count": 162,
   "metadata": {
    "editable": true
   },
   "outputs": [
    {
     "data": {
      "text/html": [
       "<div>\n",
       "<style scoped>\n",
       "    .dataframe tbody tr th:only-of-type {\n",
       "        vertical-align: middle;\n",
       "    }\n",
       "\n",
       "    .dataframe tbody tr th {\n",
       "        vertical-align: top;\n",
       "    }\n",
       "\n",
       "    .dataframe thead th {\n",
       "        text-align: right;\n",
       "    }\n",
       "</style>\n",
       "<table border=\"1\" class=\"dataframe\">\n",
       "  <thead>\n",
       "    <tr style=\"text-align: right;\">\n",
       "      <th></th>\n",
       "      <th>Global_City</th>\n",
       "      <th>Country</th>\n",
       "      <th>Year</th>\n",
       "      <th>April</th>\n",
       "      <th>August</th>\n",
       "      <th>December</th>\n",
       "      <th>February</th>\n",
       "      <th>January</th>\n",
       "      <th>July</th>\n",
       "      <th>June</th>\n",
       "      <th>March</th>\n",
       "      <th>May</th>\n",
       "      <th>November</th>\n",
       "      <th>October</th>\n",
       "      <th>September</th>\n",
       "    </tr>\n",
       "  </thead>\n",
       "  <tbody>\n",
       "    <tr>\n",
       "      <th>0</th>\n",
       "      <td>ALMETYEVSK</td>\n",
       "      <td>RUSSIA</td>\n",
       "      <td>2012</td>\n",
       "      <td>9.0</td>\n",
       "      <td>19.0</td>\n",
       "      <td>-13.0</td>\n",
       "      <td>-15.0</td>\n",
       "      <td>-11.0</td>\n",
       "      <td>20.0</td>\n",
       "      <td>19.0</td>\n",
       "      <td>-6.0</td>\n",
       "      <td>15.0</td>\n",
       "      <td>0.0</td>\n",
       "      <td>6.0</td>\n",
       "      <td>12.0</td>\n",
       "    </tr>\n",
       "    <tr>\n",
       "      <th>1</th>\n",
       "      <td>AUCKLAND</td>\n",
       "      <td>NEW ZEALAND</td>\n",
       "      <td>2001</td>\n",
       "      <td>17.0</td>\n",
       "      <td>12.0</td>\n",
       "      <td>18.0</td>\n",
       "      <td>20.0</td>\n",
       "      <td>18.0</td>\n",
       "      <td>11.0</td>\n",
       "      <td>13.0</td>\n",
       "      <td>18.0</td>\n",
       "      <td>15.0</td>\n",
       "      <td>16.0</td>\n",
       "      <td>15.0</td>\n",
       "      <td>13.0</td>\n",
       "    </tr>\n",
       "    <tr>\n",
       "      <th>2</th>\n",
       "      <td>BIRMINGHAM</td>\n",
       "      <td>UNITED STATES</td>\n",
       "      <td>2000</td>\n",
       "      <td>15.0</td>\n",
       "      <td>28.0</td>\n",
       "      <td>3.0</td>\n",
       "      <td>11.0</td>\n",
       "      <td>8.0</td>\n",
       "      <td>28.0</td>\n",
       "      <td>25.0</td>\n",
       "      <td>15.0</td>\n",
       "      <td>23.0</td>\n",
       "      <td>11.0</td>\n",
       "      <td>18.0</td>\n",
       "      <td>24.0</td>\n",
       "    </tr>\n",
       "    <tr>\n",
       "      <th>3</th>\n",
       "      <td>BYTOM</td>\n",
       "      <td>POLAND</td>\n",
       "      <td>2009</td>\n",
       "      <td>12.0</td>\n",
       "      <td>19.0</td>\n",
       "      <td>0.0</td>\n",
       "      <td>0.0</td>\n",
       "      <td>-2.0</td>\n",
       "      <td>19.0</td>\n",
       "      <td>15.0</td>\n",
       "      <td>3.0</td>\n",
       "      <td>13.0</td>\n",
       "      <td>6.0</td>\n",
       "      <td>7.0</td>\n",
       "      <td>15.0</td>\n",
       "    </tr>\n",
       "    <tr>\n",
       "      <th>4</th>\n",
       "      <td>CIREBON</td>\n",
       "      <td>INDONESIA</td>\n",
       "      <td>2006</td>\n",
       "      <td>25.0</td>\n",
       "      <td>25.0</td>\n",
       "      <td>25.0</td>\n",
       "      <td>25.0</td>\n",
       "      <td>24.0</td>\n",
       "      <td>25.0</td>\n",
       "      <td>25.0</td>\n",
       "      <td>25.0</td>\n",
       "      <td>25.0</td>\n",
       "      <td>27.0</td>\n",
       "      <td>26.0</td>\n",
       "      <td>25.0</td>\n",
       "    </tr>\n",
       "    <tr>\n",
       "      <th>5</th>\n",
       "      <td>GUANARE</td>\n",
       "      <td>VENEZUELA</td>\n",
       "      <td>2012</td>\n",
       "      <td>23.0</td>\n",
       "      <td>23.0</td>\n",
       "      <td>23.0</td>\n",
       "      <td>24.0</td>\n",
       "      <td>24.0</td>\n",
       "      <td>23.0</td>\n",
       "      <td>24.0</td>\n",
       "      <td>24.0</td>\n",
       "      <td>24.0</td>\n",
       "      <td>24.0</td>\n",
       "      <td>24.0</td>\n",
       "      <td>23.0</td>\n",
       "    </tr>\n",
       "    <tr>\n",
       "      <th>6</th>\n",
       "      <td>HADEJIA</td>\n",
       "      <td>NIGERIA</td>\n",
       "      <td>2001</td>\n",
       "      <td>32.0</td>\n",
       "      <td>26.0</td>\n",
       "      <td>23.0</td>\n",
       "      <td>23.0</td>\n",
       "      <td>21.0</td>\n",
       "      <td>27.0</td>\n",
       "      <td>29.0</td>\n",
       "      <td>28.0</td>\n",
       "      <td>32.0</td>\n",
       "      <td>26.0</td>\n",
       "      <td>27.0</td>\n",
       "      <td>27.0</td>\n",
       "    </tr>\n",
       "  </tbody>\n",
       "</table>\n",
       "</div>"
      ],
      "text/plain": [
       "  Global_City        Country  Year  April  August  December  February  \\\n",
       "0  ALMETYEVSK         RUSSIA  2012    9.0    19.0     -13.0     -15.0   \n",
       "1    AUCKLAND    NEW ZEALAND  2001   17.0    12.0      18.0      20.0   \n",
       "2  BIRMINGHAM  UNITED STATES  2000   15.0    28.0       3.0      11.0   \n",
       "3       BYTOM         POLAND  2009   12.0    19.0       0.0       0.0   \n",
       "4     CIREBON      INDONESIA  2006   25.0    25.0      25.0      25.0   \n",
       "5     GUANARE      VENEZUELA  2012   23.0    23.0      23.0      24.0   \n",
       "6     HADEJIA        NIGERIA  2001   32.0    26.0      23.0      23.0   \n",
       "\n",
       "   January  July  June  March   May  November  October  September  \n",
       "0    -11.0  20.0  19.0   -6.0  15.0       0.0      6.0       12.0  \n",
       "1     18.0  11.0  13.0   18.0  15.0      16.0     15.0       13.0  \n",
       "2      8.0  28.0  25.0   15.0  23.0      11.0     18.0       24.0  \n",
       "3     -2.0  19.0  15.0    3.0  13.0       6.0      7.0       15.0  \n",
       "4     24.0  25.0  25.0   25.0  25.0      27.0     26.0       25.0  \n",
       "5     24.0  23.0  24.0   24.0  24.0      24.0     24.0       23.0  \n",
       "6     21.0  27.0  29.0   28.0  32.0      26.0     27.0       27.0  "
      ]
     },
     "execution_count": 162,
     "metadata": {},
     "output_type": "execute_result"
    }
   ],
   "source": [
    "# World countries with Yearly and monthly Temperature pivoted > 'Month Name'\n",
    "World_Temp_Monthly = World_Temprature.groupBy([\"Global_City\",\"Country\",\"Year\"]).pivot(\"Month_Name\")\\\n",
    "                                              .avg(\"Avg_Temp\")\n",
    "\n",
    "World_Temp_Monthly.toPandas().head(7)"
   ]
  },
  {
   "cell_type": "markdown",
   "metadata": {
    "editable": true
   },
   "source": [
    "> Sending `World_Temp_Monthly Temperature` table into the cloud (Not dimension) Table"
   ]
  },
  {
   "cell_type": "code",
   "execution_count": 163,
   "metadata": {
    "editable": true
   },
   "outputs": [],
   "source": [
    "World_Temp_Monthly.write.mode(\"overwrite\").parquet(path=output_data + 'World_Temp_Monthly/')"
   ]
  },
  {
   "cell_type": "code",
   "execution_count": 164,
   "metadata": {
    "editable": true
   },
   "outputs": [
    {
     "name": "stdout",
     "output_type": "stream",
     "text": [
      "The 'World_Temp_Monthly' table: \n",
      "is not empty, it has total 48860 records.\n"
     ]
    }
   ],
   "source": [
    "print(\"The 'World_Temp_Monthly' table: \") \n",
    "record_count(World_Temp_Monthly)"
   ]
  },
  {
   "cell_type": "code",
   "execution_count": null,
   "metadata": {
    "editable": true
   },
   "outputs": [],
   "source": []
  },
  {
   "cell_type": "markdown",
   "metadata": {
    "editable": true
   },
   "source": [
    "### `T3` - `US Only` City Temperature:\n",
    "For the sake of creating a more focused data set with US City only, I made some SQL query based transformation from world temperature table. This change in table design was created to make it more compatible to my star-schema data model design effort. I...\n",
    "+ Changed `Date_Records` column into `date` data type and into more detailed form.\n",
    "+ Limit the date starting from year `2000` to available.\n",
    "+ Eliminated all `null-temperature` values involving US City from the table."
   ]
  },
  {
   "cell_type": "code",
   "execution_count": 165,
   "metadata": {
    "editable": true
   },
   "outputs": [
    {
     "name": "stdout",
     "output_type": "stream",
     "text": [
      "Number of rows with US cities only temperature:\n"
     ]
    },
    {
     "data": {
      "text/plain": [
       "42404"
      ]
     },
     "execution_count": 165,
     "metadata": {},
     "output_type": "execute_result"
    }
   ],
   "source": [
    "print(\"Number of rows with US cities only temperature:\")\n",
    "US_City_Temp = World_Temprature.select('Country','Global_City').where(World_Temprature.Country == 'UNITED STATES')\n",
    "US_City_Temp.count()"
   ]
  },
  {
   "cell_type": "code",
   "execution_count": 166,
   "metadata": {
    "editable": true,
    "scrolled": true
   },
   "outputs": [
    {
     "name": "stdout",
     "output_type": "stream",
     "text": [
      "Number of distinct US Cities with this data set:  248\n"
     ]
    }
   ],
   "source": [
    "print(\"Number of distinct US Cities with this data set: \",\\\n",
    "                                  US_City_Temp.dropDuplicates(['Global_City']).select(\"Global_City\").count())"
   ]
  },
  {
   "cell_type": "code",
   "execution_count": 167,
   "metadata": {
    "editable": true
   },
   "outputs": [
    {
     "name": "stdout",
     "output_type": "stream",
     "text": [
      "Data set with US City Temperature only: \n",
      "+------------+----+----------+---------+---+--------+-------+-------------+\n",
      "|Date_Records|Year|Month_Name|Month_Num|Day|Avg_Temp|US_City|      Country|\n",
      "+------------+----+----------+---------+---+--------+-------+-------------+\n",
      "|  2000-01-01|2000|   January|        1|  1|     8.0|ABILENE|UNITED STATES|\n",
      "|  2000-02-01|2000|  February|        2|  1|    11.0|ABILENE|UNITED STATES|\n",
      "|  2000-03-01|2000|     March|        3|  1|    14.0|ABILENE|UNITED STATES|\n",
      "|  2000-04-01|2000|     April|        4|  1|    18.0|ABILENE|UNITED STATES|\n",
      "|  2000-05-01|2000|       May|        5|  1|    25.0|ABILENE|UNITED STATES|\n",
      "|  2000-06-01|2000|      June|        6|  1|    25.0|ABILENE|UNITED STATES|\n",
      "|  2000-07-01|2000|      July|        7|  1|    29.0|ABILENE|UNITED STATES|\n",
      "+------------+----+----------+---------+---+--------+-------+-------------+\n",
      "only showing top 7 rows\n",
      "\n"
     ]
    }
   ],
   "source": [
    "# sub-selecting columns, rename and change data type from the temperature table\n",
    "print(\"Data set with US City Temperature only: \")\n",
    "US_Cities_Temperature = spark.sql('''\n",
    "                        select date(dt) Date_Records,\n",
    "                                   int(date_format(date(dt),'yyyy')) Year,\n",
    "                                    date_format(date(dt),'MMMM') Month_Name,\n",
    "                                      int(date_format(date(dt),'MM')) Month_Num,\n",
    "                                       int(date_format(date(dt),'dd')) Day,\n",
    "                                        round(float(Average_Temperature),3) Avg_Temp,\n",
    "                                          upper(City) US_City, \n",
    "                                           upper(Country) Country\n",
    "                        From City_Temp_Table\n",
    "                        Where to_date(dt,'yyyy-MM-dd') >= '2000-01-01' \n",
    "                        AND Country = 'United States' \n",
    "                        AND Average_Temperature IS NOT NULL\n",
    "                        AND City IS NOT NULL\n",
    "                  ''')\n",
    "\n",
    "US_Cities_Temperature.show(7)"
   ]
  },
  {
   "cell_type": "code",
   "execution_count": 168,
   "metadata": {
    "editable": true
   },
   "outputs": [
    {
     "name": "stdout",
     "output_type": "stream",
     "text": [
      "root\n",
      " |-- Date_Records: date (nullable = true)\n",
      " |-- Year: integer (nullable = true)\n",
      " |-- Month_Name: string (nullable = true)\n",
      " |-- Month_Num: integer (nullable = true)\n",
      " |-- Day: integer (nullable = true)\n",
      " |-- Avg_Temp: float (nullable = true)\n",
      " |-- US_City: string (nullable = true)\n",
      " |-- Country: string (nullable = true)\n",
      "\n"
     ]
    }
   ],
   "source": [
    "US_Cities_Temperature.printSchema()"
   ]
  },
  {
   "cell_type": "code",
   "execution_count": 169,
   "metadata": {
    "editable": true
   },
   "outputs": [
    {
     "name": "stdout",
     "output_type": "stream",
     "text": [
      "US Temperature table with Number of rows: 42404 and columns: 8\n"
     ]
    }
   ],
   "source": [
    "print(\"US Temperature table with Number of rows: \" + str(US_Cities_Temperature.count()) + \" and columns: \" + str(len(US_Cities_Temperature.columns)))"
   ]
  },
  {
   "cell_type": "markdown",
   "metadata": {
    "editable": true
   },
   "source": [
    "> Sending `US_Cities_Temperature` to Work Space cloud."
   ]
  },
  {
   "cell_type": "code",
   "execution_count": 170,
   "metadata": {
    "editable": true
   },
   "outputs": [],
   "source": [
    "US_Cities_Temperature.write.mode(\"overwrite\").parquet(path=output_data + 'US_Cities_Temperature/')"
   ]
  },
  {
   "cell_type": "code",
   "execution_count": null,
   "metadata": {
    "editable": true
   },
   "outputs": [],
   "source": []
  },
  {
   "cell_type": "markdown",
   "metadata": {
    "editable": true
   },
   "source": [
    "+ **Yearly `US City and State` Temperature distribution with a `Pivot table`** "
   ]
  },
  {
   "cell_type": "code",
   "execution_count": 171,
   "metadata": {
    "editable": true
   },
   "outputs": [
    {
     "data": {
      "text/html": [
       "<div>\n",
       "<style scoped>\n",
       "    .dataframe tbody tr th:only-of-type {\n",
       "        vertical-align: middle;\n",
       "    }\n",
       "\n",
       "    .dataframe tbody tr th {\n",
       "        vertical-align: top;\n",
       "    }\n",
       "\n",
       "    .dataframe thead th {\n",
       "        text-align: right;\n",
       "    }\n",
       "</style>\n",
       "<table border=\"1\" class=\"dataframe\">\n",
       "  <thead>\n",
       "    <tr style=\"text-align: right;\">\n",
       "      <th></th>\n",
       "      <th>US_City</th>\n",
       "      <th>Country</th>\n",
       "      <th>2000</th>\n",
       "      <th>2001</th>\n",
       "      <th>2002</th>\n",
       "      <th>2003</th>\n",
       "      <th>2004</th>\n",
       "      <th>2005</th>\n",
       "      <th>2006</th>\n",
       "      <th>2007</th>\n",
       "      <th>2008</th>\n",
       "      <th>2009</th>\n",
       "      <th>2010</th>\n",
       "      <th>2011</th>\n",
       "      <th>2012</th>\n",
       "      <th>2013</th>\n",
       "    </tr>\n",
       "  </thead>\n",
       "  <tbody>\n",
       "    <tr>\n",
       "      <th>0</th>\n",
       "      <td>BUFFALO</td>\n",
       "      <td>UNITED STATES</td>\n",
       "      <td>8.000000</td>\n",
       "      <td>9.250000</td>\n",
       "      <td>9.166667</td>\n",
       "      <td>7.750000</td>\n",
       "      <td>8.333333</td>\n",
       "      <td>8.750000</td>\n",
       "      <td>9.416667</td>\n",
       "      <td>8.75</td>\n",
       "      <td>8.416667</td>\n",
       "      <td>7.916667</td>\n",
       "      <td>9.083333</td>\n",
       "      <td>9.083333</td>\n",
       "      <td>10.083333</td>\n",
       "      <td>10.111111</td>\n",
       "    </tr>\n",
       "    <tr>\n",
       "      <th>1</th>\n",
       "      <td>SAN JOSE</td>\n",
       "      <td>UNITED STATES</td>\n",
       "      <td>14.500000</td>\n",
       "      <td>14.666667</td>\n",
       "      <td>14.416667</td>\n",
       "      <td>14.916667</td>\n",
       "      <td>14.750000</td>\n",
       "      <td>14.583333</td>\n",
       "      <td>14.500000</td>\n",
       "      <td>14.50</td>\n",
       "      <td>14.666667</td>\n",
       "      <td>14.500000</td>\n",
       "      <td>14.250000</td>\n",
       "      <td>14.000000</td>\n",
       "      <td>14.583333</td>\n",
       "      <td>15.666667</td>\n",
       "    </tr>\n",
       "    <tr>\n",
       "      <th>2</th>\n",
       "      <td>GREEN BAY</td>\n",
       "      <td>UNITED STATES</td>\n",
       "      <td>7.916667</td>\n",
       "      <td>8.916667</td>\n",
       "      <td>8.583333</td>\n",
       "      <td>7.333333</td>\n",
       "      <td>7.583333</td>\n",
       "      <td>8.583333</td>\n",
       "      <td>8.750000</td>\n",
       "      <td>8.25</td>\n",
       "      <td>7.250000</td>\n",
       "      <td>7.166667</td>\n",
       "      <td>8.916667</td>\n",
       "      <td>8.083333</td>\n",
       "      <td>9.666667</td>\n",
       "      <td>8.666667</td>\n",
       "    </tr>\n",
       "  </tbody>\n",
       "</table>\n",
       "</div>"
      ],
      "text/plain": [
       "     US_City        Country       2000       2001       2002       2003  \\\n",
       "0    BUFFALO  UNITED STATES   8.000000   9.250000   9.166667   7.750000   \n",
       "1   SAN JOSE  UNITED STATES  14.500000  14.666667  14.416667  14.916667   \n",
       "2  GREEN BAY  UNITED STATES   7.916667   8.916667   8.583333   7.333333   \n",
       "\n",
       "        2004       2005       2006   2007       2008       2009       2010  \\\n",
       "0   8.333333   8.750000   9.416667   8.75   8.416667   7.916667   9.083333   \n",
       "1  14.750000  14.583333  14.500000  14.50  14.666667  14.500000  14.250000   \n",
       "2   7.583333   8.583333   8.750000   8.25   7.250000   7.166667   8.916667   \n",
       "\n",
       "        2011       2012       2013  \n",
       "0   9.083333  10.083333  10.111111  \n",
       "1  14.000000  14.583333  15.666667  \n",
       "2   8.083333   9.666667   8.666667  "
      ]
     },
     "execution_count": 171,
     "metadata": {},
     "output_type": "execute_result"
    }
   ],
   "source": [
    "# Pivot the dataframe by year to get average temp in a single row for each city \n",
    "US_Yearly_Temper = US_Cities_Temperature.groupBy([\"US_City\",\"Country\"]).pivot(\"Year\")\\\n",
    "                                              .avg(\"Avg_Temp\")\n",
    "\n",
    "US_Yearly_Temper.toPandas().head(3)"
   ]
  },
  {
   "cell_type": "code",
   "execution_count": 172,
   "metadata": {
    "editable": true
   },
   "outputs": [
    {
     "name": "stdout",
     "output_type": "stream",
     "text": [
      "Sending 'US_Yearly_Temper' file back to Workspace storage.\n"
     ]
    }
   ],
   "source": [
    "# writing US_Yearly_Temper table to Workspace storage to parquet files\n",
    "print(\"Sending 'US_Yearly_Temper' file back to Workspace storage.\")\n",
    "US_Yearly_Temper.write.mode(\"overwrite\").parquet(path=output_data + 'US_Yearly_Temper/')"
   ]
  },
  {
   "cell_type": "code",
   "execution_count": null,
   "metadata": {
    "editable": true
   },
   "outputs": [],
   "source": []
  },
  {
   "cell_type": "markdown",
   "metadata": {
    "editable": true
   },
   "source": [
    "+ **`Montly US City Tempeature` with year added on it with a Pivot-table.**"
   ]
  },
  {
   "cell_type": "code",
   "execution_count": 173,
   "metadata": {
    "editable": true
   },
   "outputs": [
    {
     "data": {
      "text/html": [
       "<div>\n",
       "<style scoped>\n",
       "    .dataframe tbody tr th:only-of-type {\n",
       "        vertical-align: middle;\n",
       "    }\n",
       "\n",
       "    .dataframe tbody tr th {\n",
       "        vertical-align: top;\n",
       "    }\n",
       "\n",
       "    .dataframe thead th {\n",
       "        text-align: right;\n",
       "    }\n",
       "</style>\n",
       "<table border=\"1\" class=\"dataframe\">\n",
       "  <thead>\n",
       "    <tr style=\"text-align: right;\">\n",
       "      <th></th>\n",
       "      <th>US_City</th>\n",
       "      <th>Country</th>\n",
       "      <th>Year</th>\n",
       "      <th>April</th>\n",
       "      <th>August</th>\n",
       "      <th>December</th>\n",
       "      <th>February</th>\n",
       "      <th>January</th>\n",
       "      <th>July</th>\n",
       "      <th>June</th>\n",
       "      <th>March</th>\n",
       "      <th>May</th>\n",
       "      <th>November</th>\n",
       "      <th>October</th>\n",
       "      <th>September</th>\n",
       "    </tr>\n",
       "  </thead>\n",
       "  <tbody>\n",
       "    <tr>\n",
       "      <th>0</th>\n",
       "      <td>BIRMINGHAM</td>\n",
       "      <td>UNITED STATES</td>\n",
       "      <td>2000</td>\n",
       "      <td>15.0</td>\n",
       "      <td>28.0</td>\n",
       "      <td>3.0</td>\n",
       "      <td>11.0</td>\n",
       "      <td>8.0</td>\n",
       "      <td>28.0</td>\n",
       "      <td>25.0</td>\n",
       "      <td>15.0</td>\n",
       "      <td>23.0</td>\n",
       "      <td>11.0</td>\n",
       "      <td>18.0</td>\n",
       "      <td>24.0</td>\n",
       "    </tr>\n",
       "    <tr>\n",
       "      <th>1</th>\n",
       "      <td>SANTA ANA</td>\n",
       "      <td>UNITED STATES</td>\n",
       "      <td>2007</td>\n",
       "      <td>14.0</td>\n",
       "      <td>21.0</td>\n",
       "      <td>12.0</td>\n",
       "      <td>13.0</td>\n",
       "      <td>12.0</td>\n",
       "      <td>20.0</td>\n",
       "      <td>17.0</td>\n",
       "      <td>15.0</td>\n",
       "      <td>16.0</td>\n",
       "      <td>16.0</td>\n",
       "      <td>18.0</td>\n",
       "      <td>19.0</td>\n",
       "    </tr>\n",
       "    <tr>\n",
       "      <th>2</th>\n",
       "      <td>CHESAPEAKE</td>\n",
       "      <td>UNITED STATES</td>\n",
       "      <td>2006</td>\n",
       "      <td>15.0</td>\n",
       "      <td>26.0</td>\n",
       "      <td>11.0</td>\n",
       "      <td>7.0</td>\n",
       "      <td>10.0</td>\n",
       "      <td>26.0</td>\n",
       "      <td>23.0</td>\n",
       "      <td>9.0</td>\n",
       "      <td>18.0</td>\n",
       "      <td>14.0</td>\n",
       "      <td>17.0</td>\n",
       "      <td>22.0</td>\n",
       "    </tr>\n",
       "  </tbody>\n",
       "</table>\n",
       "</div>"
      ],
      "text/plain": [
       "      US_City        Country  Year  April  August  December  February  \\\n",
       "0  BIRMINGHAM  UNITED STATES  2000   15.0    28.0       3.0      11.0   \n",
       "1   SANTA ANA  UNITED STATES  2007   14.0    21.0      12.0      13.0   \n",
       "2  CHESAPEAKE  UNITED STATES  2006   15.0    26.0      11.0       7.0   \n",
       "\n",
       "   January  July  June  March   May  November  October  September  \n",
       "0      8.0  28.0  25.0   15.0  23.0      11.0     18.0       24.0  \n",
       "1     12.0  20.0  17.0   15.0  16.0      16.0     18.0       19.0  \n",
       "2     10.0  26.0  23.0    9.0  18.0      14.0     17.0       22.0  "
      ]
     },
     "execution_count": 173,
     "metadata": {},
     "output_type": "execute_result"
    }
   ],
   "source": [
    "# Pivot the dataframe by Month to get average temp in a single row for each row \n",
    "US_Monthly_Temperature = US_Cities_Temperature.groupBy([\"US_City\",\"Country\",\"Year\"]).pivot(\"Month_Name\")\\\n",
    "                                              .avg(\"Avg_Temp\")\n",
    "\n",
    "US_Monthly_Temperature.toPandas().head(3)"
   ]
  },
  {
   "cell_type": "code",
   "execution_count": 174,
   "metadata": {
    "editable": true
   },
   "outputs": [
    {
     "data": {
      "text/html": [
       "<div>\n",
       "<style scoped>\n",
       "    .dataframe tbody tr th:only-of-type {\n",
       "        vertical-align: middle;\n",
       "    }\n",
       "\n",
       "    .dataframe tbody tr th {\n",
       "        vertical-align: top;\n",
       "    }\n",
       "\n",
       "    .dataframe thead th {\n",
       "        text-align: right;\n",
       "    }\n",
       "</style>\n",
       "<table border=\"1\" class=\"dataframe\">\n",
       "  <thead>\n",
       "    <tr style=\"text-align: right;\">\n",
       "      <th></th>\n",
       "      <th>US_City</th>\n",
       "      <th>Year</th>\n",
       "      <th>Jan_Avg_Temp</th>\n",
       "      <th>Feb_Avg_Temp</th>\n",
       "      <th>March_Avg_Temp</th>\n",
       "      <th>April_Avg_Temp</th>\n",
       "      <th>May_Avg_Temp</th>\n",
       "      <th>June_Avg_Temp</th>\n",
       "      <th>July_Avg_Temp</th>\n",
       "      <th>August_Avg_Temp</th>\n",
       "      <th>September_Avg_Temp</th>\n",
       "      <th>October_Avg_Temp</th>\n",
       "      <th>November_Avg_Temp</th>\n",
       "      <th>December_Avg_Temp</th>\n",
       "    </tr>\n",
       "  </thead>\n",
       "  <tbody>\n",
       "    <tr>\n",
       "      <th>0</th>\n",
       "      <td>BIRMINGHAM</td>\n",
       "      <td>2000</td>\n",
       "      <td>8.0</td>\n",
       "      <td>11.0</td>\n",
       "      <td>15.0</td>\n",
       "      <td>15.0</td>\n",
       "      <td>23.0</td>\n",
       "      <td>25.0</td>\n",
       "      <td>28.0</td>\n",
       "      <td>28.0</td>\n",
       "      <td>24.0</td>\n",
       "      <td>18.0</td>\n",
       "      <td>11.0</td>\n",
       "      <td>3.0</td>\n",
       "    </tr>\n",
       "    <tr>\n",
       "      <th>1</th>\n",
       "      <td>SANTA ANA</td>\n",
       "      <td>2007</td>\n",
       "      <td>12.0</td>\n",
       "      <td>13.0</td>\n",
       "      <td>15.0</td>\n",
       "      <td>14.0</td>\n",
       "      <td>16.0</td>\n",
       "      <td>17.0</td>\n",
       "      <td>20.0</td>\n",
       "      <td>21.0</td>\n",
       "      <td>19.0</td>\n",
       "      <td>18.0</td>\n",
       "      <td>16.0</td>\n",
       "      <td>12.0</td>\n",
       "    </tr>\n",
       "    <tr>\n",
       "      <th>2</th>\n",
       "      <td>CHESAPEAKE</td>\n",
       "      <td>2006</td>\n",
       "      <td>10.0</td>\n",
       "      <td>7.0</td>\n",
       "      <td>9.0</td>\n",
       "      <td>15.0</td>\n",
       "      <td>18.0</td>\n",
       "      <td>23.0</td>\n",
       "      <td>26.0</td>\n",
       "      <td>26.0</td>\n",
       "      <td>22.0</td>\n",
       "      <td>17.0</td>\n",
       "      <td>14.0</td>\n",
       "      <td>11.0</td>\n",
       "    </tr>\n",
       "  </tbody>\n",
       "</table>\n",
       "</div>"
      ],
      "text/plain": [
       "      US_City  Year  Jan_Avg_Temp  Feb_Avg_Temp  March_Avg_Temp  \\\n",
       "0  BIRMINGHAM  2000           8.0          11.0            15.0   \n",
       "1   SANTA ANA  2007          12.0          13.0            15.0   \n",
       "2  CHESAPEAKE  2006          10.0           7.0             9.0   \n",
       "\n",
       "   April_Avg_Temp  May_Avg_Temp  June_Avg_Temp  July_Avg_Temp  \\\n",
       "0            15.0          23.0           25.0           28.0   \n",
       "1            14.0          16.0           17.0           20.0   \n",
       "2            15.0          18.0           23.0           26.0   \n",
       "\n",
       "   August_Avg_Temp  September_Avg_Temp  October_Avg_Temp  November_Avg_Temp  \\\n",
       "0             28.0                24.0              18.0               11.0   \n",
       "1             21.0                19.0              18.0               16.0   \n",
       "2             26.0                22.0              17.0               14.0   \n",
       "\n",
       "   December_Avg_Temp  \n",
       "0                3.0  \n",
       "1               12.0  \n",
       "2               11.0  "
      ]
     },
     "execution_count": 174,
     "metadata": {},
     "output_type": "execute_result"
    }
   ],
   "source": [
    "# Ordering temperature months in January to December\n",
    "Monthly_Temp_Renamed = US_Monthly_Temperature.select( col(\"US_City\"), col(\"Year\"),\\\n",
    "                                     col(\"January\").alias(\"Jan_Avg_Temp\"),\\\n",
    "                                       col(\"February\").alias(\"Feb_Avg_Temp\"),\\\n",
    "                                        col(\"March\").alias(\"March_Avg_Temp\"),\\\n",
    "                                         col(\"April\").alias(\"April_Avg_Temp\"),\\\n",
    "                                          col(\"May\").alias(\"May_Avg_Temp\"),\\\n",
    "                                            col(\"June\").alias(\"June_Avg_Temp\"),\\\n",
    "                                             col(\"July\").alias(\"July_Avg_Temp\"),\\\n",
    "                                              col(\"August\").alias(\"August_Avg_Temp\"),\\\n",
    "                                               col(\"September\").alias(\"September_Avg_Temp\"),\\\n",
    "                                                col(\"October\").alias(\"October_Avg_Temp\"),\\\n",
    "                                                  col(\"November\").alias(\"November_Avg_Temp\"),\\\n",
    "                                                   col(\"December\").alias(\"December_Avg_Temp\"))\n",
    "                                         \n",
    "\n",
    "Monthly_Temp_Renamed.toPandas().head(3)"
   ]
  },
  {
   "cell_type": "markdown",
   "metadata": {
    "editable": true
   },
   "source": [
    "> Sending `US_Monthly_Temperature` to Work Space folder."
   ]
  },
  {
   "cell_type": "code",
   "execution_count": 175,
   "metadata": {
    "editable": true
   },
   "outputs": [],
   "source": [
    "# write Monthly_US_Tempr table to parquet files\n",
    "US_Monthly_Temperature.write.mode(\"overwrite\").parquet(path=output_data + 'US_Monthly_Temperature/')"
   ]
  },
  {
   "cell_type": "code",
   "execution_count": null,
   "metadata": {
    "editable": true
   },
   "outputs": [],
   "source": []
  },
  {
   "cell_type": "markdown",
   "metadata": {
    "editable": true
   },
   "source": [
    "### `T4` - Creating `City Temperature`  ..`dimension Table`"
   ]
  },
  {
   "cell_type": "markdown",
   "metadata": {
    "editable": true
   },
   "source": [
    "> Date columns could be a great choice to foreign key, but with this table latest date ended on year 2013. On the contrary, our `fact(Immigration table)` date-`year` started on `2016`, there would be no match of date between these two tables? So I've created a new column `US_Port` by matching out `US cities` and their respective `Port locations` from the `Port_locations` table with an `INNER-JOIN`."
   ]
  },
  {
   "cell_type": "code",
   "execution_count": 176,
   "metadata": {
    "editable": true
   },
   "outputs": [
    {
     "data": {
      "text/html": [
       "<div>\n",
       "<style scoped>\n",
       "    .dataframe tbody tr th:only-of-type {\n",
       "        vertical-align: middle;\n",
       "    }\n",
       "\n",
       "    .dataframe tbody tr th {\n",
       "        vertical-align: top;\n",
       "    }\n",
       "\n",
       "    .dataframe thead th {\n",
       "        text-align: right;\n",
       "    }\n",
       "</style>\n",
       "<table border=\"1\" class=\"dataframe\">\n",
       "  <thead>\n",
       "    <tr style=\"text-align: right;\">\n",
       "      <th></th>\n",
       "      <th>Date_Records</th>\n",
       "      <th>Year</th>\n",
       "      <th>Month_Name</th>\n",
       "      <th>Month_Num</th>\n",
       "      <th>Day</th>\n",
       "      <th>Avg_Temp</th>\n",
       "      <th>US_City</th>\n",
       "      <th>Country</th>\n",
       "      <th>City_Port</th>\n",
       "      <th>Port_State</th>\n",
       "    </tr>\n",
       "  </thead>\n",
       "  <tbody>\n",
       "    <tr>\n",
       "      <th>0</th>\n",
       "      <td>2000-01-01</td>\n",
       "      <td>2000</td>\n",
       "      <td>January</td>\n",
       "      <td>1</td>\n",
       "      <td>1</td>\n",
       "      <td>16.0</td>\n",
       "      <td>ORLANDO</td>\n",
       "      <td>UNITED STATES</td>\n",
       "      <td>ORL</td>\n",
       "      <td>FL</td>\n",
       "    </tr>\n",
       "    <tr>\n",
       "      <th>1</th>\n",
       "      <td>2000-02-01</td>\n",
       "      <td>2000</td>\n",
       "      <td>February</td>\n",
       "      <td>2</td>\n",
       "      <td>1</td>\n",
       "      <td>17.0</td>\n",
       "      <td>ORLANDO</td>\n",
       "      <td>UNITED STATES</td>\n",
       "      <td>ORL</td>\n",
       "      <td>FL</td>\n",
       "    </tr>\n",
       "    <tr>\n",
       "      <th>2</th>\n",
       "      <td>2000-03-01</td>\n",
       "      <td>2000</td>\n",
       "      <td>March</td>\n",
       "      <td>3</td>\n",
       "      <td>1</td>\n",
       "      <td>21.0</td>\n",
       "      <td>ORLANDO</td>\n",
       "      <td>UNITED STATES</td>\n",
       "      <td>ORL</td>\n",
       "      <td>FL</td>\n",
       "    </tr>\n",
       "    <tr>\n",
       "      <th>3</th>\n",
       "      <td>2000-04-01</td>\n",
       "      <td>2000</td>\n",
       "      <td>April</td>\n",
       "      <td>4</td>\n",
       "      <td>1</td>\n",
       "      <td>21.0</td>\n",
       "      <td>ORLANDO</td>\n",
       "      <td>UNITED STATES</td>\n",
       "      <td>ORL</td>\n",
       "      <td>FL</td>\n",
       "    </tr>\n",
       "    <tr>\n",
       "      <th>4</th>\n",
       "      <td>2000-05-01</td>\n",
       "      <td>2000</td>\n",
       "      <td>May</td>\n",
       "      <td>5</td>\n",
       "      <td>1</td>\n",
       "      <td>25.0</td>\n",
       "      <td>ORLANDO</td>\n",
       "      <td>UNITED STATES</td>\n",
       "      <td>ORL</td>\n",
       "      <td>FL</td>\n",
       "    </tr>\n",
       "  </tbody>\n",
       "</table>\n",
       "</div>"
      ],
      "text/plain": [
       "  Date_Records  Year Month_Name  Month_Num  Day  Avg_Temp  US_City  \\\n",
       "0   2000-01-01  2000    January          1    1      16.0  ORLANDO   \n",
       "1   2000-02-01  2000   February          2    1      17.0  ORLANDO   \n",
       "2   2000-03-01  2000      March          3    1      21.0  ORLANDO   \n",
       "3   2000-04-01  2000      April          4    1      21.0  ORLANDO   \n",
       "4   2000-05-01  2000        May          5    1      25.0  ORLANDO   \n",
       "\n",
       "         Country City_Port Port_State  \n",
       "0  UNITED STATES       ORL         FL  \n",
       "1  UNITED STATES       ORL         FL  \n",
       "2  UNITED STATES       ORL         FL  \n",
       "3  UNITED STATES       ORL         FL  \n",
       "4  UNITED STATES       ORL         FL  "
      ]
     },
     "execution_count": 176,
     "metadata": {},
     "output_type": "execute_result"
    }
   ],
   "source": [
    "dim_US_Cities_Tempr = US_Cities_Temperature.join(Port_locations_df,\\\n",
    "                                US_Cities_Temperature.US_City == Port_locations_df.Port_City, how='inner')\n",
    "\n",
    "dim_US_Cities_Tempr = dim_US_Cities_Tempr.withColumnRenamed(\"Port_Code\",\"City_Port\")\n",
    "dim_US_Cities_Tempr = dim_US_Cities_Tempr.drop(Port_locations_df.Port_City)\n",
    "dim_US_Cities_Tempr.toPandas().head(5)"
   ]
  },
  {
   "cell_type": "code",
   "execution_count": 177,
   "metadata": {
    "editable": true
   },
   "outputs": [
    {
     "data": {
      "text/plain": [
       "16334"
      ]
     },
     "execution_count": 177,
     "metadata": {},
     "output_type": "execute_result"
    }
   ],
   "source": [
    "dim_US_Cities_Tempr.count()"
   ]
  },
  {
   "cell_type": "code",
   "execution_count": 178,
   "metadata": {
    "editable": true
   },
   "outputs": [
    {
     "name": "stdout",
     "output_type": "stream",
     "text": [
      "root\n",
      " |-- Date_Records: date (nullable = true)\n",
      " |-- Year: integer (nullable = true)\n",
      " |-- Month_Name: string (nullable = true)\n",
      " |-- Month_Num: integer (nullable = true)\n",
      " |-- Day: integer (nullable = true)\n",
      " |-- Avg_Temp: float (nullable = true)\n",
      " |-- US_City: string (nullable = true)\n",
      " |-- Country: string (nullable = true)\n",
      " |-- City_Port: string (nullable = true)\n",
      " |-- Port_State: string (nullable = true)\n",
      "\n"
     ]
    }
   ],
   "source": [
    "dim_US_Cities_Tempr.printSchema()"
   ]
  },
  {
   "cell_type": "markdown",
   "metadata": {
    "editable": true
   },
   "source": [
    "> Sending dim_US_Cities_Tempr table to the cloud as a dimension table"
   ]
  },
  {
   "cell_type": "code",
   "execution_count": 179,
   "metadata": {
    "editable": true
   },
   "outputs": [],
   "source": [
    "# write Monthly_US_Tempr table to parquet files\n",
    "dim_US_Cities_Tempr.write.mode(\"overwrite\").parquet(path=output_data + 'dim_US_Cities_Tempr/')"
   ]
  },
  {
   "cell_type": "markdown",
   "metadata": {
    "editable": true
   },
   "source": [
    "**`Data quality checks with US City temperature table: `**"
   ]
  },
  {
   "cell_type": "code",
   "execution_count": 180,
   "metadata": {
    "editable": true
   },
   "outputs": [
    {
     "name": "stdout",
     "output_type": "stream",
     "text": [
      "The US Cities Temperature dimension table: \n",
      "is not empty, it has total 16334 records.\n"
     ]
    }
   ],
   "source": [
    "print(\"The US Cities Temperature dimension table: \") \n",
    "record_count(dim_US_Cities_Tempr)"
   ]
  },
  {
   "cell_type": "markdown",
   "metadata": {
    "editable": true
   },
   "source": [
    "### `Quick Query 29:`"
   ]
  },
  {
   "cell_type": "markdown",
   "metadata": {
    "editable": true
   },
   "source": [
    "`29:` Finding specific dated `US-Cities` temperature."
   ]
  },
  {
   "cell_type": "code",
   "execution_count": 181,
   "metadata": {
    "editable": true
   },
   "outputs": [
    {
     "data": {
      "text/html": [
       "<div>\n",
       "<style scoped>\n",
       "    .dataframe tbody tr th:only-of-type {\n",
       "        vertical-align: middle;\n",
       "    }\n",
       "\n",
       "    .dataframe tbody tr th {\n",
       "        vertical-align: top;\n",
       "    }\n",
       "\n",
       "    .dataframe thead th {\n",
       "        text-align: right;\n",
       "    }\n",
       "</style>\n",
       "<table border=\"1\" class=\"dataframe\">\n",
       "  <thead>\n",
       "    <tr style=\"text-align: right;\">\n",
       "      <th></th>\n",
       "      <th>Date_Records</th>\n",
       "      <th>Year</th>\n",
       "      <th>US_City</th>\n",
       "      <th>Port_State</th>\n",
       "      <th>Month_Name</th>\n",
       "      <th>Avg_Temp</th>\n",
       "    </tr>\n",
       "  </thead>\n",
       "  <tbody>\n",
       "    <tr>\n",
       "      <th>0</th>\n",
       "      <td>2000-07-01</td>\n",
       "      <td>2000</td>\n",
       "      <td>PHOENIX</td>\n",
       "      <td>AZ</td>\n",
       "      <td>July</td>\n",
       "      <td>33.0</td>\n",
       "    </tr>\n",
       "    <tr>\n",
       "      <th>1</th>\n",
       "      <td>2000-07-01</td>\n",
       "      <td>2000</td>\n",
       "      <td>LAREDO</td>\n",
       "      <td>TX</td>\n",
       "      <td>July</td>\n",
       "      <td>31.0</td>\n",
       "    </tr>\n",
       "    <tr>\n",
       "      <th>2</th>\n",
       "      <td>2000-07-01</td>\n",
       "      <td>2000</td>\n",
       "      <td>AUSTIN</td>\n",
       "      <td>TX</td>\n",
       "      <td>July</td>\n",
       "      <td>30.0</td>\n",
       "    </tr>\n",
       "    <tr>\n",
       "      <th>3</th>\n",
       "      <td>2000-07-01</td>\n",
       "      <td>2000</td>\n",
       "      <td>SAN ANTONIO</td>\n",
       "      <td>TX</td>\n",
       "      <td>July</td>\n",
       "      <td>30.0</td>\n",
       "    </tr>\n",
       "    <tr>\n",
       "      <th>4</th>\n",
       "      <td>2000-07-01</td>\n",
       "      <td>2000</td>\n",
       "      <td>LAS VEGAS</td>\n",
       "      <td>NV</td>\n",
       "      <td>July</td>\n",
       "      <td>30.0</td>\n",
       "    </tr>\n",
       "  </tbody>\n",
       "</table>\n",
       "</div>"
      ],
      "text/plain": [
       "  Date_Records  Year      US_City Port_State Month_Name  Avg_Temp\n",
       "0   2000-07-01  2000      PHOENIX         AZ       July      33.0\n",
       "1   2000-07-01  2000       LAREDO         TX       July      31.0\n",
       "2   2000-07-01  2000       AUSTIN         TX       July      30.0\n",
       "3   2000-07-01  2000  SAN ANTONIO         TX       July      30.0\n",
       "4   2000-07-01  2000    LAS VEGAS         NV       July      30.0"
      ]
     },
     "execution_count": 181,
     "metadata": {},
     "output_type": "execute_result"
    }
   ],
   "source": [
    "dim_US_Cities_Tempr.createOrReplaceTempView(\"City_Temp_Table\")\n",
    "\n",
    "City_Port_Temper = spark.sql('''SELECT ct.Date_Records, ct.Year, ct.US_City, ct.Port_State,\\\n",
    "                                      ct.Month_Name, ct.Avg_Temp\n",
    "                                      FROM City_Temp_Table ct\n",
    "                                      WHERE ct.US_City == 'ORLANDO'\n",
    "                                      AND (ct.Year < 2007) OR (ct.Month_Name == 'July')\n",
    "                                      ORDER BY ct.Year ASC, ct.Avg_Temp DESC\n",
    "                                      ''')\n",
    "City_Port_Temper.toPandas().head(5)"
   ]
  },
  {
   "cell_type": "markdown",
   "metadata": {
    "editable": true
   },
   "source": [
    "### `T5` - `Fact_Immigration` ( Fact Table) & `dim_US_Cities_Tempr` ( dimension table) connection.\n",
    "### `Query 30:`\n",
    "`1.` If we want to find out the temperature of the cities immigrant have moved and travelled? \n",
    "\n",
    "`2.` Is there any correlations between the city temperature and immigrants move? May be?"
   ]
  },
  {
   "cell_type": "code",
   "execution_count": 182,
   "metadata": {
    "editable": true
   },
   "outputs": [
    {
     "name": "stdout",
     "output_type": "stream",
     "text": [
      "Immigrants arrival city and its temperature profile\n",
      "+--------------+------------+---------------+-------------+----------+--------+\n",
      "|Immigration_Id|Arrival_Date|Means_of_Travel|      US_City|Port_State|Avg_Temp|\n",
      "+--------------+------------+---------------+-------------+----------+--------+\n",
      "|       4866124|  2016-04-26|            Air|      DETROIT|        MI|    15.0|\n",
      "|       5835717|  2016-04-30|            Air|      DETROIT|        MI|    21.0|\n",
      "|       5518986|  2016-04-29|            Air|SAN FRANCISCO|        CA|    12.0|\n",
      "|       1858517|  2016-04-10|            Air|SAN FRANCISCO|        CA|     8.0|\n",
      "|        820045|  2016-04-05|           null|    LAS VEGAS|        NV|    10.0|\n",
      "+--------------+------------+---------------+-------------+----------+--------+\n",
      "only showing top 5 rows\n",
      "\n"
     ]
    }
   ],
   "source": [
    "print('Immigrants arrival city and its temperature profile')\n",
    "\n",
    "Fact_Immigration.createOrReplaceTempView(\"Fact_Immigration\")\n",
    "dim_US_Cities_Tempr.createOrReplaceTempView(\"City_Temp_Table\")\n",
    "\n",
    "Immigrant_City_Tempr = spark.sql('''\n",
    "                               SELECT DISTINCT ft.Immigration_Id, ft.Arrival_Date, ft.Means_of_Travel,\n",
    "                                      ct.US_City, ct.Port_State, ct.Avg_Temp\n",
    "                               FROM Fact_Immigration AS ft\n",
    "                               INNER JOIN City_Temp_Table AS ct\n",
    "                                               ON ft.Port_Code == ct.City_Port\n",
    "                               WHERE Immigration_Id IS NOT NULL\n",
    "                               AND Arrival_Date IS NOT NULL \n",
    "                        ''')\n",
    "Immigrant_City_Tempr.show(5)"
   ]
  },
  {
   "cell_type": "markdown",
   "metadata": {
    "editable": true
   },
   "source": [
    "### `Quick Query: ` `31`\n",
    "> Any correlation between `immigrant's/tourists choice city` & its `average temperature` profile?"
   ]
  },
  {
   "cell_type": "code",
   "execution_count": 183,
   "metadata": {
    "editable": true
   },
   "outputs": [
    {
     "name": "stdout",
     "output_type": "stream",
     "text": [
      "Number of immigrants and City temperature: \n",
      "\n",
      "+-------------+----------+--------------------+---------+\n",
      "|      US_City|Port_State|Number_of_Immigrants|City_Temp|\n",
      "+-------------+----------+--------------------+---------+\n",
      "|     NEW YORK|        NY|                4805|      9.0|\n",
      "|  LOS ANGELES|        CA|                2120|     17.5|\n",
      "|        MIAMI|        FL|                1776|    21.31|\n",
      "|      CHICAGO|        IL|                1350|     10.5|\n",
      "|      ATLANTA|        GA|                 999|     14.0|\n",
      "|SAN FRANCISCO|        CA|                 825|     15.0|\n",
      "|      HOUSTON|        TX|                 744|     19.5|\n",
      "+-------------+----------+--------------------+---------+\n",
      "only showing top 7 rows\n",
      "\n"
     ]
    }
   ],
   "source": [
    "# Finding any correlation between city temperature and immigrants visit?\n",
    "print(\"Number of immigrants and City temperature: \\n\")\n",
    "CityTemp_N_Immigrants = Immigrant_City_Tempr.groupBy('US_City', 'Port_State').agg(count('Immigration_Id').alias(\"Number_of_Immigrants\"),\\\n",
    "                                       round(avg('Avg_Temp'),2).alias('City_Temp')).\\\n",
    "                                        sort(col('Number_of_Immigrants').desc())\n",
    "CityTemp_N_Immigrants.show(7)"
   ]
  },
  {
   "cell_type": "markdown",
   "metadata": {
    "editable": true
   },
   "source": [
    "`Findings: ` It seems like higher temperature cities are attracting more tourists or immigrants? But the correlations between immigrants choice city and it's temperature is not conclusive but more more peripheral."
   ]
  },
  {
   "cell_type": "code",
   "execution_count": null,
   "metadata": {
    "editable": true
   },
   "outputs": [],
   "source": []
  },
  {
   "cell_type": "markdown",
   "metadata": {
    "editable": true
   },
   "source": [
    "> #### `Demography data set` a `Dimension table`"
   ]
  },
  {
   "cell_type": "code",
   "execution_count": 184,
   "metadata": {
    "editable": true
   },
   "outputs": [
    {
     "data": {
      "text/html": [
       "<div>\n",
       "<style scoped>\n",
       "    .dataframe tbody tr th:only-of-type {\n",
       "        vertical-align: middle;\n",
       "    }\n",
       "\n",
       "    .dataframe tbody tr th {\n",
       "        vertical-align: top;\n",
       "    }\n",
       "\n",
       "    .dataframe thead th {\n",
       "        text-align: right;\n",
       "    }\n",
       "</style>\n",
       "<table border=\"1\" class=\"dataframe\">\n",
       "  <thead>\n",
       "    <tr style=\"text-align: right;\">\n",
       "      <th></th>\n",
       "      <th>City</th>\n",
       "      <th>State</th>\n",
       "      <th>Median Age</th>\n",
       "      <th>Male Population</th>\n",
       "      <th>Female Population</th>\n",
       "      <th>Total Population</th>\n",
       "      <th>Number of Veterans</th>\n",
       "      <th>Foreign-born</th>\n",
       "      <th>Average Household Size</th>\n",
       "      <th>State Code</th>\n",
       "      <th>Race</th>\n",
       "      <th>Count</th>\n",
       "    </tr>\n",
       "  </thead>\n",
       "  <tbody>\n",
       "    <tr>\n",
       "      <th>0</th>\n",
       "      <td>Silver Spring</td>\n",
       "      <td>Maryland</td>\n",
       "      <td>33.8</td>\n",
       "      <td>40601</td>\n",
       "      <td>41862</td>\n",
       "      <td>82463</td>\n",
       "      <td>1562</td>\n",
       "      <td>30908</td>\n",
       "      <td>2.6</td>\n",
       "      <td>MD</td>\n",
       "      <td>Hispanic or Latino</td>\n",
       "      <td>25924</td>\n",
       "    </tr>\n",
       "    <tr>\n",
       "      <th>1</th>\n",
       "      <td>Quincy</td>\n",
       "      <td>Massachusetts</td>\n",
       "      <td>41.0</td>\n",
       "      <td>44129</td>\n",
       "      <td>49500</td>\n",
       "      <td>93629</td>\n",
       "      <td>4147</td>\n",
       "      <td>32935</td>\n",
       "      <td>2.39</td>\n",
       "      <td>MA</td>\n",
       "      <td>White</td>\n",
       "      <td>58723</td>\n",
       "    </tr>\n",
       "    <tr>\n",
       "      <th>2</th>\n",
       "      <td>Hoover</td>\n",
       "      <td>Alabama</td>\n",
       "      <td>38.5</td>\n",
       "      <td>38040</td>\n",
       "      <td>46799</td>\n",
       "      <td>84839</td>\n",
       "      <td>4819</td>\n",
       "      <td>8229</td>\n",
       "      <td>2.58</td>\n",
       "      <td>AL</td>\n",
       "      <td>Asian</td>\n",
       "      <td>4759</td>\n",
       "    </tr>\n",
       "  </tbody>\n",
       "</table>\n",
       "</div>"
      ],
      "text/plain": [
       "            City          State Median Age Male Population Female Population  \\\n",
       "0  Silver Spring       Maryland       33.8           40601             41862   \n",
       "1         Quincy  Massachusetts       41.0           44129             49500   \n",
       "2         Hoover        Alabama       38.5           38040             46799   \n",
       "\n",
       "  Total Population Number of Veterans Foreign-born Average Household Size  \\\n",
       "0            82463               1562        30908                    2.6   \n",
       "1            93629               4147        32935                   2.39   \n",
       "2            84839               4819         8229                   2.58   \n",
       "\n",
       "  State Code                Race  Count  \n",
       "0         MD  Hispanic or Latino  25924  \n",
       "1         MA               White  58723  \n",
       "2         AL               Asian   4759  "
      ]
     },
     "execution_count": 184,
     "metadata": {},
     "output_type": "execute_result"
    }
   ],
   "source": [
    "Demog_data = 'us-cities-demographics.csv'\n",
    "Demog_df = spark.read.format('csv').options(header=True, delimiter=';').load(Demog_data )\n",
    "Demog_df.toPandas().head(3)"
   ]
  },
  {
   "cell_type": "code",
   "execution_count": 185,
   "metadata": {
    "editable": true,
    "scrolled": true
   },
   "outputs": [
    {
     "name": "stdout",
     "output_type": "stream",
     "text": [
      "root\n",
      " |-- City: string (nullable = true)\n",
      " |-- State: string (nullable = true)\n",
      " |-- Median Age: string (nullable = true)\n",
      " |-- Male Population: string (nullable = true)\n",
      " |-- Female Population: string (nullable = true)\n",
      " |-- Total Population: string (nullable = true)\n",
      " |-- Number of Veterans: string (nullable = true)\n",
      " |-- Foreign-born: string (nullable = true)\n",
      " |-- Average Household Size: string (nullable = true)\n",
      " |-- State Code: string (nullable = true)\n",
      " |-- Race: string (nullable = true)\n",
      " |-- Count: string (nullable = true)\n",
      "\n"
     ]
    }
   ],
   "source": [
    "Demog_df.printSchema()"
   ]
  },
  {
   "cell_type": "code",
   "execution_count": 186,
   "metadata": {
    "editable": true
   },
   "outputs": [
    {
     "name": "stdout",
     "output_type": "stream",
     "text": [
      "The 'US_Cities-Demographics' table has: \n",
      "Number of rows: 2891 and columns: 12\n"
     ]
    }
   ],
   "source": [
    "print(\"The 'US_Cities-Demographics' table has: \")\n",
    "print(\"Number of rows: \" + str(Demog_df.count()) + \" and columns: \" + str(len(Demog_df.columns)))"
   ]
  },
  {
   "cell_type": "code",
   "execution_count": 187,
   "metadata": {
    "editable": true
   },
   "outputs": [
    {
     "name": "stdout",
     "output_type": "stream",
     "text": [
      "Null value count with the demography data set by Columns:\n",
      "\n",
      "-RECORD 0---------------------\n",
      " City                   | 0   \n",
      " State                  | 0   \n",
      " Median Age             | 0   \n",
      " Male Population        | 3   \n",
      " Female Population      | 3   \n",
      " Total Population       | 0   \n",
      " Number of Veterans     | 13  \n",
      " Foreign-born           | 13  \n",
      " Average Household Size | 16  \n",
      " State Code             | 0   \n",
      " Race                   | 0   \n",
      " Count                  | 0   \n",
      "\n"
     ]
    }
   ],
   "source": [
    "print(\"Null value count with the demography data set by Columns:\\n\")\n",
    "Demog_df.select([count(when(col(c).isNull(), c)).alias(c) for c in Demog_df.columns]).show(n=2, truncate=False, vertical=True)"
   ]
  },
  {
   "cell_type": "markdown",
   "metadata": {
    "editable": true
   },
   "source": [
    "`NOTE: ` We've a very small number of `Null-values` present in this dataset, there is no need to make any sort of elimination."
   ]
  },
  {
   "cell_type": "markdown",
   "metadata": {
    "editable": true
   },
   "source": [
    "### `D1` -  Demography table with `data-type transformation`"
   ]
  },
  {
   "cell_type": "code",
   "execution_count": 188,
   "metadata": {
    "editable": true
   },
   "outputs": [
    {
     "data": {
      "text/html": [
       "<div>\n",
       "<style scoped>\n",
       "    .dataframe tbody tr th:only-of-type {\n",
       "        vertical-align: middle;\n",
       "    }\n",
       "\n",
       "    .dataframe tbody tr th {\n",
       "        vertical-align: top;\n",
       "    }\n",
       "\n",
       "    .dataframe thead th {\n",
       "        text-align: right;\n",
       "    }\n",
       "</style>\n",
       "<table border=\"1\" class=\"dataframe\">\n",
       "  <thead>\n",
       "    <tr style=\"text-align: right;\">\n",
       "      <th></th>\n",
       "      <th>Demog_City</th>\n",
       "      <th>State_Name</th>\n",
       "      <th>Male_Population</th>\n",
       "      <th>Female_Population</th>\n",
       "      <th>Total_Population</th>\n",
       "      <th>Median_Age</th>\n",
       "      <th>Number_Of_Veterans</th>\n",
       "      <th>Foreign_Born</th>\n",
       "      <th>Average_Household_Size</th>\n",
       "      <th>Race</th>\n",
       "      <th>Count</th>\n",
       "    </tr>\n",
       "  </thead>\n",
       "  <tbody>\n",
       "    <tr>\n",
       "      <th>0</th>\n",
       "      <td>SILVER SPRING</td>\n",
       "      <td>MARYLAND</td>\n",
       "      <td>40601.0</td>\n",
       "      <td>41862.0</td>\n",
       "      <td>82463</td>\n",
       "      <td>33.799999</td>\n",
       "      <td>1562.0</td>\n",
       "      <td>30908.0</td>\n",
       "      <td>2.60</td>\n",
       "      <td>Hispanic or Latino</td>\n",
       "      <td>25924</td>\n",
       "    </tr>\n",
       "    <tr>\n",
       "      <th>1</th>\n",
       "      <td>QUINCY</td>\n",
       "      <td>MASSACHUSETTS</td>\n",
       "      <td>44129.0</td>\n",
       "      <td>49500.0</td>\n",
       "      <td>93629</td>\n",
       "      <td>41.000000</td>\n",
       "      <td>4147.0</td>\n",
       "      <td>32935.0</td>\n",
       "      <td>2.39</td>\n",
       "      <td>White</td>\n",
       "      <td>58723</td>\n",
       "    </tr>\n",
       "    <tr>\n",
       "      <th>2</th>\n",
       "      <td>HOOVER</td>\n",
       "      <td>ALABAMA</td>\n",
       "      <td>38040.0</td>\n",
       "      <td>46799.0</td>\n",
       "      <td>84839</td>\n",
       "      <td>38.500000</td>\n",
       "      <td>4819.0</td>\n",
       "      <td>8229.0</td>\n",
       "      <td>2.58</td>\n",
       "      <td>Asian</td>\n",
       "      <td>4759</td>\n",
       "    </tr>\n",
       "    <tr>\n",
       "      <th>3</th>\n",
       "      <td>RANCHO CUCAMONGA</td>\n",
       "      <td>CALIFORNIA</td>\n",
       "      <td>88127.0</td>\n",
       "      <td>87105.0</td>\n",
       "      <td>175232</td>\n",
       "      <td>34.500000</td>\n",
       "      <td>5821.0</td>\n",
       "      <td>33878.0</td>\n",
       "      <td>3.18</td>\n",
       "      <td>Black or African-American</td>\n",
       "      <td>24437</td>\n",
       "    </tr>\n",
       "    <tr>\n",
       "      <th>4</th>\n",
       "      <td>NEWARK</td>\n",
       "      <td>NEW JERSEY</td>\n",
       "      <td>138040.0</td>\n",
       "      <td>143873.0</td>\n",
       "      <td>281913</td>\n",
       "      <td>34.599998</td>\n",
       "      <td>5829.0</td>\n",
       "      <td>86253.0</td>\n",
       "      <td>2.73</td>\n",
       "      <td>White</td>\n",
       "      <td>76402</td>\n",
       "    </tr>\n",
       "    <tr>\n",
       "      <th>5</th>\n",
       "      <td>PEORIA</td>\n",
       "      <td>ILLINOIS</td>\n",
       "      <td>56229.0</td>\n",
       "      <td>62432.0</td>\n",
       "      <td>118661</td>\n",
       "      <td>33.099998</td>\n",
       "      <td>6634.0</td>\n",
       "      <td>7517.0</td>\n",
       "      <td>2.40</td>\n",
       "      <td>American Indian and Alaska Native</td>\n",
       "      <td>1343</td>\n",
       "    </tr>\n",
       "    <tr>\n",
       "      <th>6</th>\n",
       "      <td>AVONDALE</td>\n",
       "      <td>ARIZONA</td>\n",
       "      <td>38712.0</td>\n",
       "      <td>41971.0</td>\n",
       "      <td>80683</td>\n",
       "      <td>29.100000</td>\n",
       "      <td>4815.0</td>\n",
       "      <td>8355.0</td>\n",
       "      <td>3.18</td>\n",
       "      <td>Black or African-American</td>\n",
       "      <td>11592</td>\n",
       "    </tr>\n",
       "  </tbody>\n",
       "</table>\n",
       "</div>"
      ],
      "text/plain": [
       "         Demog_City     State_Name  Male_Population  Female_Population  \\\n",
       "0     SILVER SPRING       MARYLAND          40601.0            41862.0   \n",
       "1            QUINCY  MASSACHUSETTS          44129.0            49500.0   \n",
       "2            HOOVER        ALABAMA          38040.0            46799.0   \n",
       "3  RANCHO CUCAMONGA     CALIFORNIA          88127.0            87105.0   \n",
       "4            NEWARK     NEW JERSEY         138040.0           143873.0   \n",
       "5            PEORIA       ILLINOIS          56229.0            62432.0   \n",
       "6          AVONDALE        ARIZONA          38712.0            41971.0   \n",
       "\n",
       "   Total_Population  Median_Age  Number_Of_Veterans  Foreign_Born  \\\n",
       "0             82463   33.799999              1562.0       30908.0   \n",
       "1             93629   41.000000              4147.0       32935.0   \n",
       "2             84839   38.500000              4819.0        8229.0   \n",
       "3            175232   34.500000              5821.0       33878.0   \n",
       "4            281913   34.599998              5829.0       86253.0   \n",
       "5            118661   33.099998              6634.0        7517.0   \n",
       "6             80683   29.100000              4815.0        8355.0   \n",
       "\n",
       "   Average_Household_Size                               Race  Count  \n",
       "0                    2.60                 Hispanic or Latino  25924  \n",
       "1                    2.39                              White  58723  \n",
       "2                    2.58                              Asian   4759  \n",
       "3                    3.18          Black or African-American  24437  \n",
       "4                    2.73                              White  76402  \n",
       "5                    2.40  American Indian and Alaska Native   1343  \n",
       "6                    3.18          Black or African-American  11592  "
      ]
     },
     "execution_count": 188,
     "metadata": {},
     "output_type": "execute_result"
    }
   ],
   "source": [
    "# creating a Temporary View with the data set\n",
    "Demog_df.createOrReplaceTempView(\"Demog_Table\")\n",
    "\n",
    "# Rename columms and Change datatypes\n",
    "US_City_Demog_data = spark.sql('''\n",
    "                     SELECT upper(City) Demog_City, \\\n",
    "                         upper(State) State_Name, \\\n",
    "                         int(`Male Population`) Male_Population, \\\n",
    "                         int(`Female Population`) Female_Population , \\\n",
    "                         int(`Total Population`) Total_Population, \\\n",
    "                         float(`Median Age`) Median_Age, \\\n",
    "                         int(`Number of Veterans`) Number_Of_Veterans, \\\n",
    "                         int(`Foreign-Born`) Foreign_Born, \\\n",
    "                         float(`Average Household Size`) Average_Household_Size, \\\n",
    "                         string(`Race`) Race, \\\n",
    "                         int(`Count`) Count \\\n",
    "                     FROM Demog_Table\n",
    "                                     ''')\n",
    "\n",
    "US_City_Demog_data.toPandas().head(7)"
   ]
  },
  {
   "cell_type": "code",
   "execution_count": 189,
   "metadata": {
    "editable": true
   },
   "outputs": [
    {
     "name": "stdout",
     "output_type": "stream",
     "text": [
      "root\n",
      " |-- Demog_City: string (nullable = true)\n",
      " |-- State_Name: string (nullable = true)\n",
      " |-- Male_Population: integer (nullable = true)\n",
      " |-- Female_Population: integer (nullable = true)\n",
      " |-- Total_Population: integer (nullable = true)\n",
      " |-- Median_Age: float (nullable = true)\n",
      " |-- Number_Of_Veterans: integer (nullable = true)\n",
      " |-- Foreign_Born: integer (nullable = true)\n",
      " |-- Average_Household_Size: float (nullable = true)\n",
      " |-- Race: string (nullable = true)\n",
      " |-- Count: integer (nullable = true)\n",
      "\n"
     ]
    }
   ],
   "source": [
    "US_City_Demog_data.printSchema()"
   ]
  },
  {
   "cell_type": "code",
   "execution_count": 190,
   "metadata": {
    "editable": true
   },
   "outputs": [
    {
     "name": "stdout",
     "output_type": "stream",
     "text": [
      "Sending 'US_City_Demog_data' table to Work Space folder.\n"
     ]
    }
   ],
   "source": [
    "print(\"Sending 'US_City_Demog_data' table to Work Space folder.\")\n",
    "US_City_Demog_data.write.mode(\"overwrite\").parquet(path=output_data + 'US_City_Demog_data/')"
   ]
  },
  {
   "cell_type": "markdown",
   "metadata": {
    "editable": true
   },
   "source": [
    "### `D2` -  `Demography` Data with  `analytical` exploration: \n",
    "### `Quick Query: 32 & 33`\n",
    "`32:` Number of distinct City and State with demography data set."
   ]
  },
  {
   "cell_type": "code",
   "execution_count": 191,
   "metadata": {
    "editable": true
   },
   "outputs": [
    {
     "name": "stdout",
     "output_type": "stream",
     "text": [
      "+-------------+-------------+--------------+\n",
      "|Total_Records|Distinct_City|Distinct_State|\n",
      "+-------------+-------------+--------------+\n",
      "|         2891|          567|            49|\n",
      "+-------------+-------------+--------------+\n",
      "\n"
     ]
    }
   ],
   "source": [
    "# Total records with the data set & distinct City and State Count\n",
    "Total_City_State_Count = spark.sql(\"Select count(*) AS Total_Records, \\\n",
    "                                       count(distinct City) AS Distinct_City, \\\n",
    "                                         count(distinct State) AS Distinct_State \\\n",
    "                                            from Demog_Table\").show()"
   ]
  },
  {
   "cell_type": "markdown",
   "metadata": {
    "editable": true
   },
   "source": [
    "`33:`Race distribution count by City and State."
   ]
  },
  {
   "cell_type": "code",
   "execution_count": 192,
   "metadata": {
    "editable": true
   },
   "outputs": [
    {
     "name": "stdout",
     "output_type": "stream",
     "text": [
      "+--------------------+--------+------------+\n",
      "|                City|   State|DistinctRace|\n",
      "+--------------------+--------+------------+\n",
      "|          Cincinnati|    Ohio|           5|\n",
      "|           Lynchburg|Virginia|           5|\n",
      "|         Kansas City|  Kansas|           5|\n",
      "|Louisville/Jeffer...|Kentucky|           5|\n",
      "|              Dayton|    Ohio|           5|\n",
      "+--------------------+--------+------------+\n",
      "only showing top 5 rows\n",
      "\n"
     ]
    }
   ],
   "source": [
    "Race_By_City_State = spark.sql(\"Select City, State, count(distinct Race) AS DistinctRace \\\n",
    "                                    from Demog_Table \\\n",
    "                                             Group by City, State\").show(5)"
   ]
  },
  {
   "cell_type": "markdown",
   "metadata": {
    "editable": true
   },
   "source": [
    "### `D3` - `Pivoted demography table` with `Race` distribution."
   ]
  },
  {
   "cell_type": "code",
   "execution_count": 193,
   "metadata": {
    "editable": true
   },
   "outputs": [
    {
     "data": {
      "text/html": [
       "<div>\n",
       "<style scoped>\n",
       "    .dataframe tbody tr th:only-of-type {\n",
       "        vertical-align: middle;\n",
       "    }\n",
       "\n",
       "    .dataframe tbody tr th {\n",
       "        vertical-align: top;\n",
       "    }\n",
       "\n",
       "    .dataframe thead th {\n",
       "        text-align: right;\n",
       "    }\n",
       "</style>\n",
       "<table border=\"1\" class=\"dataframe\">\n",
       "  <thead>\n",
       "    <tr style=\"text-align: right;\">\n",
       "      <th></th>\n",
       "      <th>Demog_City</th>\n",
       "      <th>State_Name</th>\n",
       "      <th>American Indian and Alaska Native</th>\n",
       "      <th>Asian</th>\n",
       "      <th>Black or African-American</th>\n",
       "      <th>Hispanic or Latino</th>\n",
       "      <th>White</th>\n",
       "    </tr>\n",
       "  </thead>\n",
       "  <tbody>\n",
       "    <tr>\n",
       "      <th>0</th>\n",
       "      <td>LITTLE ROCK</td>\n",
       "      <td>ARKANSAS</td>\n",
       "      <td>961.0</td>\n",
       "      <td>8423.0</td>\n",
       "      <td>85606.0</td>\n",
       "      <td>15500</td>\n",
       "      <td>102312.0</td>\n",
       "    </tr>\n",
       "    <tr>\n",
       "      <th>1</th>\n",
       "      <td>BOLINGBROOK</td>\n",
       "      <td>ILLINOIS</td>\n",
       "      <td>323.0</td>\n",
       "      <td>9788.0</td>\n",
       "      <td>12671.0</td>\n",
       "      <td>16904</td>\n",
       "      <td>40458.0</td>\n",
       "    </tr>\n",
       "    <tr>\n",
       "      <th>2</th>\n",
       "      <td>WESTMINSTER</td>\n",
       "      <td>CALIFORNIA</td>\n",
       "      <td>1022.0</td>\n",
       "      <td>46560.0</td>\n",
       "      <td>2270.0</td>\n",
       "      <td>19111</td>\n",
       "      <td>37593.0</td>\n",
       "    </tr>\n",
       "  </tbody>\n",
       "</table>\n",
       "</div>"
      ],
      "text/plain": [
       "    Demog_City  State_Name  American Indian and Alaska Native    Asian  \\\n",
       "0  LITTLE ROCK    ARKANSAS                              961.0   8423.0   \n",
       "1  BOLINGBROOK    ILLINOIS                              323.0   9788.0   \n",
       "2  WESTMINSTER  CALIFORNIA                             1022.0  46560.0   \n",
       "\n",
       "   Black or African-American  Hispanic or Latino     White  \n",
       "0                    85606.0               15500  102312.0  \n",
       "1                    12671.0               16904   40458.0  \n",
       "2                     2270.0               19111   37593.0  "
      ]
     },
     "execution_count": 193,
     "metadata": {},
     "output_type": "execute_result"
    }
   ],
   "source": [
    "# Pivot the dataframe by Race to get count in a single row\n",
    "US_Race_distrbution = US_City_Demog_data.groupBy([\"Demog_City\",\"State_Name\"]).pivot(\"Race\").sum(\"Count\")\n",
    "US_Race_distrbution.toPandas().head(3)"
   ]
  },
  {
   "cell_type": "code",
   "execution_count": 194,
   "metadata": {
    "editable": true
   },
   "outputs": [
    {
     "data": {
      "text/plain": [
       "[('Demog_City', 'string'),\n",
       " ('State_Name', 'string'),\n",
       " ('American Indian and Alaska Native', 'bigint'),\n",
       " ('Asian', 'bigint'),\n",
       " ('Black or African-American', 'bigint'),\n",
       " ('Hispanic or Latino', 'bigint'),\n",
       " ('White', 'bigint')]"
      ]
     },
     "execution_count": 194,
     "metadata": {},
     "output_type": "execute_result"
    }
   ],
   "source": [
    "US_Race_distrbution.dtypes"
   ]
  },
  {
   "cell_type": "code",
   "execution_count": 195,
   "metadata": {
    "editable": true
   },
   "outputs": [],
   "source": [
    "#rename columms because of gap in between different race names\n",
    "#US_Race_distrbution = US_Race_distrbution.withColumnRenamed(\"American Indian and Alaska Native\",\"American_Indian_Alaska_Native\") \\\n",
    "#                                        .withColumnRenamed(\"Asian\",\"Asian\") \\\n",
    "#                                        .withColumnRenamed(\"Black or African-American\",\"Black_African_American\") \\\n",
    "#                                        .withColumnRenamed(\"Hispanic or Latino\", \"Hispanic_Latino\") \\\n",
    "#                                        .withColumnRenamed(\"White\", \"White\")\n",
    "\n",
    "#US_Race_distrbution.limit(5).toPandas()"
   ]
  },
  {
   "cell_type": "code",
   "execution_count": 196,
   "metadata": {
    "editable": true
   },
   "outputs": [],
   "source": [
    "# renaming columns by replacing any empty( )space with a ('_')\n",
    "def renaming_cols(table_df):\n",
    "    for column in table_df.columns:\n",
    "        renamed_columns = column.replace(' ','_')\n",
    "        table_df = table_df.withColumnRenamed(column, renamed_columns)\n",
    "    return table_df"
   ]
  },
  {
   "cell_type": "code",
   "execution_count": 197,
   "metadata": {
    "editable": true
   },
   "outputs": [
    {
     "data": {
      "text/html": [
       "<div>\n",
       "<style scoped>\n",
       "    .dataframe tbody tr th:only-of-type {\n",
       "        vertical-align: middle;\n",
       "    }\n",
       "\n",
       "    .dataframe tbody tr th {\n",
       "        vertical-align: top;\n",
       "    }\n",
       "\n",
       "    .dataframe thead th {\n",
       "        text-align: right;\n",
       "    }\n",
       "</style>\n",
       "<table border=\"1\" class=\"dataframe\">\n",
       "  <thead>\n",
       "    <tr style=\"text-align: right;\">\n",
       "      <th></th>\n",
       "      <th>Demog_City</th>\n",
       "      <th>State_Name</th>\n",
       "      <th>American_Indian_and_Alaska_Native</th>\n",
       "      <th>Asian</th>\n",
       "      <th>Black_or_African-American</th>\n",
       "      <th>Hispanic_or_Latino</th>\n",
       "      <th>White</th>\n",
       "    </tr>\n",
       "  </thead>\n",
       "  <tbody>\n",
       "    <tr>\n",
       "      <th>0</th>\n",
       "      <td>LITTLE ROCK</td>\n",
       "      <td>ARKANSAS</td>\n",
       "      <td>961.0</td>\n",
       "      <td>8423.0</td>\n",
       "      <td>85606.0</td>\n",
       "      <td>15500</td>\n",
       "      <td>102312.0</td>\n",
       "    </tr>\n",
       "    <tr>\n",
       "      <th>1</th>\n",
       "      <td>BOLINGBROOK</td>\n",
       "      <td>ILLINOIS</td>\n",
       "      <td>323.0</td>\n",
       "      <td>9788.0</td>\n",
       "      <td>12671.0</td>\n",
       "      <td>16904</td>\n",
       "      <td>40458.0</td>\n",
       "    </tr>\n",
       "    <tr>\n",
       "      <th>2</th>\n",
       "      <td>WESTMINSTER</td>\n",
       "      <td>CALIFORNIA</td>\n",
       "      <td>1022.0</td>\n",
       "      <td>46560.0</td>\n",
       "      <td>2270.0</td>\n",
       "      <td>19111</td>\n",
       "      <td>37593.0</td>\n",
       "    </tr>\n",
       "    <tr>\n",
       "      <th>3</th>\n",
       "      <td>DECATUR</td>\n",
       "      <td>ILLINOIS</td>\n",
       "      <td>265.0</td>\n",
       "      <td>1343.0</td>\n",
       "      <td>17939.0</td>\n",
       "      <td>1709</td>\n",
       "      <td>56231.0</td>\n",
       "    </tr>\n",
       "    <tr>\n",
       "      <th>4</th>\n",
       "      <td>THE WOODLANDS</td>\n",
       "      <td>TEXAS</td>\n",
       "      <td>2427.0</td>\n",
       "      <td>8828.0</td>\n",
       "      <td>6420.0</td>\n",
       "      <td>19574</td>\n",
       "      <td>106202.0</td>\n",
       "    </tr>\n",
       "  </tbody>\n",
       "</table>\n",
       "</div>"
      ],
      "text/plain": [
       "      Demog_City  State_Name  American_Indian_and_Alaska_Native    Asian  \\\n",
       "0    LITTLE ROCK    ARKANSAS                              961.0   8423.0   \n",
       "1    BOLINGBROOK    ILLINOIS                              323.0   9788.0   \n",
       "2    WESTMINSTER  CALIFORNIA                             1022.0  46560.0   \n",
       "3        DECATUR    ILLINOIS                              265.0   1343.0   \n",
       "4  THE WOODLANDS       TEXAS                             2427.0   8828.0   \n",
       "\n",
       "   Black_or_African-American  Hispanic_or_Latino     White  \n",
       "0                    85606.0               15500  102312.0  \n",
       "1                    12671.0               16904   40458.0  \n",
       "2                     2270.0               19111   37593.0  \n",
       "3                    17939.0                1709   56231.0  \n",
       "4                     6420.0               19574  106202.0  "
      ]
     },
     "execution_count": 197,
     "metadata": {},
     "output_type": "execute_result"
    }
   ],
   "source": [
    "US_Race_distrbution = renaming_cols(US_Race_distrbution)\n",
    "US_Race_distrbution.toPandas().head(5)"
   ]
  },
  {
   "cell_type": "markdown",
   "metadata": {
    "editable": true
   },
   "source": [
    "### `D4` -  Demography with US City `Race`  distribution"
   ]
  },
  {
   "cell_type": "code",
   "execution_count": 198,
   "metadata": {
    "editable": true
   },
   "outputs": [
    {
     "data": {
      "text/html": [
       "<div>\n",
       "<style scoped>\n",
       "    .dataframe tbody tr th:only-of-type {\n",
       "        vertical-align: middle;\n",
       "    }\n",
       "\n",
       "    .dataframe tbody tr th {\n",
       "        vertical-align: top;\n",
       "    }\n",
       "\n",
       "    .dataframe thead th {\n",
       "        text-align: right;\n",
       "    }\n",
       "</style>\n",
       "<table border=\"1\" class=\"dataframe\">\n",
       "  <thead>\n",
       "    <tr style=\"text-align: right;\">\n",
       "      <th></th>\n",
       "      <th>Demog_City</th>\n",
       "      <th>State_Name</th>\n",
       "      <th>Male_Population</th>\n",
       "      <th>Female_Population</th>\n",
       "      <th>Total_Population</th>\n",
       "      <th>Median_Age</th>\n",
       "      <th>Number_Of_Veterans</th>\n",
       "      <th>Foreign_Born</th>\n",
       "      <th>Average_Household_Size</th>\n",
       "      <th>American_Indian_and_Alaska_Native</th>\n",
       "      <th>Asian</th>\n",
       "      <th>Black_or_African-American</th>\n",
       "      <th>Hispanic_or_Latino</th>\n",
       "      <th>White</th>\n",
       "    </tr>\n",
       "  </thead>\n",
       "  <tbody>\n",
       "    <tr>\n",
       "      <th>0</th>\n",
       "      <td>LITTLE ROCK</td>\n",
       "      <td>ARKANSAS</td>\n",
       "      <td>96997.0</td>\n",
       "      <td>100989.0</td>\n",
       "      <td>197986</td>\n",
       "      <td>36.599998</td>\n",
       "      <td>12343.0</td>\n",
       "      <td>16640.0</td>\n",
       "      <td>2.36</td>\n",
       "      <td>961.0</td>\n",
       "      <td>8423.0</td>\n",
       "      <td>85606.0</td>\n",
       "      <td>15500</td>\n",
       "      <td>102312.0</td>\n",
       "    </tr>\n",
       "    <tr>\n",
       "      <th>1</th>\n",
       "      <td>BOLINGBROOK</td>\n",
       "      <td>ILLINOIS</td>\n",
       "      <td>36295.0</td>\n",
       "      <td>35801.0</td>\n",
       "      <td>72096</td>\n",
       "      <td>33.700001</td>\n",
       "      <td>2951.0</td>\n",
       "      <td>15212.0</td>\n",
       "      <td>3.42</td>\n",
       "      <td>323.0</td>\n",
       "      <td>9788.0</td>\n",
       "      <td>12671.0</td>\n",
       "      <td>16904</td>\n",
       "      <td>40458.0</td>\n",
       "    </tr>\n",
       "    <tr>\n",
       "      <th>2</th>\n",
       "      <td>WESTMINSTER</td>\n",
       "      <td>CALIFORNIA</td>\n",
       "      <td>45538.0</td>\n",
       "      <td>46573.0</td>\n",
       "      <td>92111</td>\n",
       "      <td>42.900002</td>\n",
       "      <td>3435.0</td>\n",
       "      <td>42227.0</td>\n",
       "      <td>3.27</td>\n",
       "      <td>1022.0</td>\n",
       "      <td>46560.0</td>\n",
       "      <td>2270.0</td>\n",
       "      <td>19111</td>\n",
       "      <td>37593.0</td>\n",
       "    </tr>\n",
       "  </tbody>\n",
       "</table>\n",
       "</div>"
      ],
      "text/plain": [
       "    Demog_City  State_Name  Male_Population  Female_Population  \\\n",
       "0  LITTLE ROCK    ARKANSAS          96997.0           100989.0   \n",
       "1  BOLINGBROOK    ILLINOIS          36295.0            35801.0   \n",
       "2  WESTMINSTER  CALIFORNIA          45538.0            46573.0   \n",
       "\n",
       "   Total_Population  Median_Age  Number_Of_Veterans  Foreign_Born  \\\n",
       "0            197986   36.599998             12343.0       16640.0   \n",
       "1             72096   33.700001              2951.0       15212.0   \n",
       "2             92111   42.900002              3435.0       42227.0   \n",
       "\n",
       "   Average_Household_Size  American_Indian_and_Alaska_Native    Asian  \\\n",
       "0                    2.36                              961.0   8423.0   \n",
       "1                    3.42                              323.0   9788.0   \n",
       "2                    3.27                             1022.0  46560.0   \n",
       "\n",
       "   Black_or_African-American  Hispanic_or_Latino     White  \n",
       "0                    85606.0               15500  102312.0  \n",
       "1                    12671.0               16904   40458.0  \n",
       "2                     2270.0               19111   37593.0  "
      ]
     },
     "execution_count": 198,
     "metadata": {},
     "output_type": "execute_result"
    }
   ],
   "source": [
    "#join the two datasets to create a single combined final dataset and drop duplicates\n",
    "US_City_Demog_Race = US_City_Demog_data.join(US_Race_distrbution,[\"Demog_City\",\"State_Name\"]).\\\n",
    "                drop(\"Race\",\"Count\").dropDuplicates()\n",
    "\n",
    "US_City_Demog_Race.toPandas().head(3)"
   ]
  },
  {
   "cell_type": "code",
   "execution_count": 199,
   "metadata": {
    "editable": true
   },
   "outputs": [
    {
     "data": {
      "text/plain": [
       "[('Demog_City', 'string'),\n",
       " ('State_Name', 'string'),\n",
       " ('Male_Population', 'int'),\n",
       " ('Female_Population', 'int'),\n",
       " ('Total_Population', 'int'),\n",
       " ('Median_Age', 'float'),\n",
       " ('Number_Of_Veterans', 'int'),\n",
       " ('Foreign_Born', 'int'),\n",
       " ('Average_Household_Size', 'float'),\n",
       " ('American_Indian_and_Alaska_Native', 'bigint'),\n",
       " ('Asian', 'bigint'),\n",
       " ('Black_or_African-American', 'bigint'),\n",
       " ('Hispanic_or_Latino', 'bigint'),\n",
       " ('White', 'bigint')]"
      ]
     },
     "execution_count": 199,
     "metadata": {},
     "output_type": "execute_result"
    }
   ],
   "source": [
    "US_City_Demog_Race.dtypes"
   ]
  },
  {
   "cell_type": "code",
   "execution_count": 200,
   "metadata": {
    "editable": true
   },
   "outputs": [],
   "source": [
    "# Create Alias > Pasdas conversion > slicing for 35 countries\n",
    "City_Demog_Race = US_City_Demog_Race.alias('City_Demog_Race')\n",
    "City_Demog_Race = City_Demog_Race.toPandas()\n",
    "City_Demog_Race = City_Demog_Race[:40]"
   ]
  },
  {
   "cell_type": "code",
   "execution_count": 201,
   "metadata": {
    "editable": true
   },
   "outputs": [
    {
     "name": "stdout",
     "output_type": "stream",
     "text": [
      "Race-based demographic distribution of US City population: \n",
      "\n"
     ]
    },
    {
     "data": {
      "image/png": "[encoded data removed]",
      "text/plain": [
       "<matplotlib.figure.Figure at 0x7fe5018addd8>"
      ]
     },
     "metadata": {
      "needs_background": "light"
     },
     "output_type": "display_data"
    }
   ],
   "source": [
    "print(\"Race-based demographic distribution of US City population: \\n\")\n",
    "City_Racial_distribution = City_Demog_Race.plot( kind='bar',x='Demog_City',\\\n",
    "                                      y=['American_Indian_and_Alaska_Native','Asian', 'Black_or_African-American',\\\n",
    "                                             'Hispanic_or_Latino', 'White'],                                          \n",
    "                                            stacked=True, figsize=(13,6), \\\n",
    "                                            color=[\"#8000ff\",\"#42b7bd\",\"#d9b1f0\",\"lightgreen\",\"#eb8060\"],\\\n",
    "                                           # xlabel='35 Cities', ylabel='Population by Race',\\\n",
    "                                            title='City population distribution by Race stacked.')"
   ]
  },
  {
   "cell_type": "markdown",
   "metadata": {
    "editable": true
   },
   "source": [
    "`Obviously : ` City of `New York` has the best balanced population distribution on this stacked bar graph."
   ]
  },
  {
   "cell_type": "code",
   "execution_count": 202,
   "metadata": {
    "editable": true
   },
   "outputs": [
    {
     "name": "stdout",
     "output_type": "stream",
     "text": [
      "Sending 'US_City_Demog_Race' table to Work Space folder.\n"
     ]
    }
   ],
   "source": [
    "print(\"Sending 'US_City_Demog_Race' table to Work Space folder.\")\n",
    "US_City_Demog_Race.write.mode(\"overwrite\").parquet(path=output_data + 'US_City_Demog_Race/')"
   ]
  },
  {
   "cell_type": "markdown",
   "metadata": {
    "editable": true
   },
   "source": [
    "### `D5` -  Joining  `US_City_Demog_data` with `Port_location_df` to create a `Dimension table`\n",
    "\n",
    "+ I chose to use `Port_Code` column from `Port_locations_df` table by joining it with `Demography table`. This inner-join will make my Demography table as a good candidate for dimension table. \n",
    "+ So I renamed `Port_Code` as `Demog_Port` column which would be my `primary key` here.\n",
    "+ Every Immigration port is part of US City that makes it a good candiate for primary key & foreign key."
   ]
  },
  {
   "cell_type": "code",
   "execution_count": 203,
   "metadata": {
    "editable": true
   },
   "outputs": [
    {
     "data": {
      "text/html": [
       "<div>\n",
       "<style scoped>\n",
       "    .dataframe tbody tr th:only-of-type {\n",
       "        vertical-align: middle;\n",
       "    }\n",
       "\n",
       "    .dataframe tbody tr th {\n",
       "        vertical-align: top;\n",
       "    }\n",
       "\n",
       "    .dataframe thead th {\n",
       "        text-align: right;\n",
       "    }\n",
       "</style>\n",
       "<table border=\"1\" class=\"dataframe\">\n",
       "  <thead>\n",
       "    <tr style=\"text-align: right;\">\n",
       "      <th></th>\n",
       "      <th>Demog_City</th>\n",
       "      <th>State_Name</th>\n",
       "      <th>Male_Population</th>\n",
       "      <th>Female_Population</th>\n",
       "      <th>Total_Population</th>\n",
       "      <th>Median_Age</th>\n",
       "      <th>Number_Of_Veterans</th>\n",
       "      <th>Foreign_Born</th>\n",
       "      <th>Average_Household_Size</th>\n",
       "      <th>American_Indian_and_Alaska_Native</th>\n",
       "      <th>Asian</th>\n",
       "      <th>Black_or_African-American</th>\n",
       "      <th>Hispanic_or_Latino</th>\n",
       "      <th>White</th>\n",
       "      <th>Demog_Port</th>\n",
       "      <th>Port_State</th>\n",
       "    </tr>\n",
       "  </thead>\n",
       "  <tbody>\n",
       "    <tr>\n",
       "      <th>0</th>\n",
       "      <td>YUMA</td>\n",
       "      <td>ARIZONA</td>\n",
       "      <td>48298</td>\n",
       "      <td>45847</td>\n",
       "      <td>94145</td>\n",
       "      <td>33.400002</td>\n",
       "      <td>7182.0</td>\n",
       "      <td>19326.0</td>\n",
       "      <td>2.64</td>\n",
       "      <td>1228.0</td>\n",
       "      <td>1180.0</td>\n",
       "      <td>3731.0</td>\n",
       "      <td>57054</td>\n",
       "      <td>69691.0</td>\n",
       "      <td>YUI</td>\n",
       "      <td>AZ</td>\n",
       "    </tr>\n",
       "    <tr>\n",
       "      <th>1</th>\n",
       "      <td>YUMA</td>\n",
       "      <td>ARIZONA</td>\n",
       "      <td>48298</td>\n",
       "      <td>45847</td>\n",
       "      <td>94145</td>\n",
       "      <td>33.400002</td>\n",
       "      <td>7182.0</td>\n",
       "      <td>19326.0</td>\n",
       "      <td>2.64</td>\n",
       "      <td>1228.0</td>\n",
       "      <td>1180.0</td>\n",
       "      <td>3731.0</td>\n",
       "      <td>57054</td>\n",
       "      <td>69691.0</td>\n",
       "      <td>YUM</td>\n",
       "      <td>AZ</td>\n",
       "    </tr>\n",
       "    <tr>\n",
       "      <th>2</th>\n",
       "      <td>ORLANDO</td>\n",
       "      <td>FLORIDA</td>\n",
       "      <td>130940</td>\n",
       "      <td>139977</td>\n",
       "      <td>270917</td>\n",
       "      <td>33.099998</td>\n",
       "      <td>12782.0</td>\n",
       "      <td>50558.0</td>\n",
       "      <td>2.42</td>\n",
       "      <td>2374.0</td>\n",
       "      <td>11124.0</td>\n",
       "      <td>68081.0</td>\n",
       "      <td>89306</td>\n",
       "      <td>179121.0</td>\n",
       "      <td>ORL</td>\n",
       "      <td>FL</td>\n",
       "    </tr>\n",
       "    <tr>\n",
       "      <th>3</th>\n",
       "      <td>SAVANNAH</td>\n",
       "      <td>GEORGIA</td>\n",
       "      <td>69389</td>\n",
       "      <td>76295</td>\n",
       "      <td>145684</td>\n",
       "      <td>30.299999</td>\n",
       "      <td>9717.0</td>\n",
       "      <td>10355.0</td>\n",
       "      <td>2.57</td>\n",
       "      <td>2116.0</td>\n",
       "      <td>5366.0</td>\n",
       "      <td>82307.0</td>\n",
       "      <td>9734</td>\n",
       "      <td>57690.0</td>\n",
       "      <td>SAV</td>\n",
       "      <td>GA</td>\n",
       "    </tr>\n",
       "    <tr>\n",
       "      <th>4</th>\n",
       "      <td>INDIANAPOLIS</td>\n",
       "      <td>INDIANA</td>\n",
       "      <td>410615</td>\n",
       "      <td>437808</td>\n",
       "      <td>848423</td>\n",
       "      <td>34.099998</td>\n",
       "      <td>42186.0</td>\n",
       "      <td>72456.0</td>\n",
       "      <td>2.53</td>\n",
       "      <td>8656.0</td>\n",
       "      <td>29307.0</td>\n",
       "      <td>253932.0</td>\n",
       "      <td>83426</td>\n",
       "      <td>553665.0</td>\n",
       "      <td>INP</td>\n",
       "      <td>IN</td>\n",
       "    </tr>\n",
       "  </tbody>\n",
       "</table>\n",
       "</div>"
      ],
      "text/plain": [
       "     Demog_City State_Name  Male_Population  Female_Population  \\\n",
       "0          YUMA    ARIZONA            48298              45847   \n",
       "1          YUMA    ARIZONA            48298              45847   \n",
       "2       ORLANDO    FLORIDA           130940             139977   \n",
       "3      SAVANNAH    GEORGIA            69389              76295   \n",
       "4  INDIANAPOLIS    INDIANA           410615             437808   \n",
       "\n",
       "   Total_Population  Median_Age  Number_Of_Veterans  Foreign_Born  \\\n",
       "0             94145   33.400002              7182.0       19326.0   \n",
       "1             94145   33.400002              7182.0       19326.0   \n",
       "2            270917   33.099998             12782.0       50558.0   \n",
       "3            145684   30.299999              9717.0       10355.0   \n",
       "4            848423   34.099998             42186.0       72456.0   \n",
       "\n",
       "   Average_Household_Size  American_Indian_and_Alaska_Native    Asian  \\\n",
       "0                    2.64                             1228.0   1180.0   \n",
       "1                    2.64                             1228.0   1180.0   \n",
       "2                    2.42                             2374.0  11124.0   \n",
       "3                    2.57                             2116.0   5366.0   \n",
       "4                    2.53                             8656.0  29307.0   \n",
       "\n",
       "   Black_or_African-American  Hispanic_or_Latino     White Demog_Port  \\\n",
       "0                     3731.0               57054   69691.0        YUI   \n",
       "1                     3731.0               57054   69691.0        YUM   \n",
       "2                    68081.0               89306  179121.0        ORL   \n",
       "3                    82307.0                9734   57690.0        SAV   \n",
       "4                   253932.0               83426  553665.0        INP   \n",
       "\n",
       "  Port_State  \n",
       "0         AZ  \n",
       "1         AZ  \n",
       "2         FL  \n",
       "3         GA  \n",
       "4         IN  "
      ]
     },
     "execution_count": 203,
     "metadata": {},
     "output_type": "execute_result"
    }
   ],
   "source": [
    "dim_US_City_Demog_Race = US_City_Demog_Race.join(Port_locations_df,\\\n",
    "                                US_City_Demog_Race.Demog_City == Port_locations_df.Port_City, how='inner')\n",
    "\n",
    "dim_US_City_Demog_Race = dim_US_City_Demog_Race.withColumnRenamed(\"Port_Code\",\"Demog_Port\")\n",
    "dim_US_City_Demog_Race = dim_US_City_Demog_Race.drop(Port_locations_df.Port_City)\n",
    "dim_US_City_Demog_Race.toPandas().head(5)"
   ]
  },
  {
   "cell_type": "code",
   "execution_count": 204,
   "metadata": {
    "editable": true
   },
   "outputs": [
    {
     "data": {
      "text/plain": [
       "[('Demog_City', 'string'),\n",
       " ('State_Name', 'string'),\n",
       " ('Male_Population', 'int'),\n",
       " ('Female_Population', 'int'),\n",
       " ('Total_Population', 'int'),\n",
       " ('Median_Age', 'float'),\n",
       " ('Number_Of_Veterans', 'int'),\n",
       " ('Foreign_Born', 'int'),\n",
       " ('Average_Household_Size', 'float'),\n",
       " ('American_Indian_and_Alaska_Native', 'bigint'),\n",
       " ('Asian', 'bigint'),\n",
       " ('Black_or_African-American', 'bigint'),\n",
       " ('Hispanic_or_Latino', 'bigint'),\n",
       " ('White', 'bigint'),\n",
       " ('Demog_Port', 'string'),\n",
       " ('Port_State', 'string')]"
      ]
     },
     "execution_count": 204,
     "metadata": {},
     "output_type": "execute_result"
    }
   ],
   "source": [
    "dim_US_City_Demog_Race.dtypes"
   ]
  },
  {
   "cell_type": "markdown",
   "metadata": {
    "editable": true
   },
   "source": [
    "> Sending the dimension table back to the WorkSpace cloud."
   ]
  },
  {
   "cell_type": "code",
   "execution_count": 205,
   "metadata": {
    "editable": true
   },
   "outputs": [],
   "source": [
    "# write Monthly_US_Tempr table to parquet files\n",
    "dim_US_City_Demog_Race.write.mode(\"overwrite\").parquet(path=output_data + 'dim_US_City_Demog_Race/')"
   ]
  },
  {
   "cell_type": "markdown",
   "metadata": {
    "editable": true
   },
   "source": [
    "**`Data quality checks with US City demography table: `**"
   ]
  },
  {
   "cell_type": "code",
   "execution_count": 206,
   "metadata": {
    "editable": true
   },
   "outputs": [
    {
     "name": "stdout",
     "output_type": "stream",
     "text": [
      "The US_City_Demog_data table: \n",
      "is not empty, it has total 148 records.\n"
     ]
    }
   ],
   "source": [
    "print(\"The US_City_Demog_data table: \") \n",
    "record_count(dim_US_City_Demog_Race)"
   ]
  },
  {
   "cell_type": "markdown",
   "metadata": {
    "editable": true
   },
   "source": [
    "### `Quick Query` :  `34` "
   ]
  },
  {
   "cell_type": "markdown",
   "metadata": {
    "editable": true
   },
   "source": [
    "`34:` Immigrants `arrival city` and its `selective demography`."
   ]
  },
  {
   "cell_type": "code",
   "execution_count": 207,
   "metadata": {
    "editable": true
   },
   "outputs": [
    {
     "data": {
      "text/html": [
       "<div>\n",
       "<style scoped>\n",
       "    .dataframe tbody tr th:only-of-type {\n",
       "        vertical-align: middle;\n",
       "    }\n",
       "\n",
       "    .dataframe tbody tr th {\n",
       "        vertical-align: top;\n",
       "    }\n",
       "\n",
       "    .dataframe thead th {\n",
       "        text-align: right;\n",
       "    }\n",
       "</style>\n",
       "<table border=\"1\" class=\"dataframe\">\n",
       "  <thead>\n",
       "    <tr style=\"text-align: right;\">\n",
       "      <th></th>\n",
       "      <th>Immigration_Id</th>\n",
       "      <th>Arrival_Date</th>\n",
       "      <th>Demog_City</th>\n",
       "      <th>Port_State</th>\n",
       "      <th>Foreign_Born</th>\n",
       "      <th>Total_Population</th>\n",
       "      <th>Average_Household_Size</th>\n",
       "      <th>Median_Age</th>\n",
       "    </tr>\n",
       "  </thead>\n",
       "  <tbody>\n",
       "    <tr>\n",
       "      <th>0</th>\n",
       "      <td>3139866</td>\n",
       "      <td>2016-04-17</td>\n",
       "      <td>DENVER</td>\n",
       "      <td>CO</td>\n",
       "      <td>113222</td>\n",
       "      <td>682545</td>\n",
       "      <td>2.33</td>\n",
       "      <td>34.099998</td>\n",
       "    </tr>\n",
       "    <tr>\n",
       "      <th>1</th>\n",
       "      <td>4709156</td>\n",
       "      <td>2016-04-25</td>\n",
       "      <td>CHARLOTTE</td>\n",
       "      <td>NC</td>\n",
       "      <td>128897</td>\n",
       "      <td>827121</td>\n",
       "      <td>2.52</td>\n",
       "      <td>34.299999</td>\n",
       "    </tr>\n",
       "    <tr>\n",
       "      <th>2</th>\n",
       "      <td>4469436</td>\n",
       "      <td>2016-04-23</td>\n",
       "      <td>MIAMI</td>\n",
       "      <td>FL</td>\n",
       "      <td>260789</td>\n",
       "      <td>440989</td>\n",
       "      <td>2.50</td>\n",
       "      <td>40.400002</td>\n",
       "    </tr>\n",
       "    <tr>\n",
       "      <th>3</th>\n",
       "      <td>5415601</td>\n",
       "      <td>2016-04-28</td>\n",
       "      <td>MIAMI</td>\n",
       "      <td>FL</td>\n",
       "      <td>260789</td>\n",
       "      <td>440989</td>\n",
       "      <td>2.50</td>\n",
       "      <td>40.400002</td>\n",
       "    </tr>\n",
       "    <tr>\n",
       "      <th>4</th>\n",
       "      <td>2351028</td>\n",
       "      <td>2016-04-13</td>\n",
       "      <td>FORT LAUDERDALE</td>\n",
       "      <td>FL</td>\n",
       "      <td>47582</td>\n",
       "      <td>178587</td>\n",
       "      <td>2.38</td>\n",
       "      <td>42.799999</td>\n",
       "    </tr>\n",
       "  </tbody>\n",
       "</table>\n",
       "</div>"
      ],
      "text/plain": [
       "   Immigration_Id Arrival_Date       Demog_City Port_State  Foreign_Born  \\\n",
       "0         3139866   2016-04-17           DENVER         CO        113222   \n",
       "1         4709156   2016-04-25        CHARLOTTE         NC        128897   \n",
       "2         4469436   2016-04-23            MIAMI         FL        260789   \n",
       "3         5415601   2016-04-28            MIAMI         FL        260789   \n",
       "4         2351028   2016-04-13  FORT LAUDERDALE         FL         47582   \n",
       "\n",
       "   Total_Population  Average_Household_Size  Median_Age  \n",
       "0            682545                    2.33   34.099998  \n",
       "1            827121                    2.52   34.299999  \n",
       "2            440989                    2.50   40.400002  \n",
       "3            440989                    2.50   40.400002  \n",
       "4            178587                    2.38   42.799999  "
      ]
     },
     "execution_count": 207,
     "metadata": {},
     "output_type": "execute_result"
    }
   ],
   "source": [
    "Fact_Immigration.createOrReplaceTempView(\"Fact_Immigration\")\n",
    "dim_US_City_Demog_Race.createOrReplaceTempView(\"US_City_Demog_Race\")\n",
    "\n",
    "Immigrant_N_Demography = spark.sql('''\n",
    "                               SELECT DISTINCT ft.Immigration_Id, ft.Arrival_Date, \n",
    "                               cd.Demog_City, cd.Port_State, cd.Foreign_Born, cd.Total_Population,\n",
    "                                 cd.Average_Household_Size, cd.Median_Age\n",
    "                                    FROM Fact_Immigration AS ft\n",
    "                                         INNER JOIN US_City_Demog_Race AS cd\n",
    "                                               ON ft.Port_Code == cd.Demog_Port\n",
    "                                WHERE Immigration_Id IS NOT NULL\n",
    "                                AND Arrival_Date IS NOT NULL \n",
    "                                ''')\n",
    "Immigrant_N_Demography.toPandas().head(5)"
   ]
  },
  {
   "cell_type": "code",
   "execution_count": 208,
   "metadata": {
    "editable": true
   },
   "outputs": [
    {
     "data": {
      "text/plain": [
       "777"
      ]
     },
     "execution_count": 208,
     "metadata": {},
     "output_type": "execute_result"
    }
   ],
   "source": [
    "Immigrant_N_Demography.count()"
   ]
  },
  {
   "cell_type": "markdown",
   "metadata": {
    "editable": true
   },
   "source": [
    "### `Quick Query` :  `35` \n",
    "\n",
    "+ **`Total number of immigrant`, `Foreign-Born` & `population` in US-City-State**"
   ]
  },
  {
   "cell_type": "code",
   "execution_count": 209,
   "metadata": {
    "editable": true
   },
   "outputs": [
    {
     "data": {
      "text/html": [
       "<div>\n",
       "<style scoped>\n",
       "    .dataframe tbody tr th:only-of-type {\n",
       "        vertical-align: middle;\n",
       "    }\n",
       "\n",
       "    .dataframe tbody tr th {\n",
       "        vertical-align: top;\n",
       "    }\n",
       "\n",
       "    .dataframe thead th {\n",
       "        text-align: right;\n",
       "    }\n",
       "</style>\n",
       "<table border=\"1\" class=\"dataframe\">\n",
       "  <thead>\n",
       "    <tr style=\"text-align: right;\">\n",
       "      <th></th>\n",
       "      <th>Demog_City</th>\n",
       "      <th>Port_State</th>\n",
       "      <th>Total_Immigrants</th>\n",
       "      <th>Total_Foreign_Born</th>\n",
       "      <th>Average_Age</th>\n",
       "      <th>Total_Population</th>\n",
       "    </tr>\n",
       "  </thead>\n",
       "  <tbody>\n",
       "    <tr>\n",
       "      <th>0</th>\n",
       "      <td>NEW YORK</td>\n",
       "      <td>NY</td>\n",
       "      <td>155</td>\n",
       "      <td>497937500</td>\n",
       "      <td>36.0</td>\n",
       "      <td>1325312775</td>\n",
       "    </tr>\n",
       "    <tr>\n",
       "      <th>1</th>\n",
       "      <td>MIAMI</td>\n",
       "      <td>FL</td>\n",
       "      <td>111</td>\n",
       "      <td>28947579</td>\n",
       "      <td>40.4</td>\n",
       "      <td>48949779</td>\n",
       "    </tr>\n",
       "    <tr>\n",
       "      <th>2</th>\n",
       "      <td>LOS ANGELES</td>\n",
       "      <td>CA</td>\n",
       "      <td>106</td>\n",
       "      <td>157455050</td>\n",
       "      <td>35.0</td>\n",
       "      <td>421020976</td>\n",
       "    </tr>\n",
       "    <tr>\n",
       "      <th>3</th>\n",
       "      <td>SAN FRANCISCO</td>\n",
       "      <td>CA</td>\n",
       "      <td>55</td>\n",
       "      <td>16345945</td>\n",
       "      <td>38.3</td>\n",
       "      <td>47564880</td>\n",
       "    </tr>\n",
       "    <tr>\n",
       "      <th>4</th>\n",
       "      <td>CHICAGO</td>\n",
       "      <td>IL</td>\n",
       "      <td>45</td>\n",
       "      <td>25805835</td>\n",
       "      <td>34.2</td>\n",
       "      <td>122425020</td>\n",
       "    </tr>\n",
       "    <tr>\n",
       "      <th>5</th>\n",
       "      <td>ORLANDO</td>\n",
       "      <td>FL</td>\n",
       "      <td>39</td>\n",
       "      <td>1971762</td>\n",
       "      <td>33.1</td>\n",
       "      <td>10565763</td>\n",
       "    </tr>\n",
       "    <tr>\n",
       "      <th>6</th>\n",
       "      <td>ATLANTA</td>\n",
       "      <td>GA</td>\n",
       "      <td>37</td>\n",
       "      <td>1184592</td>\n",
       "      <td>33.8</td>\n",
       "      <td>17163375</td>\n",
       "    </tr>\n",
       "  </tbody>\n",
       "</table>\n",
       "</div>"
      ],
      "text/plain": [
       "      Demog_City Port_State  Total_Immigrants  Total_Foreign_Born  \\\n",
       "0       NEW YORK         NY               155           497937500   \n",
       "1          MIAMI         FL               111            28947579   \n",
       "2    LOS ANGELES         CA               106           157455050   \n",
       "3  SAN FRANCISCO         CA                55            16345945   \n",
       "4        CHICAGO         IL                45            25805835   \n",
       "5        ORLANDO         FL                39             1971762   \n",
       "6        ATLANTA         GA                37             1184592   \n",
       "\n",
       "   Average_Age  Total_Population  \n",
       "0         36.0        1325312775  \n",
       "1         40.4          48949779  \n",
       "2         35.0         421020976  \n",
       "3         38.3          47564880  \n",
       "4         34.2         122425020  \n",
       "5         33.1          10565763  \n",
       "6         33.8          17163375  "
      ]
     },
     "execution_count": 209,
     "metadata": {},
     "output_type": "execute_result"
    }
   ],
   "source": [
    "Immigration_N_Demography = Immigrant_N_Demography.groupBy('Demog_City', 'Port_State').agg(count('Immigration_Id').alias('Total_Immigrants'),\\\n",
    "                                                                sum('Foreign_Born').alias('Total_Foreign_Born'),\\\n",
    "                                                                round(avg('Median_Age'),2).alias('Average_Age'),\\\n",
    "                                                                sum('Total_Population').alias('Total_Population')).\\\n",
    "                                                                sort(col('Total_Immigrants').desc())\n",
    "                                         \n",
    "Immigration_N_Demography.toPandas().head(7)                                                                "
   ]
  },
  {
   "cell_type": "code",
   "execution_count": 210,
   "metadata": {
    "editable": true
   },
   "outputs": [],
   "source": [
    "Immigration_N_Demography = Immigration_N_Demography.toPandas()\n",
    "Immigration_N_Demography = Immigration_N_Demography[:35]"
   ]
  },
  {
   "cell_type": "code",
   "execution_count": 211,
   "metadata": {
    "editable": true
   },
   "outputs": [
    {
     "data": {
      "image/png": "[encoded data removed]",
      "text/plain": [
       "<matplotlib.figure.Figure at 0x7fe5022a8400>"
      ]
     },
     "metadata": {
      "needs_background": "light"
     },
     "output_type": "display_data"
    }
   ],
   "source": [
    "Immigrant_Count_City = Immigration_N_Demography.plot(kind='bar',x='Demog_City',\\\n",
    "                                      y=['Total_Foreign_Born', 'Total_Population','Total_Immigrants'], \n",
    "                                            stacked=False, figsize=(13,6), color=['darkblue','#7eb54e','tomato'],\\\n",
    "                                           # xlabel='35 US_Cities', ylabel='Total Immigrant count',\\\n",
    "                                            title='Number of immigrants & Foreign born & Total population by State')"
   ]
  },
  {
   "cell_type": "markdown",
   "metadata": {
    "editable": true
   },
   "source": [
    "`Perspective: ` Number of `immigrant/tourists` population is almost non-existant compare to `total population` of a City."
   ]
  },
  {
   "cell_type": "markdown",
   "metadata": {
    "editable": true
   },
   "source": [
    "### `Quick Query:  36: `  \n",
    "> Immigrants who didn't leave the country stayed in which City?"
   ]
  },
  {
   "cell_type": "code",
   "execution_count": 212,
   "metadata": {
    "editable": true
   },
   "outputs": [
    {
     "data": {
      "text/html": [
       "<div>\n",
       "<style scoped>\n",
       "    .dataframe tbody tr th:only-of-type {\n",
       "        vertical-align: middle;\n",
       "    }\n",
       "\n",
       "    .dataframe tbody tr th {\n",
       "        vertical-align: top;\n",
       "    }\n",
       "\n",
       "    .dataframe thead th {\n",
       "        text-align: right;\n",
       "    }\n",
       "</style>\n",
       "<table border=\"1\" class=\"dataframe\">\n",
       "  <thead>\n",
       "    <tr style=\"text-align: right;\">\n",
       "      <th></th>\n",
       "      <th>Admission_Num</th>\n",
       "      <th>Citizenship_Country</th>\n",
       "      <th>Departure_Date</th>\n",
       "      <th>Country_Names</th>\n",
       "      <th>Visa_Type</th>\n",
       "      <th>Demog_City</th>\n",
       "      <th>Foreign_Born</th>\n",
       "    </tr>\n",
       "  </thead>\n",
       "  <tbody>\n",
       "    <tr>\n",
       "      <th>0</th>\n",
       "      <td>94675779030</td>\n",
       "      <td>213</td>\n",
       "      <td>None</td>\n",
       "      <td>INDIA</td>\n",
       "      <td>B2</td>\n",
       "      <td>BOSTON</td>\n",
       "      <td>190123</td>\n",
       "    </tr>\n",
       "    <tr>\n",
       "      <th>1</th>\n",
       "      <td>94111066630</td>\n",
       "      <td>213</td>\n",
       "      <td>None</td>\n",
       "      <td>INDIA</td>\n",
       "      <td>B2</td>\n",
       "      <td>CHICAGO</td>\n",
       "      <td>573463</td>\n",
       "    </tr>\n",
       "    <tr>\n",
       "      <th>2</th>\n",
       "      <td>675423085</td>\n",
       "      <td>258</td>\n",
       "      <td>None</td>\n",
       "      <td>PAKISTAN</td>\n",
       "      <td>B2</td>\n",
       "      <td>CHICAGO</td>\n",
       "      <td>573463</td>\n",
       "    </tr>\n",
       "    <tr>\n",
       "      <th>3</th>\n",
       "      <td>93191572030</td>\n",
       "      <td>245</td>\n",
       "      <td>None</td>\n",
       "      <td>CHINA, PRC</td>\n",
       "      <td>B2</td>\n",
       "      <td>CHICAGO</td>\n",
       "      <td>573463</td>\n",
       "    </tr>\n",
       "    <tr>\n",
       "      <th>4</th>\n",
       "      <td>93138892030</td>\n",
       "      <td>213</td>\n",
       "      <td>None</td>\n",
       "      <td>INDIA</td>\n",
       "      <td>B2</td>\n",
       "      <td>CHICAGO</td>\n",
       "      <td>573463</td>\n",
       "    </tr>\n",
       "    <tr>\n",
       "      <th>5</th>\n",
       "      <td>94889940930</td>\n",
       "      <td>343</td>\n",
       "      <td>None</td>\n",
       "      <td>NIGERIA</td>\n",
       "      <td>F2</td>\n",
       "      <td>HOUSTON</td>\n",
       "      <td>696210</td>\n",
       "    </tr>\n",
       "    <tr>\n",
       "      <th>6</th>\n",
       "      <td>17545053327</td>\n",
       "      <td>117</td>\n",
       "      <td>None</td>\n",
       "      <td>ITALY</td>\n",
       "      <td>WT</td>\n",
       "      <td>LOS ANGELES</td>\n",
       "      <td>1485425</td>\n",
       "    </tr>\n",
       "  </tbody>\n",
       "</table>\n",
       "</div>"
      ],
      "text/plain": [
       "   Admission_Num  Citizenship_Country Departure_Date Country_Names Visa_Type  \\\n",
       "0    94675779030                  213           None         INDIA        B2   \n",
       "1    94111066630                  213           None         INDIA        B2   \n",
       "2      675423085                  258           None      PAKISTAN        B2   \n",
       "3    93191572030                  245           None    CHINA, PRC        B2   \n",
       "4    93138892030                  213           None         INDIA        B2   \n",
       "5    94889940930                  343           None       NIGERIA        F2   \n",
       "6    17545053327                  117           None         ITALY        WT   \n",
       "\n",
       "    Demog_City  Foreign_Born  \n",
       "0       BOSTON        190123  \n",
       "1      CHICAGO        573463  \n",
       "2      CHICAGO        573463  \n",
       "3      CHICAGO        573463  \n",
       "4      CHICAGO        573463  \n",
       "5      HOUSTON        696210  \n",
       "6  LOS ANGELES       1485425  "
      ]
     },
     "execution_count": 212,
     "metadata": {},
     "output_type": "execute_result"
    }
   ],
   "source": [
    "dim_Country_Codes.createOrReplaceTempView(\"Country_Codes\")\n",
    "Avg_Staying_Days.createOrReplaceTempView(\"Staying_Days\")\n",
    "dim_US_City_Demog_Race.createOrReplaceTempView(\"City_Demography\")\n",
    "\n",
    "Staying_Immigrants = spark.sql('''\n",
    "                               SELECT DISTINCT st.Admission_Num, st.Citizenship_Country,\n",
    "                                    st.Departure_Date, cc.Country_Names, st.Visa_Type,\n",
    "                                    cd.Demog_City, cd.Foreign_Born\n",
    "                               FROM Staying_Days AS st\n",
    "                               INNER JOIN Country_Codes AS cc\n",
    "                                     ON cc.Country_Codes == st.Citizenship_Country\n",
    "                               INNER JOIN City_Demography cd\n",
    "                                     ON  st.Port_Code == cd.Demog_Port\n",
    "                               WHERE Admission_Num IS NOT NULL\n",
    "                                     AND Departure_Date IS NULL\n",
    "                                     AND Foreign_Born >= 50000\n",
    "                               ORDER BY Demog_City ASC\n",
    "                         ''')\n",
    "\n",
    "Staying_Immigrants.toPandas().head(7)"
   ]
  },
  {
   "cell_type": "markdown",
   "metadata": {
    "editable": true
   },
   "source": [
    "### `Quick Query:  37: `       \n",
    "\n",
    "### Connecting two dimension tables `Demography` and `Temperature`: "
   ]
  },
  {
   "cell_type": "markdown",
   "metadata": {
    "editable": true
   },
   "source": [
    "+ Finding temperatue of a specific city should be scoped to defined dateline. Otherwise, we would end up getting mismatched temperature data. A good sub-selection of SQL code will help up to narrow our search scope. "
   ]
  },
  {
   "cell_type": "code",
   "execution_count": 213,
   "metadata": {
    "editable": true
   },
   "outputs": [
    {
     "data": {
      "text/html": [
       "<div>\n",
       "<style scoped>\n",
       "    .dataframe tbody tr th:only-of-type {\n",
       "        vertical-align: middle;\n",
       "    }\n",
       "\n",
       "    .dataframe tbody tr th {\n",
       "        vertical-align: top;\n",
       "    }\n",
       "\n",
       "    .dataframe thead th {\n",
       "        text-align: right;\n",
       "    }\n",
       "</style>\n",
       "<table border=\"1\" class=\"dataframe\">\n",
       "  <thead>\n",
       "    <tr style=\"text-align: right;\">\n",
       "      <th></th>\n",
       "      <th>Demog_City</th>\n",
       "      <th>State_Name</th>\n",
       "      <th>Male_Population</th>\n",
       "      <th>Female_Population</th>\n",
       "      <th>Total_Population</th>\n",
       "      <th>Median_Age</th>\n",
       "      <th>Number_Of_Veterans</th>\n",
       "      <th>Foreign_Born</th>\n",
       "      <th>Average_Household_Size</th>\n",
       "      <th>American_Indian_and_Alaska_Native</th>\n",
       "      <th>...</th>\n",
       "      <th>Date_Records</th>\n",
       "      <th>Year</th>\n",
       "      <th>Month_Name</th>\n",
       "      <th>Month_Num</th>\n",
       "      <th>Day</th>\n",
       "      <th>Avg_Temp</th>\n",
       "      <th>US_City</th>\n",
       "      <th>Country</th>\n",
       "      <th>City_Port</th>\n",
       "      <th>Port_State</th>\n",
       "    </tr>\n",
       "  </thead>\n",
       "  <tbody>\n",
       "    <tr>\n",
       "      <th>0</th>\n",
       "      <td>ORLANDO</td>\n",
       "      <td>FLORIDA</td>\n",
       "      <td>130940</td>\n",
       "      <td>139977</td>\n",
       "      <td>270917</td>\n",
       "      <td>33.099998</td>\n",
       "      <td>12782</td>\n",
       "      <td>50558</td>\n",
       "      <td>2.42</td>\n",
       "      <td>2374</td>\n",
       "      <td>...</td>\n",
       "      <td>2000-01-01</td>\n",
       "      <td>2000</td>\n",
       "      <td>January</td>\n",
       "      <td>1</td>\n",
       "      <td>1</td>\n",
       "      <td>16.0</td>\n",
       "      <td>ORLANDO</td>\n",
       "      <td>UNITED STATES</td>\n",
       "      <td>ORL</td>\n",
       "      <td>FL</td>\n",
       "    </tr>\n",
       "    <tr>\n",
       "      <th>1</th>\n",
       "      <td>ORLANDO</td>\n",
       "      <td>FLORIDA</td>\n",
       "      <td>130940</td>\n",
       "      <td>139977</td>\n",
       "      <td>270917</td>\n",
       "      <td>33.099998</td>\n",
       "      <td>12782</td>\n",
       "      <td>50558</td>\n",
       "      <td>2.42</td>\n",
       "      <td>2374</td>\n",
       "      <td>...</td>\n",
       "      <td>2000-02-01</td>\n",
       "      <td>2000</td>\n",
       "      <td>February</td>\n",
       "      <td>2</td>\n",
       "      <td>1</td>\n",
       "      <td>17.0</td>\n",
       "      <td>ORLANDO</td>\n",
       "      <td>UNITED STATES</td>\n",
       "      <td>ORL</td>\n",
       "      <td>FL</td>\n",
       "    </tr>\n",
       "    <tr>\n",
       "      <th>2</th>\n",
       "      <td>ORLANDO</td>\n",
       "      <td>FLORIDA</td>\n",
       "      <td>130940</td>\n",
       "      <td>139977</td>\n",
       "      <td>270917</td>\n",
       "      <td>33.099998</td>\n",
       "      <td>12782</td>\n",
       "      <td>50558</td>\n",
       "      <td>2.42</td>\n",
       "      <td>2374</td>\n",
       "      <td>...</td>\n",
       "      <td>2000-03-01</td>\n",
       "      <td>2000</td>\n",
       "      <td>March</td>\n",
       "      <td>3</td>\n",
       "      <td>1</td>\n",
       "      <td>21.0</td>\n",
       "      <td>ORLANDO</td>\n",
       "      <td>UNITED STATES</td>\n",
       "      <td>ORL</td>\n",
       "      <td>FL</td>\n",
       "    </tr>\n",
       "  </tbody>\n",
       "</table>\n",
       "<p>3 rows × 25 columns</p>\n",
       "</div>"
      ],
      "text/plain": [
       "  Demog_City State_Name  Male_Population  Female_Population  Total_Population  \\\n",
       "0    ORLANDO    FLORIDA           130940             139977            270917   \n",
       "1    ORLANDO    FLORIDA           130940             139977            270917   \n",
       "2    ORLANDO    FLORIDA           130940             139977            270917   \n",
       "\n",
       "   Median_Age  Number_Of_Veterans  Foreign_Born  Average_Household_Size  \\\n",
       "0   33.099998               12782         50558                    2.42   \n",
       "1   33.099998               12782         50558                    2.42   \n",
       "2   33.099998               12782         50558                    2.42   \n",
       "\n",
       "   American_Indian_and_Alaska_Native     ...      Date_Records  Year  \\\n",
       "0                               2374     ...        2000-01-01  2000   \n",
       "1                               2374     ...        2000-02-01  2000   \n",
       "2                               2374     ...        2000-03-01  2000   \n",
       "\n",
       "   Month_Name  Month_Num Day Avg_Temp  US_City        Country  City_Port  \\\n",
       "0     January          1   1     16.0  ORLANDO  UNITED STATES        ORL   \n",
       "1    February          2   1     17.0  ORLANDO  UNITED STATES        ORL   \n",
       "2       March          3   1     21.0  ORLANDO  UNITED STATES        ORL   \n",
       "\n",
       "   Port_State  \n",
       "0          FL  \n",
       "1          FL  \n",
       "2          FL  \n",
       "\n",
       "[3 rows x 25 columns]"
      ]
     },
     "execution_count": 213,
     "metadata": {},
     "output_type": "execute_result"
    }
   ],
   "source": [
    "Demogrphy_N_Temperature = dim_US_City_Demog_Race.join(dim_US_Cities_Tempr, \\\n",
    "                           ( dim_US_City_Demog_Race.Demog_City ==  dim_US_Cities_Tempr.US_City ), how='inner')\n",
    "\n",
    "Demogrphy_N_Temperature = Demogrphy_N_Temperature.drop(dim_US_Cities_Tempr.Port_State) \n",
    "Demogrphy_N_Temperature.toPandas().head(3) "
   ]
  },
  {
   "cell_type": "code",
   "execution_count": null,
   "metadata": {
    "editable": true
   },
   "outputs": [],
   "source": [
    "City_Temp_profile = Demogrphy_N_Temperature.groupBy(\"US_City\",\"Port_State\").agg(avg('Avg_Temp').alias('City_Tempr')).sort(col('City_Tempr').desc())\n",
    "City_Temp_profile.show(5)"
   ]
  },
  {
   "cell_type": "code",
   "execution_count": null,
   "metadata": {
    "editable": true
   },
   "outputs": [],
   "source": [
    "City_Temp_profile = City_Temp_profile.toPandas()\n",
    "City_Temp_profile = City_Temp_profile[:35]"
   ]
  },
  {
   "cell_type": "code",
   "execution_count": null,
   "metadata": {
    "editable": true,
    "scrolled": true
   },
   "outputs": [],
   "source": [
    "fig, ax = plt.subplots(figsize=(25, 5))\n",
    "\n",
    "plt.scatter( x=\"US_City\", y=\"City_Tempr\", marker='*', s=200, data=City_Temp_profile)\n",
    "ax.set_facecolor(\"lightyellow\")\n",
    "plt.fontsize=16\n",
    "plt.xlabel('35 Cities', fontsize=13)\n",
    "plt.ylabel('Highest to lowest temperature', fontsize=14)\n",
    "plt.xticks(rotation=75)\n",
    "plt.title('City temperature high to low in order: ', fontsize=15)                                           "
   ]
  },
  {
   "cell_type": "markdown",
   "metadata": {
    "editable": true
   },
   "source": [
    "### Step 3: `Define the Data Model`"
   ]
  },
  {
   "cell_type": "markdown",
   "metadata": {
    "editable": true
   },
   "source": [
    "***`3.1 Conceptual Data Model`***\n",
    "- Map out the conceptual data model and explain why you chose that model\n",
    "\n",
    "> I chose `star-schema` for my data model. Considering, among all the available DWH Schema, the Star Schema Data Modelling is the most basic and straightforward. Typically, star-schema model consists of one or more Fact Tables that indexes an unlimited number of Dimensional Tables. I think, the apparent fluid inter-connections among the given data-tables makes star-schema an apt choice for data model.\n",
    "\n",
    "Star schemas are also optimized for querying large data sets, data warehouses. They support OLAP cubes, analytic applications, ad hoc queries, and business intelligence (BI). They also allow us to quickly aggregate a large number of fact records using count, sum, average, and other methods. These aggregations can be filtered and grouped (sliced and diced) by any user.\n",
    "\n",
    "+ We're given 5 tables to explore out and create a data model. I find there are not enough good inter-connection present among these tables. So I had to synthesize and join tables to develop and create a working data model. \n",
    "\n",
    "> The concept of connecting `immigration table` with `temperature table` and `Demography table` is rather disparate. Immigration has a distant relationship with tempeature with rather close connection to demography of a city. The given features of `Airport table` has hardly any relevance to immigration dynamics. To effectively manage out available resources, I had to create multiple `inner-join` & `left-join` among these tables to build up a wroking star-schema data model."
   ]
  },
  {
   "cell_type": "markdown",
   "metadata": {
    "editable": true
   },
   "source": [
    "`Data Model Design:`"
   ]
  },
  {
   "cell_type": "markdown",
   "metadata": {
    "editable": true
   },
   "source": [
    "I used `Fact_Immigration` table as my center-main `FACT` table. \n",
    "\n",
    "+ I created 2-dimension tables out of this `fact-table` and they are `Indivdual_Immigrants_Records` & `Dated_Arrival_Departure` tables both are deeply interconnected to my `fact-table`.\n",
    "\n",
    "+ Tables most obviously relevant and connected to `fact-table` are `Port_Locations_df`, `Country_Codes` & `State_Codes` tables.\n",
    "\n",
    "+ My choice of 2 other dimension tables are `US_City_Temperature`and `US_City_Demography_Race` table. \n",
    "\n",
    "+ I found there are no analytical relevancy between `Airport table` & `Immigration table`. So I decided not to include any of 'Airport Table' part of my star-schema.\n",
    "\n",
    "It was bit challenging how to connect all of these dimension tables to my fact table beacuse of their fluid inter-connections. Yet, after all eventual coupling, I have 5 `dimension tables` and one `fact-immigration` table. Evidently, all of my dimension tables hold `one/two foreign key relations` with my fact-table. "
   ]
  },
  {
   "cell_type": "markdown",
   "metadata": {
    "editable": true
   },
   "source": [
    "+ This integrated [`primary + foreign key`](https://github.com/farhadkpx/DEND-Data-Engneering-Nano-degree-/blob/main/DEND_Capstone_Project/Star_Diagram_Dictionary/Capstone_Data_Dictionary.md) based connection made a reasonable `Star-Schema-Data-Model`.\n",
    "\n",
    "+ An obvious [`ER-diagram`](https://github.com/farhadkpx/DEND-Data-Engneering-Nano-Degree-/blob/main/DEND_Capstone_Project/Star_Diagram_Dictionary/Immigration_Fact_ER_Star_Schema_Diagram.png) is available here in my github source."
   ]
  },
  {
   "cell_type": "markdown",
   "metadata": {
    "editable": true
   },
   "source": [
    "#### *`3.2 Mapping Out Data Pipelines`*"
   ]
  },
  {
   "cell_type": "markdown",
   "metadata": {
    "editable": true
   },
   "source": [
    "+ List the steps necessary to pipeline the data into the chosen data model\n",
    "\n",
    "I created two data pipeline processes in two different cloud environment, one runs in `Udacity virtual Workspace`, second in the `Apache Airflow cloud environment`, a complete automation. \n",
    "\n",
    "`A.` **Capstone_etl.py** - This is a python script it reads all the data tables from the Udacity workspace. Upon processing those tables the final cleaned, redesigned and refined versions of new tables are send to the workspace as parquet file format. These files will be instantly ready for critical data analysis.\n",
    "I also used this pyscript to send the refined tables back to my Amazon S3 bucket (`farhadbucket32`).\n",
    "\n",
    "`B.` **Apache Airflow** - The automated data pipeline processes It reads table-data from my S3 storage bucket(`farhadbucket32`), stage them on a cloud storage space and finally load them into working/loading tables. Airflow uses `DAG(task-based codes)` with great `GUI` helps to monitor the whole pipeline working processes. We can check the status of every aspect of the working and scheduled tasks as they moves towards the final pipeline product."
   ]
  },
  {
   "cell_type": "markdown",
   "metadata": {
    "editable": true
   },
   "source": [
    "### Step 4: `Running Data Pipelines` model on `Airflow`"
   ]
  },
  {
   "cell_type": "markdown",
   "metadata": {
    "editable": true
   },
   "source": [
    "#### *4.1 `Create the data model`*\n",
    "+ Build the data pipelines to create the data model. [Airflow_Codes](https://github.com/farhadkpx/DEND-Data-Engneering-Nano-Degree-/tree/main/DEND_Capstone_Project/Apache_Airflow_Data_Pipeline)"
   ]
  },
  {
   "cell_type": "markdown",
   "metadata": {
    "editable": true
   },
   "source": [
    "The functional data model pipeline can be processed through Apache Airflow DAG systems, which helps us to visualize and implement the whole data pipeline system. The steps of this data pipelines is a sequential process can be described in multiple steps.\n",
    "\n",
    "`A.` Under the DAG folder I designed two types of tables in first kind are tables(`Staging tables`) where the incoming files will be staged and second set of tables(`Loading tables`) where my final data pipeline will be reloaded.\n",
    "\n",
    "`B.` I had to use another source folder named `plugins` where we have two more folder named `helper` & `operators` were designed. The 'helper' folder holds codes to efficiate how data will be inserted into the data pipeline tables. \n",
    "\n",
    "`C.` The 'operator' folder contains four operators `StageToRedshiftOperator`, `LoadFactOperator` &  `LoadDimensionOperator` & `data_quality` operators to efficiate the whole pipeline processes. These operators sequentially help to read from source tables, copy them to staging tables and loads copied tables back to final fact and dimension tables.\n",
    "\n",
    "`D.` The final `Immigration_airflow_project_dag.py` script does the accumulation of all the needed codes available which in turn drops unnecessary items and creates all the tables required by the data model pipeline first. On these processes it copies tables from S3 source, send it to `staging tables` and finally loads them back to `empty fact and dimension tables`. The data quality operator checks whether the table data meets certain conditions as it was designed for.\n",
    "\n",
    "+ Quck view of `Staging Tables:` \n",
    "\n",
    "The operator `StageToRedshiftOperator` reads  `table-data parquet files` from the `S3-source bucket` and copies them directly into a Redshift staging tables. My staging tables lists `(Fact & Dimension)` where copied parquet files will be loaded.\n",
    "\n",
    "   Staging_Immigration_Fact_Table\n",
    "   \n",
    "   Staging_Individual_Immigrants_Records\n",
    "\n",
    "   Staging_Dated_Arrival_Departure\n",
    "\n",
    "   Staging_US_City_Temperature\n",
    "\n",
    "   Staging_US_City_Demog_Race\n",
    "\n",
    "   Staging_Port_Locations\n",
    "\n",
    "   Staging_Country_Codes\n",
    "\n",
    "   Staging_State_Codes\n",
    "\n",
    "\n",
    "+ Quck view of `Loading/final Tables:` \n",
    "\n",
    "The `LoadFactOperator` & `LoadDimensionOperator` operator uses `sql_queries` to read tables from staging-tables and then load them into empty fact & dimension tables. I chose to use an optional parameter called `columns_sql` to allow user selecting columns with their choice in which data will be populated. These are my load-fact and dimension-tables.\n",
    "   \n",
    "   Fact_Immigration_Table\n",
    "\n",
    "   dim_Individual_Immigrants_Records\n",
    "\n",
    "   dim_Dated_Arrival_Departure\n",
    "\n",
    "   dim_US_City_Temperature\n",
    "\n",
    "   dim_US_City_Demog_Race\n",
    "\n",
    "   dim_Port_Locations\n",
    "\n",
    "   Dim_Country_Codes\n",
    "\n",
    "   dim_State_Codes"
   ]
  },
  {
   "cell_type": "markdown",
   "metadata": {
    "editable": true
   },
   "source": [
    "#### 4.2 *`Data Quality Checks`*\n",
    "Explain the data quality checks you'll perform to ensure the pipeline ran as expected. These could include:\n",
    " * Integrity constraints on the relational database (e.g., unique key, data type, etc.)\n",
    " * Unit tests for the scripts to ensure they are doing the right thing\n",
    " * Source/Count checks to ensure completeness"
   ]
  },
  {
   "cell_type": "markdown",
   "metadata": {
    "editable": true
   },
   "source": [
    "> My `data_quality.py` operator checks on final data tables should not have any empty values."
   ]
  },
  {
   "cell_type": "markdown",
   "metadata": {
    "editable": true
   },
   "source": [
    "#### 4.3 *`Data dictionary`* \n",
    "Create a data dictionary for your data model. For each field, provide a brief description of what the data is and where it came from. You can include the data dictionary in the notebook or in a separate file.\n",
    "\n",
    "- The designed data dictionary for my star-schema data model is available with this [Data-Dictionary](https://github.com/farhadkpx/DEND-Data-Engneering-Nano-Degree-/blob/main/DEND_Capstone_Project/Data_Dictionary.md)"
   ]
  },
  {
   "cell_type": "markdown",
   "metadata": {
    "editable": true
   },
   "source": [
    "### Step 5: `Complete Project Write Up`\n",
    "* `Clearly state the rationale for the choice of tools and technologies for the project.`"
   ]
  },
  {
   "cell_type": "markdown",
   "metadata": {
    "editable": true
   },
   "source": [
    "I can categrize 3 main tools I chose to use for this project are: \n",
    "\n",
    "`1.` *`Pyspark:`* I chose `Pyspark distributed data processing framework` which uses python API. It is a very efficient tool for real-time data analysis with big data tables, since it uses parallel computing.\n",
    "\n",
    "`2.` *`Amazon S3 & Redshift services:`* We know `Amazon Web Services (AWS)` is the largest public cloud provider offers a cloud-based, petabyte-scale data-warehousing service. The service is called `Amazon Redshift`, the most popular cloud data warehouse. Also `Amazon S3` is a highly scalable operational storage with low latency data processing environment in the cloud. \n",
    "\n",
    "One can access and retrieve data from `Amazon S3` storage anywhere in the world. Quering large scale data using `Amazon Redshift` is fully managed, inexpensive and secured. In addition `Redshift` is hosted directly on Amazon S3 storage Services and has a flexible functional architecture.\n",
    "\n",
    "`3.` *`Apache Airflow data pipeline:`* The Apache Airflow provides an extensive scope of running, scheduling the data-pipeline tasks. We can fragment different tasks using DAGS. Airflow's scheduling & sequencing capability of data pipeline tasks makes pipeline processes automatically runing, updated and we can monitor pipeline tasks on real-time visually. "
   ]
  },
  {
   "cell_type": "markdown",
   "metadata": {
    "editable": true
   },
   "source": [
    "+ *`Propose how often the data should be updated and why?`*\n",
    "> Considering the `Immigration Table` which is the main `fact-table` officially gets updated by monthly, it is reasonable to say that we can go either bi-weekly or monthly as practiced. However, `Temperature table` must be updated `daily`. `Demography data` is complicated and expensive, so it could go 6 to 12 months period as resources are avaialble. Besides, the analytical necessity to evaluate demographic data is mostly always historical in perspective, so instant update is not necessary."
   ]
  },
  {
   "cell_type": "markdown",
   "metadata": {
    "editable": true
   },
   "source": [
    "### Write a description of how you would approach the problem differently under the following scenarios:\n",
    " `A.` The data was increased by 100x.\n",
    " \n",
    " `B.` The data populates a dashboard that must be updated on a daily basis by 7am every day.\n",
    " \n",
    " `C.` The database needed to be accessed by 100+ people."
   ]
  },
  {
   "cell_type": "markdown",
   "metadata": {
    "editable": true
   },
   "source": [
    "**Scenario A:  `If the data was increased by 100x:`**\n",
    "\n",
    "Under that kind of scenario I'd run these coding processes on a more powerful computing environment with AWS. For instance, I'd use `Amazon EMR (Elastic MapReduce)` in a managed cluster platform that simplifies running big data frameworks as such Apache Spark. EMR can process and analyze vast amounts of data and lets user to transform and move data into and out of other AWS data stores and databases, such as Amazon Simple Storage Service (Amazon S3) and Amazon DynamoDB.\n",
    "\n",
    "\n",
    "**Scenario B: `If the pipelines were run on a daily basis by 7am:`**\n",
    "\n",
    "We can use `Apache Airflow` with set timeline (in this case around 6:15 am) to run the whole ETL data pipeline on  hourly, daily basis or as needed. Apache Airflow does compatible integration with Python and AWS programming working environment. Also we can use Service Level Agreement (SLA) of sending emails in the event a task exceeds its expected time frame from the start of the DAG execution using time delta. These tools can be utilized for monitoring the performance of Airflow DAG tasks.\n",
    "\n",
    "\n",
    "**Scenario C: `If the database needed to be accessed by 100+ people:`**\n",
    "\n",
    "Amazon Redshift can handle up to 500 connections, 2500 saved queries simultaneously, securely and efficiently with live data sharing within across AWS user accounts. User can easily, instantly and securely  query live data from a Redshift cluster with permissions. So we can move this database to Redshift with confidence to handle this kind of needed request. The cost structure should be explored as needed."
   ]
  },
  {
   "cell_type": "code",
   "execution_count": null,
   "metadata": {
    "editable": true
   },
   "outputs": [],
   "source": []
  }
 ],
 "metadata": {
  "kernelspec": {
   "display_name": "Python 3",
   "language": "python",
   "name": "python3"
  },
  "language_info": {
   "codemirror_mode": {
    "name": "ipython",
    "version": 3
   },
   "file_extension": ".py",
   "mimetype": "text/x-python",
   "name": "python",
   "nbconvert_exporter": "python",
   "pygments_lexer": "ipython3",
   "version": "3.6.3"
  }
 },
 "nbformat": 4,
 "nbformat_minor": 4
}
